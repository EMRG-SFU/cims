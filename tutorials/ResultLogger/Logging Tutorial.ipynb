{
 "cells": [
  {
   "cell_type": "markdown",
   "metadata": {},
   "source": [
    "# Overview\n",
    "This notebook serves as a brief walkthrough of how to use three functions in logging.py:\n",
    "1. log_model function: query log results. \n",
    "2. model_parameter function: get a list of parameter names in the model.\n",
    "3. search_parameter function: search parameter names by keywords."
   ]
  },
  {
   "cell_type": "markdown",
   "metadata": {},
   "source": [
    "# Build the model\n",
    "We need to first have the model ready before using the function. All steps of building the model are the same as indicated in the Quickstart notebook."
   ]
  },
  {
   "cell_type": "code",
   "execution_count": null,
   "metadata": {},
   "outputs": [],
   "source": [
    "import pyCIMS\n",
    "import pprint as pp\n",
    "\n",
    "# description file\n",
    "model_description_file = '../../model_descriptions/pyCIMS_model_description_ALL_value.xlsb'\n",
    "\n",
    "# model validator\n",
    "model_validator = pyCIMS.ModelValidator(model_description_file, \n",
    "                                        sheet_map={'model': 'Lists',\n",
    "                                                   'default_tech': 'Technology_Node templates'},\n",
    "                                        node_col='Node')\n",
    "model_validator.validate(verbose=True, raise_warnings=False)\n",
    "\n",
    "# Model Reader\n",
    "model_reader = pyCIMS.ModelReader(infile=model_description_file,\n",
    "                                  sheet_map={'model': 'Lists', \n",
    "                                             'default_tech': 'Technology_Node templates'},\n",
    "                                  node_col='Node')\n",
    "\n",
    "# Model\n",
    "model = pyCIMS.Model(model_reader)"
   ]
  },
  {
   "cell_type": "code",
   "execution_count": null,
   "metadata": {},
   "outputs": [],
   "source": [
    "# run the model \n",
    "model.run(max_iterations=5, show_warnings=False)"
   ]
  },
  {
   "cell_type": "markdown",
   "metadata": {},
   "source": [
    "# 1. The log_model function\n",
    "Once we build the model, we can query the results using the log_model function:\n",
    "<div class=\"alert alert-block alert-success\">\n",
    "<b></b> The function has 5 arguments : model, output_file, parameter_list, path, default_list.\n",
    "</div>\n",
    "\n",
    "This function has 2 required arguments:\n",
    "* model: the model we built as indicated in above steps.\n",
    "* output_file: the name of the output_file.\n",
    "\n",
    "3 optional arguments:\n",
    "* parameter_list: List of strings. interests of a specific parameter in the model. Example: ['competition type', 'Currency']\n",
    "* path: string. Path of the txt file that contain parameters such as 'test.txt'\n",
    "* default_list: String. Pre-defined list names, such as 'slim', 'all'. We can add more customized list.\n",
    "    For testing purpose, right now 'all' returns  all parameters\n",
    "    'slim' returns ['new_market_share', 'Life Cycle Cost', 'Competition type','Service requested', 'Capital cost_overnight']\n",
    "                  \n",
    "Note: You can only specify one optional argument each time, you cannot uses parameter_lilst, path, or default_list at the same time."
   ]
  },
  {
   "cell_type": "markdown",
   "metadata": {},
   "source": [
    "# Return all parameters \n",
    "To be able to return all parameters, there are two ways:\n",
    "1. Simply use the function without specifying any optional argument\n",
    "```python\n",
    "log_model(model=model, output_file=\"sample_output/ALL_test_log.csv\")\n",
    "```\n",
    "2. Another way is to use default_list ='all', which return all parameters as well.\n",
    "```python\n",
    "log_model(model=model, output_file=\"sample_output/ALL_test_log.csv\", default_list ='all')\n",
    "```"
   ]
  },
  {
   "cell_type": "code",
   "execution_count": null,
   "metadata": {},
   "outputs": [],
   "source": [
    "# return all parameters example\n",
    "pyCIMS.log_model(model=model, \n",
    "                 output_file=\"sample_output/ALL_test_log.csv\")"
   ]
  },
  {
   "cell_type": "code",
   "execution_count": null,
   "metadata": {},
   "outputs": [],
   "source": [
    "pyCIMS.log_model(model=model, \n",
    "                 output_file=\"sample_output/ALL_test_log.csv\", \n",
    "                 default_list ='all')"
   ]
  },
  {
   "cell_type": "markdown",
   "metadata": {},
   "source": [
    "# Return Log using parameter_list\n",
    "Specify the name of the parameter of interest in the **parameter_list** argument.\n",
    "The input should be a list of strings. You can decide to log one parameter, or mutiple parameters at the same time. \n",
    "\n",
    "1. Example: returns single parameter competiton type.\n",
    "```python \n",
    "parameter_list = ['competition type']\n",
    "``` \n",
    "\n",
    "2. Example: returns the following five parameters.  \n",
    "```python \n",
    "parameter_list =  ['new_market_share', 'Life Cycle Cost', 'competition type','Service requested', 'Capital cost_overnight']\n",
    "```"
   ]
  },
  {
   "cell_type": "code",
   "execution_count": null,
   "metadata": {},
   "outputs": [],
   "source": [
    "# Example\n",
    "# return parameter:competition Type\n",
    "pyCIMS.log_model(model=model, \n",
    "                 output_file=\"sample_output/ALL_test_comptype_log.csv\", \n",
    "                 parameter_list=['competition type'])"
   ]
  },
  {
   "cell_type": "code",
   "execution_count": null,
   "metadata": {},
   "outputs": [],
   "source": [
    "# Example\n",
    "# return five parameters:['new_market_share', 'Life Cycle Cost', 'competition type','Service requested', 'Capital cost_overnight']\n",
    "pyCIMS.log_model(model=model, \n",
    "                 output_file=\"sample_output/ALL_test_cc_overnight_log.csv\", \n",
    "                 parameter_list =  ['new_market_share', 'Life Cycle Cost', 'competition type',\n",
    "                                    'Service requested', 'Capital cost_overnight'])"
   ]
  },
  {
   "cell_type": "markdown",
   "metadata": {},
   "source": [
    "# Return Log using path\n",
    "Specify the name of the path contains parameters of interest in the **path** argument.\n",
    "The input should be a string of path. \n",
    "\n",
    "Example: returns parameters defined in the test.txt file.\n",
    "```python \n",
    "path ='sample_input/test.txt'\n",
    "``` "
   ]
  },
  {
   "cell_type": "code",
   "execution_count": null,
   "metadata": {},
   "outputs": [],
   "source": [
    "#how the test file look like. Each line in the txt file is a parameter name. \n",
    "import pandas as pd\n",
    "test_file = pd.read_csv('sample_input/test.txt')\n",
    "display(test_file)"
   ]
  },
  {
   "cell_type": "code",
   "execution_count": null,
   "metadata": {},
   "outputs": [],
   "source": [
    "# Example\n",
    "# return log of the txt files which contains above five parameters\n",
    "pyCIMS.log_model(model=model, \n",
    "                 output_file=\"sample_output/ALL_test_comptype_log.csv\", \n",
    "                 path='sample_input/test.txt')\n"
   ]
  },
  {
   "cell_type": "markdown",
   "metadata": {},
   "source": [
    "# Return Log using default_list\n",
    "Specify the name of pre-defined list name in **default_list** argument.\n",
    "The input should be a string. \n",
    "\n",
    "1. Example: returns a predefined list called 'all', which contain all parameters. \n",
    "```python \n",
    "default_list = 'all'\n",
    "``` \n",
    "\n",
    "2. Example: turns a predefined list called 'slim', which contain these five parameters:\n",
    "['new_market_share', 'Life Cycle Cost', 'competition type','Service requested', 'Capital cost_overnight']\n",
    "```python \n",
    "default_list = 'slim'\n",
    "```\n",
    "Above two default_list names are for testing purpose. We can add other customized lists to the default_list."
   ]
  },
  {
   "cell_type": "code",
   "execution_count": null,
   "metadata": {},
   "outputs": [],
   "source": [
    "# Example\n",
    "# return log of default_list = 'all', which contain all parameters\n",
    "pyCIMS.log_model(model=model, \n",
    "                 output_file=\"sample_output/ALL_test_comptype_log.csv\", \n",
    "                 default_list = 'all')"
   ]
  },
  {
   "cell_type": "code",
   "execution_count": null,
   "metadata": {},
   "outputs": [],
   "source": [
    "# Example\n",
    "# return log of default_list = 'slim', which contain these five parameters:\n",
    "# ['new_market_share', 'Life Cycle Cost', 'competition type','Service requested', 'Capital cost_overnight']\n",
    "\n",
    "pyCIMS.log_model(model=model, \n",
    "                 output_file=\"sample_output/ALL_test_comptype_log.csv\", \n",
    "                 default_list = 'slim')"
   ]
  },
  {
   "cell_type": "markdown",
   "metadata": {},
   "source": [
    "# 2. Get a list of existing parameter names\n",
    "1. 'model_parameter' function, which helps you query existing parameter names in the model.\n",
    "2. The function takes the model as input and returns a list of parameter names. Note, the keywords are case sensitive. For example, 'Capital' and 'capital' will return to different parameters. \n",
    "3. Example: \n",
    "```python \n",
    "pyCIMS.model_parameter(model = model)\n",
    "``` "
   ]
  },
  {
   "cell_type": "code",
   "execution_count": null,
   "metadata": {},
   "outputs": [],
   "source": [
    "# Example\n",
    "pyCIMS.model_parameter(model = model)"
   ]
  },
  {
   "cell_type": "markdown",
   "metadata": {},
   "source": [
    "# 3. Search parameter names by keywords.\n",
    "1. 'search_parameter' function will help you to query if any existing parameters match your search.\n",
    "2. The function takes the model and search keywords as input and returns a list of parameters contains the keywords.\n",
    "3. Example:\n",
    "```python \n",
    "pyCIMS.search_parameter(model = model, search = ['market', 'Capital'])\n",
    "``` "
   ]
  },
  {
   "cell_type": "code",
   "execution_count": null,
   "metadata": {},
   "outputs": [],
   "source": [
    "# Example\n",
    "# Search if any parameter contains 'market' or 'Capital'\n",
    "pyCIMS.search_parameter(model = model, search = ['market', 'Capital'])"
   ]
  },
  {
   "cell_type": "code",
   "execution_count": null,
   "metadata": {},
   "outputs": [],
   "source": []
  }
 ],
 "metadata": {
  "kernelspec": {
   "display_name": "Python 3",
   "language": "python",
   "name": "python3"
  },
  "language_info": {
   "codemirror_mode": {
    "name": "ipython",
    "version": 3
   },
   "file_extension": ".py",
   "mimetype": "text/x-python",
   "name": "python",
   "nbconvert_exporter": "python",
   "pygments_lexer": "ipython3",
   "version": "3.8.5"
  }
 },
 "nbformat": 4,
 "nbformat_minor": 4
}
