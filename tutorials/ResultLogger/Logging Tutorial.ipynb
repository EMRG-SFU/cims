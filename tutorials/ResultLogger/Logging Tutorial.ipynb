{
 "cells": [
  {
   "cell_type": "markdown",
   "metadata": {},
   "source": [
    "# Overview\n",
    "This notebook serves as a brief walkthrough of how to use the log_model function in logging.py "
   ]
  },
  {
   "cell_type": "markdown",
   "metadata": {},
   "source": [
    "# Build the model\n",
    "We need to first have the model ready before using the function. All steps of building the model are the same as indicated in the Quickstart notebook."
   ]
  },
  {
   "cell_type": "code",
   "execution_count": 1,
   "metadata": {},
   "outputs": [
    {
     "name": "stdout",
     "output_type": "stream",
     "text": [
      "0 node name/branch mismatches. \n",
      "0 references to unspecified nodes. \n",
      "0 non-root nodes are never referenced. \n",
      "0 nodes were specified but don't provide a service. \n",
      "0 nodes had invalid competition types. \n",
      "0 nodes requested services of themselves. \n",
      "36 nodes or technologies don't request other services. See ModelValidator.warnings['nodes_no_requested_service'] for more info\n",
      "1863 nodes have been defined in a different order between the model and tree sheets. See ModelValidator.warnings['discrepencies_in_model_and_tree'] for more info.\n",
      "0 nodes have 0 in the output line. \n",
      "0 fuel nodes don't have an Life Cycle Cost. \n",
      "0 tech compete nodes don't have capital cost. \n"
     ]
    }
   ],
   "source": [
    "import pyCIMS\n",
    "import pprint as pp\n",
    "\n",
    "# description file\n",
    "model_description_file = '../../model_descriptions/pyCIMS_model_description_Alberta_Test.xlsb'\n",
    "\n",
    "# model validator\n",
    "model_validator = pyCIMS.ModelValidator(model_description_file)\n",
    "model_validator.validate(verbose=True, raise_warnings=False)\n",
    "\n",
    "# Model Reader\n",
    "model_reader = pyCIMS.ModelReader(infile=model_description_file,\n",
    "                                  sheet_map={'model': 'Model'},\n",
    "                                  node_col='Node')\n",
    "\n",
    "# Model\n",
    "model = pyCIMS.Model(model_reader)"
   ]
  },
  {
   "cell_type": "code",
   "execution_count": 2,
   "metadata": {},
   "outputs": [
    {
     "name": "stdout",
     "output_type": "stream",
     "text": [
      "***** ***** year: 2000 ***** *****\n",
      "iter 0\n",
      "***** ***** year: 2005 ***** *****\n",
      "iter 0\n",
      "iter 1\n",
      "iter 2\n",
      "iter 3\n",
      "iter 4\n",
      "iter 5\n",
      "iter 6\n",
      "***** ***** year: 2010 ***** *****\n",
      "iter 0\n"
     ]
    },
    {
     "name": "stderr",
     "output_type": "stream",
     "text": [
      "/Users/halo/Documents/github/bigdatahub/pycims_prototype/pyCIMS/model.py:155: UserWarning: Max iterations reached for year 2005. Continuing to next year.\n",
      "  warnings.warn(\"Max iterations reached for year {}. \"\n"
     ]
    },
    {
     "name": "stdout",
     "output_type": "stream",
     "text": [
      "iter 1\n",
      "***** ***** year: 2015 ***** *****\n",
      "iter 0\n",
      "iter 1\n",
      "***** ***** year: 2020 ***** *****\n",
      "iter 0\n",
      "iter 1\n",
      "***** ***** year: 2025 ***** *****\n",
      "iter 0\n",
      "iter 1\n",
      "***** ***** year: 2030 ***** *****\n",
      "iter 0\n",
      "iter 1\n",
      "***** ***** year: 2035 ***** *****\n",
      "iter 0\n",
      "iter 1\n",
      "***** ***** year: 2040 ***** *****\n",
      "iter 0\n",
      "iter 1\n",
      "***** ***** year: 2045 ***** *****\n",
      "iter 0\n",
      "iter 1\n",
      "***** ***** year: 2050 ***** *****\n",
      "iter 0\n",
      "iter 1\n"
     ]
    }
   ],
   "source": [
    "# run the model \n",
    "model.run(max_iterations=5, show_warnings=False)"
   ]
  },
  {
   "cell_type": "markdown",
   "metadata": {},
   "source": [
    "# The logging function\n",
    "Once we build the model, we can query the results using the logging function:\n",
    "<div class=\"alert alert-block alert-success\">\n",
    "<b></b> The function has 5 arguments : model, output_file, parameter_list, path, default_list.\n",
    "</div>\n",
    "\n",
    "This function has 2 required arguments:\n",
    "* model: the model we built as indicated in above steps.\n",
    "* output_file: the name of the output_file.\n",
    "\n",
    "3 optional arguments:\n",
    "* parameter_list: List of strings. interests of a specific parameter in the model. Example: ['competition type', 'Currency']\n",
    "* path: string. Path of the txt file that contain parameters such as 'test.txt'\n",
    "* default_list: String. Pre-defined list names, such as 'slim', 'all'. We can add more customized list.\n",
    "    For testing purpose, right now 'all' returns  all parameters\n",
    "    'slim' returns ['new_market_share', 'Life Cycle Cost', 'Competition type','Service requested', 'Capital cost_overnight']\n",
    "                  \n",
    "Note: You can only specify one optional argument each time, you cannot uses parameter_lilst, path, or default_list at the same time."
   ]
  },
  {
   "cell_type": "markdown",
   "metadata": {},
   "source": [
    "# Return all parameters \n",
    "To be able to return all parameters, there are two ways:\n",
    "1. Simply use the function without specifying any optional argument\n",
    "```python\n",
    "log_model(model=model, output_file=\"sample_output/Alberta_Test_Log.csv\")\n",
    "```\n",
    "2. Another way is to use default_list ='all', which return all parameters as well.\n",
    "```python\n",
    "log_model(model=model, output_file=\"sample_outputAlberta_Test_Log.csv\", default_list ='all')\n",
    "```"
   ]
  },
  {
   "cell_type": "code",
   "execution_count": null,
   "metadata": {},
   "outputs": [],
   "source": [
    "# return all parameters example\n",
    "pyCIMS.log_model(model=model, \n",
    "                 output_file=\"sample_output/Alberta_Test_Log.csv\")"
   ]
  },
  {
   "cell_type": "code",
   "execution_count": null,
   "metadata": {},
   "outputs": [],
   "source": [
    "pyCIMS.log_model(model=model, \n",
    "                 output_file=\"sample_output/Alberta_Test_Log.csv\", \n",
    "                 default_list ='all')"
   ]
  },
  {
   "cell_type": "markdown",
   "metadata": {},
   "source": [
    "# Return Log using parameter_list\n",
    "Specify the name of the parameter of interest in the **parameter_list** argument.\n",
    "The input should be a list of strings. You can decide to log one parameter, or mutiple parameters at the same time. \n",
    "\n",
    "1. Example: returns single parameter competiton type.\n",
    "```python \n",
    "parameter_list = ['competition type']\n",
    "``` \n",
    "\n",
    "2. Example: returns the following five parameters.  \n",
    "```python \n",
    "parameter_list =  ['new_market_share', 'Life Cycle Cost', 'competition type','Service requested', 'Capital cost_overnight']\n",
    "```"
   ]
  },
  {
   "cell_type": "code",
   "execution_count": null,
   "metadata": {},
   "outputs": [],
   "source": [
    "# Example\n",
    "# return parameter:competition Type\n",
    "pyCIMS.log_model(model=model, \n",
    "                 output_file=\"sample_output/Alberta_Test_Competition_Type_Log.csv\", \n",
    "                 parameter_list=['competition type'])"
   ]
  },
  {
   "cell_type": "code",
   "execution_count": null,
   "metadata": {},
   "outputs": [],
   "source": [
    "# Example\n",
    "# return five parameters:['new_market_share', 'Life Cycle Cost', 'competition type','Service requested', 'Capital cost_overnight']\n",
    "pyCIMS.log_model(model=model, \n",
    "                 output_file=\"sample_output/Alberta_Test_Capital_Cost_Overnight_Log.csv\", \n",
    "                 parameter_list =  ['new_market_share', 'Life Cycle Cost', 'competition type',\n",
    "                                    'Service requested', 'Capital cost_overnight'])"
   ]
  },
  {
   "cell_type": "markdown",
   "metadata": {},
   "source": [
    "# Return Log using path\n",
    "Specify the name of the path contains parameters of interest in the **path** argument.\n",
    "The input should be a string of path. \n",
    "\n",
    "Example: returns parameters defined in the test.txt file.\n",
    "```python \n",
    "path ='sample_input/test.txt'\n",
    "``` "
   ]
  },
  {
   "cell_type": "code",
   "execution_count": null,
   "metadata": {},
   "outputs": [],
   "source": [
    "#how the test file look like. Each line in the txt file is a parameter name. \n",
    "import pandas as pd\n",
    "test_file = pd.read_csv('sample_input/test.txt')\n",
    "display(test_file)"
   ]
  },
  {
   "cell_type": "code",
   "execution_count": null,
   "metadata": {},
   "outputs": [],
   "source": [
    "# Example\n",
    "# return log of the txt files which contains above five parameters\n",
    "pyCIMS.log_model(model=model, \n",
    "                 output_file=\"sample_output/Alberta_Test_Competition_Type_Log.csv\", \n",
    "                 path='sample_input/test.txt')\n"
   ]
  },
  {
   "cell_type": "markdown",
   "metadata": {},
   "source": [
    "# Return Log using default_list\n",
    "Specify the name of pre-defined list name in **default_list** argument.\n",
    "The input should be a string. \n",
    "\n",
    "1. Example: returns a predefined list called 'all', which contain all parameters. \n",
    "```python \n",
    "default_list = 'all'\n",
    "``` \n",
    "\n",
    "2. Example: turns a predefined list called 'slim', which contain these five parameters:\n",
    "['new_market_share', 'Life Cycle Cost', 'competition type','Service requested', 'Capital cost_overnight']\n",
    "```python \n",
    "default_list = 'slim'\n",
    "```\n",
    "Above two default_list names are for testing purpose. We can add other customized lists to the default_list."
   ]
  },
  {
   "cell_type": "code",
   "execution_count": null,
   "metadata": {},
   "outputs": [],
   "source": [
    "# Example\n",
    "# return log of default_list = 'all', which contain all parameters\n",
    "pyCIMS.log_model(model=model, \n",
    "                 output_file=\"sample_output/Alberta_Test_Competition_Type_Log.csv\", \n",
    "                 default_list = 'all')"
   ]
  },
  {
   "cell_type": "code",
   "execution_count": null,
   "metadata": {},
   "outputs": [],
   "source": [
    "# Example\n",
    "# return log of default_list = 'slim', which contain these five parameters:\n",
    "# ['new_market_share', 'Life Cycle Cost', 'competition type','Service requested', 'Capital cost_overnight']\n",
    "\n",
    "pyCIMS.log_model(model=model, \n",
    "                 output_file=\"sample_output/Alberta_Test_Competition_Type_Log.csv\", \n",
    "                 default_list = 'slim')"
   ]
  },
  {
   "cell_type": "markdown",
   "metadata": {},
   "source": [
    "# Get a list of existing parameter names\n",
    "1. 'model_parameter' function, which helps you query existing parameter names in the model.\n",
    "2. The function takes the model as input and returns a list of parameter names. Note, the keywords are case sensitive. For example, 'Capital' and 'capital' will return to different parameters. \n",
    "3. Example: \n",
    "```python \n",
    "pyCIMS.model_parameter(model = model)\n",
    "``` "
   ]
  },
  {
   "cell_type": "code",
   "execution_count": 3,
   "metadata": {},
   "outputs": [
    {
     "data": {
      "text/plain": [
       "['type',\n",
       " 'competition type',\n",
       " '2000',\n",
       " '2005',\n",
       " '2010',\n",
       " '2015',\n",
       " '2020',\n",
       " '2025',\n",
       " '2030',\n",
       " '2035',\n",
       " '2040',\n",
       " '2045',\n",
       " '2050',\n",
       " 'Service provided',\n",
       " 'Simulation time',\n",
       " 'Currency',\n",
       " 'Service requested',\n",
       " 'Price Multiplier',\n",
       " 'quantities',\n",
       " 'Life Cycle Cost',\n",
       " 'Attribute',\n",
       " 'Retrofit Variance',\n",
       " 'Discount rate_Social',\n",
       " 'Risk rate',\n",
       " 'Tax',\n",
       " 'Heterogeneity',\n",
       " 'technologies',\n",
       " 'total_lcc_v',\n",
       " 'Available',\n",
       " 'Unavailable',\n",
       " 'Lifetime',\n",
       " 'Retirement',\n",
       " 'Discount rate_Financial',\n",
       " 'Discount rate_Retrofit',\n",
       " 'Discount rate_Option',\n",
       " 'Market share',\n",
       " 'Market share new_Max',\n",
       " 'Market share new_Min',\n",
       " 'Output',\n",
       " 'Capital cost_overnight',\n",
       " 'Capital cost_declining_limit',\n",
       " 'Capital cost_declining_cumulative new stock',\n",
       " 'Capital cost_declining_Progress Ratio',\n",
       " 'Capital cost_declining_AEEI',\n",
       " 'Capital cost_declining_Class',\n",
       " 'Upfront intangible cost_fixed',\n",
       " 'Upfront intangible cost_declining_initial',\n",
       " 'Upfront intangible cost_declining_rate',\n",
       " 'Upfront intangible cost_declining_shape',\n",
       " 'Annual intangible cost_fixed',\n",
       " 'Annual intangible cost_declining_initial',\n",
       " 'Annual intangible cost_declining_rate',\n",
       " 'Annual intangible cost_declining_shape',\n",
       " 'Operating and maintenance cost',\n",
       " 'Allocated cost',\n",
       " 'Service cost',\n",
       " 'CRF',\n",
       " 'Full capital cost',\n",
       " 'new_market_share',\n",
       " 'total_market_share',\n",
       " 'base_stock',\n",
       " 'new_stock',\n",
       " 'adjustment_multiplier',\n",
       " 'base_stock_remaining',\n",
       " 'new_stock_remaining_pre_surplus',\n",
       " 'new_stock_remaining',\n",
       " 'Node Type',\n",
       " 'Process Emissions',\n",
       " 'Load Factor',\n",
       " 'Utilization Rate',\n",
       " 'Process emissions',\n",
       " 'GHG content']"
      ]
     },
     "execution_count": 3,
     "metadata": {},
     "output_type": "execute_result"
    }
   ],
   "source": [
    "# Example\n",
    "pyCIMS.model_parameter(model = model)"
   ]
  },
  {
   "cell_type": "markdown",
   "metadata": {},
   "source": [
    "# Search parameter names by keywords.\n",
    "1. 'search_parameter' function will help you to query if any existing parameters match your search.\n",
    "2. The function takes the model and search keywords as input and returns a list of parameters contains the keywords.\n",
    "3. Example:\n",
    "```python \n",
    "pyCIMS.search_parameter(model = model, search = ['market', 'Capital'])\n",
    "``` "
   ]
  },
  {
   "cell_type": "code",
   "execution_count": 4,
   "metadata": {},
   "outputs": [
    {
     "name": "stdout",
     "output_type": "stream",
     "text": [
      "You are searching if any parameter in the model contains  ['market', 'Capital']\n",
      "Here are all the parameters contain your search term : \n"
     ]
    },
    {
     "data": {
      "text/plain": [
       "['new_market_share',\n",
       " 'total_market_share',\n",
       " 'Capital cost_overnight',\n",
       " 'Capital cost_declining_limit',\n",
       " 'Capital cost_declining_cumulative new stock',\n",
       " 'Capital cost_declining_Progress Ratio',\n",
       " 'Capital cost_declining_AEEI',\n",
       " 'Capital cost_declining_Class']"
      ]
     },
     "execution_count": 4,
     "metadata": {},
     "output_type": "execute_result"
    }
   ],
   "source": [
    "# Example\n",
    "# Search if any parameter contains 'market' or 'Capital'\n",
    "pyCIMS.search_parameter(model = model, search = ['market', 'Capital'])"
   ]
  },
  {
   "cell_type": "code",
   "execution_count": null,
   "metadata": {},
   "outputs": [],
   "source": []
  }
 ],
 "metadata": {
  "kernelspec": {
   "display_name": "Python 3",
   "language": "python",
   "name": "python3"
  },
  "language_info": {
   "codemirror_mode": {
    "name": "ipython",
    "version": 3
   },
   "file_extension": ".py",
   "mimetype": "text/x-python",
   "name": "python",
   "nbconvert_exporter": "python",
   "pygments_lexer": "ipython3",
   "version": "3.9.0"
  }
 },
 "nbformat": 4,
 "nbformat_minor": 4
}
