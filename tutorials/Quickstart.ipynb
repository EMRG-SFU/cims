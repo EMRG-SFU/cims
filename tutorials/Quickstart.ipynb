{
 "cells": [
  {
   "cell_type": "markdown",
   "metadata": {},
   "source": [
    "# Quickstart\n",
    "\n",
    "This notebook serves as a brief overview for getting started with pyCIMS. For this notebook to run properly, ensure:\n",
    "* pyCIMS is downloaded and installed on your local machine according to the [installation instructions](../../docs/Installation.md)\n",
    "* The `pyCIMS_env` conda environment has been activated according the [conda environment instructions](../../docs/WorkingWithCondaEnvironment.md)\n"
   ]
  },
  {
   "cell_type": "markdown",
   "metadata": {},
   "source": [
    "## Import pyCIMS  & other packages"
   ]
  },
  {
   "cell_type": "code",
   "execution_count": 1,
   "metadata": {},
   "outputs": [],
   "source": [
    "import pyCIMS\n",
    "import pprint as pp"
   ]
  },
  {
   "cell_type": "markdown",
   "metadata": {},
   "source": [
    "## Model Validator\n",
    "\n",
    "Now that we have loaded the `pyCIMS` module we can start to use it. First, we will validate our model description using the `ModelValidator` class."
   ]
  },
  {
   "cell_type": "code",
   "execution_count": 2,
   "metadata": {},
   "outputs": [
    {
     "name": "stdout",
     "output_type": "stream",
     "text": [
      "0 node name/branch mismatches. \n",
      "0 references to unspecified nodes. \n",
      "0 non-root nodes are never referenced. \n",
      "0 nodes were specified but don't provide a service. \n",
      "0 nodes had invalid competition types. \n",
      "0 nodes requested services of themselves. \n",
      "46 nodes or technologies don't request other services. See ModelValidator.warnings['nodes_no_requested_service'] for more info.\n",
      "1863 nodes have been defined in a different order between the model and tree sheets. See ModelValidator.warnings['discrepencies_in_model_and_tree'] for more info.\n",
      "0 nodes have 0 in the output line. \n",
      "0 fuel nodes don't have an Life Cycle Cost. \n",
      "0 tech compete nodes don't have capital cost. \n",
      "30 nodes have market shares that don't sum to 100%. See ModelValidator.warnings['nodes_with_bad_total_ms'] for more info.\n",
      "0 technologies are missing a base year market share. \n",
      "1 nodes/technologies request from the same service more than once. See ModelValidator.warnings['duplicate_req'] for more info.\n",
      "36 nodes/technologies contain 0's or are missing values in service request rows. See ModelValidator.warnings['bad_service_req'] for more info.\n",
      "0 tech compete nodes don't contain Technology or Service headings \n"
     ]
    }
   ],
   "source": [
    "model_description_file = '../model_descriptions/pyCIMS_model_description_Alberta_Test.xlsb'\n",
    "model_validator = pyCIMS.ModelValidator(model_description_file)\n",
    "model_validator.validate(verbose=True, raise_warnings=False)"
   ]
  },
  {
   "cell_type": "markdown",
   "metadata": {},
   "source": [
    "For more information on using the `ModelValidator` class, checkout the [model validation tutorial](model_validation_instructions.ipynb). "
   ]
  },
  {
   "cell_type": "markdown",
   "metadata": {},
   "source": [
    "## Build the Model\n",
    "There are two steps to building the model. First, we need to create a `ModelReader` object. This object reads in the model description Excel file and does some processessing to prepare the description to become a model. Then, this `ModelReader` object becomes the input to the all important `Model` object."
   ]
  },
  {
   "cell_type": "code",
   "execution_count": 3,
   "metadata": {},
   "outputs": [],
   "source": [
    "# Model Reader\n",
    "model_reader = pyCIMS.ModelReader(infile=model_description_file,\n",
    "                                  sheet_map={'model': 'Model', \n",
    "                                             'default_tech': 'Technology_Node templates'},\n",
    "                                  node_col='Node')"
   ]
  },
  {
   "cell_type": "code",
   "execution_count": 4,
   "metadata": {},
   "outputs": [],
   "source": [
    "# Model\n",
    "model = pyCIMS.Model(model_reader)"
   ]
  },
  {
   "cell_type": "markdown",
   "metadata": {},
   "source": [
    "## Run the pyCIMS Model"
   ]
  },
  {
   "cell_type": "code",
   "execution_count": 5,
   "metadata": {},
   "outputs": [
    {
     "name": "stdout",
     "output_type": "stream",
     "text": [
      "***** ***** year: 2000 ***** *****\n",
      "iter 0\n",
      "***** ***** year: 2005 ***** *****\n",
      "iter 0\n",
      "iter 1\n",
      "iter 2\n",
      "***** ***** year: 2010 ***** *****\n",
      "iter 0\n",
      "iter 1\n",
      "iter 2\n",
      "***** ***** year: 2015 ***** *****\n",
      "iter 0\n",
      "iter 1\n",
      "iter 2\n",
      "***** ***** year: 2020 ***** *****\n",
      "iter 0\n",
      "iter 1\n",
      "iter 2\n",
      "***** ***** year: 2025 ***** *****\n",
      "iter 0\n",
      "iter 1\n",
      "iter 2\n",
      "***** ***** year: 2030 ***** *****\n",
      "iter 0\n",
      "iter 1\n",
      "***** ***** year: 2035 ***** *****\n",
      "iter 0\n",
      "iter 1\n",
      "***** ***** year: 2040 ***** *****\n",
      "iter 0\n",
      "iter 1\n",
      "***** ***** year: 2045 ***** *****\n",
      "iter 0\n",
      "iter 1\n",
      "iter 2\n",
      "***** ***** year: 2050 ***** *****\n",
      "iter 0\n",
      "iter 1\n"
     ]
    }
   ],
   "source": [
    "model.run(max_iterations=5, show_warnings=False)"
   ]
  },
  {
   "cell_type": "markdown",
   "metadata": {},
   "source": [
    "## Examine the Results"
   ]
  },
  {
   "cell_type": "markdown",
   "metadata": {},
   "source": [
    "#### How has a fuel's price changed over the years?\n",
    "This cell will print out the LCC for each year for the specified fuel. The `fuel_of_interest` variable should be the path to the fuel node of interest. "
   ]
  },
  {
   "cell_type": "code",
   "execution_count": 6,
   "metadata": {},
   "outputs": [
    {
     "name": "stdout",
     "output_type": "stream",
     "text": [
      "----- pyCIMS.Canada.Alberta.Electricity -----\n",
      "2000: 9.16\n",
      "2005: 10.95\n",
      "2010: 11.72\n",
      "2015: 12.43\n",
      "2020: 19.84\n",
      "2025: 22.38\n",
      "2030: 23.4\n",
      "2035: 24.52\n",
      "2040: 25.67\n",
      "2045: 26.9\n",
      "2050: 28.27\n"
     ]
    }
   ],
   "source": [
    "fuel_of_interest = 'pyCIMS.Canada.Alberta.Electricity' # Change this line to see how other fuels change\n",
    "\n",
    "print(\"----- {} -----\".format(fuel_of_interest))\n",
    "for year in model.years:\n",
    "    lcc = model.get_param('Life Cycle Cost', fuel_of_interest, year)\n",
    "    print('{}: {}'.format(year, round(lcc, 2)))\n"
   ]
  },
  {
   "cell_type": "markdown",
   "metadata": {},
   "source": [
    "#### How has marketshare changed between years?\n",
    "This cell will print out the market shares for each technology for each within the specified node. The `node_of_interest` variable should be the path to the node of interest. "
   ]
  },
  {
   "cell_type": "code",
   "execution_count": 7,
   "metadata": {},
   "outputs": [
    {
     "name": "stdout",
     "output_type": "stream",
     "text": [
      "pyCIMS.Canada.Alberta.Residential.Buildings.Floorspace.Lighting\n",
      "----------------------------------------------------------------------\n",
      "Technology                   New Market Share       Total Market Share\n",
      "----------------------------------------------------------------------\n",
      "2000\n",
      "Incandescent                              92%                      92%\n",
      "CFL                                        8%                       8%\n",
      "LED                                        0%                       0%\n",
      "----------------------------------------------------------------------\n",
      "2005\n",
      "Incandescent                             100%                      97%\n",
      "CFL                                        0%                       3%\n",
      "LED                                        0%                       0%\n",
      "----------------------------------------------------------------------\n",
      "2010\n",
      "Incandescent                             100%                     100%\n",
      "CFL                                        0%                       0%\n",
      "LED                                        0%                       0%\n",
      "----------------------------------------------------------------------\n",
      "2015\n",
      "Incandescent                             100%                     100%\n",
      "CFL                                        0%                       0%\n",
      "LED                                        0%                       0%\n",
      "----------------------------------------------------------------------\n",
      "2020\n",
      "Incandescent                             100%                     100%\n",
      "CFL                                        0%                       0%\n",
      "LED                                        0%                       0%\n",
      "----------------------------------------------------------------------\n",
      "2025\n",
      "Incandescent                              99%                      99%\n",
      "CFL                                        1%                       1%\n",
      "LED                                        0%                       0%\n",
      "----------------------------------------------------------------------\n",
      "2030\n",
      "Incandescent                              99%                      99%\n",
      "CFL                                        1%                       1%\n",
      "LED                                        0%                       0%\n",
      "----------------------------------------------------------------------\n",
      "2035\n",
      "Incandescent                              98%                      98%\n",
      "CFL                                        2%                       2%\n",
      "LED                                        0%                       0%\n",
      "----------------------------------------------------------------------\n",
      "2040\n",
      "Incandescent                              98%                      97%\n",
      "CFL                                        2%                       3%\n",
      "LED                                        0%                       0%\n",
      "----------------------------------------------------------------------\n",
      "2045\n",
      "Incandescent                              97%                      97%\n",
      "CFL                                        3%                       3%\n",
      "LED                                        0%                       0%\n",
      "----------------------------------------------------------------------\n",
      "2050\n",
      "Incandescent                              96%                      95%\n",
      "CFL                                        4%                       5%\n",
      "LED                                        0%                       0%\n",
      "----------------------------------------------------------------------\n"
     ]
    }
   ],
   "source": [
    "node_of_interest = 'pyCIMS.Canada.Alberta.Residential.Buildings.Floorspace.Lighting' # Change this line to see other nodes\n",
    "\n",
    "# Printing the Table Header\n",
    "headers = ('Technology', 'New Market Share', 'Total Market Share')\n",
    "dash = '-' * 70\n",
    "cols = '{:<20}{:>25}{:>25}'\n",
    "print(\"{}\".format(node_of_interest))\n",
    "print(dash)\n",
    "print(cols.format(*headers))             \n",
    "print(dash)\n",
    "\n",
    "# Printing the Table Content\n",
    "total_stocks = {}\n",
    "for year in model.years:\n",
    "    print(year)\n",
    "    for tech in model.graph.nodes[node_of_interest][year]['technologies']:\n",
    "        n_ms = model.get_param('new_market_share', node_of_interest, year, tech)\n",
    "        t_ms = model.get_param('total_market_share', node_of_interest, year, tech)\n",
    "        print(cols.format(tech, f\"{round(n_ms*100)}%\", f\"{round(t_ms*100)}%\"))             \n",
    "    print(dash)\n",
    "\n"
   ]
  },
  {
   "cell_type": "markdown",
   "metadata": {},
   "source": [
    "#### How to find a Node's Path\n",
    "This cell retrieves all of the nodes within the graph whose name contains the specified `node_name` . A Node's name is the last element in path, where elements are seperated by `.`. "
   ]
  },
  {
   "cell_type": "code",
   "execution_count": 8,
   "metadata": {},
   "outputs": [
    {
     "name": "stdout",
     "output_type": "stream",
     "text": [
      "pyCIMS.Canada.Alberta.Residential.Furnace\n",
      "pyCIMS.Canada.Alberta.Industrial Minerals.Products.Glass.Flat.Furnaces\n",
      "pyCIMS.Canada.Alberta.Industrial Minerals.Products.Glass.Containers.Furnaces\n",
      "pyCIMS.Canada.Alberta.Industrial Minerals.Products.Glass.Blown Pressed.Furnaces\n",
      "pyCIMS.Canada.Alberta.Industrial Minerals.Products.Glass.Fibreglass.Furnaces\n",
      "pyCIMS.Canada.Alberta.Pulp and Paper.Black Liquor Service.Concentrated Black Liquor.Recovery Furnace\n"
     ]
    }
   ],
   "source": [
    "node_name = 'Furnace'\n",
    "\n",
    "for n in model.graph.nodes:\n",
    "    n_name = n.split('.')[-1]\n",
    "    if node_name in n_name:\n",
    "        print(n)\n"
   ]
  },
  {
   "cell_type": "code",
   "execution_count": null,
   "metadata": {},
   "outputs": [],
   "source": []
  }
 ],
 "metadata": {
  "kernelspec": {
   "display_name": "Python 3",
   "language": "python",
   "name": "python3"
  },
  "language_info": {
   "codemirror_mode": {
    "name": "ipython",
    "version": 3
   },
   "file_extension": ".py",
   "mimetype": "text/x-python",
   "name": "python",
   "nbconvert_exporter": "python",
   "pygments_lexer": "ipython3",
   "version": "3.8.5"
  }
 },
 "nbformat": 4,
 "nbformat_minor": 4
}
