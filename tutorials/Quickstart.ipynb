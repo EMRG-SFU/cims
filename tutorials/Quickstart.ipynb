{
 "cells": [
  {
   "cell_type": "markdown",
   "metadata": {},
   "source": [
    "# Quickstart Guide"
   ]
  },
  {
   "cell_type": "markdown",
   "metadata": {},
   "source": [
    "<div class=\"alert alert-block alert-info\">\n",
    "    <b>Pre-requisites:</b> CIMS is installed in your active conda environment (<a href=\"../../docs/INSTALL.md\">installation instructions</a>).\n",
    "</div>\n",
    "\n",
    "This notebook serves as a brief overview for getting started with CIMS. The diagram below shows the high-level workflow for running a CIMS model. This Quickstart Guide focuses on portions of the workflow that happen inside of Python (shows as a yellow box in this diagram). \n",
    "\n",
    "[![](https://mermaid.ink/img/pako:eNpVkEFrwzAMhf-K0bk9rO0ph0KTbacVRgq72D1osbIYHDs4NltW-t-n1DASncR7n4T0btB4TVBAa_1302GI4q1WTnCdZBUII4kzE1a8GktXsd0exfsUO-8yNKbPr4BDtxLnKp_kB1qj_xfk2XK3QHayTMbqlb9f-HtZJ7dyDwv3IF9-Bs8H1zQmG8ercuR0BvI1j5kqK5U8ObTTLy1w2EBPoUejOYDbzCmIHfWkoOBWU4tMKlDuziim6C-Ta6CIIdEG0jA_92yQA-ihaNGOrJI20YdzDvWR7f0PMvluoQ?type=png)](https://mermaid.live/edit#pako:eNpVkEFrwzAMhf-K0bk9rO0ph0KTbacVRgq72D1osbIYHDs4NltW-t-n1DASncR7n4T0btB4TVBAa_1302GI4q1WTnCdZBUII4kzE1a8GktXsd0exfsUO-8yNKbPr4BDtxLnKp_kB1qj_xfk2XK3QHayTMbqlb9f-HtZJ7dyDwv3IF9-Bs8H1zQmG8ercuR0BvI1j5kqK5U8ObTTLy1w2EBPoUejOYDbzCmIHfWkoOBWU4tMKlDuziim6C-Ta6CIIdEG0jA_92yQA-ihaNGOrJI20YdzDvWR7f0PMvluoQ)"
   ]
  },
  {
   "cell_type": "markdown",
   "metadata": {},
   "source": [
    "## Import CIMS  & other packages"
   ]
  },
  {
   "cell_type": "markdown",
   "metadata": {},
   "source": [
    "Before any other work can be done, we need to import the CIMS Python package (along with a couple other packages we'll end up using). "
   ]
  },
  {
   "cell_type": "code",
   "execution_count": null,
   "metadata": {},
   "outputs": [],
   "source": [
    "import CIMS\n",
    "import pprint as pp"
   ]
  },
  {
   "cell_type": "markdown",
   "metadata": {},
   "source": [
    "## Validate Model"
   ]
  },
  {
   "cell_type": "markdown",
   "metadata": {},
   "source": [
    "With the CIMS package loaded, we can validate the model we specified in Excel. This will run some quick checks to ensure we haven't made obvious mistakes when specifying the model in Excel. For example, it will check whether you've specified a fuel node, without also providing a base-year LCC or price. \n",
    "\n",
    "Address any problems flagged by the model by adjusting your model in Excel. Re-run the model validator to ensure there are no outstanding problems.    \n",
    "\n",
    "For more information on using the `ModelValidator` class, checkout the [model validation tutorial](ModelValidation.ipynb). "
   ]
  },
  {
   "cell_type": "code",
   "execution_count": null,
   "metadata": {},
   "outputs": [],
   "source": [
    "# Spcify the location of the model file\n",
    "model_file = '../models/CIMS_base model 2.xlsb'\n",
    "\n",
    "# Create the Model Validator\n",
    "model_validator = CIMS.ModelValidator(\n",
    "    infile=model_file, \n",
    "    sheet_map={\n",
    "        'model': ['CIMS', 'CAN', 'BC'],\n",
    "        'default_param': 'Default values'\n",
    "    },\n",
    "    node_col='Branch',\n",
    "    root_node='CIMS'\n",
    ")\n",
    "\n",
    "# Run Validation\n",
    "model_validator.validate(verbose=True, raise_warnings=False)"
   ]
  },
  {
   "cell_type": "markdown",
   "metadata": {},
   "source": [
    "## Build Model"
   ]
  },
  {
   "cell_type": "markdown",
   "metadata": {},
   "source": [
    "There are two steps to building the model. First, we need to create a `ModelReader` object. This object reads in the model file and does some processessing to prepare the description for use as a model. Then, this `ModelReader` object is used to build a `Model` object, which we will be using going forward."
   ]
  },
  {
   "cell_type": "code",
   "execution_count": null,
   "metadata": {},
   "outputs": [],
   "source": [
    "# Model Reader\n",
    "years = ['2000', '2005', '2010', '2015', '2020', '2025', '2030']\n",
    "model_reader = CIMS.ModelReader(\n",
    "    infile=model_file,\n",
    "    sheet_map={\n",
    "        'model': ['CIMS', 'CAN', 'BC'],\n",
    "        'incompatible': 'Incompatible',\n",
    "        'default_param': 'Default values'},\n",
    "    node_col='Branch',\n",
    "    year_list=years,\n",
    "    col_list=['Branch', 'Sector', 'Technology', 'Parameter', 'Context', 'Sub_Context', 'Target', 'Source','Unit']+ years,\n",
    "    sector_list=[],\n",
    "    root_node='CIMS'\n",
    ")"
   ]
  },
  {
   "cell_type": "code",
   "execution_count": null,
   "metadata": {},
   "outputs": [],
   "source": [
    "# Model\n",
    "model = CIMS.Model(model_reader)"
   ]
  },
  {
   "cell_type": "markdown",
   "metadata": {
    "jp-MarkdownHeadingCollapsed": true
   },
   "source": [
    "## Run Model"
   ]
  },
  {
   "cell_type": "markdown",
   "metadata": {},
   "source": [
    "Use the `.run()` method to run the model. The year & iteration currently being processed by the model is noted printed to the screen, enabling you to track its progress. Optionally, can specify the maximum number of iterations that can be run in each year, if the model is unable to reach an equilibrium."
   ]
  },
  {
   "cell_type": "code",
   "execution_count": null,
   "metadata": {},
   "outputs": [],
   "source": [
    "model.run(max_iterations=5)"
   ]
  },
  {
   "cell_type": "markdown",
   "metadata": {
    "jp-MarkdownHeadingCollapsed": true
   },
   "source": [
    "## Export Results"
   ]
  },
  {
   "cell_type": "markdown",
   "metadata": {},
   "source": [
    "Once you've run your model, use the `CIMS.log_model()` function to export the results to a CSV file. By default, all model parameters will be written to the CSV. However, using the optional arguments `default_list` or `parameter_list` you can specify particular subsets of parameters to write out. \n",
    "\n",
    "Using the `default_list` argument provides users the option to save pre-defined lists of parameters. Currently, two default parameter lists are defined: (1) all (saves all parameters) and (2) slim (saves `new_market_share`, `price`, `competition type`, `service_requested`, and `fcc`). \n",
    "\n",
    "Alternatively, the `parameter_list` argument allows users to specify the exact parameters they want to save, by providing a list to the function. "
   ]
  },
  {
   "cell_type": "code",
   "execution_count": null,
   "metadata": {
    "scrolled": true
   },
   "outputs": [],
   "source": [
    "# This will save all parameters to my_cims_log.csv\n",
    "df = CIMS.log_model(model=model, output_file=\"my_cims_log.csv\")"
   ]
  },
  {
   "cell_type": "code",
   "execution_count": null,
   "metadata": {},
   "outputs": [],
   "source": [
    "# This will save 5 parameters (new_market_share, price, competition type, service_requested, and fcc) to my_cims_log.csv\n",
    "df = CIMS.log_model(model=model, output_file=\"my_cims_log.csv\", default_list=\"slim\")"
   ]
  },
  {
   "cell_type": "code",
   "execution_count": null,
   "metadata": {},
   "outputs": [],
   "source": [
    "# This will save 3 parameters (price, total_market_share, total_cumul_emissions_cost) to my_cims_log.csv. \n",
    "df = CIMS.log_model(model=model, output_file=\"my_cims_log.csv\", parameter_list=[\"price\", \"total_market_share\", \"total_cumul_emissions_cost\"])"
   ]
  },
  {
   "cell_type": "markdown",
   "metadata": {},
   "source": [
    "Once you've exported the model to a CSV file, you can open this CSV file in Excel (or your preferred viewer) to do analysis."
   ]
  },
  {
   "cell_type": "markdown",
   "metadata": {
    "jp-MarkdownHeadingCollapsed": true
   },
   "source": [
    "## Advanced &mdash; Examine the Results in Python"
   ]
  },
  {
   "cell_type": "markdown",
   "metadata": {},
   "source": [
    "Some users may prefer to examine model results within Python, rather than exporting the model into a GUI such as Excel. This section provides examples of the questions you can ask by querying the model from inside of Python."
   ]
  },
  {
   "cell_type": "markdown",
   "metadata": {},
   "source": [
    "#### How has a fuel's price changed over the years?\n",
    "This cell will print out the LCC for each year for the specified fuel. The `fuel_of_interest` variable should be the path to the fuel node of interest. "
   ]
  },
  {
   "cell_type": "code",
   "execution_count": null,
   "metadata": {},
   "outputs": [],
   "source": [
    "fuel_of_interest = 'CIMS.Generic Fuels.Natural Gas' # Change this line to see how other fuels change\n",
    "\n",
    "print(\"----- {} -----\".format(fuel_of_interest))\n",
    "for year in model.years:\n",
    "    lcc = model.get_param('price', fuel_of_interest, year)\n",
    "    print('{}: {}'.format(year, round(lcc, 2)))\n"
   ]
  },
  {
   "cell_type": "markdown",
   "metadata": {},
   "source": [
    "#### How has marketshare changed between years?\n",
    "This cell will print out the market shares for each technology for each within the specified node. The `node_of_interest` variable should be the path to the node of interest. "
   ]
  },
  {
   "cell_type": "code",
   "execution_count": null,
   "metadata": {},
   "outputs": [],
   "source": [
    "node_of_interest = 'CIMS.Canada.British Columbia.Residential.Buildings.Ranges' # Change this line to see other nodes\n",
    "\n",
    "# Printing the Table Header\n",
    "headers = ('Technology', 'New Market Share', 'Total Market Share')\n",
    "dash = '-' * 70\n",
    "cols = '{:<20}{:>25}{:>25}'\n",
    "print(\"{}\".format(node_of_interest))\n",
    "print(dash)\n",
    "print(cols.format(*headers))             \n",
    "print(dash)\n",
    "\n",
    "# Printing the Table Content\n",
    "total_stocks = {}\n",
    "for year in model.years:\n",
    "    print(year)\n",
    "    for tech in model.graph.nodes[node_of_interest][year]['technologies']:\n",
    "        n_ms = model.get_param('new_market_share', node_of_interest, year, tech)\n",
    "        t_ms = model.get_param('total_market_share', node_of_interest, year, tech)\n",
    "        print(cols.format(tech, f\"{round(n_ms*100)}%\", f\"{round(t_ms*100)}%\"))             \n",
    "    print(dash)\n",
    "\n"
   ]
  },
  {
   "cell_type": "markdown",
   "metadata": {},
   "source": [
    "#### How to find a Node's Path\n",
    "This cell retrieves all of the nodes within the graph whose name contains the specified `node_name` . A Node's name is the last element in path, where elements are seperated by `.`. "
   ]
  },
  {
   "cell_type": "code",
   "execution_count": null,
   "metadata": {},
   "outputs": [],
   "source": [
    "node_name = 'Furnace'\n",
    "\n",
    "for n in model.graph.nodes:\n",
    "    n_name = n.split('.')[-1]\n",
    "    if node_name in n_name:\n",
    "        print(n)\n"
   ]
  },
  {
   "cell_type": "code",
   "execution_count": null,
   "metadata": {},
   "outputs": [],
   "source": []
  }
 ],
 "metadata": {
  "kernelspec": {
   "display_name": "Python 3 (ipykernel)",
   "language": "python",
   "name": "python3"
  },
  "language_info": {
   "codemirror_mode": {
    "name": "ipython",
    "version": 3
   },
   "file_extension": ".py",
   "mimetype": "text/x-python",
   "name": "python",
   "nbconvert_exporter": "python",
   "pygments_lexer": "ipython3",
   "version": "3.11.5"
  }
 },
 "nbformat": 4,
 "nbformat_minor": 4
}
