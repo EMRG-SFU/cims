{
 "cells": [
  {
   "cell_type": "markdown",
   "metadata": {},
   "source": [
    "# Quickstart\n",
    "\n",
    "This notebook serves as a brief overview for getting started with CIMS. For this notebook to run properly, ensure:\n",
    "* CIMS is downloaded and installed on your local machine according to the [installation instructions](../../docs/Installation.md)\n",
    "* The `CIMS_env` conda environment has been activated according the [conda environment instructions](../../docs/WorkingWithCondaEnvironment.md)\n"
   ]
  },
  {
   "cell_type": "markdown",
   "metadata": {},
   "source": [
    "## Import CIMS  & other packages"
   ]
  },
  {
   "cell_type": "code",
   "execution_count": null,
   "metadata": {},
   "outputs": [],
   "source": [
    "import CIMS\n",
    "import pprint as pp"
   ]
  },
  {
   "cell_type": "markdown",
   "metadata": {},
   "source": [
    "## Model Validator\n",
    "\n",
    "Now that we have loaded the `CIMS` module we can start to use it. First, we will validate our model description using the `ModelValidator` class."
   ]
  },
  {
   "cell_type": "code",
   "execution_count": null,
   "metadata": {},
   "outputs": [],
   "source": [
    "model_description_file = '../model_descriptions/CIMS_model_description_ALL_value.xlsb'\n",
    "model_validator = CIMS.ModelValidator(model_description_file, \n",
    "                                        sheet_map={'model': 'Lists', \n",
    "                                                   'default_tech': 'Technology_Node templates'}, \n",
    "                                        node_col='Node')\n",
    "\n",
    "model_validator.validate(verbose=True, raise_warnings=False)"
   ]
  },
  {
   "cell_type": "markdown",
   "metadata": {},
   "source": [
    "For more information on using the `ModelValidator` class, checkout the [model validation tutorial](model_validation_instructions.ipynb). "
   ]
  },
  {
   "cell_type": "markdown",
   "metadata": {},
   "source": [
    "## Build the Model\n",
    "There are two steps to building the model. First, we need to create a `ModelReader` object. This object reads in the model description Excel file and does some processessing to prepare the description to become a model. Then, this `ModelReader` object becomes the input to the all important `Model` object."
   ]
  },
  {
   "cell_type": "code",
   "execution_count": null,
   "metadata": {},
   "outputs": [],
   "source": [
    "# Model Reader\n",
    "model_reader = CIMS.ModelReader(infile=model_description_file,\n",
    "                                  sheet_map={'model': 'Lists',\n",
    "                                             'default_tech': 'Technology_Node templates'},\n",
    "                                  node_col='Node')"
   ]
  },
  {
   "cell_type": "code",
   "execution_count": null,
   "metadata": {},
   "outputs": [],
   "source": [
    "# Model\n",
    "model = CIMS.Model(model_reader)"
   ]
  },
  {
   "cell_type": "markdown",
   "metadata": {},
   "source": [
    "## Run the CIMS Model"
   ]
  },
  {
   "cell_type": "code",
   "execution_count": null,
   "metadata": {},
   "outputs": [],
   "source": [
    "model.run(max_iterations=5, show_warnings=False)"
   ]
  },
  {
   "cell_type": "markdown",
   "metadata": {},
   "source": [
    "## Examine the Results"
   ]
  },
  {
   "cell_type": "markdown",
   "metadata": {},
   "source": [
    "#### How has a fuel's price changed over the years?\n",
    "This cell will print out the LCC for each year for the specified fuel. The `fuel_of_interest` variable should be the path to the fuel node of interest. "
   ]
  },
  {
   "cell_type": "code",
   "execution_count": null,
   "metadata": {},
   "outputs": [],
   "source": [
    "fuel_of_interest = 'CIMS.Canada.Alberta.Electricity' # Change this line to see how other fuels change\n",
    "\n",
    "print(\"----- {} -----\".format(fuel_of_interest))\n",
    "for year in model.years:\n",
    "    lcc = model.get_param('Life Cycle Cost', fuel_of_interest, year)\n",
    "    print('{}: {}'.format(year, round(lcc, 2)))\n"
   ]
  },
  {
   "cell_type": "markdown",
   "metadata": {},
   "source": [
    "#### How has marketshare changed between years?\n",
    "This cell will print out the market shares for each technology for each within the specified node. The `node_of_interest` variable should be the path to the node of interest. "
   ]
  },
  {
   "cell_type": "code",
   "execution_count": null,
   "metadata": {},
   "outputs": [],
   "source": [
    "node_of_interest = 'CIMS.Canada.Alberta.Residential.Buildings.Floorspace.Lighting' # Change this line to see other nodes\n",
    "\n",
    "# Printing the Table Header\n",
    "headers = ('Technology', 'New Market Share', 'Total Market Share')\n",
    "dash = '-' * 70\n",
    "cols = '{:<20}{:>25}{:>25}'\n",
    "print(\"{}\".format(node_of_interest))\n",
    "print(dash)\n",
    "print(cols.format(*headers))             \n",
    "print(dash)\n",
    "\n",
    "# Printing the Table Content\n",
    "total_stocks = {}\n",
    "for year in model.years:\n",
    "    print(year)\n",
    "    for tech in model.graph.nodes[node_of_interest][year]['technologies']:\n",
    "        n_ms = model.get_param('new_market_share', node_of_interest, year, tech)\n",
    "        t_ms = model.get_param('total_market_share', node_of_interest, year, tech)\n",
    "        print(cols.format(tech, f\"{round(n_ms*100)}%\", f\"{round(t_ms*100)}%\"))             \n",
    "    print(dash)\n",
    "\n"
   ]
  },
  {
   "cell_type": "markdown",
   "metadata": {},
   "source": [
    "#### How to find a Node's Path\n",
    "This cell retrieves all of the nodes within the graph whose name contains the specified `node_name` . A Node's name is the last element in path, where elements are seperated by `.`. "
   ]
  },
  {
   "cell_type": "code",
   "execution_count": null,
   "metadata": {},
   "outputs": [],
   "source": [
    "node_name = 'Furnace'\n",
    "\n",
    "for n in model.graph.nodes:\n",
    "    n_name = n.split('.')[-1]\n",
    "    if node_name in n_name:\n",
    "        print(n)\n"
   ]
  }
 ],
 "metadata": {
  "kernelspec": {
   "display_name": "Python 3",
   "language": "python",
   "name": "python3"
  },
  "language_info": {
   "codemirror_mode": {
    "name": "ipython",
    "version": 3
   },
   "file_extension": ".py",
   "mimetype": "text/x-python",
   "name": "python",
   "nbconvert_exporter": "python",
   "pygments_lexer": "ipython3",
   "version": "3.8.5"
  }
 },
 "nbformat": 4,
 "nbformat_minor": 4
}
