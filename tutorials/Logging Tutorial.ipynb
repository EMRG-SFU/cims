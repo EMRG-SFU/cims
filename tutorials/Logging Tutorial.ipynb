{
 "cells": [
  {
   "cell_type": "markdown",
   "metadata": {},
   "source": [
    "# Overview\n",
    "This notebook serves as a brief walkthrough of how to use the log_model function in logging.py "
   ]
  },
  {
   "cell_type": "markdown",
   "metadata": {},
   "source": [
    "# Build the model\n",
    "We need to first have the model ready before using the function. All steps of building the model are the same as indicated in the Quickstart notebook."
   ]
  },
  {
   "cell_type": "code",
   "execution_count": 11,
   "metadata": {},
   "outputs": [
    {
     "name": "stdout",
     "output_type": "stream",
     "text": [
      "0 node name/branch mismatches. \n",
      "0 references to unspecified nodes. \n",
      "0 non-root nodes are never referenced. \n",
      "0 nodes were specified but don't provide a service. \n",
      "0 nodes had invalid competition types. \n",
      "0 nodes requested services of themselves. \n",
      "36 nodes or technologies don't request other services. See ModelValidator.warnings['nodes_no_requested_service'] for more info\n"
     ]
    },
    {
     "name": "stderr",
     "output_type": "stream",
     "text": [
      "/Users/halo/Documents/github/bigdatahub/pycims_prototype/pyCIMS/ModelValidator.py:281: FutureWarning: The pandas.np module is deprecated and will be removed from pandas in a future version. Import numpy directly instead\n",
      "  tree_df = mxl_tree.replace({pd.np.nan: None})\n"
     ]
    },
    {
     "name": "stdout",
     "output_type": "stream",
     "text": [
      "1863 nodes have been defined in a different order between the model and tree sheets. See ModelValidator.warnings['discrepencies_in_model_and_tree'] for more info.\n",
      "0 nodes have 0 in the output line. \n",
      "0 fuel nodes don't have an LCC. \n"
     ]
    }
   ],
   "source": [
    "import pyCIMS\n",
    "import pprint as pp\n",
    "\n",
    "# description file\n",
    "model_description_file = '../model_descriptions/pyCIMS_model_description_Alberta_Test.xlsb'\n",
    "\n",
    "# model validator\n",
    "model_validator = pyCIMS.ModelValidator(model_description_file)\n",
    "model_validator.validate(verbose=True, raise_warnings=False)\n",
    "\n",
    "# Model Reader\n",
    "model_reader = pyCIMS.ModelReader(infile=model_description_file,\n",
    "                                  sheet_map={'model': 'Model'},\n",
    "                                  node_col='Node')\n",
    "\n",
    "# Model\n",
    "model = pyCIMS.Model(model_reader)"
   ]
  },
  {
   "cell_type": "code",
   "execution_count": 12,
   "metadata": {},
   "outputs": [
    {
     "name": "stdout",
     "output_type": "stream",
     "text": [
      "***** ***** year: 2000 ***** *****\n",
      "iter 0\n",
      "***** ***** year: 2005 ***** *****\n",
      "iter 0\n",
      "iter 1\n",
      "iter 2\n",
      "iter 3\n",
      "iter 4\n",
      "iter 5\n",
      "iter 6\n",
      "***** ***** year: 2010 ***** *****\n",
      "iter 0\n"
     ]
    },
    {
     "name": "stderr",
     "output_type": "stream",
     "text": [
      "/Users/halo/Documents/github/bigdatahub/pycims_prototype/pyCIMS/model.py:165: UserWarning: Max iterations reached for year 2005. Continuing to next year.\n",
      "  warnings.warn(\"Max iterations reached for year {}. \"\n"
     ]
    },
    {
     "name": "stdout",
     "output_type": "stream",
     "text": [
      "iter 1\n",
      "***** ***** year: 2015 ***** *****\n",
      "iter 0\n",
      "iter 1\n",
      "***** ***** year: 2020 ***** *****\n",
      "iter 0\n",
      "iter 1\n",
      "***** ***** year: 2025 ***** *****\n",
      "iter 0\n",
      "iter 1\n",
      "***** ***** year: 2030 ***** *****\n",
      "iter 0\n",
      "iter 1\n",
      "***** ***** year: 2035 ***** *****\n",
      "iter 0\n",
      "iter 1\n",
      "***** ***** year: 2040 ***** *****\n",
      "iter 0\n",
      "iter 1\n",
      "***** ***** year: 2045 ***** *****\n",
      "iter 0\n",
      "iter 1\n",
      "***** ***** year: 2050 ***** *****\n",
      "iter 0\n",
      "iter 1\n"
     ]
    }
   ],
   "source": [
    "# run the model \n",
    "model.run(max_iterations=5, show_warnings=False)"
   ]
  },
  {
   "cell_type": "markdown",
   "metadata": {},
   "source": [
    "# The logging function\n",
    "Once we build the model, we can query the results using the logging function:\n",
    "<div class=\"alert alert-block alert-success\">\n",
    "<b></b> The function has 3 arguments : model, output_file and parameter..\n",
    "</div>\n",
    "\n",
    "```python\n",
    "log_model(model=model, output_file=\"Alberta_Test_Log.csv\", parameter='Competition type')\n",
    "```\n",
    "* model: the model we built as indicated in above steps.\n",
    "* output_file: the name of the output_file.\n",
    "* parameter: interests of a specific parameter in the model. "
   ]
  },
  {
   "cell_type": "markdown",
   "metadata": {},
   "source": [
    "# Return all parameters \n",
    "To be able to return all parameters, simply use the function without specifying the **parameter** argument\n",
    "```python\n",
    "log_model(model=model, output_file=\"Alberta_Test_Log.csv\")\n",
    "```"
   ]
  },
  {
   "cell_type": "code",
   "execution_count": 13,
   "metadata": {},
   "outputs": [
    {
     "data": {
      "text/html": [
       "<div>\n",
       "<style scoped>\n",
       "    .dataframe tbody tr th:only-of-type {\n",
       "        vertical-align: middle;\n",
       "    }\n",
       "\n",
       "    .dataframe tbody tr th {\n",
       "        vertical-align: top;\n",
       "    }\n",
       "\n",
       "    .dataframe thead th {\n",
       "        text-align: right;\n",
       "    }\n",
       "</style>\n",
       "<table border=\"1\" class=\"dataframe\">\n",
       "  <thead>\n",
       "    <tr style=\"text-align: right;\">\n",
       "      <th></th>\n",
       "      <th>node</th>\n",
       "      <th>year</th>\n",
       "      <th>technology</th>\n",
       "      <th>parameter</th>\n",
       "      <th>context</th>\n",
       "      <th>unit</th>\n",
       "      <th>value</th>\n",
       "    </tr>\n",
       "  </thead>\n",
       "  <tbody>\n",
       "    <tr>\n",
       "      <th>0</th>\n",
       "      <td>pyCIMS</td>\n",
       "      <td>None</td>\n",
       "      <td>None</td>\n",
       "      <td>type</td>\n",
       "      <td>None</td>\n",
       "      <td>None</td>\n",
       "      <td>standard</td>\n",
       "    </tr>\n",
       "    <tr>\n",
       "      <th>1</th>\n",
       "      <td>pyCIMS</td>\n",
       "      <td>None</td>\n",
       "      <td>None</td>\n",
       "      <td>competition type</td>\n",
       "      <td>None</td>\n",
       "      <td>None</td>\n",
       "      <td>root</td>\n",
       "    </tr>\n",
       "    <tr>\n",
       "      <th>2</th>\n",
       "      <td>pyCIMS</td>\n",
       "      <td>2000</td>\n",
       "      <td>None</td>\n",
       "      <td>Service provided</td>\n",
       "      <td>pyCIMS</td>\n",
       "      <td>unit</td>\n",
       "      <td>None</td>\n",
       "    </tr>\n",
       "    <tr>\n",
       "      <th>3</th>\n",
       "      <td>pyCIMS</td>\n",
       "      <td>2000</td>\n",
       "      <td>None</td>\n",
       "      <td>Simulation time</td>\n",
       "      <td>None</td>\n",
       "      <td>Years</td>\n",
       "      <td>2000</td>\n",
       "    </tr>\n",
       "    <tr>\n",
       "      <th>4</th>\n",
       "      <td>pyCIMS</td>\n",
       "      <td>2000</td>\n",
       "      <td>None</td>\n",
       "      <td>Currency</td>\n",
       "      <td>None</td>\n",
       "      <td>CAD</td>\n",
       "      <td>2005</td>\n",
       "    </tr>\n",
       "    <tr>\n",
       "      <th>...</th>\n",
       "      <td>...</td>\n",
       "      <td>...</td>\n",
       "      <td>...</td>\n",
       "      <td>...</td>\n",
       "      <td>...</td>\n",
       "      <td>...</td>\n",
       "      <td>...</td>\n",
       "    </tr>\n",
       "    <tr>\n",
       "      <th>627666</th>\n",
       "      <td>pyCIMS.Canada.Alberta.Wood</td>\n",
       "      <td>2050</td>\n",
       "      <td>None</td>\n",
       "      <td>Life Cycle Cost</td>\n",
       "      <td>None</td>\n",
       "      <td>$</td>\n",
       "      <td>0.23</td>\n",
       "    </tr>\n",
       "    <tr>\n",
       "      <th>627667</th>\n",
       "      <td>pyCIMS.Canada.Alberta.Wood</td>\n",
       "      <td>2050</td>\n",
       "      <td>None</td>\n",
       "      <td>GHG content</td>\n",
       "      <td>CO2</td>\n",
       "      <td>tCO2e/GJ</td>\n",
       "      <td>0</td>\n",
       "    </tr>\n",
       "    <tr>\n",
       "      <th>627668</th>\n",
       "      <td>pyCIMS.Canada.Alberta.Wood</td>\n",
       "      <td>2050</td>\n",
       "      <td>None</td>\n",
       "      <td>GHG content</td>\n",
       "      <td>CH4</td>\n",
       "      <td>tCO2e/GJ</td>\n",
       "      <td>0.000240688</td>\n",
       "    </tr>\n",
       "    <tr>\n",
       "      <th>627669</th>\n",
       "      <td>pyCIMS.Canada.Alberta.Wood</td>\n",
       "      <td>2050</td>\n",
       "      <td>None</td>\n",
       "      <td>GHG content</td>\n",
       "      <td>N2O</td>\n",
       "      <td>tCO2e/GJ</td>\n",
       "      <td>0.00151862</td>\n",
       "    </tr>\n",
       "    <tr>\n",
       "      <th>627670</th>\n",
       "      <td>pyCIMS.Canada.Alberta.Wood</td>\n",
       "      <td>2050</td>\n",
       "      <td>None</td>\n",
       "      <td>quantities</td>\n",
       "      <td>None</td>\n",
       "      <td>None</td>\n",
       "      <td>3.62654e+08</td>\n",
       "    </tr>\n",
       "  </tbody>\n",
       "</table>\n",
       "<p>627671 rows × 7 columns</p>\n",
       "</div>"
      ],
      "text/plain": [
       "                              node  year technology         parameter context  \\\n",
       "0                           pyCIMS  None       None              type    None   \n",
       "1                           pyCIMS  None       None  competition type    None   \n",
       "2                           pyCIMS  2000       None  Service provided  pyCIMS   \n",
       "3                           pyCIMS  2000       None   Simulation time    None   \n",
       "4                           pyCIMS  2000       None          Currency    None   \n",
       "...                            ...   ...        ...               ...     ...   \n",
       "627666  pyCIMS.Canada.Alberta.Wood  2050       None   Life Cycle Cost    None   \n",
       "627667  pyCIMS.Canada.Alberta.Wood  2050       None       GHG content     CO2   \n",
       "627668  pyCIMS.Canada.Alberta.Wood  2050       None       GHG content     CH4   \n",
       "627669  pyCIMS.Canada.Alberta.Wood  2050       None       GHG content     N2O   \n",
       "627670  pyCIMS.Canada.Alberta.Wood  2050       None        quantities    None   \n",
       "\n",
       "            unit        value  \n",
       "0           None     standard  \n",
       "1           None         root  \n",
       "2           unit         None  \n",
       "3          Years         2000  \n",
       "4            CAD         2005  \n",
       "...          ...          ...  \n",
       "627666         $         0.23  \n",
       "627667  tCO2e/GJ            0  \n",
       "627668  tCO2e/GJ  0.000240688  \n",
       "627669  tCO2e/GJ   0.00151862  \n",
       "627670      None  3.62654e+08  \n",
       "\n",
       "[627671 rows x 7 columns]"
      ]
     },
     "execution_count": 13,
     "metadata": {},
     "output_type": "execute_result"
    }
   ],
   "source": [
    "# return all parameters example\n",
    "pyCIMS.log_model(model=model, output_file=\"Alberta_Test_Log.csv\")"
   ]
  },
  {
   "cell_type": "markdown",
   "metadata": {},
   "source": [
    "# Return Log on a parameter of interest\n",
    "Specify the name of the parameter of interest in the **parameter** argument."
   ]
  },
  {
   "cell_type": "code",
   "execution_count": 20,
   "metadata": {},
   "outputs": [],
   "source": [
    "??pyCIMS"
   ]
  },
  {
   "cell_type": "code",
   "execution_count": 16,
   "metadata": {},
   "outputs": [
    {
     "ename": "TypeError",
     "evalue": "log_model() got an unexpected keyword argument 'parameter'",
     "output_type": "error",
     "traceback": [
      "\u001b[0;31m---------------------------------------------------------------------------\u001b[0m",
      "\u001b[0;31mTypeError\u001b[0m                                 Traceback (most recent call last)",
      "\u001b[0;32m<ipython-input-16-aa3a1fb64775>\u001b[0m in \u001b[0;36m<module>\u001b[0;34m\u001b[0m\n\u001b[1;32m      1\u001b[0m \u001b[0;31m# Example\u001b[0m\u001b[0;34m\u001b[0m\u001b[0;34m\u001b[0m\u001b[0;34m\u001b[0m\u001b[0m\n\u001b[1;32m      2\u001b[0m \u001b[0;31m# return parameter:Competition Type\u001b[0m\u001b[0;34m\u001b[0m\u001b[0;34m\u001b[0m\u001b[0;34m\u001b[0m\u001b[0m\n\u001b[0;32m----> 3\u001b[0;31m \u001b[0mpyCIMS\u001b[0m\u001b[0;34m.\u001b[0m\u001b[0mlog_model\u001b[0m\u001b[0;34m(\u001b[0m\u001b[0mmodel\u001b[0m\u001b[0;34m=\u001b[0m\u001b[0mmodel\u001b[0m\u001b[0;34m,\u001b[0m \u001b[0moutput_file\u001b[0m\u001b[0;34m=\u001b[0m\u001b[0;34m\"Alberta_Test_Competition_Type_Log.csv\"\u001b[0m\u001b[0;34m,\u001b[0m \u001b[0mparameter\u001b[0m\u001b[0;34m=\u001b[0m\u001b[0;34m'Competition type'\u001b[0m\u001b[0;34m)\u001b[0m\u001b[0;34m\u001b[0m\u001b[0;34m\u001b[0m\u001b[0m\n\u001b[0m",
      "\u001b[0;31mTypeError\u001b[0m: log_model() got an unexpected keyword argument 'parameter'"
     ]
    }
   ],
   "source": [
    "# Example\n",
    "# return parameter:Competition Type\n",
    "pyCIMS.log_model(model=model, output_file=\"Alberta_Test_Competition_Type_Log.csv\", parameter='Competition type')"
   ]
  },
  {
   "cell_type": "code",
   "execution_count": 19,
   "metadata": {},
   "outputs": [],
   "source": [
    "??pyCIMS.log_model"
   ]
  },
  {
   "cell_type": "code",
   "execution_count": null,
   "metadata": {},
   "outputs": [],
   "source": [
    "# Example\n",
    "# return parameter:Capital cost_overnight\n",
    "log_model(model=model, output_file=\"Alberta_Test_Capital_Cost_Overnight_Log.csv\", parameter='Capital cost_overnight')"
   ]
  },
  {
   "cell_type": "code",
   "execution_count": null,
   "metadata": {},
   "outputs": [],
   "source": [
    "# Example\n",
    "# return parameter: Life Cycle Cost\n",
    "log_model(model=model, output_file=\"Alberta_Test_Life_Cycle_Cost_Log.csv\", parameter='Life Cycle Cost')"
   ]
  },
  {
   "cell_type": "code",
   "execution_count": null,
   "metadata": {},
   "outputs": [],
   "source": [
    "# Example\n",
    "# return parameter: Service requested\n",
    "log_model(model=model, output_file=\"Alberta_Test_Service_Requested_Log.csv\", parameter='Service requested')"
   ]
  },
  {
   "cell_type": "code",
   "execution_count": null,
   "metadata": {},
   "outputs": [],
   "source": [
    "# Example\n",
    "# return parameter: new_market_share\n",
    "log_model(model=model, output_file=\"Alberta_Test_New_Market_Share_Log.csv\", parameter='new_market_share')"
   ]
  }
 ],
 "metadata": {
  "kernelspec": {
   "display_name": "Python 3",
   "language": "python",
   "name": "python3"
  },
  "language_info": {
   "codemirror_mode": {
    "name": "ipython",
    "version": 3
   },
   "file_extension": ".py",
   "mimetype": "text/x-python",
   "name": "python",
   "nbconvert_exporter": "python",
   "pygments_lexer": "ipython3",
   "version": "3.9.0"
  }
 },
 "nbformat": 4,
 "nbformat_minor": 4
}
