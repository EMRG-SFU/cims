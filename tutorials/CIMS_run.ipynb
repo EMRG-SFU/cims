{
 "cells": [
  {
   "cell_type": "code",
   "execution_count": null,
   "outputs": [],
   "source": [
    "### Validate model ###\n",
    "\n",
    "import CIMS\n",
    "import pickle\n",
    "from datetime import datetime\n",
    "\n",
    "# Validator\n",
    "time_start = datetime.now()\n",
    "\n",
    "base_file = '../Model/CIMS_base model.xlsb'\n",
    "\n",
    "model_validator = CIMS.ModelValidator(infile=base_file,\n",
    "                    sheet_map = {'model': 'RunSheets',\n",
    "                                'default_param': 'Default values'},\n",
    "                    node_col='Node')\n",
    "model_validator.validate(verbose=True, raise_warnings=False)\n",
    "\n",
    "time_end = datetime.now()\n",
    "print(\"Validator: \", time_end - time_start)\n",
    "print(\"\\n\")\n"
   ],
   "metadata": {
    "collapsed": false
   }
  },
  {
   "cell_type": "code",
   "execution_count": null,
   "outputs": [],
   "source": [
    "model_validator.warnings['nodes_without_capital_cost']"
   ],
   "metadata": {
    "collapsed": false
   }
  },
  {
   "cell_type": "code",
   "execution_count": 1,
   "outputs": [
    {
     "name": "stderr",
     "output_type": "stream",
     "text": [
      "P:\\xCIMS\\cims\\CIMS\\graph_utils.py:258: UserWarning: Found a Loop -- \n",
      "  warnings.warn(\"Found a Loop -- \")\n"
     ]
    },
    {
     "name": "stdout",
     "output_type": "stream",
     "text": [
      "Warning: CIMS not included in ../Model/CIMS_region in simulation.xlsb. Sheet was not imported into model.\n",
      "Warning: CAN not included in ../Model/CIMS_region in simulation.xlsb. Sheet was not imported into model.\n"
     ]
    },
    {
     "name": "stderr",
     "output_type": "stream",
     "text": [
      "P:\\xCIMS\\cims\\CIMS\\graph_utils.py:258: UserWarning: Found a Loop -- \n",
      "  warnings.warn(\"Found a Loop -- \")\n"
     ]
    },
    {
     "name": "stdout",
     "output_type": "stream",
     "text": [
      "Base model:  0:00:10.692594\n",
      "\n",
      "\n",
      "***** ***** year: 2000 ***** *****\n",
      "iter 1\n"
     ]
    },
    {
     "name": "stderr",
     "output_type": "stream",
     "text": [
      "P:\\xCIMS\\cims\\CIMS\\graph_utils.py:314: UserWarning: Found a Loop\n",
      "  warnings.warn(\"Found a Loop\")\n"
     ]
    },
    {
     "name": "stdout",
     "output_type": "stream",
     "text": [
      "***** ***** year: 2005 ***** *****\n",
      "iter 1\n",
      "iter 2\n",
      "iter 3\n",
      "iter 4\n",
      "***** ***** year: 2010 ***** *****\n",
      "iter 1\n",
      "iter 2\n",
      "iter 3\n",
      "iter 4\n",
      "iter 5\n",
      "iter 6\n",
      "iter 7\n",
      "Simulation time:  0:00:20.317965\n",
      "\n",
      "\n"
     ]
    },
    {
     "name": "stderr",
     "output_type": "stream",
     "text": [
      "P:\\xCIMS\\cims\\CIMS\\logging.py:426: UserWarning: parameter financial life cycle cost does not exist\n",
      "  warnings.warn(message)\n"
     ]
    },
    {
     "name": "stdout",
     "output_type": "stream",
     "text": [
      "Total run time:  0:00:35.197192\n",
      "\n",
      "\n"
     ]
    }
   ],
   "source": [
    "### Run model ###\n",
    "\n",
    "import CIMS\n",
    "import pickle\n",
    "from datetime import datetime\n",
    "\n",
    "time0_start = datetime.now()\n",
    "\n",
    "#################### Base model ###########################\n",
    "\n",
    "time_start = datetime.now()\n",
    "\n",
    "sheet_list = [\n",
    "    # 'RunYears',\n",
    "    'CIMS',\n",
    "    'CAN',\n",
    "    # 'BC',\n",
    "    # 'AB',\n",
    "    # 'SK',\n",
    "    # 'MB',\n",
    "    'ON',\n",
    "    # 'QC',\n",
    "    # 'AT',\n",
    "    ]\n",
    "\n",
    "year_list = [\n",
    "    ### Historical ###\n",
    "    2000,\n",
    "    2005,\n",
    "    2010,\n",
    "    2015,\n",
    "    2020,\n",
    "    ### Forecast ###\n",
    "    2025,\n",
    "    # 2030,\n",
    "    # 2035,\n",
    "    # 2040,\n",
    "    # 2045,\n",
    "    # 2050,\n",
    "]\n",
    "\n",
    "# Base model\n",
    "model_reader = CIMS.ModelReader(infile='../Model/CIMS_base model.xlsb',\n",
    "                sheet_map = {'model' : sheet_list,\n",
    "                            'default_param' : 'Default values'},\n",
    "                node_col='Node',\n",
    "                year_list = year_list)\n",
    "model = CIMS.Model(model_reader)\n",
    "\n",
    "# Region map\n",
    "model_reader = CIMS.ModelReader(infile='../Model/CIMS_region in simulation.xlsb', sheet_map={'model': sheet_list}, node_col='Node', year_list = year_list)\n",
    "model = model.update(model_reader)\n",
    "\n",
    "# # Declining capital costs\n",
    "# model_reader = CIMS.ModelReader(infile='../Model/CIMS_dcc.xlsb',\n",
    "#                   sheet_map={'model': 'RunSheets'},\n",
    "#                   node_col='Node')\n",
    "# model = model.update(model_reader)\n",
    "\n",
    "# # Calibration\n",
    "# model_reader = CIMS.ModelReader(infile='../Model/CIMS_calibration.xlsb',\n",
    "#                   sheet_map={'model': 'RunSheets'},\n",
    "#                   node_col='Node')\n",
    "# model = model.update(model_reader)\n",
    "\n",
    "time_end = datetime.now()\n",
    "print(\"Base model: \", datetime.now() - time_start)\n",
    "print(\"\\n\")\n",
    "\n",
    "#################### Base model ###########################\n",
    "\n",
    "\n",
    "#################### Reference scenario ###########################\n",
    "\n",
    "ref_policies = [\n",
    "    # 'Ref_CAN_carbon tax_OBPS.xlsb',\n",
    "    # 'Ref_ON_coal phase out.xlsb',\n",
    "    # 'Ref_CAN_ZEV.xlsb',\n",
    "    # 'Ref_ON_renewable content transport fuels.xlsb',\n",
    "    # 'Ref_ON_subsidies.xlsb',\n",
    "    # 'Ref_ON_waste methane large sites.xlsb',\n",
    "    ]\n",
    "\n",
    "if ref_policies:\n",
    "    time_start = datetime.now()\n",
    "\n",
    "    for pol in ref_policies:\n",
    "        pol_path = f\"../Model/Reference policies/{pol}\"\n",
    "        model_reader = CIMS.ModelReader(infile=pol_path, sheet_map={'model': 'RunSheets'}, node_col='Node')\n",
    "        model = model.update(model_reader)\n",
    "\n",
    "    time_end = datetime.now()\n",
    "    print(\"Reference scenario: \", datetime.now() - time_start)\n",
    "    print(\"\\n\")\n",
    "\n",
    "#################### Reference model ###########################\n",
    "\n",
    "\n",
    "# Run model\n",
    "time_start = datetime.now()\n",
    "model.run(equilibrium_threshold=0.05, max_iterations=10, show_warnings=False, print_eq=False)\n",
    "time_end = datetime.now()\n",
    "print(\"Simulation time: \", time_end - time_start)\n",
    "print(\"\\n\")\n",
    "\n",
    "# Results\n",
    "CIMS.log_model(model=model,\n",
    "                output_file = 'results/results_general.csv',\n",
    "                path = 'results/results_general.txt')\n",
    "\n",
    "# CIMS.log_model(model=model,\n",
    "#                   output_file='results/results_DCC_stock.csv',\n",
    "#                   path='results/results_DCC_stock.txt')\n",
    "#\n",
    "# CIMS.log_model(model=model,\n",
    "#                   output_file='results/results_DCC.csv',\n",
    "#                   path='results/results_DCC.txt')\n",
    "\n",
    "\n",
    "time0_end = datetime.now()\n",
    "print(\"Total run time: \", time0_end - time0_start)\n",
    "print(\"\\n\")"
   ],
   "metadata": {
    "collapsed": false,
    "ExecuteTime": {
     "end_time": "2023-10-24T23:16:57.604987700Z",
     "start_time": "2023-10-24T23:16:20.355297100Z"
    }
   }
  }
 ],
 "metadata": {
  "kernelspec": {
   "display_name": "Python 3 (ipykernel)",
   "language": "python",
   "name": "python3"
  },
  "language_info": {
   "codemirror_mode": {
    "name": "ipython",
    "version": 3
   },
   "file_extension": ".py",
   "mimetype": "text/x-python",
   "name": "python",
   "nbconvert_exporter": "python",
   "pygments_lexer": "ipython3",
   "version": "3.11.5"
  }
 },
 "nbformat": 4,
 "nbformat_minor": 4
}
