{
 "cells": [
  {
   "cell_type": "markdown",
   "metadata": {},
   "source": [
    "# Overview\n",
    "This notebook serves as a brief example of how to make changes to the model through script. There are four functions we will be using:\n",
    "1. get_param function: returns the parameter's value, given a specific context (node, year, technology, and sub-parameter)\n",
    "2. set_param function: sets a parameter's values, given a specific context (node, year, technology, and sub-parameter)\n",
    "3. set_param_wildcard function: sets a parameter's value, for all contexts (node, year, technology, and sub-parameter) where the node satisfies/matches a specified pattern\n",
    "4. set_param_log: saves the changes made to the model into a CSV file"
   ]
  },
  {
   "cell_type": "markdown",
   "metadata": {},
   "source": [
    "# Build the model\n",
    "We need to first have the model ready before using the function. All steps of building the model are the same as indicated in the Quickstart notebook. We do not run the model yet as we need to make the changes beforehand."
   ]
  },
  {
   "cell_type": "code",
   "execution_count": null,
   "metadata": {
    "scrolled": true
   },
   "outputs": [],
   "source": [
    "import pyCIMS\n",
    "import pprint as pp\n",
    "\n",
    "# description file\n",
    "model_description_file = '../../model_descriptions/pyCIMS_model_description_ALL_value.xlsb'\n",
    "\n",
    "# model validator\n",
    "model_validator = pyCIMS.ModelValidator(model_description_file, \n",
    "                                        sheet_map={'model': 'Lists',\n",
    "                                                   'default_tech': 'Technology_Node templates'},\n",
    "                                        node_col='Node')\n",
    "model_validator.validate(verbose=True, raise_warnings=False)\n",
    "\n",
    "# Model Reader\n",
    "model_reader = pyCIMS.ModelReader(infile=model_description_file,\n",
    "                                  sheet_map={'model': 'Lists', \n",
    "                                             'default_tech': 'Technology_Node templates'},\n",
    "                                  node_col='Node')\n",
    "\n",
    "# Model\n",
    "model = pyCIMS.Model(model_reader)"
   ]
  },
  {
   "cell_type": "markdown",
   "metadata": {},
   "source": [
    "This function is defined mainly for formatting purposes for this notebook:"
   ]
  },
  {
   "cell_type": "code",
   "execution_count": null,
   "metadata": {
    "scrolled": true
   },
   "outputs": [],
   "source": [
    "def print_formatted(prev_value, curr_value, param, node, year=None, tech=None, sub_param=None):\n",
    "    dash = '-' * 50\n",
    "    print('Parameter: ' + param)\n",
    "    print('Node: ' + node)\n",
    "    if year:\n",
    "        print('Year: ' + year)\n",
    "    if tech:\n",
    "        print('Tech: ' + tech)\n",
    "    if sub_param:\n",
    "        print('Sub-parameter: ' + sub_param)\n",
    "    print(dash)\n",
    "    print(\"Previous value: \" + str(prev_value))\n",
    "    print(\"New value: \" + str(curr_value))\n",
    "    print('\\n')"
   ]
  },
  {
   "cell_type": "markdown",
   "metadata": {},
   "source": [
    "# 1. The get_param function\n",
    "\n",
    "<div class=\"alert alert-block alert-success\">\n",
    "<b></b> The function has 5 arguments : param, node, year, tech, sub_param.\n",
    "</div>\n",
    "\n",
    "This function is under the `model` class and has 2 required arguments:\n",
    "* param : the name of the parameter whose value is to be set\n",
    "* node : the name of the node whose parameter you are interested in\n",
    "\n",
    "There are also 3 optional arguments:\n",
    "* year : The year which you are interested in. The default value set to None.\n",
    "* tech : The name of the tecnology you are interested in. The default value set to None.\n",
    "* sub_param : The sub-parameter you are interested in (used to specify a nested key). The default value set to None.\n",
    "\n",
    "### Example Usages"
   ]
  },
  {
   "cell_type": "markdown",
   "metadata": {},
   "source": [
    "1. Get the Market share value in year \"2000\" for the Incandescent technology at the node pyCIMS.Canada.Alberta.Residential.Buildings.Floorspace.Lighting"
   ]
  },
  {
   "cell_type": "code",
   "execution_count": null,
   "metadata": {
    "scrolled": true
   },
   "outputs": [],
   "source": [
    "#Set parameters\n",
    "param = 'Market share'\n",
    "node = 'pyCIMS.Canada.Alberta.Residential.Buildings.Floorspace.Lighting'\n",
    "year = '2000'\n",
    "tech = 'Incandescent'\n",
    "\n",
    "model.get_param(param=param, node=node, year=year, tech=tech)"
   ]
  },
  {
   "cell_type": "markdown",
   "metadata": {},
   "source": [
    "2. Get the Service requested value in the year \"2010\" for the sub-parameter Old Truck at the node pyCIMS.Canada.Alberta.Transportation Personal.Passenger Vehicles.Existing"
   ]
  },
  {
   "cell_type": "code",
   "execution_count": null,
   "metadata": {
    "scrolled": true
   },
   "outputs": [],
   "source": [
    "#Set parameters\n",
    "param = 'Service requested'\n",
    "node = 'pyCIMS.Canada.Alberta.Transportation Personal.Passenger Vehicles.Existing'\n",
    "year = '2010'\n",
    "sub_param = 'Old Truck'\n",
    "\n",
    "model.get_param(param=param, node=node, year=year, sub_param=sub_param)"
   ]
  },
  {
   "cell_type": "markdown",
   "metadata": {},
   "source": [
    "# 2. The set_param function\n",
    "\n",
    "<div class=\"alert alert-block alert-success\">\n",
    "<b></b> The function has 7 arguments : val, param, node, year, tech, sub_param, save.\n",
    "</div>\n",
    "\n",
    "This function is under the `model` class and has 3 required arguments:\n",
    "* val : the new value to be set\n",
    "* param : the name of the parameter whose value is to be set\n",
    "* node : the name of the node whose parameter you are interested in\n",
    "\n",
    "There are also 4 optional arguments:\n",
    "* year : The year which you are interested in. The default value set to None.\n",
    "* tech : The name of the tecnology you are interested in. The default value set to None.\n",
    "* sub_param : The sub-parameter you are interested in (used to specify a nested key). The default value set to None.\n",
    "* save : A boolean value that specifies whether you want the change to be recorded in a change log CSV file. The default value set to True.\n",
    "\n",
    "Note: In the case that you want to set a range of values for a range of years, you can pass a list of new values into `val` and a list of corresponding years into `year`. These two lists would need to be of the same length.\n",
    "\n",
    "### Example Usages"
   ]
  },
  {
   "cell_type": "markdown",
   "metadata": {},
   "source": [
    "1. At node pyCIMS.Canada.Alberta.Residential.Buildings.Floorspace.Lighting update the Market share in year \"2000\" for the Incandescent & CFL technologies to 0.8 and 0.2, respectively."
   ]
  },
  {
   "cell_type": "code",
   "execution_count": null,
   "metadata": {
    "scrolled": true
   },
   "outputs": [],
   "source": [
    "#Set parameters\n",
    "param = 'Market share'\n",
    "node = 'pyCIMS.Canada.Alberta.Residential.Buildings.Floorspace.Lighting'\n",
    "year = '2000'\n",
    "tech = 'Incandescent'\n",
    "val = 0.8\n",
    "\n",
    "#Get the original value for printing purposes\n",
    "prev_value = model.get_param(param=param, node=node, year=year, tech=tech)\n",
    "\n",
    "#Change the value\n",
    "model.set_param(val=val, param=param, node=node, year=year, tech=tech)\n",
    "\n",
    "#Print the results\n",
    "curr_value = model.get_param(param=param, node=node, year=year, tech=tech)\n",
    "print_formatted(prev_value=prev_value, curr_value=curr_value, param=param, node=node, year=year, tech=tech)"
   ]
  },
  {
   "cell_type": "code",
   "execution_count": null,
   "metadata": {
    "scrolled": true
   },
   "outputs": [],
   "source": [
    "#Set parameters\n",
    "param = 'Market share'\n",
    "node = 'pyCIMS.Canada.Alberta.Residential.Buildings.Floorspace.Lighting'\n",
    "year = '2000'\n",
    "tech = 'CFL'\n",
    "val = 0.2\n",
    "\n",
    "#Get the original value for printing purposes\n",
    "prev_value = model.get_param(param=param, node=node, year=year, tech=tech)\n",
    "\n",
    "#Change the value\n",
    "model.set_param(val=val, param=param, node=node, year=year, tech=tech)\n",
    "\n",
    "#Print the results\n",
    "curr_value = model.get_param(param=param, node=node, year=year, tech=tech)\n",
    "print_formatted(prev_value=prev_value, curr_value=curr_value, param=param, node=node, year=year, tech=tech)"
   ]
  },
  {
   "cell_type": "markdown",
   "metadata": {},
   "source": [
    "2. At node pyCIMS.Canada.Alberta.Transportation Personal.Passenger Vehicles.Existing update the Service requested value in all years for the Recent Car and Old Truck technologies to 0.7 and 0.3, respectively."
   ]
  },
  {
   "cell_type": "code",
   "execution_count": null,
   "metadata": {
    "scrolled": true
   },
   "outputs": [],
   "source": [
    "#Set parameters\n",
    "param = 'Service requested'\n",
    "node = 'pyCIMS.Canada.Alberta.Transportation Personal.Passenger Vehicles.Existing'\n",
    "years = model.years\n",
    "sub_param = 'Recent Car'\n",
    "new_values = [0.7]*len(years)\n",
    "\n",
    "#Get the original value(s) for printing purposes\n",
    "prev_vals = []\n",
    "for year in years:\n",
    "    prev_vals.append(model.get_param(param=param, node=node, year=year, sub_param=sub_param))\n",
    "\n",
    "#Value(s) are changed\n",
    "model.set_param(val=new_values, param=param, node=node, year=years, sub_param=sub_param)\n",
    "\n",
    "#Print the results\n",
    "for i, year in enumerate(years):\n",
    "    curr_value = model.get_param(param=param, node=node, year=year, sub_param=sub_param)\n",
    "    print_formatted(prev_value=prev_vals[i], curr_value=curr_value, param=param, node=node, year=year, sub_param=sub_param)"
   ]
  },
  {
   "cell_type": "code",
   "execution_count": null,
   "metadata": {
    "scrolled": true
   },
   "outputs": [],
   "source": [
    "#Set parameters\n",
    "param = 'Service requested'\n",
    "node = 'pyCIMS.Canada.Alberta.Transportation Personal.Passenger Vehicles.Existing'\n",
    "years = model.years\n",
    "sub_param = 'Old Truck'\n",
    "new_values = [0.3]*len(years)\n",
    "\n",
    "#Get the original value(s) for printing purposes\n",
    "prev_vals = []\n",
    "for year in years:\n",
    "    prev_vals.append(model.get_param(param=param, node=node, year=year, sub_param=sub_param))\n",
    "\n",
    "#Value(s) are changed\n",
    "model.set_param(val=new_values, param=param, node=node, year=years, sub_param=sub_param)\n",
    "\n",
    "#Print the results\n",
    "for i, year in enumerate(years):\n",
    "    curr_value = model.get_param(param=param, node=node, year=year, sub_param=sub_param)\n",
    "    print_formatted(prev_value=prev_vals[i], curr_value=curr_value, param=param, node=node, year=year, sub_param=sub_param)"
   ]
  },
  {
   "cell_type": "markdown",
   "metadata": {},
   "source": [
    "3. Set Price Multiplier values in all years for all sector nodes (competition type == Sector or Sector No Tech) to 3.0\n",
    "\n",
    "Note: We put a try and except block since the nodes we are searching may not have the Price Multiplier parameter and we would like to skip these nodes"
   ]
  },
  {
   "cell_type": "code",
   "execution_count": null,
   "metadata": {
    "scrolled": true
   },
   "outputs": [],
   "source": [
    "#Set parameters\n",
    "param = 'Price Multiplier'\n",
    "new_value = 3.0\n",
    "\n",
    "for node in model.graph.nodes:\n",
    "    #Check if the node's competition type is either 'sector' or 'sector no tech '\n",
    "    if model.get_param('competition type', node) in ['sector', 'sector no tech']:\n",
    "        for year in model.years:\n",
    "            try:\n",
    "                #Retrieve all possible sub-parameters under Price Multiplier for the specified node and year\n",
    "                sub_params = list(model.get_param(param=param, node=node, year=year).keys())\n",
    "            except: \n",
    "                continue\n",
    "            for sub_param in sub_params:\n",
    "                #Get the original value(s) for printing purposes\n",
    "                prev_val = model.get_param(param=param, node=node, year=year, sub_param=sub_param)\n",
    "\n",
    "                #Value(s) are changed\n",
    "                model.set_param(val=new_value, param=param, node=node, year=year, sub_param=sub_param)\n",
    "\n",
    "                #Print the results\n",
    "                curr_val = model.get_param(param=param, node=node, year=year, sub_param=sub_param)\n",
    "                print_formatted(prev_value=prev_val, curr_value=curr_val, param=param, node=node, year=year, sub_param=sub_param)\n",
    "            "
   ]
  },
  {
   "cell_type": "markdown",
   "metadata": {},
   "source": [
    "# 3. The set_param_wildcard function\n",
    "\n",
    "<div class=\"alert alert-block alert-success\">\n",
    "<b></b> The function has 7 arguments : val, param, node_regex, year, tech, sub_param, save.\n",
    "</div>\n",
    "\n",
    "This function is under the `model` class and has 3 required arguments:\n",
    "* val : the new value to be set\n",
    "* param : the name of the parameter whose value is to be set\n",
    "* node_regex : the regex pattern of the node (branch format) whose parameter you are interested in matching.\n",
    "\n",
    "There are also 4 optional arguments:\n",
    "* year : The year which you are interested in. The default value set to None.\n",
    "* tech : The name of the tecnology you are interested in. The default value set to None.\n",
    "* sub_param : The sub-parameter you are interested in (used to specify a nested key). The default value set to None.\n",
    "* save : A boolean value that specifies whether you want the change to be recorded in a change log CSV file. The default value set to True.\n",
    "\n",
    "Note: In the case that you want to set a range of values for a range of years, you can pass a list of new values into `val` and a list of corresponding years into `year`. These two lists would need to be of the same length.\n",
    "\n",
    "### Regex\n",
    "Regex is short for regular expression and is a sequence of characters that specifies a search pattern. There are many resources online (https://www.rexegg.com/regex-quickstart.html) to learn more about writing Regex expressions but here are some basic ideas we will be using in the following examples:\n",
    "1. Characters:\n",
    "    1. `.` represents any character (except line break)\n",
    "    2. `\\` escapes a special character. For example, `.` means any character but `\\.` means a period. \n",
    "2. Quantifiers:\n",
    "    1. `*` means zero or more times\n",
    "    2. `+` means one or more times\n",
    "3. Anchors and Boundaries:\n",
    "    1. `^` means the start of a string\n",
    "    2. `$` means the end of the string\n",
    "    \n",
    "You can use https://regex101.com/ to check whether your regex expression is working as expected\n",
    "\n",
    "### Example Regex Expressions"
   ]
  },
  {
   "cell_type": "markdown",
   "metadata": {},
   "source": [
    "#### Example 1\n",
    "Match any string that ends with 'Pumping.Precision.Small' (e.g. pyCIMS.Canada.Alberta.Coal Mining.Pumping.Precision.Small, pyCIMS.Canada.Alberta.Pulp  Paper.Pumping.Precision.Small etc)\n",
    "\n",
    "Let's look at how to build the corresponding Regex expression. \n",
    "\n",
    "We want to be able to search for all node names that end with the string 'Pumping.Precision.Small'. In Regex, since `.` is a special character representing any character, we will write the string as `'Pumping\\.Precision\\.Small'`, where `\\.` represents a period. \n",
    "\n",
    "We want to look for node names that end with this string so we will add `.*` to the front of the string and `$` to the end. `.*` specifies that we can have zero or more of any character before the string and `$` specifies that there should be nothing after this string.\n",
    "\n",
    "The final resulting Regex expression is `'.*Pumping\\.Precision\\.Small$'`"
   ]
  },
  {
   "cell_type": "markdown",
   "metadata": {},
   "source": [
    "#### Example 2\n",
    "Match any string that starts with 'pyCIMS.Canada.Alberta.Residential.Buildings.Floorspace.' (e.g. pyCIMS.Canada.Alberta.Residential.Buildings.Floorspace.Solar Electricity, pyCIMS.Canada.Alberta.Residential.Buildings.Floorspace.Space Conditioning.Apartments etc)\n",
    "\n",
    "Let's look at how to build the corresponding Regex expression. \n",
    "\n",
    "We want to be able to search for all node names that start with the string 'pyCIMS.Canada.Alberta.Residential.Buildings.Floorspace.'. As before, we will begin with the string as `'pyCIMS\\.Canada\\.Alberta\\.Residential\\.Buildings\\.Floorspace\\.'` where `\\.` represents a period. \n",
    "\n",
    "We want to look for nodes names that start with this string so we will add `^` to the start and `.*` to the end of the string. `^` specifies that there should be nothing before this string and `.*` specifies that we can have zero or more of any character after the string.\n",
    "\n",
    "The final resulting Regex expression is `'^pyCIMS\\.Canada\\.Alberta\\.Residential\\.Buildings\\.Floorspace\\..*'`"
   ]
  },
  {
   "cell_type": "markdown",
   "metadata": {},
   "source": [
    "#### Example 3\n",
    "Match any string that has '.Residential.Buildings.Floorspace.' anywhere in the string except at the very front or very end of the string (e.g. pyCIMS.Canada.Alberta.Residential.Buildings.Floorspace.Lighting, pyCIMS.Canada.Alberta.Residential.Buildings.Floorspace.Space Conditioning.Single Family Attached etc)\n",
    "\n",
    "Let's look at how to build the corresponding Regex expression. \n",
    "\n",
    "We want to be able to search for all node names that contain the string '.Residential.Buildings.Floorspace.'. As before, we will begin with the string as `'\\.Residential\\.Buildings\\.Floorspace\\.'` where `\\.` represents a period. \n",
    "\n",
    "We want to look for nodes names that contains this string. We will add `.+` to the front and back of the string where `.+` represents one or more of any character.\n",
    "\n",
    "The final resulting Regex expression is `'.+\\.Residential\\.Buildings\\.Floorspace\\..+'`"
   ]
  },
  {
   "cell_type": "markdown",
   "metadata": {},
   "source": [
    "### Example set_param_wildcard Usages"
   ]
  },
  {
   "cell_type": "markdown",
   "metadata": {},
   "source": [
    "1. For all nodes where their branches match the form *Pumping.Precision.Small (e.g. pyCIMS.Canada.Alberta.Coal Mining.Pumping.Precision.Small, pyCIMS.Canada.Alberta.Pulp  Paper.Pumping.Precision.Small, pyCIMS.Canada.Alberta.Chemical Products.Pumping.Precision.Small, etc) change the value of Heterogeneity (across all years) to 0.6.\n",
    "\n",
    "Note: We put a try and except block around the get_param functions since the nodes we are searching may not have a Heterogeneity parameter and we would like to skip these nodes when printing the results."
   ]
  },
  {
   "cell_type": "code",
   "execution_count": null,
   "metadata": {
    "scrolled": false
   },
   "outputs": [],
   "source": [
    "#Import the Python Regex library\n",
    "import re\n",
    "\n",
    "#Set parameters\n",
    "param = 'Heterogeneity'\n",
    "years = model.years\n",
    "vals = [0.6]*len(years)\n",
    "node_regex = '.*Pumping\\.Precision\\.Small$'\n",
    "\n",
    "#Get the original value(s) just for printing purposes\n",
    "prev_vals = []\n",
    "for node in model.graph.nodes:\n",
    "    if re.search(node_regex, node) != None:\n",
    "        for year in model.years:\n",
    "            try:\n",
    "                prev_vals.append(model.get_param(param=param, node=node, year=year))\n",
    "            except:\n",
    "                continue\n",
    "\n",
    "# Value(s) are changed\n",
    "model.set_param_wildcard(val=vals, param=param, node_regex=node_regex, year=years)\n",
    "\n",
    "#Print the results\n",
    "i = 0\n",
    "for node in model.graph.nodes:\n",
    "    if re.search(node_regex, node) != None:\n",
    "        for year in model.years:\n",
    "            try:\n",
    "                curr_value = model.get_param(param=param, node=node, year=year)\n",
    "            except:\n",
    "                continue\n",
    "            print_formatted(prev_value=prev_vals[i], curr_value=curr_value, param=param, node=node, year=year)\n",
    "            i += 1"
   ]
  },
  {
   "cell_type": "markdown",
   "metadata": {},
   "source": [
    "2. For all nodes where their branches match the form pyCIMS.Canada.Alberta.Residential.Buildings.Floorspace.* (e.g. pyCIMS.Canada.Alberta.Residential.Buildings.Floorspace.Solar Electricity, pyCIMS.Canada.Alberta.Residential.Buildings.Floorspace.Space Conditioning.Apartments etc) change the Service Requested for Lighting in 2000 to 1.3\n",
    "\n",
    "Note: We put a try and except block around the get_param functions since the nodes we are searching may not have a Heterogeneity parameter and we would like to skip these nodes when printing the results."
   ]
  },
  {
   "cell_type": "code",
   "execution_count": null,
   "metadata": {},
   "outputs": [],
   "source": [
    "#Import the Python Regex library\n",
    "import re\n",
    "\n",
    "#Set parameters\n",
    "param = 'Heterogeneity'\n",
    "year = '2000'\n",
    "vals = 1.3\n",
    "node_regex = '^pyCIMS\\.Canada\\.Alberta\\.Residential\\.Buildings\\.Floorspace\\..*'\n",
    "\n",
    "#Get the original value(s) just for printing purposes\n",
    "prev_vals = []\n",
    "for node in model.graph.nodes:\n",
    "    if re.search(node_regex, node) != None:\n",
    "        try:\n",
    "            prev_vals.append(model.get_param(param=param, node=node, year=year))\n",
    "        except:\n",
    "            continue\n",
    "\n",
    "#Value(s) are changed\n",
    "model.set_param_wildcard(val=vals, param=param, node_regex=node_regex, year=year)\n",
    "\n",
    "#Print the results\n",
    "i = 0\n",
    "for node in model.graph.nodes:\n",
    "    if re.search(node_regex, node) != None:\n",
    "        try:\n",
    "            curr_value = model.get_param(param=param, node=node, year=year)\n",
    "        except:\n",
    "            continue\n",
    "        print_formatted(prev_value=prev_vals[i], curr_value=curr_value, param=param, node=node, year=year)\n",
    "        i += 1"
   ]
  },
  {
   "cell_type": "markdown",
   "metadata": {},
   "source": [
    "3. For all nodes where their branches match the form \\*.Residential.Buildings.Floorspace.* (e.g. pyCIMS.Canada.Alberta.Residential.Buildings.Floorspace.Lighting, pyCIMS.Canada.Alberta.Residential.Buildings.Floorspace.Space Conditioning.Single Family Attached etc) change the Price Multiplier for Gasoline in '2010' to 1.2\n",
    "\n",
    "Note: We put a try and except block around the get_param functions since the nodes we are searching may not have a Heterogeneity parameter and we would like to skip these nodes when printing the results."
   ]
  },
  {
   "cell_type": "code",
   "execution_count": null,
   "metadata": {
    "scrolled": true
   },
   "outputs": [],
   "source": [
    "#Import the Python Regex library\n",
    "import re\n",
    "\n",
    "#Set parameters\n",
    "param = 'Heterogeneity'\n",
    "year = '2010'\n",
    "val = 1.2\n",
    "node_regex = '.+\\.Residential\\.Buildings\\.Floorspace\\..+'\n",
    "\n",
    "#Get the original value(s) just for printing purposes\n",
    "prev_vals = []\n",
    "for node in model.graph.nodes:\n",
    "    if re.search(node_regex, node) != None:\n",
    "        try:\n",
    "            prev_vals.append(model.get_param(param=param, node=node, year=year))\n",
    "        except Exception as e:\n",
    "            continue\n",
    "\n",
    "#Value(s) are changed\n",
    "model.set_param_wildcard(val=val, param=param, node_regex=node_regex, year=year)\n",
    "\n",
    "#Print the results\n",
    "i = 0\n",
    "for node in model.graph.nodes:\n",
    "    if re.search(node_regex, node) != None:\n",
    "        try:\n",
    "            curr_value = model.get_param(param=param, node=node, year=year)\n",
    "            print_formatted(prev_value=prev_vals[i], curr_value=curr_value, param=param, node=node, year=year)\n",
    "            i += 1\n",
    "        except:\n",
    "            continue"
   ]
  },
  {
   "cell_type": "markdown",
   "metadata": {},
   "source": [
    "# Run the Model\n",
    "We can now run the model training after all the changes have been applied."
   ]
  },
  {
   "cell_type": "code",
   "execution_count": null,
   "metadata": {
    "scrolled": false
   },
   "outputs": [],
   "source": [
    "# run the model \n",
    "model.run(max_iterations=5, show_warnings=False)"
   ]
  },
  {
   "cell_type": "markdown",
   "metadata": {},
   "source": [
    "# 4. The set_param_log function\n",
    "\n",
    "<div class=\"alert alert-block alert-success\">\n",
    "<b></b> The function has 1 arguments : output_file.\n",
    "</div>\n",
    "\n",
    "This function is under the `model` class and only has 1 optional argument:\n",
    "* output_file : the output file location where the change history CSV will be saved. If this is left blank, the file will be outputed at the current location with the name of the original model description and a timestamp in the filename.\n",
    "\n",
    "### Example Usages"
   ]
  },
  {
   "cell_type": "code",
   "execution_count": null,
   "metadata": {
    "scrolled": true
   },
   "outputs": [],
   "source": [
    "#file is saved to ./change_log.csv\n",
    "model.set_param_log(output_file='./change_log.csv') "
   ]
  },
  {
   "cell_type": "code",
   "execution_count": null,
   "metadata": {
    "scrolled": true
   },
   "outputs": [],
   "source": [
    "#default saved to change_log_<model_description_file>_<timestamp>.csv\n",
    "#model.set_param_log() "
   ]
  },
  {
   "cell_type": "markdown",
   "metadata": {},
   "source": [
    "# Saving and loading model\n",
    "In order to save the model for later use, you can use the `save_model` function and `load_model` functions.\n",
    "\n",
    "The `save_model` function is under the `model` class and has 2 optional arguments:\n",
    "* model_file : The model file location where the model file will be saved. If this is left blank, the model will be saved at the current location with the name of the original model description and a timestamp in the filename.\n",
    "* save_changes : a boolean value that specifies whether the changes will be saved to a CSV file with a similar filename as the model_file"
   ]
  },
  {
   "cell_type": "code",
   "execution_count": null,
   "metadata": {
    "scrolled": true
   },
   "outputs": [],
   "source": [
    "#file is saved to ./model_file_test.pkl and log of changes were not written to CSV \n",
    "model.save_model(model_file='model_file_test.pkl', save_changes=False) "
   ]
  },
  {
   "cell_type": "code",
   "execution_count": null,
   "metadata": {
    "scrolled": true
   },
   "outputs": [],
   "source": [
    "#default saved to model_<model_description_file>_<timestamp>.pkl and log of changes were written to CSV\n",
    "# model.save_model() "
   ]
  },
  {
   "cell_type": "markdown",
   "metadata": {},
   "source": [
    "The `load_model` function is under the `pyCIMS` class and has 1 required arguments:\n",
    "* model_file : The model file location where the model file is saved."
   ]
  },
  {
   "cell_type": "code",
   "execution_count": null,
   "metadata": {
    "scrolled": true
   },
   "outputs": [],
   "source": [
    "model = pyCIMS.load_model(model_file='model_file_test.pkl')"
   ]
  },
  {
   "cell_type": "code",
   "execution_count": null,
   "metadata": {
    "scrolled": true
   },
   "outputs": [],
   "source": []
  }
 ],
 "metadata": {
  "kernelspec": {
   "display_name": "Python 3",
   "language": "python",
   "name": "python3"
  },
  "language_info": {
   "codemirror_mode": {
    "name": "ipython",
    "version": 3
   },
   "file_extension": ".py",
   "mimetype": "text/x-python",
   "name": "python",
   "nbconvert_exporter": "python",
   "pygments_lexer": "ipython3",
   "version": "3.8.5"
  }
 },
 "nbformat": 4,
 "nbformat_minor": 4
}
