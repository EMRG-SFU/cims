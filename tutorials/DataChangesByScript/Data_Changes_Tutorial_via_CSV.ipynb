{
 "cells": [
  {
   "cell_type": "markdown",
   "metadata": {},
   "source": [
    "# Overview\n",
    "This notebook serves as a brief example of how to make changes to the model through CSV file. We will be using the following function:\n",
    "- set_param_file function: sets parameters values, given a specific context (node, year, technology, and sub-parameter) from each row of a CSV file"
   ]
  },
  {
   "cell_type": "markdown",
   "metadata": {},
   "source": [
    "# Build the model\n",
    "We need to first have the model ready before using the function. All steps of building the model are the same as indicated in the Quickstart notebook. We do not run the model yet as we need to make the changes beforehand."
   ]
  },
  {
   "cell_type": "code",
   "execution_count": null,
   "metadata": {},
   "outputs": [],
   "source": [
    "import pyCIMS\n",
    "import pprint as pp\n",
    "\n",
    "# description file\n",
    "model_description_file = '../../model_descriptions/pyCIMS_model_description_AB_value.xlsb'\n",
    "\n",
    "# model validator\n",
    "model_validator = pyCIMS.ModelValidator(model_description_file)\n",
    "model_validator.validate(verbose=True, raise_warnings=False)\n",
    "\n",
    "# Model Reader\n",
    "model_reader = pyCIMS.ModelReader(infile=model_description_file,\n",
    "                                  sheet_map={'model': 'Model', \n",
    "                                             'default_tech': 'Technology_Node templates'},\n",
    "                                  node_col='Node')\n",
    "\n",
    "# Model\n",
    "model = pyCIMS.Model(model_reader)"
   ]
  },
  {
   "cell_type": "markdown",
   "metadata": {},
   "source": [
    "# The input file\n",
    "Let's take a look at what the input CSV file should look like. You will find an example in SetParams_script.csv:"
   ]
  },
  {
   "cell_type": "code",
   "execution_count": null,
   "metadata": {},
   "outputs": [],
   "source": [
    "import pandas as pd\n",
    "\n",
    "pd.read_csv('SetParams_script.csv', delimiter=',')"
   ]
  },
  {
   "cell_type": "markdown",
   "metadata": {},
   "source": [
    "The input CSV should contain the following columns:\n",
    "1. **`node`** : is either empty, '.*', or the name of the node whose parameter you are interested in\n",
    "    - `empty` : This indicates that the node value should not be taken from this column. The function will look at the node_regex column instead to determine which nodes to change.\n",
    "    - `.*` : This indicates that the function should look for all nodes satifying the conditions in the search_param, search_operator, search_pattern columns.\n",
    "    - `node name` : This indicates that the function should change the values corresponding to this node name.\n",
    "2. **`node_regex`** : is either empty or a regex expression\n",
    "    - `empty` : This indicates that the function should not use this node_regex column to determine which nodes to change. It will look at the node column instead. Note that if node is empty, node_regex cannot be empty. If node_regex is empty, node cannot be empty.\n",
    "    - `regex expression` : This is the regex expression the function will use to search for nodes that satisfy this pattern. See below for a quick regex tutorial.\n",
    "3. **`param`** : is the name of the parameter you are interested in. This cell cannot be empty\n",
    "4. **`tech`** : is either empty, '.*', or the name of the technology you are interested in\n",
    "    - `empty` : This indicates that there is no technology specified.\n",
    "    - `.*` : This indicates that the function should look through all possible technologies given the node, parameter, and year from the corresponding columns.\n",
    "    - `technology name` : This is the name of the technology you are interested in\n",
    "5. **`sub_param`** : is either empty, '.*', or the name of the sub-parameter you are interested in\n",
    "    - `empty` : This indicates that there is no sub-parameter specified.\n",
    "    - `.*` : This indicates that the function should look through all possible sub-parameter given the node, parameter, year, and technology (if specified) from the corresponding columns.\n",
    "    - `sub-parameter name` : This is the name of the sub-parameter you are interested in\n",
    "6. **`year_operator`** : is one of <=, <, >=, >, == and indicates the range of years you are interested in.  This cell cannot be empty.\n",
    "7. **`year`** : is an integer value indicating the year you are interested in. It is used with the `year_operator` to determine the list of years you are interested in. This cell cannot be empty.\n",
    "8. **`val_operator`** : is one of <=, >=, == and is used with the `val` column.\n",
    "    - `<=` : This indicates that the value will be changed to val if the original value is higher than val\n",
    "    - `>=` : This indicates that the value will be changed to val if the original value is less than val\n",
    "    - `==` : This indicates that the value will be changed to val\n",
    "9. **`val`** : is the new value you would like to change to. This cell cannot be empty.\n",
    "10. **`search_param`** : is the parameter name to be searched. This cell is only populated when node is .*\n",
    "11. **`search_operator`** : is the parameter operator to be applied to search_param and search_pattern. It is either empty or ==. This cell is only populated when node is .*\n",
    "12. **`search_pattern`** : is the value of the parameter specified in search_param to be searched. This cell is only populated when node is .*\n",
    "13. **`create_if_missing`** : indicates whether the parameter should be created if it does not exist yet.\n",
    "    - True : This indicates that the parameter should be created if it does not exist\n",
    "    - False : This indicates that nothing should be created. An error message will be printed. \n",
    "\n",
    "Note: the NaN values you see in the above table are empty values in the CSV"
   ]
  },
  {
   "cell_type": "markdown",
   "metadata": {},
   "source": [
    "### Regex Tutorial\n",
    "Regex is short for regular expression and is a sequence of characters that specifies a search pattern. There are many resources online (https://www.rexegg.com/regex-quickstart.html) to learn more about writing Regex expressions but here are some basic ideas we will be using in the following examples:\n",
    "1. Characters:\n",
    "    1. `.` represents any character (except line break)\n",
    "    2. `\\` escapes a special character. For example, `.` means any character but `\\.` means a period. \n",
    "2. Quantifiers:\n",
    "    1. `*` means zero or more times\n",
    "    2. `+` means one or more times\n",
    "3. Anchors and Boundaries:\n",
    "    1. `^` means the start of a string\n",
    "    2. `$` means the end of the string\n",
    "    \n",
    "You can use https://regex101.com/ to check whether your regex expression is working as expected\n",
    "\n",
    "### Example Regex Expressions"
   ]
  },
  {
   "cell_type": "markdown",
   "metadata": {},
   "source": [
    "#### Example 1\n",
    "Match any string that ends with 'Pumping.Precision.Small' (e.g. pyCIMS.Canada.Alberta.Coal Mining.Pumping.Precision.Small, pyCIMS.Canada.Alberta.Pulp  Paper.Pumping.Precision.Small etc)\n",
    "\n",
    "Let's look at how to build the corresponding Regex expression. \n",
    "\n",
    "We want to be able to search for all node names that end with the string 'Pumping.Precision.Small'. In Regex, since `.` is a special character representing any character, we will write the string as `'Pumping\\.Precision\\.Small'`, where `\\.` represents a period. \n",
    "\n",
    "We want to look for node names that end with this string so we will add `.*` to the front of the string and `$` to the end. `.*` specifies that we can have zero or more of any character before the string and `$` specifies that there should be nothing after this string.\n",
    "\n",
    "The final resulting Regex expression is `'.*Pumping\\.Precision\\.Small$'`"
   ]
  },
  {
   "cell_type": "markdown",
   "metadata": {},
   "source": [
    "#### Example 2\n",
    "Match any string that starts with 'pyCIMS.Canada.Alberta.Residential.Buildings.Floorspace.' (e.g. pyCIMS.Canada.Alberta.Residential.Buildings.Floorspace.Solar Electricity, pyCIMS.Canada.Alberta.Residential.Buildings.Floorspace.Space Conditioning.Apartments etc)\n",
    "\n",
    "Let's look at how to build the corresponding Regex expression. \n",
    "\n",
    "We want to be able to search for all node names that start with the string 'pyCIMS.Canada.Alberta.Residential.Buildings.Floorspace.'. As before, we will begin with the string as `'pyCIMS\\.Canada\\.Alberta\\.Residential\\.Buildings\\.Floorspace\\.'` where `\\.` represents a period. \n",
    "\n",
    "We want to look for nodes names that start with this string so we will add `^` to the start and `.*` to the end of the string. `^` specifies that there should be nothing before this string and `.*` specifies that we can have zero or more of any character after the string.\n",
    "\n",
    "The final resulting Regex expression is `'^pyCIMS\\.Canada\\.Alberta\\.Residential\\.Buildings\\.Floorspace\\..*'`"
   ]
  },
  {
   "cell_type": "markdown",
   "metadata": {},
   "source": [
    "#### Example 3\n",
    "Match any string that has '.Residential.Buildings.Floorspace.' anywhere in the string except at the very front or very end of the string (e.g. pyCIMS.Canada.Alberta.Residential.Buildings.Floorspace.Lighting, pyCIMS.Canada.Alberta.Residential.Buildings.Floorspace.Space Conditioning.Single Family Attached etc)\n",
    "\n",
    "Let's look at how to build the corresponding Regex expression. \n",
    "\n",
    "We want to be able to search for all node names that contain the string '.Residential.Buildings.Floorspace.'. As before, we will begin with the string as `'\\.Residential\\.Buildings\\.Floorspace\\.'` where `\\.` represents a period. \n",
    "\n",
    "We want to look for nodes names that contains this string. We will add `.+` to the front and back of the string where `.+` represents one or more of any character.\n",
    "\n",
    "The final resulting Regex expression is `'.+\\.Residential\\.Buildings\\.Floorspace\\..+'`"
   ]
  },
  {
   "cell_type": "markdown",
   "metadata": {},
   "source": [
    "# Using the set_param_file function"
   ]
  },
  {
   "cell_type": "markdown",
   "metadata": {},
   "source": [
    "<div class=\"alert alert-block alert-success\">\n",
    "<b></b> The function has 1 argument : filepath.\n",
    "</div>\n",
    "\n",
    "This function is under the `model` class and has 1 required arguments:\n",
    "* filepath : the path to the CSV file "
   ]
  },
  {
   "cell_type": "code",
   "execution_count": null,
   "metadata": {},
   "outputs": [],
   "source": [
    "model.set_param_file('SetParams_script.csv')"
   ]
  },
  {
   "cell_type": "markdown",
   "metadata": {},
   "source": [
    "You will notice that some messages may be printed such as:\n",
    "\n",
    "`Row 8: Creating parameter at (Tax, pyCIMS.Canada.Alberta.Ethanol, 2025, None, CO2).`\n",
    "\n",
    "This is printed if the value at a certain context (node, param, tech, sub-param) could not be accessed, but the create_if_missing value is set to True. The corresponding context was created and the value was set.\n",
    "\n",
    "Another message could be:\n",
    "\n",
    "`Row 10: Unable to access parameter at get_param(Heterogeneity, pyCIMS.Canada.Alberta.Residential.Buildings.Floorspace.Space Conditioning, 2000, None, None). Corresponding value was not set to 1.3.`\n",
    "\n",
    "This will be printed if the value at a certain context (node, param, tech, sub-param) could not be accessed. The create_if_missing value is set to False so nothing was created. For the above example, `pyCIMS.Canada.Alberta.Residential.Buildings.Floorspace.Space Conditioning` satisfied the node_regex conditions, but it does not have a Heterogeity parameter at year 2000."
   ]
  },
  {
   "cell_type": "code",
   "execution_count": null,
   "metadata": {},
   "outputs": [],
   "source": []
  },
  {
   "cell_type": "markdown",
   "metadata": {},
   "source": [
    "Let's double check that the parameters created for **Row 8** was actually created and set to 50.0:"
   ]
  },
  {
   "cell_type": "code",
   "execution_count": null,
   "metadata": {},
   "outputs": [],
   "source": [
    "model.get_param('Tax', 'pyCIMS.Canada.Alberta.Ethanol', '2025', None, 'CO2')"
   ]
  },
  {
   "cell_type": "markdown",
   "metadata": {},
   "source": [
    "# Run the Model\n",
    "We can now run the model training after all the changes have been applied."
   ]
  },
  {
   "cell_type": "code",
   "execution_count": null,
   "metadata": {},
   "outputs": [],
   "source": [
    "# run the model \n",
    "model.run(max_iterations=5, show_warnings=False)"
   ]
  },
  {
   "cell_type": "markdown",
   "metadata": {},
   "source": [
    "# The set_param_log function\n",
    "\n",
    "<div class=\"alert alert-block alert-success\">\n",
    "<b></b> The function has 1 arguments : output_file.\n",
    "</div>\n",
    "\n",
    "This function is under the `model` class and only has 1 optional argument:\n",
    "* output_file : the output file location where the change history CSV will be saved. If this is left blank, the file will be outputed at the current location with the name of the original model description and a timestamp in the filename.\n",
    "\n",
    "### Example Usages"
   ]
  },
  {
   "cell_type": "code",
   "execution_count": null,
   "metadata": {},
   "outputs": [],
   "source": [
    "model.set_param_log(output_file='./change_log.csv') "
   ]
  },
  {
   "cell_type": "markdown",
   "metadata": {},
   "source": [
    "Let's take a look at how this log file looks. The first column is the name of the model description used. The last two columns show the previous value of each context (node, year, tech, param, sub-param) and the new value it was changed to."
   ]
  },
  {
   "cell_type": "code",
   "execution_count": null,
   "metadata": {},
   "outputs": [],
   "source": [
    "pd.read_csv('change_log.csv').head(10)"
   ]
  },
  {
   "cell_type": "markdown",
   "metadata": {},
   "source": [
    "# Saving and loading model\n",
    "In order to save the model for later use, you can use the `save_model` function and `load_model` functions.\n",
    "\n",
    "The `save_model` function is under the `model` class and has 2 optional arguments:\n",
    "* model_file : The model file location where the model file will be saved. If this is left blank, the model will be saved at the current location with the name of the original model description and a timestamp in the filename.\n",
    "* save_changes : a boolean value that specifies whether the changes will be saved to a CSV file with a similar filename as the model_file"
   ]
  },
  {
   "cell_type": "code",
   "execution_count": null,
   "metadata": {},
   "outputs": [],
   "source": [
    "model.save_model(model_file='model_file_test.pkl', save_changes=False) "
   ]
  },
  {
   "cell_type": "code",
   "execution_count": null,
   "metadata": {},
   "outputs": [],
   "source": [
    "model = pyCIMS.load_model(model_file='model_file_test.pkl')"
   ]
  }
 ],
 "metadata": {
  "kernelspec": {
   "display_name": "Python 3",
   "language": "python",
   "name": "python3"
  },
  "language_info": {
   "codemirror_mode": {
    "name": "ipython",
    "version": 3
   },
   "file_extension": ".py",
   "mimetype": "text/x-python",
   "name": "python",
   "nbconvert_exporter": "python",
   "pygments_lexer": "ipython3",
   "version": "3.8.5"
  }
 },
 "nbformat": 4,
 "nbformat_minor": 4
}
