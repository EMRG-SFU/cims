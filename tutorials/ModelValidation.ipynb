{
 "cells": [
  {
   "cell_type": "markdown",
   "metadata": {},
   "source": [
    "## Import CIMS  & other packages"
   ]
  },
  {
   "cell_type": "markdown",
   "metadata": {
    "collapsed": false,
    "jupyter": {
     "outputs_hidden": false
    }
   },
   "source": [
    "# Model Validation Instructions\n",
    "\n",
    "This notebook serves as a more thorough introduction to CIMS model validation functionality. For this notebook to run properly, ensure:\n",
    "* CIMS is downloaded and installed on your local machine according to the [installation instructions](../../docs/Installation.md)\n",
    "* The `CIMS_env` conda environment has been activated according the [conda environment instructions](../../docs/WorkingWithCondaEnvironment.md)\n",
    "\n",
    "For a more general introduction to CIMS, please see the [Quickstart](Quickstart.ipynb) tutorial. "
   ]
  },
  {
   "cell_type": "code",
   "execution_count": null,
   "metadata": {},
   "outputs": [],
   "source": [
    "import CIMS\n",
    "import pprint as pp"
   ]
  },
  {
   "cell_type": "markdown",
   "metadata": {},
   "source": [
    "## Initialize the `ModelValidator`"
   ]
  },
  {
   "cell_type": "markdown",
   "metadata": {},
   "source": [
    "Now that `CIMS` has been imported, we can instantiate the `ModelValidator` class. To instantiate the class we must provide: \n",
    "1. **`infile`**: the location of excel file which specifies the model\n",
    "2. **`sheet_map`**: a dictionary specifying which sheets within the Excel file contain certain information. In particular, (1) the sheet specifying the  model & default paameters, and (2) the sheet containing default values. \n",
    "3. **`root_node`**: an optional parameter specifying the name of the root node. By default, is `\"CIMS\"`. \n",
    "4. **`node_col`**: an optional parameter specifying the column in the model's Excel file where node names are specified. By default, is `\"Branch\"`. \n",
    "5. **`target_col`**: an optional parameter specifying the column in the model's Excel file where target nodes are specified. By default, is `\"Target\"`."
   ]
  },
  {
   "cell_type": "code",
   "execution_count": null,
   "metadata": {},
   "outputs": [],
   "source": [
    "# Specify the location of the model file\n",
    "model_file = '../models/CIMS_base model 2.xlsb'\n",
    "\n",
    "# Create the Model Validator\n",
    "model_validator = CIMS.ModelValidator(\n",
    "    infile=model_file, \n",
    "    sheet_map={\n",
    "        'model': ['CIMS', 'CAN', 'BC'],\n",
    "        'default_param': 'Default values'},\n",
    "    node_col='Branch'\n",
    ")"
   ]
  },
  {
   "cell_type": "markdown",
   "metadata": {},
   "source": [
    "## Validate the model"
   ]
  },
  {
   "cell_type": "markdown",
   "metadata": {},
   "source": [
    "Next, using our `model_validator` we will use the `validate()` method to check for any errors in our model description. There are two optional parameters for this method:\n",
    "* **`verbose`** : Determines whether the method will use print statements to notify of any problems identified in the model description. Here, since we've specified `verbose=True` we will see these statements print. "
   ]
  },
  {
   "cell_type": "code",
   "execution_count": null,
   "metadata": {},
   "outputs": [],
   "source": [
    "model_validator.validate(verbose=True)"
   ]
  },
  {
   "cell_type": "markdown",
   "metadata": {},
   "source": [
    "## Investigate the Warnings"
   ]
  },
  {
   "cell_type": "markdown",
   "metadata": {},
   "source": [
    "Regardless of whether you use the `verbose` option in the `validate()` call, any problems identified can be accessed through the `ModelValidator.warnings` attribute."
   ]
  },
  {
   "cell_type": "code",
   "execution_count": null,
   "metadata": {},
   "outputs": [],
   "source": [
    "pp.pprint(model_validator.warnings)"
   ]
  },
  {
   "cell_type": "markdown",
   "metadata": {},
   "source": [
    "Ideally the code above returned an empty dictionary. If not, the examples below should help explain what the `warnings` dictionary might contain. \n",
    "\n",
    "First off, the `warnings` dictionary can contain up to 16 keys (as of December 2023). These 16 keys are:  \n",
    "1. [`mismatched_node_names`](#mismatch)\n",
    "2. [`unspecified_nodes`](#unspecified)\n",
    "3. [`unreferenced_nodes`](#unreferenced)\n",
    "4. [`nodes_no_provided_service`](#no_provided_services)\n",
    "5. [`nodes_no_requested_service`](#no_requested_services)\n",
    "6. [`invalid_competition_type`](#comp)\n",
    "7. [`nodes_requesting_self`](#self)\n",
    "8. [`nodes_with_zero_output`](#zero_output)\n",
    "10. [`supply_without_lcc_or_price`](#snt_lcc)\n",
    "11. [`techs_no_base_year_ms`](#no_base_year_ms)\n",
    "13. [`duplicate_req`](#dup_service_req)\n",
    "15. [`bad_service_req`](#bad_service_req)\n",
    "16. [`tech_compete_nodes_no_techs`](#tech_compete_nodes_no_techs)\n",
    "19. [`market_child_requested`](#market_child_requested)\n",
    "21. [`techs_revenue_recycling`](#techs_revenue_recycling)\n",
    "22. [`nodes_with_cop_and_p2000`](#nodes_with_cop_and_p2000)\n",
    "\n",
    "See the sections below for more information on what each of these keys mean. "
   ]
  },
  {
   "cell_type": "markdown",
   "metadata": {
    "jp-MarkdownHeadingCollapsed": true
   },
   "source": [
    "### Node Name & Node Branch Mismatch <a id=\"mismatch\"></a>"
   ]
  },
  {
   "cell_type": "markdown",
   "metadata": {},
   "source": [
    "This indicates a node where the node's name and the last element in the node's branch do not match. This is usually the result of a simple typo related to capitalization, white space, or extra characters.  \n",
    "```\n",
    "'mismatched_node_names': [(16, 'Albertas', 'Alberta'), \n",
    "                          (16, 'Space heating', 'Space Heating')]\n",
    "```\n",
    "\n",
    "Each list item indicates a mismatched node and branch name. The tuple contains (1) the row in the Excel file where the mismatch has occurred, (2) the name given to the node in the \"Node\" column, and (3) the name of the node according to the \"Service provided\" branch structure."
   ]
  },
  {
   "cell_type": "markdown",
   "metadata": {
    "jp-MarkdownHeadingCollapsed": true
   },
   "source": [
    "### Unspecified Nodes <a id=\"unspecified\"></a>"
   ]
  },
  {
   "cell_type": "markdown",
   "metadata": {},
   "source": [
    "This indicates a node which is referenced in another node's \"service requested\" row, but is not specified within the model description. This typically happens because of a typo in the \"service requested\" row's branch name. For example, in the example below, the branch name in row 49 likely should have been `CIMS.Canada.Alberta.Residential.Buildings.Shell` but an extra `s` was added. \n",
    "\n",
    "```\n",
    "'unspecified_nodes': [(49, 'CIMS.Canada.Alberta.Residential.Buildings.Shells'),\n",
    "                      (59, 'CIMS.Canada.Alberta.Residential.Buildings.Shells'),\n",
    "                      (286, 'CIMS.Canada.Alberta.Residential.Buildings.Shell.Space heating.Furnace')]\n",
    "```\n",
    "\n",
    "Each list item indicates a service being requested from a node that was never specified in the model description. The tuple contains (1) the row in the Excel file where the reference is made, and (2) the node from which a service is being requested. "
   ]
  },
  {
   "cell_type": "markdown",
   "metadata": {
    "jp-MarkdownHeadingCollapsed": true
   },
   "source": [
    "### Unreferenced Nodes <a id=\"unreferenced\"></a>"
   ]
  },
  {
   "cell_type": "markdown",
   "metadata": {},
   "source": [
    "This indicates a node which has been specified in the model description, but has not been requested by another node. This typically happens when the path to the node is incorrectly specified or contains a typo. \n",
    "\n",
    "```\n",
    "'unreferenced_nodes': [(289, 'CIMS.Canada.Alberta.Residential.Buildings.Shell.Space heating.Furnaces')]\n",
    "```\n",
    "\n",
    "Each list item indicates a node specified in the model description but not requested by another node. The tuple contains (1) the row in the Excel file where the node was specified and (2) the name of the node in branch form. "
   ]
  },
  {
   "cell_type": "markdown",
   "metadata": {
    "jp-MarkdownHeadingCollapsed": true
   },
   "source": [
    "### Nodes which don't Provide Services<a id=\"no_provided_services\"></a>"
   ]
  },
  {
   "cell_type": "markdown",
   "metadata": {},
   "source": [
    "This indicates a _non-root_ node which has been specified in the model description, but doesn't have a \"service provided\" line. \n",
    "\n",
    "```\n",
    " 'nodes_no_provided_service': [(873, 'CIMS.Canada.Alberta.Commercial')]\n",
    "\n",
    "```\n",
    "Each list item indicates a node specified in the model description which does not provide a service. The associated tuple contains (1) the row in the Excel file where the node was specified and (2) the name of the node. \n"
   ]
  },
  {
   "cell_type": "markdown",
   "metadata": {
    "jp-MarkdownHeadingCollapsed": true
   },
   "source": [
    "### Nodes & Technologies which don't Request Services<a id=\"no_requested_services\"></a>"
   ]
  },
  {
   "cell_type": "markdown",
   "metadata": {},
   "source": [
    "This indicates a node or technology which has been specified in the model description but doesn't request services from other nodes. This won't necessarily raise errors if you were to run the model, but these nodes and technologies should be checked to ensure there isn't a missing service request line. \n",
    "\n",
    "```\n",
    " 'nodes_no_requested_service': [(44391, 'Aviation Turbo Fuel', ''),\n",
    "                                (44399, 'Black Liquor', ''),\n",
    "                                (2451, 'No AC', 'Existing')]\n",
    "\n",
    "```\n",
    "\n",
    "Each list item indicates a node or technology which doesn't request services from other nodes. The associated tuple contains (1) the row in the Excel file where the node or technology was specified, (2) the name of the node, and (3) the name of the technology (if it exists)."
   ]
  },
  {
   "cell_type": "markdown",
   "metadata": {
    "jp-MarkdownHeadingCollapsed": true
   },
   "source": [
    "### Invalid Competition Type <a id=\"comp\"></a>"
   ]
  },
  {
   "cell_type": "markdown",
   "metadata": {},
   "source": [
    "This indicates a node which has been specified in the model description, but was assigned in invalid competition type. As of October 2023, there are X valid competition types: \n",
    "* Root\n",
    "* Region\n",
    "* Sector\n",
    "* Tech Compete\n",
    "* Node Tech Compete\n",
    "* Fixed Ratio\n",
    "* Market\n",
    "* Supply - Fixed Price\n",
    "* Supply - Cost Curve Annual\n",
    "* Supply - Cost Curve Cumulative\n",
    "\n",
    "```\n",
    " 'invalid_competition_type': [(57, 'Buildings'),\n",
    "                              (2146, 'Dishwashing'),\n",
    "                              (2487, 'Clothes drying')]\n",
    "```\n",
    "\n",
    "Each list item indicates a node with an invalid competition type. The associated tuple contains (1) the row in the Excel file where the incorrect competition type was specified and (2) the name of the node. "
   ]
  },
  {
   "cell_type": "markdown",
   "metadata": {
    "jp-MarkdownHeadingCollapsed": true
   },
   "source": [
    "### Nodes Requesting Self <a id=\"self\"></a>"
   ]
  },
  {
   "cell_type": "markdown",
   "metadata": {},
   "source": [
    "This indicates a node which has been specified in the model description to request services of itself. \n",
    "\n",
    "```\n",
    "'nodes_requesting_self': [(36, 'CIMS.Canada.Alberta')]\n",
    "```\n",
    "\n",
    "Each list item indicates a node which requests services of itself. The associated tuple contains (1) the row in the Excel file where the self service request is being made and (2) the name of the node making this service request.  "
   ]
  },
  {
   "cell_type": "markdown",
   "metadata": {
    "jp-MarkdownHeadingCollapsed": true
   },
   "source": [
    "### Nodes with Zero Output <a id=\"zero_output\"></a>"
   ]
  },
  {
   "cell_type": "markdown",
   "metadata": {},
   "source": [
    "This indicates nodes where the output parameter has been exogenously set to 0 for any year(s) within the model description. \n",
    "\n",
    "```\n",
    "'nodes_with_zero_output': [(6090, 'Urban')]\n",
    "```\n",
    "\n",
    "Each item in the list indicates a node where output was exogenously set to 0. The associated tuple contains (1) the row number where the node was defined in the model description and (2) the name of the node. "
   ]
  },
  {
   "cell_type": "markdown",
   "metadata": {},
   "source": [
    "### Supply Nodes with no LCC or Price<a id=\"snt_lcc\"></a>"
   ]
  },
  {
   "cell_type": "markdown",
   "metadata": {},
   "source": [
    "This indicates \"sector no tech\" supply nodes where an LCC hasn't been exogenously defined. \n",
    "\n",
    "```\n",
    "'supply_without_lcc_or_price': [(43140, 'Byproduct Gas')]\n",
    "```\n",
    "\n",
    "Each item in the list indicates a \"Sector No Tech\" supply node where LCC wasn't exogenously set. The associated tuple contains (1) the row number where the node was defined in the model description and (2) the name of the node. "
   ]
  },
  {
   "cell_type": "markdown",
   "metadata": {},
   "source": [
    "### Technologies without Base Year Market Shares <a id=\"no_base_year_ms\"></a>"
   ]
  },
  {
   "cell_type": "markdown",
   "metadata": {},
   "source": [
    "This indicates technologies which are missing base year market shares in the model description.\n",
    "\n",
    "```\n",
    "'techs_no_base_year_ms': [[(81, 'Lighting', 'Incandescent'),\n",
    "                           (109, 'Lighting', 'CFL'),\n",
    "                           (332, 'Single Family Detached', 'single_family_detached_post_1960_furnace')]\n",
    "```\n",
    "\n",
    "Each item in the list indicates a technology where the base year market share hasn't been defined in the model description. The associated tuple contains (1) the row number where the market share is missing, (2) the name of the node, and (3) the name of the technology. "
   ]
  },
  {
   "cell_type": "markdown",
   "metadata": {
    "jp-MarkdownHeadingCollapsed": true
   },
   "source": [
    "### Nodes & Technologies Requesting from Service twice <a id=\"dup_service_req\"></a>"
   ]
  },
  {
   "cell_type": "markdown",
   "metadata": {},
   "source": [
    "This indicates nodes or technologies which request services from the same node more than once. \n",
    "\n",
    "```\n",
    "'duplicate_req': [([19, 20], 'Alberta', ''), \n",
    "                  ([2083, 2112], 'Furnace', 'Natural Gas efficient')]\n",
    "```\n",
    "\n",
    "Each item in the list indicates a node or technology which has made a duplicate request. The associated tuple contains (1) the row numbers where the multiple requests are made, (2) the name of the node, and (3) the name of the technology (if there is one). "
   ]
  },
  {
   "cell_type": "markdown",
   "metadata": {
    "jp-MarkdownHeadingCollapsed": true
   },
   "source": [
    "### Nodes & Technologies With Incorrect Service Request Values <a id=\"bad_service_req\"></a>"
   ]
  },
  {
   "cell_type": "markdown",
   "metadata": {},
   "source": [
    "This identifies nodes/technologies that have a service requested line, but where the values in this lines have either been left blank or exogenously specified as 0.\n",
    "\n",
    "```\n",
    "'bad_service_req': [(6737, 'Passenger Vehicles'),\n",
    "                    (6863, 'Existing'),\n",
    "                    (8819, 'Freight TKT'),\n",
    "                    (10502, 'Size Reduced Product')]\n",
    "```\n",
    "\n",
    "Each item in the list indicates a node or technology which has a service request value missing or set to 0. The associated tuple contains (1) the row numbers where the missing/zero value is specified and (2) the name of the node."
   ]
  },
  {
   "cell_type": "markdown",
   "metadata": {},
   "source": [
    "### Tech Compete Nodes without Technologies <a id=\"nodes_with_cop_and_p2000\"></a>"
   ]
  },
  {
   "cell_type": "markdown",
   "metadata": {},
   "source": [
    "This identifies tech compete nodes that contain neither \"Technology\" nor \"Service\" headings, thereby appearing to CIMS as if not having a technology or service at all. \n",
    "\n",
    "```\n",
    "'tech_compete_nodes_no_techs': [[(2565, 'No AC'), \n",
    "                                 (14057, 'CCS')]]\n",
    "```\n",
    "\n",
    "Each item in the list indicates a tech compete node that doesn't have a technology/service header. The associated tuple contains (1) the row number where the identified node can be found and (2) the name of the node."
   ]
  },
  {
   "cell_type": "markdown",
   "metadata": {},
   "source": [
    "### Nodes & Technologies Requesting from Children of Markets <a id=\"market_child_requested\"></a>"
   ]
  },
  {
   "cell_type": "markdown",
   "metadata": {},
   "source": [
    "This identifies nodes and technologies that request services from nodes which are children of market nodes. These requests should be made directly to the markets, rather than their children.\n",
    "\n",
    "```\n",
    "'market_child_requested': [(364, \n",
    "                            'CIMS.Canada.British Columbia.Coal Mining.Coal.Raw Product.Transportation', \n",
    "                            'CIMS.Generic Fuels.Diesel'), \n",
    "                           (10733, \n",
    "                            'CIMS.Canada.British Columbia.Ethanol.Agricultural Input', \n",
    "                            'CIMS.Generic Fuels.Diesel') \n",
    "                           ]\n",
    "```\n",
    "\n",
    "Each item in the list corresponds to a request made by a node or technology to a node which is part of a market. The associated tuple contains (1) the index where the identified node can be found, (2) the branch of the node making the request, and (3) the branch of the node being requested."
   ]
  },
  {
   "cell_type": "markdown",
   "metadata": {},
   "source": [
    "### Technologies with Revenue Recycling <a id=\"techs_revenue_recycling\"></a>"
   ]
  },
  {
   "cell_type": "markdown",
   "metadata": {},
   "source": [
    "This identifies technologies that are attempting to revenue recycle. Revenue recycling should only happen at nodes, never at techs.\n",
    "\n",
    "```\n",
    "'techs_revenue_recycling': [(240, 'Extraction', 'Extraction of coal')]\n",
    "```\n",
    "\n",
    "Each item in the list corresponds to a technology that is set to do revenue recycling. The associated tuple contains (1 the index where the identified technology can be found, (2) the name of the node , and (3) the name of the technology."
   ]
  },
  {
   "cell_type": "markdown",
   "metadata": {},
   "source": [
    "### Nodes with both COP & P2000 <a id=\"nodes_with_cop_and_p2000\"></a>"
   ]
  },
  {
   "cell_type": "markdown",
   "metadata": {},
   "source": [
    "This identifies nodes where both COP & P2000 have been exogenously defined.  \n",
    "\n",
    "```\n",
    "'nodes_with_cop_and_p2000': [(225.0, 'CIMS.Canada.British Columbia.Coal Mining.Coal.Raw Product.Extraction')]\n",
    "```\n",
    "\n",
    "Each item in the list a node where COP & P2000 have both been provided exogenously. The associated tuple contains (1) the row index where the identified node can be found and (2) the branch name of the identified node."
   ]
  },
  {
   "cell_type": "markdown",
   "metadata": {},
   "source": [
    "# All the Code\n",
    "Below, I've grouped together all the code needed for validating the model description. "
   ]
  },
  {
   "cell_type": "code",
   "execution_count": null,
   "metadata": {},
   "outputs": [],
   "source": [
    "import pprint as pp\n",
    "import CIMS\n",
    "\n",
    "model_file = '../models/CIMS_base model.xlsb'\n",
    "\n",
    "# Create the Model Validator\n",
    "model_validator = CIMS.ModelValidator(\n",
    "    infile=model_file, \n",
    "    sheet_map={\n",
    "        'model': ['CIMS', 'CAN', 'BC'],\n",
    "        'default_param': 'Default values'},\n",
    "    node_col='Branch'\n",
    ")\n",
    "\n",
    "model_validator.validate(verbose=True)\n",
    "print(\"Problems\\n********\")\n",
    "pp.pprint(model_validator.warnings)"
   ]
  },
  {
   "cell_type": "code",
   "execution_count": null,
   "metadata": {},
   "outputs": [],
   "source": []
  }
 ],
 "metadata": {
  "kernelspec": {
   "display_name": "Python 3 (ipykernel)",
   "language": "python",
   "name": "python3"
  },
  "language_info": {
   "codemirror_mode": {
    "name": "ipython",
    "version": 3
   },
   "file_extension": ".py",
   "mimetype": "text/x-python",
   "name": "python",
   "nbconvert_exporter": "python",
   "pygments_lexer": "ipython3",
   "version": "3.11.5"
  }
 },
 "nbformat": 4,
 "nbformat_minor": 4
}
