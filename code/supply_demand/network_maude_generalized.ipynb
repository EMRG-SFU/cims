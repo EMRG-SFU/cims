{
 "cells": [
  {
   "cell_type": "code",
   "execution_count": null,
   "metadata": {},
   "outputs": [],
   "source": [
    "# !jupyter nbconvert --to script network_maude_sim.ipynb"
   ]
  },
  {
   "cell_type": "code",
   "execution_count": 67,
   "metadata": {},
   "outputs": [],
   "source": [
    "%matplotlib inline\n",
    "\n",
    "import pandas as pd\n",
    "import re\n",
    "from IPython.display import Image, display, Markdown, HTML\n",
    "import copy\n",
    "from pprint import pprint\n",
    "# import utils.helpers as helpers\n",
    "import networkx as nx\n",
    "import traceback, sys\n",
    "from abc import ABC, abstractmethod, ABCMeta\n",
    "\n",
    "import numpy as np\n",
    "import matplotlib.pyplot as plt\n",
    "\n",
    "from utils.utils import * # for functions `process_subtypes`, `filter_fun`, `init_logger`"
   ]
  },
  {
   "cell_type": "code",
   "execution_count": 2,
   "metadata": {},
   "outputs": [],
   "source": [
    "# Start a log file (from utils module)\n",
    "# init_logger(filename=\"supply_demand\")"
   ]
  },
  {
   "cell_type": "code",
   "execution_count": 3,
   "metadata": {},
   "outputs": [
    {
     "name": "stdout",
     "output_type": "stream",
     "text": [
      "pyCIMS\n",
      "pyCIMS.Canada\n",
      "pyCIMS.Canada.Alberta\n",
      "pyCIMS.Canada.Alberta.Residential\n",
      "pyCIMS.Canada.Alberta.Residential.Buildings\n",
      "pyCIMS.Canada.Alberta.Residential.Buildings.Shell\n",
      "pyCIMS.Canada.Alberta.Residential.Buildings.Shell.Space heating\n",
      "pyCIMS.Canada.Alberta.Residential.Buildings.Shell.Space heating.Furnace\n",
      "pyCIMS.Canada.Alberta.Residential.Buildings.Shell.Water heating\n",
      "pyCIMS.Canada.Alberta.Residential.Buildings.Dishwashing\n",
      "pyCIMS.Canada.Alberta.Residential.Buildings.Clothes washing\n",
      "pyCIMS.Canada.Alberta.Electricity\n",
      "pyCIMS.Canada.Alberta.Electricity.Generation\n",
      "pyCIMS.Canada.Alberta.Electricity.Generation.Base load\n",
      "pyCIMS.Canada.Alberta.Electricity.Generation.Base load.Conventional\n",
      "pyCIMS.Canada.Alberta.Electricity.Generation.Base load.Renewables\n",
      "pyCIMS.Canada.Alberta.Electricity.Transmission Losses\n",
      "pyCIMS.Canada.Alberta.Natural Gas\n",
      "pyCIMS.Canada.Alberta.Solar\n",
      "pyCIMS.Canada.Alberta.Wind\n",
      "pyCIMS.Canada.Alberta.Water\n"
     ]
    }
   ],
   "source": [
    "# Run this from the the /pycims_prototype/ directory\n",
    "import Reader\n",
    "import Model\n",
    "\n",
    "file = '../../pyCIMS_model_description.xlsm'\n",
    "\n",
    "# Create a model description reader\n",
    "my_reader = Reader.Reader(infile=file,\n",
    "                          sheet_map={'model': 'Model',\n",
    "                                     'incompatible': 'Incompatible',\n",
    "                                     'default_tech': 'Technologies'},\n",
    "                          node_col='Node')\n",
    "\n",
    "\n",
    "# Create a model from the reader\n",
    "my_model = Model.Model(my_reader)\n",
    "\n",
    "# Build the model graph\n",
    "my_model.build_graph()\n",
    "\n"
   ]
  },
  {
   "cell_type": "code",
   "execution_count": 4,
   "metadata": {},
   "outputs": [],
   "source": [
    "g = my_model.graph"
   ]
  },
  {
   "cell_type": "code",
   "execution_count": 59,
   "metadata": {},
   "outputs": [],
   "source": [
    "def get_subgraph(graph, node_types):\n",
    "    nodes = [n for n, a in graph.nodes(data=True) if a['type'] in node_types]\n",
    "    sub_g = graph.subgraph(nodes).copy()\n",
    "    return sub_g"
   ]
  },
  {
   "cell_type": "code",
   "execution_count": 62,
   "metadata": {},
   "outputs": [],
   "source": [
    "g_d = get_subgraph(g, [\"demand\", \"standard\"])"
   ]
  },
  {
   "cell_type": "code",
   "execution_count": 64,
   "metadata": {},
   "outputs": [],
   "source": [
    "g_s = get_subgraph(g, \"supply\")  "
   ]
  },
  {
   "cell_type": "code",
   "execution_count": 5,
   "metadata": {},
   "outputs": [],
   "source": [
    "def stack_trace(name):\n",
    "    exc_type, exc_value, exc_traceback = sys.exc_info()\n",
    "    print(f'-> Service requested failed for node {name} <- .\\n\\n ** Printing stack traceback:\\n')\n",
    "    traceback.print_exception(exc_type, exc_value, exc_traceback,\n",
    "                               limit=2, file=sys.stdout)   "
   ]
  },
  {
   "cell_type": "code",
   "execution_count": 6,
   "metadata": {},
   "outputs": [],
   "source": [
    "years = my_model.years\n",
    "fuels = my_model.fuels\n",
    "fuels = ['.'.join(fuels[i].split('.')[-1:]) for i, val in enumerate(fuels)]"
   ]
  },
  {
   "cell_type": "code",
   "execution_count": 92,
   "metadata": {},
   "outputs": [],
   "source": [
    "class Node(ABC):\n",
    "    __metaclass__  = ABCMeta\n",
    "    \n",
    "    def __init__(self, subdict, cur_year='2000'):\n",
    "        self.subdict = subdict\n",
    "        self.cur_year = cur_year\n",
    "        name_sg = subdict[cur_year]['Service provided']\n",
    "        requested_sg = subdict[cur_year]['Service requested']\n",
    "        \n",
    "        # name of current node/ service provided and competition type: common to all nodes\n",
    "        self.node_name = list(name_sg.keys())[0]\n",
    "        # name of service requested\n",
    "        self.requested = list(requested_sg.keys())[0]   \n",
    "        self.request_val = None\n",
    "        \n",
    "        try:\n",
    "            self.node_type = subdict['competition_type']\n",
    "        except:\n",
    "            stack_trace(self.node_name)\n",
    "            \n",
    "\n",
    "    @abstractmethod\n",
    "    def get_request(self):\n",
    "        if self.node_type == \"root\" or self.node_type == \"country\":\n",
    "            pass\n",
    "        \n",
    "        else:\n",
    "            request_name = self.requested\n",
    "            self.request_val = self.subdict[self.cur_year]['Service requested'][request_name]['year_value']\n",
    "            self.isnum = isinstance(self.request_val, (int, float, complex)) and not isinstance(self.request_val, bool) \n",
    "            \n",
    "            if self.node_type == \"region\": \n",
    "                self.population = self.subdict[self.cur_yearyear][\"Attribute\"][\"Population\"][\"year_value\"]\n",
    "                \n",
    "                if isnum:\n",
    "                    request = request_val * self.population\n",
    "                else:\n",
    "                    print(f\"Non numerical value for service requested in node {self.node_name}\")\n",
    "                    request = self.population\n",
    "                    \n",
    "                return request    \n",
    "            else:\n",
    "                if isnum:\n",
    "                    print(\"fixed node\")\n",
    "                    return request_val\n",
    "                else:\n",
    "                    print(f\"Non numerical value for service requested in node {self.node_name}\")\n",
    "                    return 1\n",
    "            \n",
    "        "
   ]
  },
  {
   "cell_type": "code",
   "execution_count": 99,
   "metadata": {},
   "outputs": [],
   "source": [
    "class Root(Node):\n",
    "    def __init__(self, subdict):\n",
    "        super().__init__(subdict)\n",
    "        \n",
    "        self.node_type = \"root\"\n",
    "\n",
    "        print(self.get_request())\n",
    "        \n",
    "    def get_request(self):\n",
    "        super().get_request()\n",
    "        return f\"root\""
   ]
  },
  {
   "cell_type": "code",
   "execution_count": 100,
   "metadata": {},
   "outputs": [],
   "source": [
    "class Country(Node):\n",
    "    def __init__(self, subdict):\n",
    "        super().__init__(subdict)\n",
    "        self.node_type = \"country\"\n",
    "\n",
    "        print(self.get_request())\n",
    "        \n",
    "    def get_request(self):\n",
    "        return f\"country\"        \n",
    "    "
   ]
  },
  {
   "cell_type": "code",
   "execution_count": 101,
   "metadata": {},
   "outputs": [],
   "source": [
    "class Region(Node):\n",
    "    def __init__(self, subdict):\n",
    "        super().__init__(subdict)\n",
    "        \n",
    "        self.node_type = \"region\"\n",
    "        print(self.get_request())\n",
    "        \n",
    "    def get_request(self):\n",
    "        return f\"country\"           \n",
    "        "
   ]
  },
  {
   "cell_type": "code",
   "execution_count": 102,
   "metadata": {},
   "outputs": [],
   "source": [
    "class FixedRatio(Node):\n",
    "    def __init__(self, subdict):\n",
    "        super().__init__(subdict)\n",
    "        try:\n",
    "            self.provides = subdict[self.cur_year]['Service provided'][self.node_name]['year_value']\n",
    "        except:\n",
    "            stack_trace(self.node_name)     \n",
    "        print(self.get_request())\n",
    "        \n",
    "    def get_request(self):\n",
    "        super().get_request()\n",
    "        return f\"fixed\"    \n",
    "            "
   ]
  },
  {
   "cell_type": "code",
   "execution_count": 106,
   "metadata": {},
   "outputs": [],
   "source": [
    "class TechCompete(Node):\n",
    "    '''All the calculations are here'''\n",
    "    def __init__(self, subdict):\n",
    "        super().__init__(subdict)\n",
    "\n",
    "        try:\n",
    "            self.provides = subdict[self.cur_year]['Service provided'][self.node_name]['year_value']\n",
    "        except:\n",
    "            stack_trace(self.node_name)     \n",
    "            \n",
    "        print(self.get_request())\n",
    "        \n",
    "    def get_request(self):\n",
    "        super().get_request()\n",
    "        return f\"compete\"    \n",
    "    \n",
    "    def get_demand(self):\n",
    "        pass"
   ]
  },
  {
   "cell_type": "code",
   "execution_count": 107,
   "metadata": {},
   "outputs": [],
   "source": [
    "class FixedMarketShare(Node):\n",
    "    def __init__(self, subdict):\n",
    "        super().__init__(subdict)\n",
    "\n",
    "        try:\n",
    "            self.provides = subdict[self.cur_year]['Service provided'][self.node_name]['year_value']\n",
    "        except:\n",
    "            stack_trace(self.node_name)     \n",
    "            \n",
    "        print(self.get_request())\n",
    "        \n",
    "    def get_request(self):\n",
    "        super().get_request()\n",
    "        return f\"fixed marketshare\"    "
   ]
  },
  {
   "cell_type": "code",
   "execution_count": 108,
   "metadata": {},
   "outputs": [],
   "source": [
    "class SupplyNoTech(Node):\n",
    "    def __init__(self, subdict):\n",
    "        super().__init__(subdict)\n",
    "    \n",
    "        print(self.get_request())\n",
    "        \n",
    "    def get_request(self):\n",
    "        super().get_request()\n",
    "        return f\"supply no tech\"  \n",
    "    \n",
    "    def no_price_available(self):\n",
    "        if self.subdict[]"
   ]
  },
  {
   "cell_type": "code",
   "execution_count": 69,
   "metadata": {},
   "outputs": [],
   "source": [
    "galb = g.nodes[search_nodes( g, \"Alberta\")[0]]"
   ]
  },
  {
   "cell_type": "code",
   "execution_count": 103,
   "metadata": {},
   "outputs": [
    {
     "name": "stdout",
     "output_type": "stream",
     "text": [
      "fixed node\n",
      "fixed\n"
     ]
    },
    {
     "data": {
      "text/plain": [
       "<__main__.FixedRatio at 0x10366f5c0>"
      ]
     },
     "execution_count": 103,
     "metadata": {},
     "output_type": "execute_result"
    }
   ],
   "source": [
    "FixedRatio(galb)"
   ]
  },
  {
   "cell_type": "code",
   "execution_count": 16,
   "metadata": {},
   "outputs": [],
   "source": [
    "f = FixedRatio(g.node[search_nodes( g, \"Alberta\")[0]])"
   ]
  },
  {
   "cell_type": "code",
   "execution_count": 21,
   "metadata": {},
   "outputs": [
    {
     "name": "stdout",
     "output_type": "stream",
     "text": [
      "Canada\n"
     ]
    }
   ],
   "source": [
    "print(f.requested)"
   ]
  },
  {
   "cell_type": "code",
   "execution_count": null,
   "metadata": {},
   "outputs": [],
   "source": []
  },
  {
   "cell_type": "code",
   "execution_count": 25,
   "metadata": {},
   "outputs": [],
   "source": [
    "def traverse_graph(sub_graph, node_process_func):\n",
    "    # Find the root of the sub-graph\n",
    "    root = [n for n, d in sub_graph.in_degree() if d == 0][0]\n",
    "\n",
    "    # Find the distance from the root to each node in the sub-graph\n",
    "    dist_from_root = nx.single_source_shortest_path_length(sub_graph, root)\n",
    "\n",
    "    # Start the traversal\n",
    "    sg_cur = copy.deepcopy(sub_graph)\n",
    "    visited = []\n",
    "\n",
    "    while len(sg_cur.nodes) > 0:\n",
    "        active_front = [n for n, d in sg_cur.in_degree if d == 0]\n",
    "\n",
    "        if len(active_front) > 0:\n",
    "            # Choose a node on the active front\n",
    "            n_cur = active_front[0]\n",
    "            # Process that node in the sub-graph\n",
    "            node_process_func(sub_graph, n_cur)\n",
    "        else:\n",
    "            # Resolve a loop\n",
    "            candidates = {n: dist_from_root[n] for n in sg_cur}\n",
    "            n_cur = min(candidates, key=lambda x: candidates[x])\n",
    "            # Process chosen node in the sub-graph, using estimated values from their parents\n",
    "            node_process_func(sub_graph, n_cur, with_estimates=True)\n",
    "\n",
    "        visited.append(n_cur)\n",
    "        sg_cur.remove_node(n_cur)"
   ]
  },
  {
   "cell_type": "code",
   "execution_count": 26,
   "metadata": {},
   "outputs": [],
   "source": [
    "def get_subgraph(g, node_types):\n",
    "    nodes = [n for n, a in g.nodes(data=True) if a['type'] in node_types]\n",
    "    sub_g = g.subgraph(nodes).copy()\n",
    "    return sub_g"
   ]
  },
  {
   "cell_type": "code",
   "execution_count": 35,
   "metadata": {},
   "outputs": [],
   "source": [
    "# def calc_demand(prices):\n",
    "#     def demand_process_func(g, node, fuels, with_estimates=False):\n",
    "#         g.nodes[node]['demand'] = {f: random.randint(10, 50) for f in fuels}"
   ]
  },
  {
   "cell_type": "code",
   "execution_count": 37,
   "metadata": {},
   "outputs": [],
   "source": [
    "def demand_process_func(g, node, with_estimates=False):\n",
    "    g.nodes[node]['demand'] = {f: random.randint(10, 50) for f in fuels}"
   ]
  },
  {
   "cell_type": "code",
   "execution_count": 38,
   "metadata": {},
   "outputs": [],
   "source": [
    "def calculate_service_cost(sub_graph):\n",
    "    def calculate_node_sc(node):\n",
    "        children = sub_graph[node]\n",
    "        if len(children) == 0:\n",
    "            service_cost = 10\n",
    "        else:\n",
    "            service_cost = sum([calculate_node_sc(c) for c in children])\n",
    "        sub_graph.nodes[node]['service cost'] = service_cost\n",
    "        return service_cost\n",
    "\n",
    "    roots = [n for n, d in sub_graph.in_degree() if d == 0]\n",
    "    for root in roots:\n",
    "        print(calculate_node_sc(root))"
   ]
  },
  {
   "cell_type": "code",
   "execution_count": 29,
   "metadata": {},
   "outputs": [
    {
     "data": {
      "text/plain": [
       "{'Service provided': {'Buildings': {'source': None,\n",
       "   'branch': 'pyCIMS.Canada.Alberta.Residential.Buildings',\n",
       "   'unit': 'building',\n",
       "   'year_value': None}},\n",
       " 'technologies': {'Single Family Detached': {'Market share': {'source': None,\n",
       "    'branch': None,\n",
       "    'unit': '%',\n",
       "    'year_value': 0.719409242},\n",
       "   'Service requested': None},\n",
       "  'Single Family Attached': {'Market share': {'source': None,\n",
       "    'branch': None,\n",
       "    'unit': '%',\n",
       "    'year_value': 0.1},\n",
       "   'Service requested': None},\n",
       "  'Apartment': {'Market share': {'source': None,\n",
       "    'branch': None,\n",
       "    'unit': '%',\n",
       "    'year_value': 0.14},\n",
       "   'Service requested': None},\n",
       "  'Mobile': {'Market share': {'source': None,\n",
       "    'branch': None,\n",
       "    'unit': '%',\n",
       "    'year_value': 0.040590758000000005},\n",
       "   'Service requested': [{'source': None,\n",
       "     'branch': 'pyCIMS.Canada.Alberta.Residential.Buildings.Shell',\n",
       "     'unit': 'm2 floorspace/building',\n",
       "     'year_value': 91.72141404661348},\n",
       "    {'source': None,\n",
       "     'branch': 'pyCIMS.Canada.Alberta.Residential.Buildings.Dishwashing',\n",
       "     'unit': 'unit/building',\n",
       "     'year_value': 1.0}]}}}"
      ]
     },
     "execution_count": 29,
     "metadata": {},
     "output_type": "execute_result"
    }
   ],
   "source": [
    "g.nodes['pyCIMS.Canada.Alberta.Residential.Buildings']['2000']"
   ]
  },
  {
   "cell_type": "code",
   "execution_count": null,
   "metadata": {},
   "outputs": [],
   "source": [
    "class Node:\n",
    "    def __init__(self, subdict):\n",
    "        "
   ]
  },
  {
   "cell_type": "code",
   "execution_count": 52,
   "metadata": {},
   "outputs": [
    {
     "data": {
      "text/plain": [
       "NodeDataView({'pyCIMS': None, 'pyCIMS.Canada': None, 'pyCIMS.Canada.Alberta': None, 'pyCIMS.Canada.Alberta.Residential': None, 'pyCIMS.Canada.Alberta.Residential.Buildings': None, 'pyCIMS.Canada.Alberta.Residential.Buildings.Shell': None, 'pyCIMS.Canada.Alberta.Residential.Buildings.Shell.Space heating': None, 'pyCIMS.Canada.Alberta.Residential.Buildings.Shell.Space heating.Furnace': None, 'pyCIMS.Canada.Alberta.Residential.Buildings.Shell.Water heating': None, 'pyCIMS.Canada.Alberta.Residential.Buildings.Dishwashing': None, 'pyCIMS.Canada.Alberta.Residential.Buildings.Clothes washing': None, 'pyCIMS.Canada.Alberta.Electricity': None, 'pyCIMS.Canada.Alberta.Electricity.Generation': None, 'pyCIMS.Canada.Alberta.Electricity.Generation.Base load': None, 'pyCIMS.Canada.Alberta.Electricity.Generation.Base load.Conventional': None, 'pyCIMS.Canada.Alberta.Electricity.Generation.Base load.Renewables': None, 'pyCIMS.Canada.Alberta.Electricity.Transmission Losses': None, 'pyCIMS.Canada.Alberta.Natural Gas': None, 'pyCIMS.Canada.Alberta.Solar': None, 'pyCIMS.Canada.Alberta.Wind': None, 'pyCIMS.Canada.Alberta.Water': None}, data='pyCIMS.Canada')"
      ]
     },
     "execution_count": 52,
     "metadata": {},
     "output_type": "execute_result"
    }
   ],
   "source": [
    "g.nodes()"
   ]
  },
  {
   "cell_type": "code",
   "execution_count": null,
   "metadata": {},
   "outputs": [],
   "source": []
  },
  {
   "cell_type": "code",
   "execution_count": null,
   "metadata": {},
   "outputs": [],
   "source": []
  },
  {
   "cell_type": "code",
   "execution_count": null,
   "metadata": {},
   "outputs": [],
   "source": []
  },
  {
   "cell_type": "code",
   "execution_count": null,
   "metadata": {},
   "outputs": [],
   "source": []
  },
  {
   "cell_type": "code",
   "execution_count": null,
   "metadata": {},
   "outputs": [],
   "source": []
  },
  {
   "cell_type": "code",
   "execution_count": 49,
   "metadata": {},
   "outputs": [
    {
     "data": {
      "text/plain": [
       "{'type': 'demand',\n",
       " 'competition_type': 'fixed market shares',\n",
       " '2000': {'Service provided': {'Buildings': {'source': None,\n",
       "    'branch': 'pyCIMS.Canada.Alberta.Residential.Buildings',\n",
       "    'unit': 'building',\n",
       "    'year_value': None}},\n",
       "  'technologies': {'Single Family Detached': {'Market share': {'source': None,\n",
       "     'branch': None,\n",
       "     'unit': '%',\n",
       "     'year_value': 0.719409242},\n",
       "    'Service requested': None},\n",
       "   'Single Family Attached': {'Market share': {'source': None,\n",
       "     'branch': None,\n",
       "     'unit': '%',\n",
       "     'year_value': 0.1},\n",
       "    'Service requested': None},\n",
       "   'Apartment': {'Market share': {'source': None,\n",
       "     'branch': None,\n",
       "     'unit': '%',\n",
       "     'year_value': 0.14},\n",
       "    'Service requested': None},\n",
       "   'Mobile': {'Market share': {'source': None,\n",
       "     'branch': None,\n",
       "     'unit': '%',\n",
       "     'year_value': 0.040590758000000005},\n",
       "    'Service requested': [{'source': None,\n",
       "      'branch': 'pyCIMS.Canada.Alberta.Residential.Buildings.Shell',\n",
       "      'unit': 'm2 floorspace/building',\n",
       "      'year_value': 91.72141404661348},\n",
       "     {'source': None,\n",
       "      'branch': 'pyCIMS.Canada.Alberta.Residential.Buildings.Dishwashing',\n",
       "      'unit': 'unit/building',\n",
       "      'year_value': 1.0}]}}},\n",
       " '2005': {'Service provided': {'Buildings': {'source': None,\n",
       "    'branch': 'pyCIMS.Canada.Alberta.Residential.Buildings',\n",
       "    'unit': 'building',\n",
       "    'year_value': None}},\n",
       "  'technologies': {'Single Family Detached': {'Market share': {'source': None,\n",
       "     'branch': None,\n",
       "     'unit': '%',\n",
       "     'year_value': 0.7195},\n",
       "    'Service requested': None},\n",
       "   'Single Family Attached': {'Market share': {'source': None,\n",
       "     'branch': None,\n",
       "     'unit': '%',\n",
       "     'year_value': 0.101},\n",
       "    'Service requested': None},\n",
       "   'Apartment': {'Market share': {'source': None,\n",
       "     'branch': None,\n",
       "     'unit': '%',\n",
       "     'year_value': 0.1395},\n",
       "    'Service requested': None},\n",
       "   'Mobile': {'Market share': {'source': None,\n",
       "     'branch': None,\n",
       "     'unit': '%',\n",
       "     'year_value': 0.040000000000000036},\n",
       "    'Service requested': [{'source': None,\n",
       "      'branch': 'pyCIMS.Canada.Alberta.Residential.Buildings.Shell',\n",
       "      'unit': 'm2 floorspace/building',\n",
       "      'year_value': 92.26236625833464},\n",
       "     {'source': None,\n",
       "      'branch': 'pyCIMS.Canada.Alberta.Residential.Buildings.Dishwashing',\n",
       "      'unit': 'unit/building',\n",
       "      'year_value': 1.0}]}}},\n",
       " '2010': {'Service provided': {'Buildings': {'source': None,\n",
       "    'branch': 'pyCIMS.Canada.Alberta.Residential.Buildings',\n",
       "    'unit': 'building',\n",
       "    'year_value': None}},\n",
       "  'technologies': {'Single Family Detached': {'Market share': {'source': None,\n",
       "     'branch': None,\n",
       "     'unit': '%',\n",
       "     'year_value': 0.719},\n",
       "    'Service requested': None},\n",
       "   'Single Family Attached': {'Market share': {'source': None,\n",
       "     'branch': None,\n",
       "     'unit': '%',\n",
       "     'year_value': 0.102},\n",
       "    'Service requested': None},\n",
       "   'Apartment': {'Market share': {'source': None,\n",
       "     'branch': None,\n",
       "     'unit': '%',\n",
       "     'year_value': 0.139},\n",
       "    'Service requested': None},\n",
       "   'Mobile': {'Market share': {'source': None,\n",
       "     'branch': None,\n",
       "     'unit': '%',\n",
       "     'year_value': 0.040000000000000036},\n",
       "    'Service requested': [{'source': None,\n",
       "      'branch': 'pyCIMS.Canada.Alberta.Residential.Buildings.Shell',\n",
       "      'unit': 'm2 floorspace/building',\n",
       "      'year_value': 93.40218899337135},\n",
       "     {'source': None,\n",
       "      'branch': 'pyCIMS.Canada.Alberta.Residential.Buildings.Dishwashing',\n",
       "      'unit': 'unit/building',\n",
       "      'year_value': 1.0}]}}},\n",
       " '2015': {'Service provided': {'Buildings': {'source': None,\n",
       "    'branch': 'pyCIMS.Canada.Alberta.Residential.Buildings',\n",
       "    'unit': 'building',\n",
       "    'year_value': None}},\n",
       "  'technologies': {'Single Family Detached': {'Market share': {'source': None,\n",
       "     'branch': None,\n",
       "     'unit': '%',\n",
       "     'year_value': 0.7185},\n",
       "    'Service requested': None},\n",
       "   'Single Family Attached': {'Market share': {'source': None,\n",
       "     'branch': None,\n",
       "     'unit': '%',\n",
       "     'year_value': 0.103},\n",
       "    'Service requested': None},\n",
       "   'Apartment': {'Market share': {'source': None,\n",
       "     'branch': None,\n",
       "     'unit': '%',\n",
       "     'year_value': 0.1385},\n",
       "    'Service requested': None},\n",
       "   'Mobile': {'Market share': {'source': None,\n",
       "     'branch': None,\n",
       "     'unit': '%',\n",
       "     'year_value': 0.040000000000000036},\n",
       "    'Service requested': [{'source': None,\n",
       "      'branch': 'pyCIMS.Canada.Alberta.Residential.Buildings.Shell',\n",
       "      'unit': 'm2 floorspace/building',\n",
       "      'year_value': 94.68890969444207},\n",
       "     {'source': None,\n",
       "      'branch': 'pyCIMS.Canada.Alberta.Residential.Buildings.Dishwashing',\n",
       "      'unit': 'unit/building',\n",
       "      'year_value': 1.0}]}}},\n",
       " '2020': {'Service provided': {'Buildings': {'source': None,\n",
       "    'branch': 'pyCIMS.Canada.Alberta.Residential.Buildings',\n",
       "    'unit': 'building',\n",
       "    'year_value': None}},\n",
       "  'technologies': {'Single Family Detached': {'Market share': {'source': None,\n",
       "     'branch': None,\n",
       "     'unit': '%',\n",
       "     'year_value': 0.718},\n",
       "    'Service requested': None},\n",
       "   'Single Family Attached': {'Market share': {'source': None,\n",
       "     'branch': None,\n",
       "     'unit': '%',\n",
       "     'year_value': 0.104},\n",
       "    'Service requested': None},\n",
       "   'Apartment': {'Market share': {'source': None,\n",
       "     'branch': None,\n",
       "     'unit': '%',\n",
       "     'year_value': 0.138},\n",
       "    'Service requested': None},\n",
       "   'Mobile': {'Market share': {'source': None,\n",
       "     'branch': None,\n",
       "     'unit': '%',\n",
       "     'year_value': 0.040000000000000036},\n",
       "    'Service requested': [{'source': None,\n",
       "      'branch': 'pyCIMS.Canada.Alberta.Residential.Buildings.Shell',\n",
       "      'unit': 'm2 floorspace/building',\n",
       "      'year_value': 95.03797609739753},\n",
       "     {'source': None,\n",
       "      'branch': 'pyCIMS.Canada.Alberta.Residential.Buildings.Dishwashing',\n",
       "      'unit': 'unit/building',\n",
       "      'year_value': 1.0}]}}},\n",
       " '2025': {'Service provided': {'Buildings': {'source': None,\n",
       "    'branch': 'pyCIMS.Canada.Alberta.Residential.Buildings',\n",
       "    'unit': 'building',\n",
       "    'year_value': None}},\n",
       "  'technologies': {'Single Family Detached': {'Market share': {'source': None,\n",
       "     'branch': None,\n",
       "     'unit': '%',\n",
       "     'year_value': 0.7175},\n",
       "    'Service requested': None},\n",
       "   'Single Family Attached': {'Market share': {'source': None,\n",
       "     'branch': None,\n",
       "     'unit': '%',\n",
       "     'year_value': 0.105},\n",
       "    'Service requested': None},\n",
       "   'Apartment': {'Market share': {'source': None,\n",
       "     'branch': None,\n",
       "     'unit': '%',\n",
       "     'year_value': 0.1375},\n",
       "    'Service requested': None},\n",
       "   'Mobile': {'Market share': {'source': None,\n",
       "     'branch': None,\n",
       "     'unit': '%',\n",
       "     'year_value': 0.040000000000000036},\n",
       "    'Service requested': [{'source': None,\n",
       "      'branch': 'pyCIMS.Canada.Alberta.Residential.Buildings.Shell',\n",
       "      'unit': 'm2 floorspace/building',\n",
       "      'year_value': 95.03797609739753},\n",
       "     {'source': None,\n",
       "      'branch': 'pyCIMS.Canada.Alberta.Residential.Buildings.Dishwashing',\n",
       "      'unit': 'unit/building',\n",
       "      'year_value': 1.0}]}}},\n",
       " '2030': {'Service provided': {'Buildings': {'source': None,\n",
       "    'branch': 'pyCIMS.Canada.Alberta.Residential.Buildings',\n",
       "    'unit': 'building',\n",
       "    'year_value': None}},\n",
       "  'technologies': {'Single Family Detached': {'Market share': {'source': None,\n",
       "     'branch': None,\n",
       "     'unit': '%',\n",
       "     'year_value': 0.717},\n",
       "    'Service requested': None},\n",
       "   'Single Family Attached': {'Market share': {'source': None,\n",
       "     'branch': None,\n",
       "     'unit': '%',\n",
       "     'year_value': 0.106},\n",
       "    'Service requested': None},\n",
       "   'Apartment': {'Market share': {'source': None,\n",
       "     'branch': None,\n",
       "     'unit': '%',\n",
       "     'year_value': 0.137},\n",
       "    'Service requested': None},\n",
       "   'Mobile': {'Market share': {'source': None,\n",
       "     'branch': None,\n",
       "     'unit': '%',\n",
       "     'year_value': 0.040000000000000036},\n",
       "    'Service requested': [{'source': None,\n",
       "      'branch': 'pyCIMS.Canada.Alberta.Residential.Buildings.Shell',\n",
       "      'unit': 'm2 floorspace/building',\n",
       "      'year_value': 95.03797609739753},\n",
       "     {'source': None,\n",
       "      'branch': 'pyCIMS.Canada.Alberta.Residential.Buildings.Dishwashing',\n",
       "      'unit': 'unit/building',\n",
       "      'year_value': 1.0}]}}},\n",
       " '2035': {'Service provided': {'Buildings': {'source': None,\n",
       "    'branch': 'pyCIMS.Canada.Alberta.Residential.Buildings',\n",
       "    'unit': 'building',\n",
       "    'year_value': None}},\n",
       "  'technologies': {'Single Family Detached': {'Market share': {'source': None,\n",
       "     'branch': None,\n",
       "     'unit': '%',\n",
       "     'year_value': 0.7165},\n",
       "    'Service requested': None},\n",
       "   'Single Family Attached': {'Market share': {'source': None,\n",
       "     'branch': None,\n",
       "     'unit': '%',\n",
       "     'year_value': 0.107},\n",
       "    'Service requested': None},\n",
       "   'Apartment': {'Market share': {'source': None,\n",
       "     'branch': None,\n",
       "     'unit': '%',\n",
       "     'year_value': 0.1365},\n",
       "    'Service requested': None},\n",
       "   'Mobile': {'Market share': {'source': None,\n",
       "     'branch': None,\n",
       "     'unit': '%',\n",
       "     'year_value': 0.040000000000000036},\n",
       "    'Service requested': [{'source': None,\n",
       "      'branch': 'pyCIMS.Canada.Alberta.Residential.Buildings.Shell',\n",
       "      'unit': 'm2 floorspace/building',\n",
       "      'year_value': 95.03797609739753},\n",
       "     {'source': None,\n",
       "      'branch': 'pyCIMS.Canada.Alberta.Residential.Buildings.Dishwashing',\n",
       "      'unit': 'unit/building',\n",
       "      'year_value': 1.0}]}}},\n",
       " '2040': {'Service provided': {'Buildings': {'source': None,\n",
       "    'branch': 'pyCIMS.Canada.Alberta.Residential.Buildings',\n",
       "    'unit': 'building',\n",
       "    'year_value': None}},\n",
       "  'technologies': {'Single Family Detached': {'Market share': {'source': None,\n",
       "     'branch': None,\n",
       "     'unit': '%',\n",
       "     'year_value': 0.716},\n",
       "    'Service requested': None},\n",
       "   'Single Family Attached': {'Market share': {'source': None,\n",
       "     'branch': None,\n",
       "     'unit': '%',\n",
       "     'year_value': 0.108},\n",
       "    'Service requested': None},\n",
       "   'Apartment': {'Market share': {'source': None,\n",
       "     'branch': None,\n",
       "     'unit': '%',\n",
       "     'year_value': 0.136},\n",
       "    'Service requested': None},\n",
       "   'Mobile': {'Market share': {'source': None,\n",
       "     'branch': None,\n",
       "     'unit': '%',\n",
       "     'year_value': 0.040000000000000036},\n",
       "    'Service requested': [{'source': None,\n",
       "      'branch': 'pyCIMS.Canada.Alberta.Residential.Buildings.Shell',\n",
       "      'unit': 'm2 floorspace/building',\n",
       "      'year_value': 95.03797609739753},\n",
       "     {'source': None,\n",
       "      'branch': 'pyCIMS.Canada.Alberta.Residential.Buildings.Dishwashing',\n",
       "      'unit': 'unit/building',\n",
       "      'year_value': 1.0}]}}},\n",
       " '2045': {'Service provided': {'Buildings': {'source': None,\n",
       "    'branch': 'pyCIMS.Canada.Alberta.Residential.Buildings',\n",
       "    'unit': 'building',\n",
       "    'year_value': None}},\n",
       "  'technologies': {'Single Family Detached': {'Market share': {'source': None,\n",
       "     'branch': None,\n",
       "     'unit': '%',\n",
       "     'year_value': 0.7155},\n",
       "    'Service requested': None},\n",
       "   'Single Family Attached': {'Market share': {'source': None,\n",
       "     'branch': None,\n",
       "     'unit': '%',\n",
       "     'year_value': 0.109},\n",
       "    'Service requested': None},\n",
       "   'Apartment': {'Market share': {'source': None,\n",
       "     'branch': None,\n",
       "     'unit': '%',\n",
       "     'year_value': 0.1355},\n",
       "    'Service requested': None},\n",
       "   'Mobile': {'Market share': {'source': None,\n",
       "     'branch': None,\n",
       "     'unit': '%',\n",
       "     'year_value': 0.040000000000000036},\n",
       "    'Service requested': [{'source': None,\n",
       "      'branch': 'pyCIMS.Canada.Alberta.Residential.Buildings.Shell',\n",
       "      'unit': 'm2 floorspace/building',\n",
       "      'year_value': 95.03797609739753},\n",
       "     {'source': None,\n",
       "      'branch': 'pyCIMS.Canada.Alberta.Residential.Buildings.Dishwashing',\n",
       "      'unit': 'unit/building',\n",
       "      'year_value': 1.0}]}}},\n",
       " '2050': {'Service provided': {'Buildings': {'source': None,\n",
       "    'branch': 'pyCIMS.Canada.Alberta.Residential.Buildings',\n",
       "    'unit': 'building',\n",
       "    'year_value': None}},\n",
       "  'technologies': {'Single Family Detached': {'Market share': {'source': None,\n",
       "     'branch': None,\n",
       "     'unit': '%',\n",
       "     'year_value': 0.715000000000001},\n",
       "    'Service requested': None},\n",
       "   'Single Family Attached': {'Market share': {'source': None,\n",
       "     'branch': None,\n",
       "     'unit': '%',\n",
       "     'year_value': 0.11},\n",
       "    'Service requested': None},\n",
       "   'Apartment': {'Market share': {'source': None,\n",
       "     'branch': None,\n",
       "     'unit': '%',\n",
       "     'year_value': 0.135},\n",
       "    'Service requested': None},\n",
       "   'Mobile': {'Market share': {'source': None,\n",
       "     'branch': None,\n",
       "     'unit': '%',\n",
       "     'year_value': 0.039999999999999036},\n",
       "    'Service requested': [{'source': None,\n",
       "      'branch': 'pyCIMS.Canada.Alberta.Residential.Buildings.Shell',\n",
       "      'unit': 'm2 floorspace/building',\n",
       "      'year_value': 95.03797609739753},\n",
       "     {'source': None,\n",
       "      'branch': 'pyCIMS.Canada.Alberta.Residential.Buildings.Dishwashing',\n",
       "      'unit': 'unit/building',\n",
       "      'year_value': 1.0}]}}}}"
      ]
     },
     "execution_count": 49,
     "metadata": {},
     "output_type": "execute_result"
    }
   ],
   "source": [
    "alberta = search_nodes( g, \"Buildings\")[0]\n",
    "g.node[alberta]#['2000']"
   ]
  },
  {
   "cell_type": "code",
   "execution_count": 39,
   "metadata": {},
   "outputs": [
    {
     "ename": "TypeError",
     "evalue": "demand_process_func() missing 1 required positional argument: 'fuels'",
     "output_type": "error",
     "traceback": [
      "\u001b[0;31m---------------------------------------------------------------------------\u001b[0m",
      "\u001b[0;31mTypeError\u001b[0m                                 Traceback (most recent call last)",
      "\u001b[0;32m<ipython-input-39-6735ad883c2a>\u001b[0m in \u001b[0;36m<module>\u001b[0;34m\u001b[0m\n\u001b[1;32m      8\u001b[0m \u001b[0;34m\u001b[0m\u001b[0m\n\u001b[1;32m      9\u001b[0m     \u001b[0;31m# Traverse the sub-graph, processing as we encounter nodes\u001b[0m\u001b[0;34m\u001b[0m\u001b[0;34m\u001b[0m\u001b[0;34m\u001b[0m\u001b[0m\n\u001b[0;32m---> 10\u001b[0;31m     \u001b[0mtraverse_graph\u001b[0m\u001b[0;34m(\u001b[0m\u001b[0mg_demand\u001b[0m\u001b[0;34m,\u001b[0m \u001b[0mdemand_process_func\u001b[0m\u001b[0;34m)\u001b[0m\u001b[0;34m\u001b[0m\u001b[0;34m\u001b[0m\u001b[0m\n\u001b[0m",
      "\u001b[0;32m<ipython-input-25-b872fe45967c>\u001b[0m in \u001b[0;36mtraverse_graph\u001b[0;34m(sub_graph, node_process_func)\u001b[0m\n\u001b[1;32m     17\u001b[0m             \u001b[0mn_cur\u001b[0m \u001b[0;34m=\u001b[0m \u001b[0mactive_front\u001b[0m\u001b[0;34m[\u001b[0m\u001b[0;36m0\u001b[0m\u001b[0;34m]\u001b[0m\u001b[0;34m\u001b[0m\u001b[0;34m\u001b[0m\u001b[0m\n\u001b[1;32m     18\u001b[0m             \u001b[0;31m# Process that node in the sub-graph\u001b[0m\u001b[0;34m\u001b[0m\u001b[0;34m\u001b[0m\u001b[0;34m\u001b[0m\u001b[0m\n\u001b[0;32m---> 19\u001b[0;31m             \u001b[0mnode_process_func\u001b[0m\u001b[0;34m(\u001b[0m\u001b[0msub_graph\u001b[0m\u001b[0;34m,\u001b[0m \u001b[0mn_cur\u001b[0m\u001b[0;34m)\u001b[0m\u001b[0;34m\u001b[0m\u001b[0;34m\u001b[0m\u001b[0m\n\u001b[0m\u001b[1;32m     20\u001b[0m         \u001b[0;32melse\u001b[0m\u001b[0;34m:\u001b[0m\u001b[0;34m\u001b[0m\u001b[0;34m\u001b[0m\u001b[0m\n\u001b[1;32m     21\u001b[0m             \u001b[0;31m# Resolve a loop\u001b[0m\u001b[0;34m\u001b[0m\u001b[0;34m\u001b[0m\u001b[0;34m\u001b[0m\u001b[0m\n",
      "\u001b[0;31mTypeError\u001b[0m: demand_process_func() missing 1 required positional argument: 'fuels'"
     ]
    }
   ],
   "source": [
    "        \n",
    "equilibrium_threshold=0.05\n",
    "\n",
    "for year in years:\n",
    "\n",
    "    # Find the demand sub-graph\n",
    "    g_demand = get_subgraph(g, ['demand', 'standard'])\n",
    "    \n",
    "    # Traverse the sub-graph, processing as we encounter nodes\n",
    "    traverse_graph(g_demand, demand_process_func)    "
   ]
  },
  {
   "cell_type": "code",
   "execution_count": 30,
   "metadata": {},
   "outputs": [
    {
     "ename": "IndentationError",
     "evalue": "unexpected indent (<ipython-input-30-97287de04faf>, line 13)",
     "output_type": "error",
     "traceback": [
      "\u001b[0;36m  File \u001b[0;32m\"<ipython-input-30-97287de04faf>\"\u001b[0;36m, line \u001b[0;32m13\u001b[0m\n\u001b[0;31m    traverse_graph(g_demand, demand_process_func)\u001b[0m\n\u001b[0m    ^\u001b[0m\n\u001b[0;31mIndentationError\u001b[0m\u001b[0;31m:\u001b[0m unexpected indent\n"
     ]
    }
   ],
   "source": [
    "                # Calculate Service Cost for every node in the sub-graph\n",
    "                # calculate_service_cost(g_demand)\n",
    "\n",
    "                # Traverse the sub-graph, processing as we encounter nodes\n",
    "                traverse_graph(g_demand, demand_process_func)\n",
    "\n",
    "                # Aggregate demand\n",
    "                demand_by_fuel = self.aggregate(g_demand, ['demand'], agg_func=sum)\n",
    "                return demand_by_fuel\n",
    "\n",
    "            def calc_supply(demand):\n",
    "                def supply_process_func(node, with_estimates=False):\n",
    "                    pass\n",
    "\n",
    "                # Find the supply sub-graph\n",
    "                g_supply = get_subgraph(['supply', 'standard'])\n",
    "\n",
    "                # Traverse the sub-graph processing as we encounter nodes\n",
    "                traverse_graph(g_supply, supply_process_func)\n",
    "\n",
    "                # Find the prices by fuel (Note: Unsure. This might actually happen in the previous step...)\n",
    "                fuel_prices = {}\n",
    "\n",
    "                return fuel_prices\n",
    "\n",
    "            def equilibrium_check(dict1, dict2, threshold):\n",
    "                for fuel in dict1:\n",
    "                    abs_diff = abs(dict1[fuel] - dict2[fuel])\n",
    "                    rel_diff = abs_diff / dict1[fuel]\n",
    "                    if rel_diff > threshold:\n",
    "                        return False\n",
    "\n",
    "                return True\n",
    "\n",
    "            prev_prices = {}\n",
    "            equilibrium = False\n",
    "            while not equilibrium:\n",
    "                curr_demand = calc_demand(prev_prices)\n",
    "                curr_prices = calc_supply(curr_demand)\n",
    "                # equilibrium = equilibrium_check(prev_prices, curr_prices, equilibrium_threshold)\n",
    "                equilibrium = True\n",
    "\n",
    "                # prev_prices = curr_prices\n",
    "\n",
    "            # TODO: Add finishing procedures. Ex. Storing resulting prices and demands\n",
    "\n",
    "        for y in self.years:\n",
    "            run_year(y)\n",
    "\n",
    "    def search_nodes(self, search_term):\n",
    "        \"\"\"Search nodes to see if there is one that contains the search term in the final component of its name\"\"\"\n",
    "        def search(name):\n",
    "            components = name.split('.')\n",
    "            last_comp = components[-1]\n",
    "            return search_term.lower() in last_comp.lower()\n",
    "\n",
    "        return [n for n in self.graph.nodes if search(n)]\n",
    "\n",
    "    def aggregate(self, sub_graph, agg_key, agg_func=sum):\n",
    "        \"\"\"\n",
    "        Sum agg_val across all nodes in a given subgraph.\n",
    "        :param sub_graph: nx.Graph. The sub-graph to be aggregated over.\n",
    "        :param agg_key: List of str. The key list needed to access the values to be aggregated. Will be used to\n",
    "        :param agg_func:\n",
    "        :return:\n",
    "        \"\"\"\n",
    "\n",
    "        def get_val(dict, key_list, name_TEMP):\n",
    "            value = dict\n",
    "            for k in key_list:\n",
    "                value = value[k]\n",
    "            return value\n",
    "\n",
    "        values_by_node = [get_val(data, agg_key, name) for name, data in sub_graph.nodes(data=True)]\n",
    "\n",
    "        all_values = [(k, v) for values in values_by_node for k, v in values.items()]\n",
    "\n",
    "        # Make value lists, separated by key\n",
    "        value_lists = {}\n",
    "        for k, v in all_values:\n",
    "            try:\n",
    "                value_lists[k].append(v)\n",
    "            except KeyError:\n",
    "                value_lists[k] = [v]\n",
    "\n",
    "        # Aggregate each list by applying agg_function\n",
    "        aggregates = {k: agg_func(v) for k, v in value_lists.items()}\n",
    "\n",
    "        return aggregates"
   ]
  },
  {
   "cell_type": "code",
   "execution_count": null,
   "metadata": {},
   "outputs": [],
   "source": []
  },
  {
   "cell_type": "code",
   "execution_count": null,
   "metadata": {},
   "outputs": [],
   "source": []
  },
  {
   "cell_type": "code",
   "execution_count": null,
   "metadata": {},
   "outputs": [],
   "source": []
  },
  {
   "cell_type": "code",
   "execution_count": null,
   "metadata": {},
   "outputs": [],
   "source": []
  },
  {
   "cell_type": "code",
   "execution_count": null,
   "metadata": {},
   "outputs": [],
   "source": []
  },
  {
   "cell_type": "code",
   "execution_count": null,
   "metadata": {},
   "outputs": [],
   "source": [
    "\n",
    "# def life_cycle_cost(data):\n",
    "#     \"\"\"Note: operating cost is always empty\"\"\"\n",
    "#     if data[\"Capital cost\"][\"year_value\"] is not None:\n",
    "#         capcost = data[\"Capital cost\"][\"year_value\"]\n",
    "#     else:\n",
    "#         capcost = 0.0\n",
    "#     if data[\"Operating cost\"][\"year_value\"] is not None:\n",
    "#         opcost = data[\"Operating cost\"][\"year_value\"]\n",
    "#     else:\n",
    "#         opcost = 0.0\n",
    "        \n",
    "#     lcc = capcost + opcost \n",
    "#     return lcc\n",
    "    \n",
    "# def market_share(alltechs, v=10):\n",
    "#     numtechs = len(alltechs)\n",
    "#     all_lccs  = {}\n",
    "#     marketshares = {}\n",
    "    \n",
    "#     # alltechs is a dict of all (directly) competing tech subgraphs\n",
    "#     for tech, subgraph in alltechs.items():\n",
    "#         all_lccs[tech] = life_cycle_cost(subgraph)\n",
    "#     sum_v = sum(lcc**(-1.0*v) for lcc in all_lccs.values() if lcc > 0.0)\n",
    "    \n",
    "#     for tech, val in all_lccs.items():\n",
    "#         if val > 0.0:\n",
    "#             marketshares[tech] = (val**(-1.0*v))/sum_v\n",
    "#         else:\n",
    "#             marketshares[tech] = 0.0\n",
    "        \n",
    "#     return marketshares    "
   ]
  },
  {
   "cell_type": "code",
   "execution_count": null,
   "metadata": {},
   "outputs": [],
   "source": [
    "alberta = search_nodes( g_d, \"Alberta\")[0]\n",
    "g_d.node[alberta]['2000'].keys()"
   ]
  },
  {
   "cell_type": "code",
   "execution_count": null,
   "metadata": {},
   "outputs": [],
   "source": [
    "# get start values\n",
    "\n",
    "population = g_d.node[alberta]['2000'][\"Attribute\"][\"Population\"][\"year_value\"]\n",
    "gdp = g_d.node[alberta]['2000'][\"Attribute\"][\"GDP\"][\"year_value\"]\n",
    "ngas_price = g_d.node[alberta]['2000'][\"Price\"][\"Natural Gas\"][\"year_value\"]\n",
    "electricity_price = g_d.node[alberta]['2000'][\"Price\"][\"Electricity\"][\"year_value\"]\n",
    "\n",
    "household_per_person = g_d.node[alberta]['2000'][\"Service requested\"][\"Residential\"][\"year_value\"]\n",
    "num_households = household_per_person * population"
   ]
  },
  {
   "cell_type": "code",
   "execution_count": null,
   "metadata": {},
   "outputs": [],
   "source": [
    "residential = search_nodes( g_d, \"Residential\")[0]\n",
    "g_d.node[residential]['2000'].keys()"
   ]
  },
  {
   "cell_type": "code",
   "execution_count": null,
   "metadata": {},
   "outputs": [],
   "source": [
    "ngas_multiplier = g_d.node[residential]['2000'][\"Price Multiplier\"][\"Natural Gas\"][\"year_value\"]\n",
    "electricity_multiplier = g_d.node[residential]['2000'][\"Price Multiplier\"][\"Electricity\"][\"year_value\"]\n",
    "\n",
    "electricity_price *= electricity_multiplier\n",
    "ngas_price *= ngas_multiplier"
   ]
  },
  {
   "cell_type": "code",
   "execution_count": null,
   "metadata": {},
   "outputs": [],
   "source": [
    "# Start Buildings (parent of 1st tech compete)\n",
    "\n",
    "buildings = search_nodes( g_d, \"Buildings\")[0]\n",
    "g_d.node[buildings]['2000']['technologies'].keys()"
   ]
  },
  {
   "cell_type": "code",
   "execution_count": null,
   "metadata": {},
   "outputs": [],
   "source": [
    "marketshare_famdet = g_d.node[buildings]['2000']['technologies']['Single Family Detached']['Market share']['year_value']\n",
    "marketshare_famatt = g_d.node[buildings]['2000']['technologies']['Single Family Attached']['Market share']['year_value']\n",
    "marketshare_apartment = g_d.node[buildings]['2000']['technologies']['Aprtment']['Market share']['year_value']\n",
    "marketshare_mobile = g_d.node[buildings]['2000']['technologies']['Mobile']['Market share']['year_value']"
   ]
  },
  {
   "cell_type": "code",
   "execution_count": null,
   "metadata": {},
   "outputs": [],
   "source": [
    "g_d.node[buildings]['2000']['technologies']#['Single Family Detached']#['Service requested']#['Service requested'].keys()"
   ]
  },
  {
   "cell_type": "code",
   "execution_count": null,
   "metadata": {},
   "outputs": [],
   "source": [
    "# PROBLEM: Dict gets rewritten everytime the key is the same, so we can't get any values before clothes washing (eg for shell)\n",
    "\n",
    "# g_d.node[buildings]['2000']['Service requested']"
   ]
  },
  {
   "cell_type": "code",
   "execution_count": null,
   "metadata": {},
   "outputs": [],
   "source": [
    "# place values by hand due to problem above\n",
    "\n",
    "space_per_famdet = 138.52 # g_d.node[buildings]['2000']['Service requested']['Single Family Detached']\n",
    "space_per_famatt = 107.37\n",
    "space_per_apartment = 84.76\n",
    "space_per_mobile = 91.72\n",
    "\n",
    "all_famdet = space_per_famdet*(marketshare_famdet * num_households)\n",
    "all_famatt = space_per_famatt*(marketshare_famatt * num_households)\n",
    "all_apartment = space_per_apartment*(marketshare_apartment * num_households)\n",
    "all_mobile = space_per_mobile*(marketshare_mobile * num_households)\n",
    "\n",
    "all_space = all_famdet + all_famatt + all_apartment + all_mobile"
   ]
  },
  {
   "cell_type": "code",
   "execution_count": null,
   "metadata": {},
   "outputs": [],
   "source": [
    "# shell\n",
    "\n",
    "shell = search_nodes( g_d, \"Shell\")[0]\n",
    "g_d.node[shell]['2000']['technologies'].keys()"
   ]
  },
  {
   "cell_type": "code",
   "execution_count": null,
   "metadata": {},
   "outputs": [],
   "source": [
    "pre1960_sg = g_d.node[shell]['2000']['technologies']['Pre-1960']\n",
    "post1960_sg = g_d.node[shell]['2000']['technologies']['Post-1960']\n",
    "standard_sg = g_d.node[shell]['2000']['technologies']['Standard']\n",
    "R2000_sg = g_d.node[shell]['2000']['technologies']['R2000']\n",
    "LEED_sg = g_d.node[shell]['2000']['technologies']['LEED']\n",
    "\n",
    "\n",
    "# fetch v here\n",
    "v_shell = g_d.node[shell]['2000']['Heterogeneity']['v']['year_value']\n",
    "\n",
    "compete_shell = {\"Pre-1960\": pre1960_sg, \n",
    "                 \"Post-1960\": post1960_sg,\n",
    "                 \"Stadard\": standard_sg,\n",
    "                 \"R2000\": R2000_sg,\n",
    "                 \"LEED\": LEED_sg}"
   ]
  },
  {
   "cell_type": "code",
   "execution_count": null,
   "metadata": {},
   "outputs": [],
   "source": [
    "marketshare_pre1960 = pre1960_sg[\"Market share\"][\"year_value\"]\n",
    "marketshare_post1960 = post1960_sg[\"Market share\"][\"year_value\"]\n",
    "marketshare_standard = standard_sg[\"Market share\"][\"year_value\"]\n",
    "marketshare_R2000 = R2000_sg[\"Market share\"][\"year_value\"]\n",
    "marketshare_LEED = LEED_sg[\"Market share\"][\"year_value\"]\n"
   ]
  },
  {
   "cell_type": "code",
   "execution_count": null,
   "metadata": {},
   "outputs": [],
   "source": [
    "g_d.node[shell]['2000']['technologies'].keys()"
   ]
  },
  {
   "cell_type": "code",
   "execution_count": null,
   "metadata": {},
   "outputs": [],
   "source": [
    "# plug into 'output':is this correct\n",
    "\n",
    "g_d.node[shell]['2000']['technologies']['Pre-1960'][\"Output\"][\"year_value\"] = marketshare_pre1960*all_space\n",
    "g_d.node[shell]['2000']['technologies']['Post-1960'][\"Output\"][\"year_value\"] = marketshare_post1960*all_space\n",
    "g_d.node[shell]['2000']['technologies']['Standard'][\"Output\"][\"year_value\"] = marketshare_standard*all_space\n",
    "g_d.node[shell]['2000']['technologies']['R2000'][\"Output\"][\"year_value\"] = marketshare_R2000*all_space\n",
    "g_d.node[shell]['2000']['technologies']['LEED'][\"Output\"][\"year_value\"] = marketshare_LEED*all_space\n",
    "\n",
    "# # here same as output: just multiplied by 1\n",
    "pre1960 = g_d.node[shell]['2000']['technologies']['Pre-1960']['Service requested'][\"year_value\"]*marketshare_pre1960*all_space\n",
    "post1960 = g_d.node[shell]['2000']['technologies']['Post-1960']['Service requested'][\"year_value\"]*marketshare_post1960*all_space\n",
    "standard = g_d.node[shell]['2000']['technologies']['Standard']['Service requested'][\"year_value\"]*marketshare_standard*all_space\n",
    "R2000 = g_d.node[shell]['2000']['technologies']['R2000']['Service requested'][\"year_value\"]*marketshare_R2000*all_space\n",
    "LEED = g_d.node[shell]['2000']['technologies']['LEED']['Service requested'][\"year_value\"]*marketshare_LEED*all_space\n",
    "\n",
    "shellGJ = pre1960 + post1960 + standard + R2000 + LEED\n",
    "# note: in 2000, only pre- and post-1960 are available"
   ]
  },
  {
   "cell_type": "code",
   "execution_count": null,
   "metadata": {},
   "outputs": [],
   "source": [
    "#Space Heating\n",
    "\n",
    "space_heating = search_nodes(g_d, 'space heating')[0]\n",
    "g_d.node[space_heating]['2000']['technologies'].keys()"
   ]
  },
  {
   "cell_type": "code",
   "execution_count": null,
   "metadata": {},
   "outputs": [],
   "source": [
    "electric_baseboard_sg = g_d.node[space_heating]['2000']['technologies']['Electric baseboard']\n",
    "furnace_sg = g_d.node[space_heating]['2000']['technologies']['Furnace']\n",
    "# fetch v here\n",
    "v_space_heating = g_d.node[space_heating]['2000']['Heterogeneity']['v']['year_value']\n",
    "\n",
    "compete_space_heating = {\"Electric baseboard\": electric_baseboard_sg, \n",
    "                         \"Furnace\": furnace_sg}"
   ]
  },
  {
   "cell_type": "code",
   "execution_count": null,
   "metadata": {},
   "outputs": [],
   "source": [
    "marketshare_electric_baseboard = electric_baseboard_sg[\"Market share\"][\"year_value\"]\n",
    "marketshare_furnace = furnace_sg[\"Market share\"][\"year_value\"]"
   ]
  },
  {
   "cell_type": "code",
   "execution_count": null,
   "metadata": {},
   "outputs": [],
   "source": [
    "electric_baseboard_sg.keys()"
   ]
  },
  {
   "cell_type": "code",
   "execution_count": null,
   "metadata": {},
   "outputs": [],
   "source": [
    "g_d.node[space_heating]['2000']['technologies']['Electric baseboard'][\"Output\"][\"year_value\"] = marketshare_electric_baseboard*shellGJ\n",
    "g_d.node[space_heating]['2000']['technologies']['Furnace'][\"Output\"][\"year_value\"] = marketshare_furnace*shellGJ"
   ]
  },
  {
   "cell_type": "code",
   "execution_count": null,
   "metadata": {},
   "outputs": [],
   "source": [
    "electric_baseboard_requested = g_d.node[space_heating]['2000']['technologies']['Electric baseboard'][\"Service requested\"][\"year_value\"]*marketshare_electric_baseboard*shellGJ   \n",
    "furnace_requested = g_d.node[space_heating]['2000']['technologies']['Furnace'][\"Service requested\"][\"year_value\"]*marketshare_furnace*shellGJ   "
   ]
  },
  {
   "cell_type": "code",
   "execution_count": null,
   "metadata": {},
   "outputs": [],
   "source": [
    "# Furnace (sum with baseboard after)\n",
    "\n",
    "furnace = search_nodes( g_d, \"Furnace\")[0]\n",
    "g_d.node[furnace]['2000']['technologies'].keys()"
   ]
  },
  {
   "cell_type": "code",
   "execution_count": null,
   "metadata": {},
   "outputs": [],
   "source": [
    "natural_gas_sg = g_d.node[furnace]['2000']['technologies']['Natural Gas_existing']\n",
    "pump_air_sg = g_d.node[furnace]['2000']['technologies']['Heat pump_air source']\n",
    "pump_ground_sg = g_d.node[furnace]['2000']['technologies']['Heat pump_ground source']\n",
    "natural_gas_higheff_sg = g_d.node[furnace]['2000']['technologies']['Natural Gas_high efficiency']\n",
    "# fetch v here\n",
    "v_furnace = g_d.node[furnace]['2000']['Heterogeneity']['v']['year_value']\n",
    "\n",
    "compete_furnace = {\"Natual Gas\": natural_gas_sg, \n",
    "                   \"Pump Air\": pump_air_sg,\n",
    "                   \"Pump Ground\": pump_ground_sg,\n",
    "                   \"Natural Gas High Efficiency\": natural_gas_higheff_sg}"
   ]
  },
  {
   "cell_type": "code",
   "execution_count": null,
   "metadata": {},
   "outputs": [],
   "source": [
    "marketshare_natural_gas = natural_gas_sg[\"Market share\"][\"year_value\"]\n",
    "marketshare_pump_air = pump_air_sg[\"Market share\"][\"year_value\"]\n",
    "marketshare_pump_ground = pump_ground_sg[\"Market share\"][\"year_value\"]\n",
    "marketshare_natural_gas_higheff = natural_gas_higheff_sg[\"Market share\"][\"year_value\"]\n"
   ]
  },
  {
   "cell_type": "code",
   "execution_count": null,
   "metadata": {},
   "outputs": [],
   "source": [
    "g_d.node[furnace]['2000']['technologies']['Natural Gas_existing'][\"Output\"][\"year_value\"] = marketshare_natural_gas*furnace_requested\n",
    "g_d.node[furnace]['2000']['technologies']['Heat pump_air source'][\"Output\"][\"year_value\"] = marketshare_pump_air*furnace_requested \n",
    "g_d.node[furnace]['2000']['technologies']['Heat pump_ground source'][\"Output\"][\"year_value\"] = marketshare_pump_ground*furnace_requested \n",
    "g_d.node[furnace]['2000']['technologies']['Natural Gas_high efficiency'][\"Output\"][\"year_value\"] = marketshare_natural_gas_higheff*furnace_requested "
   ]
  },
  {
   "cell_type": "code",
   "execution_count": null,
   "metadata": {},
   "outputs": [],
   "source": [
    "natural_gas_requested = g_d.node[furnace]['2000']['technologies']['Natural Gas_existing'][\"Service requested\"][\"year_value\"]*marketshare_natural_gas*furnace_requested   \n",
    "natural_gas_requested += g_d.node[furnace]['2000']['technologies']['Natural Gas_high efficiency'][\"Service requested\"][\"year_value\"]*marketshare_natural_gas_higheff*furnace_requested   "
   ]
  },
  {
   "cell_type": "code",
   "execution_count": null,
   "metadata": {},
   "outputs": [],
   "source": [
    "electricity_requested = g_d.node[furnace]['2000']['technologies']['Heat pump_air source'][\"Service requested\"][\"year_value\"]*marketshare_pump_air*furnace_requested   \n",
    "electricity_requested += g_d.node[furnace]['2000']['technologies']['Heat pump_ground source'][\"Service requested\"][\"year_value\"]*marketshare_pump_ground*furnace_requested   "
   ]
  },
  {
   "cell_type": "code",
   "execution_count": null,
   "metadata": {},
   "outputs": [],
   "source": [
    "electricity_requested += electric_baseboard_requested "
   ]
  },
  {
   "cell_type": "code",
   "execution_count": null,
   "metadata": {},
   "outputs": [],
   "source": [
    "#Supply: electricity\n",
    "\n",
    "electricity = search_nodes( g, \"Electricity\")[0]\n",
    "g.node[electricity]['2000'].keys()"
   ]
  },
  {
   "cell_type": "code",
   "execution_count": null,
   "metadata": {},
   "outputs": [],
   "source": [
    "g[electricity]"
   ]
  },
  {
   "cell_type": "code",
   "execution_count": null,
   "metadata": {},
   "outputs": [],
   "source": []
  },
  {
   "cell_type": "code",
   "execution_count": null,
   "metadata": {},
   "outputs": [],
   "source": []
  },
  {
   "cell_type": "code",
   "execution_count": null,
   "metadata": {},
   "outputs": [],
   "source": []
  },
  {
   "cell_type": "code",
   "execution_count": null,
   "metadata": {},
   "outputs": [],
   "source": []
  },
  {
   "cell_type": "code",
   "execution_count": null,
   "metadata": {},
   "outputs": [],
   "source": []
  },
  {
   "cell_type": "code",
   "execution_count": null,
   "metadata": {},
   "outputs": [],
   "source": []
  },
  {
   "cell_type": "code",
   "execution_count": null,
   "metadata": {},
   "outputs": [],
   "source": []
  },
  {
   "cell_type": "code",
   "execution_count": null,
   "metadata": {},
   "outputs": [],
   "source": []
  },
  {
   "cell_type": "code",
   "execution_count": null,
   "metadata": {},
   "outputs": [],
   "source": []
  },
  {
   "cell_type": "code",
   "execution_count": null,
   "metadata": {},
   "outputs": [],
   "source": []
  },
  {
   "cell_type": "code",
   "execution_count": null,
   "metadata": {},
   "outputs": [],
   "source": []
  },
  {
   "cell_type": "code",
   "execution_count": null,
   "metadata": {},
   "outputs": [],
   "source": []
  },
  {
   "cell_type": "code",
   "execution_count": null,
   "metadata": {},
   "outputs": [],
   "source": []
  },
  {
   "cell_type": "code",
   "execution_count": null,
   "metadata": {},
   "outputs": [],
   "source": []
  },
  {
   "cell_type": "code",
   "execution_count": null,
   "metadata": {},
   "outputs": [],
   "source": [
    "space_heating = search_nodes(g, 'space heating')[0]\n",
    "furnace = search_nodes(g, 'Furnace')[0]"
   ]
  },
  {
   "cell_type": "code",
   "execution_count": null,
   "metadata": {},
   "outputs": [],
   "source": [
    "g.node[space_heating]['2000']['technologies'].keys()"
   ]
  },
  {
   "cell_type": "code",
   "execution_count": null,
   "metadata": {},
   "outputs": [],
   "source": [
    "electric_baseboard_sg = g.node[space_heating]['2000']['technologies']['Electric baseboard']\n",
    "furnace_sg = g.node[space_heating]['2000']['technologies']['Furnace']\n",
    "# fetch v here\n",
    "v_space_heating = g.node[space_heating]['2000']['Heterogeneity']['v']['year_value']\n",
    "\n",
    "compete_space_heating = {\"Electric baseboard\": electric_baseboard_sg, \n",
    "                         \"Furnace\": furnace_sg}"
   ]
  },
  {
   "cell_type": "code",
   "execution_count": null,
   "metadata": {},
   "outputs": [],
   "source": [
    "g.node[furnace]['2000']['technologies'].keys()"
   ]
  },
  {
   "cell_type": "code",
   "execution_count": null,
   "metadata": {},
   "outputs": [],
   "source": [
    "# heat \n",
    "\n",
    "natural_gas_existing_sg = g.node[furnace]['2000']['technologies']['Natural Gas_existing']\n",
    "heat_pump_air_source_sg = g.node[furnace]['2000']['technologies']['Heat pump_air source'] \n",
    "# heat_pump_ground_source_sg = g.node[furnace]['2000']['technologies']['Heat pump_ground source'] # unavail\n",
    "natural_gas_high_efficiency_sg = g.node[furnace]['2000']['technologies']['Natural Gas_high efficiency']\n",
    "v_furnace = g.node[furnace]['2000']['Heterogeneity']['v']['year_value']\n",
    "compete_furnace = {\"Natural Gas_existing\": natural_gas_existing_sg,\n",
    "                   \"Heat pump_air source\": heat_pump_air_source_sg,\n",
    "                   \"Natural Gas_high efficiency\": natural_gas_high_efficiency_sg}"
   ]
  },
  {
   "cell_type": "code",
   "execution_count": null,
   "metadata": {},
   "outputs": [],
   "source": [
    "electricity = search_nodes(g_supply, 'electricity')[0]\n",
    "natural_gas = search_nodes(g_supply, 'Natural Gas')[0]"
   ]
  },
  {
   "cell_type": "code",
   "execution_count": null,
   "metadata": {},
   "outputs": [],
   "source": [
    "electricity_sg = g_supply.node[electricity]['2000']\n",
    "natural_gas_sg = g_supply.node[natural_gas]['2000']"
   ]
  },
  {
   "cell_type": "code",
   "execution_count": null,
   "metadata": {},
   "outputs": [],
   "source": [
    "# initialize service cost (2000 weighted LLC * MS)"
   ]
  },
  {
   "cell_type": "code",
   "execution_count": null,
   "metadata": {},
   "outputs": [],
   "source": [
    "# get initial values\n",
    "natural_gas_existing_sg\n",
    "# natural_gas_high_efficiency_sg\n",
    "\n",
    "\n"
   ]
  },
  {
   "cell_type": "code",
   "execution_count": null,
   "metadata": {},
   "outputs": [],
   "source": [
    "a = market_share(compete_furnace)"
   ]
  },
  {
   "cell_type": "code",
   "execution_count": null,
   "metadata": {},
   "outputs": [],
   "source": [
    "a"
   ]
  },
  {
   "cell_type": "code",
   "execution_count": null,
   "metadata": {},
   "outputs": [],
   "source": []
  },
  {
   "cell_type": "code",
   "execution_count": null,
   "metadata": {},
   "outputs": [],
   "source": [
    "class Demand:\n",
    "    '''\n",
    "    \n",
    "    - **kwargs: dict of named arguments in \"argname\": value pairs to specify used economic indicators (GDP, population, etc)\n",
    "    '''\n",
    "\n",
    "    def __init__(self, data, v=10, keyfuel=\"kind\", return_all_info=False, **kwargs):\n",
    "        self.keyfuel = keyfuel\n",
    "        \n",
    "        self.dtechs = data[\"demand_step\"]\n",
    "        self.dfuels = data[\"supply_step\"]\n",
    "        \n",
    "        lccs = self.lcc_over_tech()\n",
    "        \n",
    "        if return_all_info:\n",
    "            tech_demand, tech_mshares = self.quantity_demanded(lccs, v=v, return_all_info=True)\n",
    "            fuel_demand = self.demand_by_fuel(tech_demand)\n",
    "            self.fuel_demand, self.tech_demand, self.tech_mshares = fuel_demand, tech_demand, tech_mshares\n",
    "        else:\n",
    "            tech_demand = self.quantity_demanded(lccs, v=v, return_all_info=False)\n",
    "            fuel_demand = self.demand_by_fuel(tech_demand)\n",
    "            self.fuel_demand = fuel_demand\n",
    "        \n",
    "        \n",
    "\n",
    "        \n",
    "    def get_quantity(self, ms, fuel_quantity):\n",
    "        demand = ms * fuel_quantity\n",
    "        return demand\n",
    "    \n",
    "    def lcc_over_tech(self, keytech = \"kind\", keysubtech = \"subtypes\",\n",
    "                            keyprice = \"price\", keycapcost = \"cap_cost\"):\n",
    "        # TODO: use some kwargs in lcc method in case there are arbitrary numbers of params\n",
    "        lccs = {}\n",
    "        # techdict is the entire subtree for the kth competing tech (demand side)\n",
    "        for techdict in self.dtechs:\n",
    "            # get the tech name (key) to use as a label for lcc\n",
    "            tech_k = techdict[keytech]\n",
    "            lccs[tech_k] = {}\n",
    "            # fetch all attributes/values for the (sub)tech that demands a fuel\n",
    "            # by `subtech` I mean e.g.: tech: furnace, subtech: type of furnace\n",
    "            subtechs = techdict[keysubtech]            \n",
    "            # loop over `subtechs`, get subtech name (key) and vals (all attributes associated w/ subtech)\n",
    "            for subtech, vals in subtechs.items():\n",
    "                # unpack components needed for lcc\n",
    "                price = vals[keyprice]\n",
    "                cc = vals[keycapcost]\n",
    "                lccs[tech_k][subtech] = self.life_cycle_cost(last_price=price, cap_cost=cc) # kwargs here\n",
    "        return lccs        \n",
    "                \n",
    "                \n",
    "    def quantity_demanded(self, lccs, v=10, return_all_info=True, keytech=\"kind\", \n",
    "                                keysubtech=\"subtypes\", keyquant=\"total_demand\"):\n",
    "        mshares, quants = {}, {}\n",
    "\n",
    "        # techdict is the entire subtree for the kth competing tech (demand side)            \n",
    "        for techdict in self.dtechs:\n",
    "            # fetch all attributes/values for the (sub)tech that demands a fuel\n",
    "            # by `subtech` I mean e.g.: tech: furnace, subtech: type of furnace\n",
    "            subtechs = techdict[keysubtech]\n",
    "            # loop over `subtechs`, get subtech name (key) and vals (all attributes associated w/ subtech)                \n",
    "                \n",
    "            for tech, vals in subtechs.items():\n",
    "                mshares[tech] = self.market_share(lccs[techdict[keytech]], tech, v=v)\n",
    "                quants[tech] = self.get_quantity(mshares[tech], techdict[keyquant])     \n",
    "                    \n",
    "        if return_all_info:\n",
    "            return quants, mshares\n",
    "        else:\n",
    "            return quants\n",
    "        \n",
    "    def demand_by_fuel(self, quants, keytechfuel=\"fuel\", keysubtech=\"subtypes\"):\n",
    "        by_fuel, sum_quants = {}, {}\n",
    "\n",
    "        # get only numbers for a given fuel, in both techs\n",
    "        for fkind in self.dfuels:\n",
    "            cur_fuel = fkind[self.keyfuel]\n",
    "            by_fuel[cur_fuel] = filter_obs(data, fuel_type=cur_fuel, val=\"fuel\", verbose=False)\n",
    "            sum_quants[cur_fuel] = sum(quants[subtype] for subtype in by_fuel[cur_fuel].keys())\n",
    "        return sum_quants    \n",
    "                    \n",
    "\n"
   ]
  },
  {
   "cell_type": "code",
   "execution_count": null,
   "metadata": {},
   "outputs": [],
   "source": []
  },
  {
   "cell_type": "code",
   "execution_count": null,
   "metadata": {},
   "outputs": [],
   "source": []
  },
  {
   "cell_type": "code",
   "execution_count": null,
   "metadata": {},
   "outputs": [],
   "source": []
  },
  {
   "cell_type": "markdown",
   "metadata": {},
   "source": [
    "#### Define classes for Supply and Demand:"
   ]
  },
  {
   "cell_type": "code",
   "execution_count": null,
   "metadata": {},
   "outputs": [],
   "source": [
    "class Demand:\n",
    "    '''\n",
    "    \n",
    "    - **kwargs: dict of named arguments in \"argname\": value pairs to specify used economic indicators (GDP, population, etc)\n",
    "    '''\n",
    "\n",
    "    def __init__(self, data, v=10, keyfuel=\"kind\", return_all_info=False, **kwargs):\n",
    "        self.keyfuel = keyfuel\n",
    "        \n",
    "        self.dtechs = data[\"demand_step\"]\n",
    "        self.dfuels = data[\"supply_step\"]\n",
    "        \n",
    "        lccs = self.lcc_over_tech()\n",
    "        \n",
    "        if return_all_info:\n",
    "            tech_demand, tech_mshares = self.quantity_demanded(lccs, v=v, return_all_info=True)\n",
    "            fuel_demand = self.demand_by_fuel(tech_demand)\n",
    "            self.fuel_demand, self.tech_demand, self.tech_mshares = fuel_demand, tech_demand, tech_mshares\n",
    "        else:\n",
    "            tech_demand = self.quantity_demanded(lccs, v=v, return_all_info=False)\n",
    "            fuel_demand = self.demand_by_fuel(tech_demand)\n",
    "            self.fuel_demand = fuel_demand\n",
    "        \n",
    "        \n",
    "    ## Methods for demand side calculations \n",
    "    def life_cycle_cost(self, last_price, cap_cost=0):\n",
    "        lcc = (last_price + cap_cost)\n",
    "        return lcc\n",
    "    \n",
    "    def market_share(self, lcc, techname, v=10):\n",
    "        # lcc is a dict\n",
    "        sum_v = sum(lcc[item]**(-1.0*v) for item in lcc)\n",
    "        ms = (lcc[techname]**(-1.0*v))/sum_v\n",
    "        return ms\n",
    "        \n",
    "    def get_quantity(self, ms, fuel_quantity):\n",
    "        demand = ms * fuel_quantity\n",
    "        return demand\n",
    "    \n",
    "    def lcc_over_tech(self, keytech = \"kind\", keysubtech = \"subtypes\",\n",
    "                            keyprice = \"price\", keycapcost = \"cap_cost\"):\n",
    "        # TODO: use some kwargs in lcc method in case there are arbitrary numbers of params\n",
    "        lccs = {}\n",
    "        # techdict is the entire subtree for the kth competing tech (demand side)\n",
    "        for techdict in self.dtechs:\n",
    "            # get the tech name (key) to use as a label for lcc\n",
    "            tech_k = techdict[keytech]\n",
    "            lccs[tech_k] = {}\n",
    "            # fetch all attributes/values for the (sub)tech that demands a fuel\n",
    "            # by `subtech` I mean e.g.: tech: furnace, subtech: type of furnace\n",
    "            subtechs = techdict[keysubtech]            \n",
    "            # loop over `subtechs`, get subtech name (key) and vals (all attributes associated w/ subtech)\n",
    "            for subtech, vals in subtechs.items():\n",
    "                # unpack components needed for lcc\n",
    "                price = vals[keyprice]\n",
    "                cc = vals[keycapcost]\n",
    "                lccs[tech_k][subtech] = self.life_cycle_cost(last_price=price, cap_cost=cc) # kwargs here\n",
    "        return lccs        \n",
    "                \n",
    "                \n",
    "    def quantity_demanded(self, lccs, v=10, return_all_info=True, keytech=\"kind\", \n",
    "                                keysubtech=\"subtypes\", keyquant=\"total_demand\"):\n",
    "        mshares, quants = {}, {}\n",
    "\n",
    "        # techdict is the entire subtree for the kth competing tech (demand side)            \n",
    "        for techdict in self.dtechs:\n",
    "            # fetch all attributes/values for the (sub)tech that demands a fuel\n",
    "            # by `subtech` I mean e.g.: tech: furnace, subtech: type of furnace\n",
    "            subtechs = techdict[keysubtech]\n",
    "            # loop over `subtechs`, get subtech name (key) and vals (all attributes associated w/ subtech)                \n",
    "                \n",
    "            for tech, vals in subtechs.items():\n",
    "                mshares[tech] = self.market_share(lccs[techdict[keytech]], tech, v=v)\n",
    "                quants[tech] = self.get_quantity(mshares[tech], techdict[keyquant])     \n",
    "                    \n",
    "        if return_all_info:\n",
    "            return quants, mshares\n",
    "        else:\n",
    "            return quants\n",
    "        \n",
    "    def demand_by_fuel(self, quants, keytechfuel=\"fuel\", keysubtech=\"subtypes\"):\n",
    "        by_fuel, sum_quants = {}, {}\n",
    "\n",
    "        # get only numbers for a given fuel, in both techs\n",
    "        for fkind in self.dfuels:\n",
    "            cur_fuel = fkind[self.keyfuel]\n",
    "            by_fuel[cur_fuel] = filter_obs(data, fuel_type=cur_fuel, val=\"fuel\", verbose=False)\n",
    "            sum_quants[cur_fuel] = sum(quants[subtype] for subtype in by_fuel[cur_fuel].keys())\n",
    "        return sum_quants    \n",
    "                    \n",
    "\n"
   ]
  },
  {
   "cell_type": "code",
   "execution_count": null,
   "metadata": {},
   "outputs": [],
   "source": [
    "class Supply:\n",
    "    def __init__(self, data, v=10, keyfuel=\"kind\", return_all_info=True, **kwargs):\n",
    "        self.keyfuel = keyfuel\n",
    "        \n",
    "        self.sfuels = data[\"supply_step\"]\n",
    "        lccs = self.lcc_over_production()\n",
    "        \n",
    "        if return_all_info:\n",
    "            self.tot_price, self.price, self.sup_mshares = self.get_fuelprice(lccs, v)\n",
    "        else:\n",
    "            self.tot_price = self.get_fuelprice(lccs, v)            \n",
    "            \n",
    "            \n",
    "    ## Methods for calculating demand side \n",
    "    def life_cycle_cost(self, last_price, cap_cost=0):\n",
    "        lcc = (last_price + cap_cost)\n",
    "        return lcc\n",
    "        \n",
    "    def market_share(self, lcc, prodname, v=10):\n",
    "        # lcc is a dict\n",
    "        sum_v = sum(lcc[item]**(-1.0*v) for item in lcc)\n",
    "        ms = (lcc[prodname]**(-1.0*v))/sum_v\n",
    "        return ms\n",
    "        \n",
    "    def get_price(self, ms, lcc):\n",
    "        price = ms*lcc       \n",
    "        return price\n",
    "                \n",
    "        \n",
    "        \n",
    "    def lcc_over_production(self, keyprod = \"subtypes\", keyprice = \"price\", keycapcost = \"cap_cost\"):  \n",
    "        lccs = {}        \n",
    "        for fueldict in self.sfuels:\n",
    "            # loop through each fuel, fueldict is entire subtree below each type of fuel\n",
    "            fueltype = fueldict[self.keyfuel]\n",
    "            lccs[fueltype] = {}\n",
    "            \n",
    "            for prod, vals in fueldict[keyprod].items():\n",
    "                # loop through each production type (say 'hydro' if fuel is 'electricity')\n",
    "                lccs[fueltype][prod] = self.life_cycle_cost(last_price=vals[keyprice], cap_cost=vals[keycapcost])\n",
    "        return lccs    \n",
    "    \n",
    "    def get_fuelprice(self, lccs, v = 10, keyprod = \"subtypes\", keyprice = \"price\", \n",
    "                            keycapcost = \"cap_cost\", return_all_info = True): \n",
    "        # distinguish the 2 types of lccs (one for added, one for price)\n",
    "        lcc_model, mshares, price, tot_price = {}, {}, {}, {}\n",
    "        \n",
    "        for fueldict in self.sfuels:\n",
    "            # loop through each fuel, fueldict is entire subtree below each type of fuel\n",
    "            fueltype = fueldict[self.keyfuel]                          \n",
    "            lcc_model[fueltype], mshares[fueltype], price[fueltype] = {}, {}, {}\n",
    "            for prod, vals in fueldict[keyprod].items():               \n",
    "                lcc_model[fueltype][prod] = self.life_cycle_cost(last_price=vals[keyprice], cap_cost=vals[keycapcost])\n",
    "                mshares[fueltype][prod] = self.market_share(lccs[fueltype], prod, v=v)                \n",
    "                price[fueltype][prod] = self.get_price(mshares[fueltype][prod], lcc_model[fueltype][prod])    # (total_quants[\"electricity\"])   \n",
    "            tot_price[fueltype] = sum(price[fueltype][p]/len(fueldict[keyprod].keys()) for p in fueldict[keyprod].keys())\n",
    "            # TODO!! check averaging method\n",
    "            \n",
    "        if return_all_info:\n",
    "            return tot_price, price, mshares \n",
    "        else:\n",
    "            return tot_price\n",
    "            \n",
    "            "
   ]
  },
  {
   "cell_type": "code",
   "execution_count": null,
   "metadata": {},
   "outputs": [],
   "source": [
    "class SupplyDemand:\n",
    "    '''\n",
    "    SUPPLY-DEMAND MODEL:\n",
    "        - Demand: estimate Quantity\n",
    "        - Supply: estimate Price\n",
    "        - Repeat using updated prices    \n",
    "    '''    \n",
    "    def __init__(self, data, verbose=True,\n",
    "                             demandkey=\"demand_step\",\n",
    "                             supplykey=\"supply_step\",\n",
    "                             reskeys=(\"dem_price_by_fuel\", \"quant_by_fuel\", \"sup_price_by_fuel\"),\n",
    "                             infokeys=(\"fuels\", \"price_diff\"),\n",
    "                             keyfuel=\"kind\"):\n",
    "        self.data = data   \n",
    "        self.techs = data[demandkey]\n",
    "        self.fuels = data[supplykey]\n",
    "        self.tempdata = deepcopy(data) # check in case data is unsafe to change\n",
    "        self.keyfuel = keyfuel\n",
    "        self.demandkey = demandkey\n",
    "        self.supplykey = supplykey\n",
    "        \n",
    "        # may want to make keys editable from args instead\n",
    "        self.reskeys = reskeys\n",
    "        self.results = DictAppend()\n",
    "        self.infokeys = infokeys\n",
    "        self.info = DictAppend()\n",
    "        \n",
    "        self.setup()\n",
    "        \n",
    "    def setup(self):\n",
    "        \n",
    "        self.demand = Demand(self.data)\n",
    "        quant_hat = self.demand.fuel_demand       \n",
    "\n",
    "        init_price = {ft[self.keyfuel]: find_price_for_fuel( fuel_type = ft[self.keyfuel], data = self.techs ) for ft in self.fuels}\n",
    "        self.supply = Supply(self.data)\n",
    "        price_hat = self.supply.tot_price\n",
    "        new_res = [init_price, quant_hat, price_hat]\n",
    "\n",
    "        for num, res in enumerate(new_res):\n",
    "            for resname, resval in res.items():\n",
    "                self.results[self.reskeys[num]][resname].append(resval)\n",
    "                \n",
    "                \n",
    "                \n",
    "    def iterate(self, relative_tol=0.05, max_iter=10, n_iter=0):\n",
    "        price_diff, price_thres, ge_thres = {}, {}, {}\n",
    "        \n",
    "        print(self.fuels)\n",
    "        \n",
    "        for ft in self.fuels: \n",
    "            # storing fuels used in current competition cluster\n",
    "            f = ft[self.keyfuel]\n",
    "            self.info[self.infokeys[0]].append(ft[self.keyfuel]) \n",
    "\n",
    "            # last demand price recoreded for fuel f (here just initial demand price)\n",
    "            last_price = self.results[self.reskeys[0]][f][-1] \n",
    "            # last supply price recoreded for fuel f\n",
    "            cur_price = self.results[self.reskeys[2]][f][-1]\n",
    "            price_diff[f] = np.abs(last_price - cur_price)\n",
    "            price_thres[f] = cur_price * relative_tol\n",
    "            ge_thres[f] = price_diff[f] > price_thres[f]\n",
    "            # store price difference\n",
    "            self.info[self.infokeys[1]].append( price_diff )\n",
    "        \n",
    "        while any(ge_thres) and n_iter <= max_iter:\n",
    "            # iterate until price diff >= relative_thres and until max number of iters reached\n",
    "            for fuel, is_ge in ge_thres.items():\n",
    "                new_price = self.results[self.reskeys[2]][fuel][-1]\n",
    "                # change price for fuel belonging to all techs in initial `dataset`\n",
    "                change_price_for_fuel( self.data[self.demandkey], fuel, new_price )\n",
    "\n",
    "            \n",
    "            self.demand = Demand(self.data)\n",
    "            quant_hat = self.demand.fuel_demand\n",
    "            new_price = {ft[self.keyfuel]: find_price_for_fuel( fuel_type = ft[self.keyfuel], data = self.techs ) for ft in self.fuels}\n",
    "            self.supply = Supply(self.data)\n",
    "            \n",
    "            price_hat = self.supply.tot_price\n",
    "            \n",
    "            for ft, val in new_price.items():\n",
    "                self.results[self.reskeys[0]][ft].append(val)\n",
    "            for ft, val in quant_hat.items():    \n",
    "                self.results[self.reskeys[1]][ft].append(val)\n",
    "            for ft, val in price_hat.items():\n",
    "                self.results[self.reskeys[2]][ft].append(val)          \n",
    "                \n",
    "            #TODO (done here oct 13 pm, check price diff vals, check label fuck up)\n",
    "            for f in self.info[\"fuels\"]:\n",
    "                last_price = self.results[\"dem_price_by_fuel\"][f][-1]    \n",
    "                cur_price = self.results[\"sup_price_by_fuel\"][f][-1]\n",
    "                price_diff[f] = np.abs(last_price - cur_price)\n",
    "                price_thres[f] = cur_price * relative_tol\n",
    "                ge_thres[f] = price_diff[f] > price_thres[f]\n",
    "                \n",
    "            self.info[\"price_diff\"].append( price_diff )\n",
    "            n_iter += 1\n",
    "\n",
    "                \n"
   ]
  },
  {
   "cell_type": "code",
   "execution_count": null,
   "metadata": {},
   "outputs": [],
   "source": [
    "sd = SupplyDemand(data)\n",
    "sd.iterate()"
   ]
  },
  {
   "cell_type": "code",
   "execution_count": null,
   "metadata": {},
   "outputs": [],
   "source": [
    "sd.results"
   ]
  },
  {
   "cell_type": "code",
   "execution_count": null,
   "metadata": {},
   "outputs": [],
   "source": [
    "demPrice = sd.results[\"dem_price_by_fuel\"][\"electricity\"]\n",
    "supPrice = sd.results['sup_price_by_fuel'][\"electricity\"]\n",
    "quants = sd.results[\"quant_by_fuel\"][\"electricity\"]"
   ]
  },
  {
   "cell_type": "code",
   "execution_count": null,
   "metadata": {},
   "outputs": [],
   "source": [
    "sd.info"
   ]
  },
  {
   "cell_type": "code",
   "execution_count": null,
   "metadata": {},
   "outputs": [],
   "source": []
  }
 ],
 "metadata": {
  "kernelspec": {
   "display_name": "Python 3",
   "language": "python",
   "name": "python3"
  },
  "language_info": {
   "codemirror_mode": {
    "name": "ipython",
    "version": 3
   },
   "file_extension": ".py",
   "mimetype": "text/x-python",
   "name": "python",
   "nbconvert_exporter": "python",
   "pygments_lexer": "ipython3",
   "version": "3.7.2"
  }
 },
 "nbformat": 4,
 "nbformat_minor": 2
}
