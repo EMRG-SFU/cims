{
 "cells": [
  {
   "cell_type": "markdown",
   "metadata": {},
   "source": [
    "## SIMPLEST SUPPLY/DEMAND DEMO"
   ]
  },
  {
   "cell_type": "markdown",
   "metadata": {},
   "source": [
    "- Base Model: \n",
    "   * 2 techs competing for energy source(lamp and heater), for 2 sources  (electricity and gas)\n",
    "   * fix supply capital cost to only initial factory cost, not changing costs like labour\n",
    "   * fix freq parameter (energy saving weight) to 1 (check: no freq for supply??)\n",
    "   * technologies don't die or become obsolete or change\n",
    "   * full quantity does not change\n",
    "   * capital cost does not change\n",
    "   \n"
   ]
  },
  {
   "cell_type": "markdown",
   "metadata": {},
   "source": [
    "TO DO: Find out how the functional form (or at least slope as linear) of demand is known. I was under the impression that only the supply function was fully unknown.\n",
    "\n",
    "Might be advantageous to build an iterator instead of while loop to find equilibrium"
   ]
  },
  {
   "cell_type": "code",
   "execution_count": 1,
   "metadata": {},
   "outputs": [],
   "source": [
    "# !jupyter nbconvert --to script supply_demand_new.ipynb"
   ]
  },
  {
   "cell_type": "code",
   "execution_count": 2,
   "metadata": {},
   "outputs": [],
   "source": [
    "%matplotlib inline\n",
    "\n",
    "import numpy as np\n",
    "from copy import deepcopy\n",
    "import matplotlib.pyplot as plt\n",
    "\n",
    "from helper.utils import * # for functions `process_subtypes`, `filter_fun`, `init_logger`"
   ]
  },
  {
   "cell_type": "code",
   "execution_count": 3,
   "metadata": {},
   "outputs": [],
   "source": [
    "# Start a log file (from utils module)\n",
    "init_logger(filename=\"supply_demand\")"
   ]
  },
  {
   "cell_type": "markdown",
   "metadata": {},
   "source": [
    "\n",
    "\n",
    "### Fake Data Setup:\n",
    "\n",
    "This data is structured as if it were the result of passing through the full model until the leaf and \n",
    "\n",
    "Note: I introduced a rate parameter to indicate the consumption rate of a tech unit"
   ]
  },
  {
   "cell_type": "code",
   "execution_count": 4,
   "metadata": {},
   "outputs": [],
   "source": [
    "'''\n",
    "THINK OF the problem of adjusting fuel quantity when there is demand from different 'cells',\n",
    "and at different levels\n",
    "'''\n",
    "\n",
    "data = {\"demand_step\":[{\"kind\": \"furnace\",\n",
    "                        \"priceUnits\": \"$\",\n",
    "                        \"unit\": \"GJ\",\n",
    "                        \"total_demand\": 10000,\n",
    "                        \"leaf\": True, # might need to change the 'leaf' paradigm (end use? unique key?)\n",
    "                        \"subtypes\": {\"furnace1\": {\"fuel\": \"electricity\",\n",
    "                                                  \"demand\": None,\n",
    "                                                  \"price\": 200,\n",
    "                                                  \"cap_cost\": 10},\n",
    "                                     \"furnace2\": {\"fuel\": \"electricity\",\n",
    "                                                  \"demand\": None,\n",
    "                                                  \"price\": 200,\n",
    "                                                  \"cap_cost\": 15},\n",
    "                                     \"furnace3\": {\"fuel\": \"gas\",\n",
    "                                                  \"demand\": None,\n",
    "                                                  \"price\": 150,\n",
    "                                                  \"cap_cost\": 30},\n",
    "                                     \"furnace4\": {\"fuel\": \"gas\",\n",
    "                                                  \"demand\": None,\n",
    "                                                  \"price\": 150,\n",
    "                                                  \"cap_cost\": 50}\n",
    "                                     } \n",
    "                        },\n",
    "                        {\"kind\": \"hot_water\",\n",
    "#                          \"end_use\": True, #?\n",
    "                         \"priceUnits\": \"$\",\n",
    "                         \"unit\": \"GJ\",\n",
    "                         \"total_demand\": 9000,\n",
    "                         \"leaf\": True,\n",
    "                         \"subtypes\": {\"hot_water1\": {\"fuel\": \"electricity\",\n",
    "                                                     \"demand\": None, \n",
    "                                                     \"price\": 2,\n",
    "                                                     \"cap_cost\": 5},\n",
    "                                      \"hot_water2\": {\"fuel\": \"electricity\",\n",
    "                                                     \"demand\": None,\n",
    "                                                     \"price\": 2,\n",
    "                                                     \"cap_cost\": 2},\n",
    "                                      \"hot_water3\": {\"fuel\": \"gas\",\n",
    "                                                     \"demand\": None,\n",
    "                                                     \"price\": 1.5,\n",
    "                                                     \"cap_cost\": 15}\n",
    "                                      }\n",
    "                        }],\n",
    "\n",
    "          \"supply_step\":[{\"kind\": \"electricity\",\n",
    "                          \"leaf\": True,\n",
    "                          \"supply\": 5000,\n",
    "                          \"subtypes\": {\"wind\": {\"price\": 110,\n",
    "                                                \"cap_cost\": 2},\n",
    "                                       \"hydro\": {\"price\": 100,\n",
    "                                                 \"cap_cost\": 5},\n",
    "                                       \"rocks\": {\"price\": 80,\n",
    "                                                 \"cap_cost\": 10}\n",
    "                                       } \n",
    "                          },\n",
    "                          {\"kind\": \"gas\",\n",
    "                           \"leaf\": True,\n",
    "                           \"supply\": 3000,\n",
    "                           \"subtypes\": {\"gas1\": {\"price\": 150,\n",
    "                                                 \"cap_cost\": 10},\n",
    "                                        \"gas2\": {\"price\": 120,\n",
    "                                                 \"cap_cost\": 0}\n",
    "                                        }\n",
    "                          }]\n",
    "       }   "
   ]
  },
  {
   "cell_type": "markdown",
   "metadata": {},
   "source": [
    "#### Example for selecting certain values that meet a requirement with the `process_subtypes` function defined in `utils.py`:\n",
    "\n",
    "Here showing values in all technologies that use electricity."
   ]
  },
  {
   "cell_type": "code",
   "execution_count": 5,
   "metadata": {},
   "outputs": [],
   "source": [
    "# by_elec = filter_obs(data, fuel_type = \"electricity\", val = \"fuel\", verbose=True)"
   ]
  },
  {
   "cell_type": "markdown",
   "metadata": {},
   "source": [
    "#### Define classes for Supply and Demand:"
   ]
  },
  {
   "cell_type": "code",
   "execution_count": 6,
   "metadata": {},
   "outputs": [],
   "source": [
    "class Demand:\n",
    "    '''\n",
    "    \n",
    "    - **kwargs: dict of named arguments in \"argname\": value pairs to specify used economic indicators (GDP, population, etc)\n",
    "    '''\n",
    "\n",
    "    def __init__(self, data, v=10, return_all_info=True, **kwargs):\n",
    "        \n",
    "        self.dtechs = data[\"demand_step\"]\n",
    "        self.dfuels = data[\"supply_step\"]\n",
    "        \n",
    "        lccs = self.lcc_over_tech()\n",
    "        \n",
    "        if return_all_info:\n",
    "            tech_demand, tech_mshares = self.quantity_demanded(lccs, v=v, return_all_info=True)\n",
    "            fuel_demand = self.demand_by_fuel(tech_demand)\n",
    "            self.fuel_demand, self.tech_demand, self.tech_mshares = fuel_demand, tech_demand, tech_mshares\n",
    "        else:\n",
    "            tech_demand = self.quantity_demanded(lccs, v=v, return_all_info=False)\n",
    "            fuel_demand = self.demand_by_fuel(tech_demand)\n",
    "            self.fuel_demand = fuel_demand\n",
    "        \n",
    "        \n",
    "    ## Methods for demand side calculations \n",
    "    def life_cycle_cost(self, last_price, cap_cost=0):\n",
    "        lcc = (last_price + cap_cost)\n",
    "        return lcc\n",
    "    \n",
    "    def market_share(self, lcc, techname, v=10):\n",
    "        # lcc is a dict\n",
    "        sum_v = sum(lcc[item]**(-1.0*v) for item in lcc)\n",
    "        ms = (lcc[techname]**(-1.0*v))/sum_v\n",
    "        return ms\n",
    "        \n",
    "    def get_quantity(self, ms, fuel_quantity):\n",
    "        demand = ms * fuel_quantity\n",
    "        return demand\n",
    "    \n",
    "    def lcc_over_tech(self, keytech = \"kind\", keysubtech = \"subtypes\",\n",
    "                            keyprice = \"price\", keycapcost = \"cap_cost\"):\n",
    "        # TODO: use some kwargs in lcc method in case there are arbitrary numbers of params\n",
    "        lccs = {}\n",
    "        # techdict is the entire subtree for the kth competing tech (demand side)\n",
    "        for techdict in self.dtechs:\n",
    "            # get the tech name (key) to use as a label for lcc\n",
    "            tech_k = techdict[keytech]\n",
    "            lccs[tech_k] = {}\n",
    "            # fetch all attributes/values for the (sub)tech that demands a fuel\n",
    "            # by `subtech` I mean e.g.: tech: furnace, subtech: type of furnace\n",
    "            subtechs = techdict[keysubtech]            \n",
    "            # loop over `subtechs`, get subtech name (key) and vals (all attributes associated w/ subtech)\n",
    "            for subtech, vals in subtechs.items():\n",
    "                # unpack components needed for lcc\n",
    "                price = vals[keyprice]\n",
    "                cc = vals[keycapcost]\n",
    "                lccs[tech_k][subtech] = self.life_cycle_cost(last_price=price, cap_cost=cc) # kwargs here\n",
    "        return lccs        \n",
    "                \n",
    "                \n",
    "    def quantity_demanded(self, lccs, v=10, return_all_info=True, keytech=\"kind\", \n",
    "                                keysubtech=\"subtypes\", keyquant=\"total_demand\"):\n",
    "        mshares, quants = {}, {}\n",
    "\n",
    "        # techdict is the entire subtree for the kth competing tech (demand side)            \n",
    "        for techdict in self.dtechs:\n",
    "            # fetch all attributes/values for the (sub)tech that demands a fuel\n",
    "            # by `subtech` I mean e.g.: tech: furnace, subtech: type of furnace\n",
    "            subtechs = techdict[keysubtech]\n",
    "            # loop over `subtechs`, get subtech name (key) and vals (all attributes associated w/ subtech)                \n",
    "                \n",
    "            for tech, vals in subtechs.items():\n",
    "                mshares[tech] = self.market_share(lccs[techdict[keytech]], tech, v=v)\n",
    "                quants[tech] = self.get_quantity(mshares[tech], techdict[keyquant])     \n",
    "                    \n",
    "        if return_all_info:\n",
    "            return quants, mshares\n",
    "        else:\n",
    "            return quants\n",
    "        \n",
    "    def demand_by_fuel(self, quants, keyfuel=\"kind\", keytechfuel=\"fuel\", keysubtech=\"subtypes\"):\n",
    "        by_fuel, sum_quants = {}, {}\n",
    "\n",
    "        # get only numbers for a given fuel, in both techs\n",
    "        for fkind in self.dfuels:\n",
    "            cur_fuel = fkind[keyfuel]\n",
    "#             cond_func = lambda value: value[keytechfuel] == cur_fuel \n",
    "#             by_fuel[cur_fuel] = process_subtypes( self.dtechs, filter_func, cond_func )\n",
    "            by_fuel[cur_fuel] = filter_obs(data, fuel_type = cur_fuel, val = \"fuel\", verbose=False)\n",
    "            sum_quants[cur_fuel] = sum(quants[subtype] for subtype in by_fuel[cur_fuel].keys())    \n",
    "            \n",
    "        return sum_quants    \n",
    "                    \n",
    "\n"
   ]
  },
  {
   "cell_type": "code",
   "execution_count": 7,
   "metadata": {},
   "outputs": [],
   "source": [
    "class Supply:\n",
    "    def __init__(self, data, v=10, return_all_info=True, **kwargs):\n",
    "        \n",
    "        self.sfuels = data[\"supply_step\"]\n",
    "        lccs = self.lcc_over_production()\n",
    "        \n",
    "        if return_all_info:\n",
    "            self.tot_price, self.price, self.sup_mshares = self.get_fuelprice(lccs, v)\n",
    "        else:\n",
    "            self.tot_price = self.get_fuelprice(lccs, v)            \n",
    "            \n",
    "            \n",
    "    ## Methods for calculating demand side \n",
    "    def life_cycle_cost(self, last_price, cap_cost=0):\n",
    "        lcc = (last_price + cap_cost)\n",
    "        return lcc\n",
    "        \n",
    "    def market_share(self, lcc, prodname, v=10):\n",
    "        # lcc is a dict\n",
    "        sum_v = sum(lcc[item]**(-1.0*v) for item in lcc)\n",
    "        ms = (lcc[prodname]**(-1.0*v))/sum_v\n",
    "        return ms\n",
    "        \n",
    "    def get_price(self, ms, lcc):\n",
    "        price = ms*lcc       \n",
    "        return price\n",
    "                \n",
    "        \n",
    "        \n",
    "    def lcc_over_production(self, keyfuel = \"kind\", keyprod = \"subtypes\",\n",
    "                                  keyprice = \"price\", keycapcost = \"cap_cost\"):  \n",
    "        lccs = {}        \n",
    "        for fueldict in self.sfuels:\n",
    "            # loop through each fuel, fueldict is entire subtree below each type of fuel\n",
    "            fueltype = fueldict[keyfuel]\n",
    "            lccs[fueltype] = {}\n",
    "            \n",
    "            for prod, vals in fueldict[keyprod].items():\n",
    "                # loop through each production type (say 'hydro' if fuel is 'electricity')\n",
    "                lccs[fueltype][prod] = self.life_cycle_cost(last_price=vals[keyprice], cap_cost=vals[keycapcost])\n",
    "        return lccs    \n",
    "    \n",
    "    def get_fuelprice(self, lccs, v = 10, keyfuel = \"kind\", keyprod = \"subtypes\",\n",
    "                           keyprice = \"price\", keycapcost = \"cap_cost\",\n",
    "                           return_all_info = True): \n",
    "        # distinguish the 2 types of lccs (one for added, one for price)\n",
    "        lcc_model, mshares, price, tot_price = {}, {}, {}, {}\n",
    "        \n",
    "        for fueldict in self.sfuels:\n",
    "            # loop through each fuel, fueldict is entire subtree below each type of fuel\n",
    "            fueltype = fueldict[keyfuel]                          \n",
    "            lcc_model[fueltype], mshares[fueltype], price[fueltype] = {}, {}, {}\n",
    "            for prod, vals in fueldict[keyprod].items():               \n",
    "                lcc_model[fueltype][prod] = self.life_cycle_cost(last_price=vals[keyprice], cap_cost=vals[keycapcost])\n",
    "                mshares[fueltype][prod] = self.market_share(lccs[fueltype], prod, v=v)                \n",
    "                price[fueltype][prod] = self.get_price(mshares[fueltype][prod], lcc_model[fueltype][prod])    # (total_quants[\"electricity\"])   \n",
    "            tot_price[fueltype] = sum(price[fueltype][p]/len(fueldict[keyprod].keys()) for p in fueldict[keyprod].keys())\n",
    "            # TODO!! change average from regular to weighted with lcc\n",
    "            \n",
    "        if return_all_info:\n",
    "            return tot_price, price, mshares \n",
    "        else:\n",
    "            return tot_price\n",
    "            \n",
    "            "
   ]
  },
  {
   "cell_type": "code",
   "execution_count": 8,
   "metadata": {},
   "outputs": [],
   "source": [
    "class SupplyDemand:\n",
    "    '''\n",
    "    SUPPLY-DEMAND MODEL:\n",
    "        - Demand: estimate Quantity\n",
    "        - Supply: estimate Price\n",
    "        - Repeat using updated prices    \n",
    "    '''    \n",
    "    def __init__(self, data, verbose=True,\n",
    "                             demandkey=\"demand_step\",\n",
    "                             supplykey=\"supply_step\",\n",
    "                             keyfuel=\"kind\"):\n",
    "        self.data = data   \n",
    "        self.techs = data[demandkey]\n",
    "        self.fuels = data[supplykey]\n",
    "        self.tempdata = deepcopy(data) # check in case data is unsafe to change\n",
    "        \n",
    "        self.demand = Demand(data)\n",
    "        self.supply = Supply(data)\n",
    "        \n",
    "        # may want to make keys editable\n",
    "        self.reskeys = (\"quant_by_fuel\", \"dem_price_by_fuel\", \"sup_price_by_fuel\")\n",
    "        self.infokeys = (\"price_diff\", \"quantity_per_tech\")\n",
    "        infovals = []\n",
    "        \n",
    "        self.results = dict.fromkeys(self.reskeys, infovals)\n",
    "        self.info = dict.fromkeys(self.infokeys, infovals)\n",
    "        self.info[\"fuels\"] = [ft[keyfuel] for ft in self.fuels]\n",
    "\n",
    "        # Not necessary to store here\n",
    "        self.info[\"mshares_demand\"] = []\n",
    "        \n",
    "        self.initialize()\n",
    "\n",
    "        \n",
    "    def initialize(self, keyfuel=\"kind\"):\n",
    "        \n",
    "        init_dem = self.get_demand()\n",
    "        # if verbose...\n",
    "        dem_mshares = init_dem.tech_mshares\n",
    "        quant_hat = init_dem.tech_demand\n",
    "        init_price = {ft[keyfuel]: find_price_for_fuel( fuel_type = ft[keyfuel], data = self.techs ) for ft in self.fuels}\n",
    "        init_sup = self.get_supply()\n",
    "        price_hat = init_sup.tot_price\n",
    "        new_res = [init_price, quant_hat, price_hat]\n",
    "        \n",
    "        idx = 0\n",
    "        for name, result in self.results.items():\n",
    "            self.results[name].append(new_res[idx])\n",
    "            idx += 1\n",
    "            \n",
    "        self.info[\"mshares_demand\"].append(dem_mshares)\n",
    "        \n",
    "        \n",
    "          \n",
    "    def iterate(self, relative_tol=0.05, max_iter=1, n_iter=0):\n",
    "        price_diff, price_thres, ge_thres = {}, {}, {}\n",
    "        \n",
    "        for f in self.info[\"fuels\"]:\n",
    "            last_price = self.results[\"dem_price_by_fuel\"][-1][f]    \n",
    "            cur_price = self.results[\"sup_price_by_fuel\"][-1][f]\n",
    "            price_diff[f] = np.abs(last_price - cur_price)\n",
    "            price_thres[f] = cur_price * relative_tol\n",
    "            ge_thres[f] = price_diff[f] > price_thres[f]\n",
    "\n",
    "        self.info[\"price_diff\"].append( price_diff )\n",
    "        \n",
    "        while any(ge_thres) and n_iter < max_iter:\n",
    "            for fuel, is_ge in ge_thres.items():\n",
    "                new_price = self.results[\"sup_price_by_fuel\"][-1][fuel]\n",
    "                # change price for fuel belonging to all techs in initial `dataset`\n",
    "                change_price_for_fuel( self.data[\"demand_step\"], fuel, new_price )\n",
    "\n",
    "            \n",
    "            new_dem = self.get_demand()\n",
    "            dem_mshares = new_dem.tech_mshares\n",
    "            quant_hat = new_dem.fuel_demand\n",
    "            new_price = {ft[\"kind\"]: find_price_for_fuel( fuel_type = ft[\"kind\"], data = self.techs ) for ft in self.fuels}\n",
    "            new_sup = self.get_supply()\n",
    "            \n",
    "            price_hat = new_sup.tot_price\n",
    "\n",
    "            self.results[\"dem_price_by_fuel\"].append(new_price)\n",
    "            self.results[\"quant_by_fuel\"].append(quant_hat)\n",
    "            self.results[\"sup_price_by_fuel\"].append(price_hat)\n",
    "            self.info[\"mshares_demand\"].append(dem_mshares)             \n",
    "                \n",
    "    \n",
    "            for f in self.info[\"fuels\"]:\n",
    "                last_price = self.results[\"dem_price_by_fuel\"][-1][f]    \n",
    "                cur_price = self.results[\"sup_price_by_fuel\"][-1][f]\n",
    "                price_diff[f] = np.abs(last_price - cur_price)\n",
    "                price_thres[f] = cur_price * relative_tol\n",
    "                ge_thres[f] = price_diff[f] > price_thres[f]\n",
    "                \n",
    "            self.info[\"price_diff\"].append( price_diff )\n",
    "            n_iter += 1\n",
    "\n",
    "            \n",
    "    def get_demand(self):\n",
    "        return self.demand\n",
    "\n",
    "    def get_supply(self):\n",
    "        return self.supply\n",
    "    \n",
    " "
   ]
  },
  {
   "cell_type": "code",
   "execution_count": 9,
   "metadata": {},
   "outputs": [],
   "source": [
    "sd = SupplyDemand(data)\n"
   ]
  },
  {
   "cell_type": "code",
   "execution_count": 10,
   "metadata": {},
   "outputs": [],
   "source": [
    "sd.iterate()"
   ]
  },
  {
   "cell_type": "code",
   "execution_count": 11,
   "metadata": {},
   "outputs": [],
   "source": [
    "# d = Demand\n",
    "# dir(sd)"
   ]
  },
  {
   "cell_type": "code",
   "execution_count": 12,
   "metadata": {},
   "outputs": [
    {
     "data": {
      "text/plain": [
       "{'quant_by_fuel': [{'electricity': 200, 'gas': 150},\n",
       "  {'furnace1': 1235.9643005551777,\n",
       "   'furnace2': 976.8193971510727,\n",
       "   'furnace3': 5773.960694230682,\n",
       "   'furnace4': 2013.2556080630673,\n",
       "   'hot_water1': 33.28530647595751,\n",
       "   'hot_water2': 8966.708407246982,\n",
       "   'hot_water3': 0.006286277059887388},\n",
       "  {'electricity': 31.42768280241502, 'gas': 61.06622728811647},\n",
       "  {'electricity': 0.0, 'gas': 0.0},\n",
       "  {'electricity': 0.0, 'gas': 0.0},\n",
       "  {'electricity': 11212.77741142919, 'gas': 7787.222588570809},\n",
       "  {'electricity': 31.42768280241502, 'gas': 61.06622728811647},\n",
       "  {'electricity': 0.0, 'gas': 0.0}],\n",
       " 'dem_price_by_fuel': [{'electricity': 200, 'gas': 150},\n",
       "  {'furnace1': 1235.9643005551777,\n",
       "   'furnace2': 976.8193971510727,\n",
       "   'furnace3': 5773.960694230682,\n",
       "   'furnace4': 2013.2556080630673,\n",
       "   'hot_water1': 33.28530647595751,\n",
       "   'hot_water2': 8966.708407246982,\n",
       "   'hot_water3': 0.006286277059887388},\n",
       "  {'electricity': 31.42768280241502, 'gas': 61.06622728811647},\n",
       "  {'electricity': 0.0, 'gas': 0.0},\n",
       "  {'electricity': 0.0, 'gas': 0.0},\n",
       "  {'electricity': 11212.77741142919, 'gas': 7787.222588570809},\n",
       "  {'electricity': 31.42768280241502, 'gas': 61.06622728811647},\n",
       "  {'electricity': 0.0, 'gas': 0.0}],\n",
       " 'sup_price_by_fuel': [{'electricity': 200, 'gas': 150},\n",
       "  {'furnace1': 1235.9643005551777,\n",
       "   'furnace2': 976.8193971510727,\n",
       "   'furnace3': 5773.960694230682,\n",
       "   'furnace4': 2013.2556080630673,\n",
       "   'hot_water1': 33.28530647595751,\n",
       "   'hot_water2': 8966.708407246982,\n",
       "   'hot_water3': 0.006286277059887388},\n",
       "  {'electricity': 31.42768280241502, 'gas': 61.06622728811647},\n",
       "  {'electricity': 0.0, 'gas': 0.0},\n",
       "  {'electricity': 0.0, 'gas': 0.0},\n",
       "  {'electricity': 11212.77741142919, 'gas': 7787.222588570809},\n",
       "  {'electricity': 31.42768280241502, 'gas': 61.06622728811647},\n",
       "  {'electricity': 0.0, 'gas': 0.0}]}"
      ]
     },
     "execution_count": 12,
     "metadata": {},
     "output_type": "execute_result"
    }
   ],
   "source": [
    "sd.results"
   ]
  },
  {
   "cell_type": "code",
   "execution_count": 16,
   "metadata": {},
   "outputs": [],
   "source": [
    "# d.__doc__"
   ]
  },
  {
   "cell_type": "code",
   "execution_count": 12,
   "metadata": {},
   "outputs": [
    {
     "data": {
      "text/plain": [
       "[{'electricity': 200, 'gas': 150},\n",
       " {'furnace1': 1235.9643005551777,\n",
       "  'furnace2': 976.8193971510727,\n",
       "  'furnace3': 5773.960694230682,\n",
       "  'furnace4': 2013.2556080630673,\n",
       "  'hot_water1': 33.28530647595751,\n",
       "  'hot_water2': 8966.708407246982,\n",
       "  'hot_water3': 0.006286277059887388},\n",
       " {'electricity': 31.42768280241502, 'gas': 61.06622728811647},\n",
       " {'electricity': 0.0, 'gas': 0.0},\n",
       " {'electricity': 0.0, 'gas': 0.0},\n",
       " {'electricity': 11212.77741142919, 'gas': 7787.222588570809},\n",
       " {'electricity': 31.42768280241502, 'gas': 61.06622728811647},\n",
       " {'electricity': 0.0, 'gas': 0.0},\n",
       " {'electricity': 0.0, 'gas': 0.0},\n",
       " {'electricity': 11212.77741142919, 'gas': 7787.222588570809},\n",
       " {'electricity': 31.42768280241502, 'gas': 61.06622728811647},\n",
       " {'electricity': 0.0, 'gas': 0.0},\n",
       " {'electricity': 0.0, 'gas': 0.0},\n",
       " {'electricity': 11212.77741142919, 'gas': 7787.222588570809},\n",
       " {'electricity': 31.42768280241502, 'gas': 61.06622728811647},\n",
       " {'electricity': 0.0, 'gas': 0.0},\n",
       " {'electricity': 0.0, 'gas': 0.0},\n",
       " {'electricity': 11212.77741142919, 'gas': 7787.222588570809},\n",
       " {'electricity': 31.42768280241502, 'gas': 61.06622728811647},\n",
       " {'electricity': 0.0, 'gas': 0.0},\n",
       " {'electricity': 0.0, 'gas': 0.0},\n",
       " {'electricity': 11212.77741142919, 'gas': 7787.222588570809},\n",
       " {'electricity': 31.42768280241502, 'gas': 61.06622728811647},\n",
       " {'electricity': 0.0, 'gas': 0.0}]"
      ]
     },
     "execution_count": 12,
     "metadata": {},
     "output_type": "execute_result"
    }
   ],
   "source": [
    "sd.info[\"price_diff\"]"
   ]
  },
  {
   "cell_type": "code",
   "execution_count": 21,
   "metadata": {},
   "outputs": [
    {
     "data": {
      "text/plain": [
       "{'quant_by_fuel': [{'electricity': 200, 'gas': 150},\n",
       "  {'furnace1': 1235.9643005551777,\n",
       "   'furnace2': 976.8193971510727,\n",
       "   'furnace3': 5773.960694230682,\n",
       "   'furnace4': 2013.2556080630673,\n",
       "   'hot_water1': 33.28530647595751,\n",
       "   'hot_water2': 8966.708407246982,\n",
       "   'hot_water3': 0.006286277059887388},\n",
       "  {'electricity': 31.42768280241502, 'gas': 61.06622728811647}],\n",
       " 'dem_price_by_fuel': [{'electricity': 200, 'gas': 150},\n",
       "  {'furnace1': 1235.9643005551777,\n",
       "   'furnace2': 976.8193971510727,\n",
       "   'furnace3': 5773.960694230682,\n",
       "   'furnace4': 2013.2556080630673,\n",
       "   'hot_water1': 33.28530647595751,\n",
       "   'hot_water2': 8966.708407246982,\n",
       "   'hot_water3': 0.006286277059887388},\n",
       "  {'electricity': 31.42768280241502, 'gas': 61.06622728811647}],\n",
       " 'sup_price_by_fuel': [{'electricity': 200, 'gas': 150},\n",
       "  {'furnace1': 1235.9643005551777,\n",
       "   'furnace2': 976.8193971510727,\n",
       "   'furnace3': 5773.960694230682,\n",
       "   'furnace4': 2013.2556080630673,\n",
       "   'hot_water1': 33.28530647595751,\n",
       "   'hot_water2': 8966.708407246982,\n",
       "   'hot_water3': 0.006286277059887388},\n",
       "  {'electricity': 31.42768280241502, 'gas': 61.06622728811647}]}"
      ]
     },
     "execution_count": 21,
     "metadata": {},
     "output_type": "execute_result"
    }
   ],
   "source": [
    "sd.results\n",
    "\n",
    "# CHECK QUANT by fuewl (with tech instead below)"
   ]
  },
  {
   "cell_type": "code",
   "execution_count": 22,
   "metadata": {},
   "outputs": [],
   "source": [
    "sd.iterate()"
   ]
  },
  {
   "cell_type": "code",
   "execution_count": 21,
   "metadata": {},
   "outputs": [
    {
     "data": {
      "text/plain": [
       "{'price_diff': [{'electricity': 0.0, 'gas': 0.0},\n",
       "  {'electricity': 0.0, 'gas': 0.0},\n",
       "  {'electricity': 0.0, 'gas': 0.0},\n",
       "  {'electricity': 0.0, 'gas': 0.0},\n",
       "  {'electricity': 0.0, 'gas': 0.0},\n",
       "  {'electricity': 0.0, 'gas': 0.0}],\n",
       " 'mshares_demand': [{'furnace1': 0.12359643005551776,\n",
       "   'furnace2': 0.09768193971510727,\n",
       "   'furnace3': 0.5773960694230682,\n",
       "   'furnace4': 0.20132556080630673,\n",
       "   'hot_water1': 0.0036983673862175017,\n",
       "   'hot_water2': 0.9963009341385536,\n",
       "   'hot_water3': 6.984752288763765e-07},\n",
       "  {'furnace1': 0.12359643005551776,\n",
       "   'furnace2': 0.09768193971510727,\n",
       "   'furnace3': 0.5773960694230682,\n",
       "   'furnace4': 0.20132556080630673,\n",
       "   'hot_water1': 0.0036983673862175017,\n",
       "   'hot_water2': 0.9963009341385536,\n",
       "   'hot_water3': 6.984752288763765e-07},\n",
       "  {'furnace1': 0.12359643005551776,\n",
       "   'furnace2': 0.09768193971510727,\n",
       "   'furnace3': 0.5773960694230682,\n",
       "   'furnace4': 0.20132556080630673,\n",
       "   'hot_water1': 0.0036983673862175017,\n",
       "   'hot_water2': 0.9963009341385536,\n",
       "   'hot_water3': 6.984752288763765e-07},\n",
       "  {'furnace1': 0.12359643005551776,\n",
       "   'furnace2': 0.09768193971510727,\n",
       "   'furnace3': 0.5773960694230682,\n",
       "   'furnace4': 0.20132556080630673,\n",
       "   'hot_water1': 0.0036983673862175017,\n",
       "   'hot_water2': 0.9963009341385536,\n",
       "   'hot_water3': 6.984752288763765e-07},\n",
       "  {'furnace1': 0.12359643005551776,\n",
       "   'furnace2': 0.09768193971510727,\n",
       "   'furnace3': 0.5773960694230682,\n",
       "   'furnace4': 0.20132556080630673,\n",
       "   'hot_water1': 0.0036983673862175017,\n",
       "   'hot_water2': 0.9963009341385536,\n",
       "   'hot_water3': 6.984752288763765e-07},\n",
       "  {'furnace1': 0.12359643005551776,\n",
       "   'furnace2': 0.09768193971510727,\n",
       "   'furnace3': 0.5773960694230682,\n",
       "   'furnace4': 0.20132556080630673,\n",
       "   'hot_water1': 0.0036983673862175017,\n",
       "   'hot_water2': 0.9963009341385536,\n",
       "   'hot_water3': 6.984752288763765e-07}],\n",
       " 'lcc_demand': [],\n",
       " 'mshares_supply': [],\n",
       " 'quantity_per_tech': [],\n",
       " 'price_per_production': [],\n",
       " 'n_iters': None,\n",
       " 'fuels': ['electricity', 'gas']}"
      ]
     },
     "execution_count": 21,
     "metadata": {},
     "output_type": "execute_result"
    }
   ],
   "source": [
    "sd.info"
   ]
  },
  {
   "cell_type": "code",
   "execution_count": 39,
   "metadata": {},
   "outputs": [
    {
     "data": {
      "text/plain": [
       "[{'electricity': 0.0, 'gas': 0.0},\n",
       " {'electricity': 0.0, 'gas': 0.0},\n",
       " {'electricity': 0.0, 'gas': 0.0},\n",
       " {'electricity': 0.0, 'gas': 0.0},\n",
       " {'electricity': 0.0, 'gas': 0.0},\n",
       " {'electricity': 0.0, 'gas': 0.0}]"
      ]
     },
     "execution_count": 39,
     "metadata": {},
     "output_type": "execute_result"
    }
   ],
   "source": [
    "sd.info[\"price_diff\"]"
   ]
  },
  {
   "cell_type": "code",
   "execution_count": null,
   "metadata": {},
   "outputs": [],
   "source": []
  },
  {
   "cell_type": "code",
   "execution_count": null,
   "metadata": {},
   "outputs": [],
   "source": []
  },
  {
   "cell_type": "code",
   "execution_count": null,
   "metadata": {},
   "outputs": [],
   "source": []
  },
  {
   "cell_type": "code",
   "execution_count": null,
   "metadata": {},
   "outputs": [],
   "source": []
  },
  {
   "cell_type": "code",
   "execution_count": null,
   "metadata": {},
   "outputs": [],
   "source": []
  },
  {
   "cell_type": "code",
   "execution_count": null,
   "metadata": {},
   "outputs": [],
   "source": []
  },
  {
   "cell_type": "code",
   "execution_count": null,
   "metadata": {},
   "outputs": [],
   "source": []
  },
  {
   "cell_type": "code",
   "execution_count": null,
   "metadata": {},
   "outputs": [],
   "source": []
  },
  {
   "cell_type": "code",
   "execution_count": null,
   "metadata": {},
   "outputs": [],
   "source": []
  },
  {
   "cell_type": "code",
   "execution_count": null,
   "metadata": {},
   "outputs": [],
   "source": []
  },
  {
   "cell_type": "code",
   "execution_count": null,
   "metadata": {},
   "outputs": [],
   "source": []
  },
  {
   "cell_type": "code",
   "execution_count": null,
   "metadata": {},
   "outputs": [],
   "source": []
  },
  {
   "cell_type": "code",
   "execution_count": null,
   "metadata": {},
   "outputs": [],
   "source": []
  },
  {
   "cell_type": "code",
   "execution_count": null,
   "metadata": {},
   "outputs": [],
   "source": []
  },
  {
   "cell_type": "code",
   "execution_count": null,
   "metadata": {},
   "outputs": [],
   "source": []
  },
  {
   "cell_type": "code",
   "execution_count": null,
   "metadata": {},
   "outputs": [],
   "source": []
  },
  {
   "cell_type": "code",
   "execution_count": null,
   "metadata": {},
   "outputs": [],
   "source": []
  },
  {
   "cell_type": "code",
   "execution_count": null,
   "metadata": {},
   "outputs": [],
   "source": []
  },
  {
   "cell_type": "code",
   "execution_count": null,
   "metadata": {},
   "outputs": [],
   "source": []
  },
  {
   "cell_type": "code",
   "execution_count": null,
   "metadata": {},
   "outputs": [],
   "source": []
  },
  {
   "cell_type": "code",
   "execution_count": null,
   "metadata": {},
   "outputs": [],
   "source": []
  },
  {
   "cell_type": "code",
   "execution_count": null,
   "metadata": {},
   "outputs": [],
   "source": []
  },
  {
   "cell_type": "code",
   "execution_count": null,
   "metadata": {},
   "outputs": [],
   "source": []
  },
  {
   "cell_type": "code",
   "execution_count": null,
   "metadata": {},
   "outputs": [],
   "source": []
  },
  {
   "cell_type": "code",
   "execution_count": null,
   "metadata": {},
   "outputs": [],
   "source": []
  },
  {
   "cell_type": "code",
   "execution_count": null,
   "metadata": {},
   "outputs": [],
   "source": []
  },
  {
   "cell_type": "code",
   "execution_count": null,
   "metadata": {},
   "outputs": [],
   "source": []
  },
  {
   "cell_type": "code",
   "execution_count": null,
   "metadata": {},
   "outputs": [],
   "source": []
  },
  {
   "cell_type": "code",
   "execution_count": 17,
   "metadata": {},
   "outputs": [
    {
     "ename": "SyntaxError",
     "evalue": "invalid character in identifier (<ipython-input-17-d326b980e3f8>, line 2)",
     "output_type": "error",
     "traceback": [
      "\u001b[0;36m  File \u001b[0;32m\"<ipython-input-17-d326b980e3f8>\"\u001b[0;36m, line \u001b[0;32m2\u001b[0m\n\u001b[0;31m    def __init__(self, data):\u001b[0m\n\u001b[0m      ^\u001b[0m\n\u001b[0;31mSyntaxError\u001b[0m\u001b[0;31m:\u001b[0m invalid character in identifier\n"
     ]
    }
   ],
   "source": [
    "class SupplyDemand:\n",
    "    def __init__(self, data):\n",
    "        \n",
    "        self.data = data   \n",
    "        self.techs = data[\"demand_step\"]\n",
    "        self.fuels = data[\"supply_step\"]\n",
    "            \n",
    "        self.results = {}\n",
    "        self.info = {}\n",
    "\n",
    "        self.results[\"quant_by_fuel\"] = []\n",
    "        self.results[\"dem_price_by_fuel\"] = []\n",
    "        self.results[\"sup_price_by_fuel\"] = []\n",
    "        \n",
    "        self.info[\"price_diff\"] = []\n",
    "        self.info[\"fuels\"] = []\n",
    "        self.info[\"mshares_demand\"] = []\n",
    "        self.info[\"lcc_demand\"] = []\n",
    "        self.info[\"mshares_supply\"] = []\n",
    "        self.info[\"quantity_per_tech\"] = []\n",
    "        self.info[\"price_per_production\"] = []\n",
    "        self.info[\"n_iters\"] = None\n",
    "        \n",
    "#        self.initialize()\n",
    "#         self.iterate()\n",
    "\n",
    "    def initialize(self, to_condition=\"fuel\"):\n",
    "        init_dem = self.get_demand(data)\n",
    "        init_price = {ft[\"kind\"]: find_price_for_fuel( fuel_type = ft[\"kind\"], data = self.techs ) for ft in self.fuels}\n",
    "\n",
    "        dem_mshares = init_dem.mshares\n",
    "        quant_hat = init_dem.quants\n",
    "        \n",
    "#         init_sup = self.get_supply()\n",
    "#         price_hat = init_sup.tot_price\n",
    "        \n",
    "        self.results[\"dem_price_by_fuel\"].append(init_price)\n",
    "        self.results[\"quant_by_fuel\"].append(quant_hat)\n",
    "#         self.results[\"sup_price_by_fuel\"].append(price_hat)\n",
    "        self.info[\"mshares_demand\"].append(dem_mshares)\n",
    "    \n",
    "\n",
    "          \n",
    "    def iterate(self, relative_tol=0.05, max_iter=100, to_condition=\"fuel\"):\n",
    "        pass        \n",
    "        \n",
    "    def get_demand(self):\n",
    "        return self.demand\n",
    "\n",
    "    def get_supply(self):\n",
    "        pass\n",
    "    "
   ]
  },
  {
   "cell_type": "code",
   "execution_count": null,
   "metadata": {},
   "outputs": [],
   "source": []
  },
  {
   "cell_type": "code",
   "execution_count": null,
   "metadata": {},
   "outputs": [],
   "source": []
  },
  {
   "cell_type": "code",
   "execution_count": null,
   "metadata": {},
   "outputs": [],
   "source": []
  },
  {
   "cell_type": "code",
   "execution_count": null,
   "metadata": {},
   "outputs": [],
   "source": []
  },
  {
   "cell_type": "code",
   "execution_count": null,
   "metadata": {},
   "outputs": [],
   "source": []
  },
  {
   "cell_type": "code",
   "execution_count": null,
   "metadata": {},
   "outputs": [],
   "source": [
    "# a = Demand(techs)\n",
    "\n",
    "# print(a.quants)\n",
    "# print(a.mshares)"
   ]
  },
  {
   "cell_type": "code",
   "execution_count": null,
   "metadata": {},
   "outputs": [],
   "source": [
    "a.mshares[\"furnace1\"] + a.mshares[\"furnace2\"] + a.mshares[\"furnace3\"] + a.mshares[\"furnace4\"]"
   ]
  },
  {
   "cell_type": "code",
   "execution_count": null,
   "metadata": {},
   "outputs": [],
   "source": [
    "a.mshares[\"hot_water1\"] + a.mshares[\"hot_water2\"] + a.mshares[\"hot_water3\"]"
   ]
  },
  {
   "cell_type": "code",
   "execution_count": null,
   "metadata": {},
   "outputs": [],
   "source": [
    "sup"
   ]
  },
  {
   "cell_type": "code",
   "execution_count": null,
   "metadata": {},
   "outputs": [],
   "source": [
    "b = Supply(sup)"
   ]
  },
  {
   "cell_type": "code",
   "execution_count": null,
   "metadata": {},
   "outputs": [],
   "source": [
    "b.mshares"
   ]
  },
  {
   "cell_type": "code",
   "execution_count": null,
   "metadata": {},
   "outputs": [],
   "source": [
    "b.price"
   ]
  },
  {
   "cell_type": "code",
   "execution_count": null,
   "metadata": {},
   "outputs": [],
   "source": [
    "b.tot_price"
   ]
  },
  {
   "cell_type": "code",
   "execution_count": null,
   "metadata": {},
   "outputs": [],
   "source": [
    "b.mshares[\"wind\"] + b.mshares[\"hydro\"] + b.mshares[\"rocks\"]"
   ]
  },
  {
   "cell_type": "code",
   "execution_count": null,
   "metadata": {},
   "outputs": [],
   "source": [
    "b.mshares[\"gas1\"] + b.mshares[\"gas2\"]"
   ]
  },
  {
   "cell_type": "code",
   "execution_count": null,
   "metadata": {},
   "outputs": [],
   "source": [
    "techs"
   ]
  },
  {
   "cell_type": "code",
   "execution_count": null,
   "metadata": {},
   "outputs": [],
   "source": [
    "sd = SupplyDemand(techs, sup)"
   ]
  },
  {
   "cell_type": "code",
   "execution_count": null,
   "metadata": {},
   "outputs": [],
   "source": [
    "sd.results"
   ]
  },
  {
   "cell_type": "code",
   "execution_count": null,
   "metadata": {},
   "outputs": [],
   "source": [
    "sd.info"
   ]
  },
  {
   "cell_type": "code",
   "execution_count": null,
   "metadata": {},
   "outputs": [],
   "source": []
  },
  {
   "cell_type": "code",
   "execution_count": null,
   "metadata": {},
   "outputs": [],
   "source": []
  },
  {
   "cell_type": "code",
   "execution_count": null,
   "metadata": {},
   "outputs": [],
   "source": []
  },
  {
   "cell_type": "code",
   "execution_count": null,
   "metadata": {},
   "outputs": [],
   "source": []
  },
  {
   "cell_type": "code",
   "execution_count": null,
   "metadata": {},
   "outputs": [],
   "source": []
  },
  {
   "cell_type": "code",
   "execution_count": null,
   "metadata": {},
   "outputs": [],
   "source": [
    "# Note: might want to use sqlite, relational database could be better suited for this data\n",
    "\n",
    "techs = [{\"kind\": \"furnace\",\n",
    "        \"quantity\": [10000],\n",
    "        \"priceUnits\": \"$\",\n",
    "        \"unit\": \"GJ\",\n",
    "        \"leaf\": True,\n",
    "        \"subtypes\": {\"type\": \"furnace1\",\n",
    "                     \"fuel\": \"electricity\",\n",
    "                     \"demand\": 2000,\n",
    "                     \"price\": 2000,\n",
    "                     \"cap_cost\": 10},\n",
    "                     {\"type\": \"furnace2\",\n",
    "                      \"fuel\": \"electricity\",\n",
    "                      \"demand\": 4000,\n",
    "                      \"price\": 2000,\n",
    "                      \"cap_cost\": 15},\n",
    "                       {\"type\": \"furnace3\",\n",
    "                        \"fuel\": \"gas\",\n",
    "                        \"demand\": 3000,\n",
    "                        \"price\": 1500,\n",
    "                        \"cap_cost\": 30},\n",
    "                       {\"type\": \"furnace4\",\n",
    "                        \"fuel\": \"gas\",\n",
    "                        \"demand\": 1000,\n",
    "                        \"price\": 1500,\n",
    "                        \"cap_cost\": 100}\n",
    "                     \n",
    "        },\n",
    "        {\"kind\": \"hot_water\",\n",
    "         \"quantity\": [12000],\n",
    "         \"priceUnits\": \"$\",\n",
    "         \"unit\": \"GJ\",\n",
    "         \"leaf\": True,\n",
    "         \"subtypes\": {\"type\": \"hot_water1\",\n",
    "                      \"fuel\": \"electricity\",\n",
    "                      \"demand\": 5000,\n",
    "                      \"price\": 2000,\n",
    "                      \"cap_cost\": 5},\n",
    "                     {\"type\": \"hot_water2\",\n",
    "                      \"fuel\": \"electricity\",\n",
    "                      \"demand\": 2000,\n",
    "                      \"price\": 2000,\n",
    "                      \"cap_cost\": 2},\n",
    "                     {\"type\": \"hot_water3\",\n",
    "                      \"fuel\": \"gas\",\n",
    "                      \"demand\": 5000,\n",
    "                      \"price\": 1500,\n",
    "                      \"cap_cost\": 15}\n",
    "                    \n",
    "        }]\n",
    "\n",
    "sup = [{\"kind\": \"electricity\",\n",
    "        # \"quantity\": [total_quants[\"electricity\"]],\n",
    "        \"leaf\": True,\n",
    "        \"subtypes\": {\"wind\": {\"price\": 1200,\n",
    "                              \"cap_cost\": 100},\n",
    "                     \"hydro\": {\"price\": 1000,\n",
    "                                  \"cap_cost\": 300},\n",
    "                     \"rocks\": {\"price\": 800,\n",
    "                                  \"cap_cost\": 200}\n",
    "                     } \n",
    "        },\n",
    "        {\"kind\": \"gas\",\n",
    "         # \"quantity\": [total_quants[\"gas\"]],\n",
    "         \"leaf\": True,\n",
    "         \"subtypes\": {\"gas1\": {\"price\": 1500,\n",
    "                               \"cap_cost\": 100},\n",
    "                      \"gas2\": {\"price\": 1200,\n",
    "                               \"cap_cost\": 200}\n",
    "                      }\n",
    "        }]\n",
    "\n",
    "\n"
   ]
  },
  {
   "cell_type": "code",
   "execution_count": null,
   "metadata": {},
   "outputs": [],
   "source": [
    "class SupplyDemand(Demand):\n",
    "    def __init__(self, techs, sup):\n",
    "        \n",
    "        self.techs = techs\n",
    "        self.sup = sup\n",
    "        \n",
    "#         self.results = {}\n",
    "        self.dem = None\n",
    "#         self.results[\"quantity\"] = {}\n",
    "#         self.results[\"price\"] = {}\n",
    "#         self.results[\"marketshare_dem\"] = {}\n",
    "#         self.results[\"marketshare_sup\"] = {}\n",
    "    \n",
    "#         self.initialize()\n",
    "#         self.results[\"quantity\"].append(a)\n",
    "        \n",
    "    def run_demand(self):    \n",
    "        self.dem = Demand(self.techs)\n",
    "#         return dem.quants, dem.mshares\n",
    "    \n",
    "#     def run_supply(self):    \n",
    "#         supply = Supply(self.sup)\n",
    "#         return supply.price, supply.mshares\n",
    "    \n",
    "#     def initialize(self):\n",
    "#         quant, msd = self.run_demand()\n",
    "#         price, msm = self.run_supply()\n",
    "#         self.results[\"quantity\"] = quant\n",
    "\n",
    "#         return quant, msd, price, msm\n",
    "        \n",
    "#     def iterate(self):\n",
    "#         quant, msd, price, msm = self.initialize()\n",
    "#         price_diff \n",
    "        \n",
    "#         while  "
   ]
  },
  {
   "cell_type": "code",
   "execution_count": null,
   "metadata": {},
   "outputs": [],
   "source": [
    "a = SupplyDemand(techs, sup)"
   ]
  },
  {
   "cell_type": "code",
   "execution_count": null,
   "metadata": {},
   "outputs": [],
   "source": [
    "b = a.run_demand()"
   ]
  },
  {
   "cell_type": "code",
   "execution_count": null,
   "metadata": {},
   "outputs": [],
   "source": [
    "b"
   ]
  },
  {
   "cell_type": "code",
   "execution_count": null,
   "metadata": {},
   "outputs": [],
   "source": [
    "results = SupplyDemand(techs, sup, tol_percent=5)"
   ]
  },
  {
   "cell_type": "code",
   "execution_count": null,
   "metadata": {},
   "outputs": [],
   "source": [
    "results.plot(\"electricity\")"
   ]
  },
  {
   "cell_type": "code",
   "execution_count": null,
   "metadata": {},
   "outputs": [],
   "source": [
    "results.plot(\"gas\")"
   ]
  },
  {
   "cell_type": "code",
   "execution_count": null,
   "metadata": {},
   "outputs": [],
   "source": []
  },
  {
   "cell_type": "code",
   "execution_count": null,
   "metadata": {},
   "outputs": [],
   "source": []
  },
  {
   "cell_type": "code",
   "execution_count": null,
   "metadata": {},
   "outputs": [],
   "source": []
  },
  {
   "cell_type": "code",
   "execution_count": null,
   "metadata": {},
   "outputs": [],
   "source": []
  },
  {
   "cell_type": "code",
   "execution_count": null,
   "metadata": {},
   "outputs": [],
   "source": []
  },
  {
   "cell_type": "code",
   "execution_count": null,
   "metadata": {},
   "outputs": [],
   "source": []
  },
  {
   "cell_type": "code",
   "execution_count": null,
   "metadata": {},
   "outputs": [],
   "source": [
    "class SupplyDemand:\n",
    "    '''\n",
    "    SUPPLY-DEMAND MODEL:\n",
    "        - Demand: estimate Quantity\n",
    "        - Supply: estimate Price\n",
    "        - Repeat using updated prices\n",
    "    '''\n",
    "\n",
    "    def __init__(self, data):\n",
    "        self.fuelUnits = data[\"fuelUnits\"]\n",
    "        self.priceUnits = data[\"priceUnits\"]\n",
    "        self.year = data[\"year\"]\n",
    "        self.fuelFields = data[\"fuelType\"]\n",
    "        self.fuelTypes = list(data[\"fuelType\"].keys())\n",
    "        \n",
    "        self.numFuels = len(data[\"fuelType\"])\n",
    "        \n",
    "        self.techType = []\n",
    "        self.productQ = []\n",
    "        \n",
    "        self.demPrice = []\n",
    "        self.demCapCost = []        \n",
    "        self.demLCC = []\n",
    "        self.demMS = []\n",
    "        self.demQuantity = []\n",
    "        \n",
    "        self.supPrice = []\n",
    "        self.supCapCost = []               \n",
    "        self.supLCC = []\n",
    "        self.supMS = []\n",
    "        self.supQuantity = []        \n",
    "        \n",
    "        self.history = {}\n",
    "    \n",
    "        \n",
    "\n",
    "    def _demand(self):\n",
    "        \n",
    "        for fuel, tech_list in self.fuelFields.items():\n",
    "            self.fuel = fuel\n",
    "            self.numTechs = len(tech_list)\n",
    "            \n",
    "            lcc = []\n",
    "            ms = []\n",
    "            quant = []\n",
    "            rate = []\n",
    "            \n",
    "            for tech in range(self.numTechs):\n",
    "                tech_params = tech_list[tech]\n",
    "                self.techType.append(tech_params[\"techType\"])\n",
    "                self.productQ.append(tech_params[\"productQ\"][0])\n",
    "                self.demPrice.append(tech_params[\"priceDemanded\"][0])\n",
    "                self.demCapCost.append(tech_params[\"capCostDemand\"][0])\n",
    "                \n",
    "                # repeated per tech to simplify, normally should be common to competitive tech (ML! check)\n",
    "                self.vParam = tech_params[\"vParam\"]\n",
    "                self.freq = tech_params[\"freq\"]\n",
    "            \n",
    "        \n",
    "                # Estimate Quantity Demanded\n",
    "                # Get LCC from Price and Capital Cost\n",
    "                rate.append(tech_params[\"rate\"])\n",
    "                lcc.append(self.getLCC(price=self.demPrice, capCost=self.demCapCost, freq=self.freq, index = -1))\n",
    "            ms.append(self.getMS(lcc))\n",
    "\n",
    "            quant.append(self.getQuantity(ms, self.productQ, rate))\n",
    "                \n",
    "                \n",
    "            self.demLCC.append(lcc)\n",
    "            self.demMS.append(ms)\n",
    "            self.demQuantity.append(quant[0])\n",
    "\n",
    "            \n",
    "    # Estimate Supply Price\n",
    "    def _supply(self):\n",
    "        \n",
    "        for fuel, tech_list in self.fuelFields.items():\n",
    "            self.fuel = fuel\n",
    "            self.numTechs = len(tech_list)\n",
    "            \n",
    "            lcc = []\n",
    "            ms = []\n",
    "            price = []\n",
    "            \n",
    "            for tech in range(self.numTechs):\n",
    "                tech_params = tech_list[tech]\n",
    "                self.techType.append(tech_params[\"techType\"])\n",
    "                self.supCapCost.append(tech_params[\"capCostSupply\"][0])\n",
    "\n",
    "                # repeated per tech to simplify, normally should be common to competitive tech (ML! check)\n",
    "                self.vParam = tech_params[\"vParam\"]\n",
    "                self.freq = tech_params[\"freq\"]\n",
    "                \n",
    "        \n",
    "                # Get LCC from Price and Capital Cost\n",
    "                print(tech_params[\"priceSupply\"])\n",
    "                lcc.append(self.getLCC(price=tech_params[\"priceSupply\"], capCost=self.supCapCost, freq=self.freq, index = -1))\n",
    "                \n",
    "            ms.append(self.getMS(lcc))\n",
    "            print(self.demQuantity)\n",
    "            price.append(self.getPrice(ms, quant=self.demQuantity, lcc=lcc))\n",
    "                \n",
    "            self.supLCC.append(lcc)\n",
    "            self.supMS.append(ms)\n",
    "            self.supPrice.append(price[0])\n",
    "\n",
    "        \n",
    "    def getLCC(self, price, capCost, freq, index = -1):\n",
    "        # index 0 to pull from list, but the more advanced version uses numpy arrays\n",
    "        cost = price[index] * freq\n",
    "        capitalCost = capCost[index]\n",
    "        tech_lcc = cost + capitalCost\n",
    "            \n",
    "        return tech_lcc \n",
    "            \n",
    "        \n",
    "    def getMS(self, lcc, atol=1e-8):\n",
    "\n",
    "        full_cost_v = np.sum(np.power(lcc, -1.0*self.vParam))\n",
    "        ms = np.array([np.power(lcc[nt], -1.0*self.vParam)/full_cost_v for nt in range(self.numTechs)])  \n",
    "        assert np.isclose(np.sum(ms), 1.0, atol=atol)\n",
    "        return ms        \n",
    "\n",
    "    def getQuantity(self, ms, quant, rate, index=-1):\n",
    "        quant = [ms[0][nt] * quant[nt] * rate[nt] for nt in range(self.numTechs)]\n",
    "        return quant \n",
    "    \n",
    "    def getPrice(self, ms, lcc, quant):\n",
    "        weightedP = [ms[0][nr] * quant[nr] * lcc[nr] for nr in range(self.numTechs)]\n",
    "\n",
    "        return weightedP\n",
    "        \n",
    "            \n",
    "\n",
    "        "
   ]
  },
  {
   "cell_type": "code",
   "execution_count": null,
   "metadata": {},
   "outputs": [],
   "source": [
    "a = SupplyDemand(data)"
   ]
  },
  {
   "cell_type": "code",
   "execution_count": null,
   "metadata": {},
   "outputs": [],
   "source": []
  },
  {
   "cell_type": "code",
   "execution_count": null,
   "metadata": {},
   "outputs": [],
   "source": []
  },
  {
   "cell_type": "code",
   "execution_count": null,
   "metadata": {},
   "outputs": [],
   "source": []
  },
  {
   "cell_type": "code",
   "execution_count": null,
   "metadata": {},
   "outputs": [],
   "source": [
    "a._demand()"
   ]
  },
  {
   "cell_type": "code",
   "execution_count": null,
   "metadata": {},
   "outputs": [],
   "source": [
    "a._supply()"
   ]
  },
  {
   "cell_type": "code",
   "execution_count": null,
   "metadata": {},
   "outputs": [],
   "source": [
    "a.demQuantity"
   ]
  },
  {
   "cell_type": "code",
   "execution_count": null,
   "metadata": {},
   "outputs": [],
   "source": [
    "        self.history[\"fuel\"] = []\n",
    "        self.history[\"tech\"] = []\n",
    "        self.history[\"productQ\"] = []\n",
    "        self.history[\"quantityDemanded\"] = []\n",
    "        self.history[\"priceDemanded\"] = []\n",
    "        self.history[\"capCostDemand\"] = []\n",
    "        self.history[\"priceSupply\"] = []\n",
    "        self.history[\"vParam\"] = []\n",
    "        self.history[\"freq\"] = []\n",
    "        \n",
    "        self.fuel = \"\"\n",
    "        self.techType = \"\"\n",
    "        self.productQ = 0\n",
    "        self.quantityDemanded = 0        \n",
    "        "
   ]
  },
  {
   "cell_type": "code",
   "execution_count": null,
   "metadata": {},
   "outputs": [],
   "source": [
    "class SupplyDemand:\n",
    "    '''\n",
    "    SUPPLY-DEMAND MODEL:\n",
    "        - Demand: estimate Quantity\n",
    "        - Supply: estimate Price\n",
    "        - Repeat using updated prices\n",
    "    '''\n",
    "\n",
    "    def __init__(self, data):\n",
    "        self.techNames = data[\"techNames\"]\n",
    "        self.fuelNames = data[\"fuelNames\"]\n",
    "        self.numTechs = len(self.techNames)\n",
    "        self.numFuels = len(self.fuelNames)\n",
    "        \n",
    "        self.productQuantity = self.makeArray(data[\"productQuantity\"], reshape=False)\n",
    "        self.demandPrice = self.makeArray(data[\"demandPrice\"])\n",
    "        self.demandCapCost = self.makeArray(data[\"demandCapCost\"])\n",
    "        \n",
    "        self.supplyPrice = self.makeArray(data[\"supplyPrice\"])\n",
    "        self.supplyCapCost = self.makeArray(data[\"supplyCapCost\"])\n",
    "        self.fuelQuantity = self.makeArray(data[\"fuelQuantity\"])\n",
    "        \n",
    "        self.elasticity = self.makeArray(data[\"elasticity\"], reshape=False)\n",
    "        self.freq = self.makeArray(data[\"freq\"], reshape=False)\n",
    "        self.fuelUnits = data[\"fuelUnits\"]\n",
    "        self.priceUnits = data[\"priceUnits\"]\n",
    "        self.year = data[\"year\"]\n",
    "        \n",
    "        self.demLCC = self.zeroArray(numrows=self.numTechs, numcols=0)\n",
    "        self.ms = self.zeroArray(numrows=self.numTechs, numcols=0)\n",
    "        \n",
    "        self.supLCC = self.zeroArray(numrows=self.numTechs, numcols=1)\n",
    "        self.supMS = self.zeroArray(numrows=self.numTechs, numcols=0)      \n",
    "        \n",
    "        self.history = {}\n",
    "        self.history[\"demandPrice\"] = self.demandPrice\n",
    "        self.history[\"demandLCC\"] = self.demLCC\n",
    "        self.history[\"demandMS\"] = self.ms\n",
    "        self.history[\"demandQ\"] = self.productQuantity\n",
    "        \n",
    "        self.history[\"supplyPrice\"] = self.supplyPrice\n",
    "        self.history[\"supplyLCC\"] = self.supLCC\n",
    "        self.history[\"supplyMS\"] = self.supMS\n",
    "        self.history[\"supplyQ\"] = self.fuelQuantity      \n",
    "        \n",
    "        \n",
    "\n",
    "        \n",
    "    def initialize(self, verbose=True):\n",
    "        \n",
    "        # Estimate Quantity Demanded\n",
    "        # Get LCC from Price and Capital Cost\n",
    "        self.demLCC = self.getLCC(self.demandPrice, capCost=self.demandCapCost, freq=self.freq)\n",
    "        self.history[\"demandLCC\"] = self.demLCC\n",
    "        \n",
    "        self.demMS = self.getMS(lcc=self.demLCC)\n",
    "        self.history[\"demandMS\"] = self.demMS\n",
    "        self.demQuantity = self.getQuantity(self.demMS, self.productQuantity)\n",
    "        self.history[\"demandQ\"] = self.demQuantity\n",
    "        \n",
    "        # Estimate Supply Price\n",
    "        # Get LCC from Price and Capital Cost\n",
    "        self.supLCC = self.getLCC(self.supplyPrice, capCost=self.supplyCapCost, freq=self.freq)\n",
    "        self.history[\"supplyLCC\"] = self.supLCC\n",
    "        \n",
    "        self.supMS = self.getMS(lcc=self.supLCC)\n",
    "        self.history[\"supplyMS\"] = self.supMS \n",
    "        \n",
    "        # get price, send back to demand\n",
    "        self.demandPrice = self.getPrice(self.supMS, self.supLCC)\n",
    "        self.history[\"supplyPrice\"] = self.demandPrice\n",
    "        \n",
    "        \n",
    "    def equilibrium(self):\n",
    "        self.initialize()\n",
    "        \n",
    "        \n",
    "        \n",
    "        \n",
    "        \n",
    "        \n",
    "        \n",
    "    def getLCC(self, price, capCost=None ,freq=None, index = -1):\n",
    "        ngroups, nreps = price.shape\n",
    "        # ML! might have to deal w corner cases due to None \n",
    "        \n",
    "        lcc = self.zeroArray(numrows=self.numTechs, numcols=1)\n",
    "        \n",
    "        if np.any(capCost, None):\n",
    "            capCost = self.zeroArray(numrows=ngroups, numcols=0)\n",
    "            \n",
    "        ccSize = capCost.ndim    \n",
    "            \n",
    "        if np.any(freq, None):\n",
    "            freq = np.ones(ngroups)\n",
    "        if price.shape[1] == 1:\n",
    "            index = 0\n",
    "\n",
    "        for tech in range(ngroups):\n",
    "            cost = price[tech, index] * freq[tech]\n",
    "            if ccSize == 1:\n",
    "                capitalCost = capCost[tech]\n",
    "            elif ccSize == 2:   \n",
    "                capitalCost = capCost[tech, index]\n",
    "            else:\n",
    "                print(\"Implementation only supports capital cost arrays of 1 or 2D\")\n",
    "            lcc[tech, 0] = cost + capitalCost\n",
    "        return lcc    \n",
    "            \n",
    "            \n",
    "    def getMS(self, lcc, index=-1, atol=1e-8):\n",
    "        ngroups, nreps = lcc.shape\n",
    "        if nreps == 1:\n",
    "            index = 0\n",
    "        full_cost_v = np.sum(np.power(lcc, self.elasticity))\n",
    "        ms = np.array([np.power(lcc[nt, index], self.elasticity)/full_cost_v for nt in range(ngroups)])  \n",
    "        assert np.isclose(np.sum(ms), 1.0, atol=atol)\n",
    "        return ms\n",
    "    \n",
    "    \n",
    "    \n",
    "    def getQuantity(self, ms, quantity, index=-1):\n",
    "        ndims = ms.ndim\n",
    "        if ndims == 1:\n",
    "            ngroups = ms.shape[0]\n",
    "        elif ndims == 2:    \n",
    "            ngroups, nreps = ms.shape\n",
    "            if nreps == 1:\n",
    "                index = 0\n",
    "        qSize = quantity.ndim\n",
    "        if qSize == 1:    \n",
    "            quant = np.array([ms[nt] * quantity for nt in range(ngroups)])\n",
    "        elif qSize > 1:  # ML! might not work for D > 2   \n",
    "            quant = np.array([ms[nt] * quantity[index] for nt in range(ngroups)])\n",
    "        return quant    \n",
    "    \n",
    "    def getPrice(self, ms, lcc):\n",
    "        nrows = lcc.shape[0]\n",
    "        weightedP = [ms[nr] * lcc[nr] for nr in range(nrows)]\n",
    "        priceArray = self.makeArray(weightedP, numrows=nrows)\n",
    "        return priceArray\n",
    "        \n",
    "        \n",
    "        \n",
    "    \n",
    "    def makeArray(self, field, numrows=2, dtype=np.float64, order='F', reshape=True):    \n",
    "        if reshape:\n",
    "            npArray = np.array(field, dtype=dtype).reshape([numrows, 1], order=order)\n",
    "        else:   \n",
    "            npArray = np.array(field, dtype=dtype, order=order)\n",
    "        return npArray\n",
    "    \n",
    "        self.demLCC = np.zeros([self.numTechs, 1], dtype=np.float64, order='F')\n",
    "\n",
    "    def zeroArray(self, numrows=2, numcols=1, dtype=np.float64, order='F'):\n",
    "        if numcols == 0:\n",
    "            zeroArr = np.zeros(numrows, dtype=dtype, order=order)\n",
    "        else:    \n",
    "            zeroArr = np.zeros([numrows, numcols], dtype=dtype, order=order)\n",
    "        return zeroArr\n",
    "            \n",
    "                        \n",
    "        \n",
    "\n",
    "        "
   ]
  },
  {
   "cell_type": "code",
   "execution_count": null,
   "metadata": {},
   "outputs": [],
   "source": [
    "sd = SupplyDemand(data)"
   ]
  },
  {
   "cell_type": "code",
   "execution_count": null,
   "metadata": {},
   "outputs": [],
   "source": [
    "sd.initialize()"
   ]
  },
  {
   "cell_type": "code",
   "execution_count": null,
   "metadata": {},
   "outputs": [],
   "source": [
    "sd.history[\"demandMS\"]"
   ]
  },
  {
   "cell_type": "code",
   "execution_count": null,
   "metadata": {},
   "outputs": [],
   "source": []
  },
  {
   "cell_type": "code",
   "execution_count": null,
   "metadata": {},
   "outputs": [],
   "source": []
  },
  {
   "cell_type": "code",
   "execution_count": null,
   "metadata": {},
   "outputs": [],
   "source": []
  },
  {
   "cell_type": "code",
   "execution_count": null,
   "metadata": {},
   "outputs": [],
   "source": []
  },
  {
   "cell_type": "code",
   "execution_count": null,
   "metadata": {},
   "outputs": [],
   "source": []
  },
  {
   "cell_type": "code",
   "execution_count": null,
   "metadata": {},
   "outputs": [],
   "source": []
  },
  {
   "cell_type": "code",
   "execution_count": null,
   "metadata": {},
   "outputs": [],
   "source": []
  },
  {
   "cell_type": "code",
   "execution_count": null,
   "metadata": {},
   "outputs": [],
   "source": [
    "        if verbose:\n",
    "            print('Fuel Quantity Per Tech Demanded:\\n')\n",
    "            for nt in range(self.numTechs):\n",
    "                print('\\t- {}: {:.3f} {}'.format(self.techNames[nt], self.quantity[nt], self.fuelUnits))\n",
    "\n",
    "            print('\\nFuel Price Price Calculated on Demand Side:\\n')\n",
    "            for qt in range(self.numTechs):\n",
    "                print('\\t- {}: {}{:.2f}'.format(self.techNames[qt], self.priceUnits, self.demandLCC[qt]))\n",
    "                  \n",
    "        "
   ]
  },
  {
   "cell_type": "code",
   "execution_count": null,
   "metadata": {},
   "outputs": [],
   "source": [
    "\n",
    "        if verbose:\n",
    "            print('\\t*****\\nFuel Quantity Supplied Calculated:\\n')\n",
    "            for k in range(self.numFuels):\n",
    "                print('\\t- {}: {:.3f} {}'.format(self.fuelNames[k], quant[k], self.fuelUnits))\n",
    "\n",
    "            print('\\nFuel Generation Cost Calculated:\\n')\n",
    "            for kk in range(self.numFuels):\n",
    "                print('\\t- {}: {}{:.2f}'.format(self.fuelNames[kk], self.priceUnits, self.history[\"supplyLCC\"][0][kk]))                \n",
    "\n",
    "            \n",
    "    \"\"\"\n",
    "    `OPTIMIZATION` METHOD:\n",
    "    \"\"\"\n",
    "\n",
    "    def equilibrium(self, relStepSize=0.1, tol=1e-2, verbose=True):\n",
    "        \n",
    "        # start with iteration 1 because index 0 occuppied by initialization // check indices \n",
    "        stepnum = 0\n",
    "\n",
    "        dPrice = self.demandPrice[-1]\n",
    "        sPrice = self.supplyPrice[-1]   \n",
    "        \n",
    "        # calculated twice just for while condition\n",
    "        priceDiff = [np.abs(dPrice[idx] - sPrice[idx]) for idx in range(self.numTechs)]\n",
    "        \n",
    "        while np.any(np.array(priceDiff) > tol):\n",
    "\n",
    "            if verbose:\n",
    "                if stepnum == 0:\n",
    "                    print('\\nIteration number:')\n",
    "                print(stepnum)\n",
    "                \n",
    "            # Demand side\n",
    "            techDemLCC = [] # store all techs in a list, to append to full nested list for LCC at each iter\n",
    "            \n",
    "            # New price diff every iteration\n",
    "            dPrice = self.demandPrice[-1]\n",
    "            sPrice = self.supplyPrice[-1]   \n",
    "            \n",
    "            dPriceNew = []\n",
    "            sPriceNew = []\n",
    "        \n",
    "            # calculated twice just for while condition\n",
    "            # ML! IMPORTANT: WILL NEED TO SWITCH TO DICT TO PUT LABELS WHEN FUEL/TECH AREN'T 1-TO-1\n",
    "            priceDiff = [np.abs(dPrice[idx] - sPrice[idx]) for idx in range(self.numTechs)]\n",
    "            \n",
    "            for tech in range(self.numTechs):                \n",
    "                supplyHigher = sPrice[tech] > dPrice[tech]\n",
    "                            \n",
    "                if supplyHigher:\n",
    "                    dPriceN = dPrice[tech] + relStepSize*priceDiff[tech]\n",
    "                    sPriceN = sPrice[tech] - relStepSize*priceDiff[tech]\n",
    "                else:\n",
    "                    dPriceN = dPrice[tech] - relStepSize*priceDiff[tech]\n",
    "                    sPriceN = sPrice[tech] + relStepSize*priceDiff[tech]   \n",
    "                                        \n",
    "                # TO DO: store dPrice and sPrice in history to view incremental changes\n",
    "                \n",
    "                # list of list: index 0 is initialisation (iter 0), sublist is techs\n",
    "                freq = self.freq[tech]\n",
    "                capCost = self.demandCapCost[-1][tech]\n",
    "                techDemLCC.append(dPriceN*freq + capCost)\n",
    "\n",
    "            # ML!: change dPrice lists to match\n",
    "            self.demandPrice.append(dPrice)\n",
    "            \n",
    "            self.history[\"demandPrice\"][0].append(dPrice)\n",
    "            self.history[\"demandLCC\"].append(techDemLCC)\n",
    "            \n",
    "            full_cost = np.sum(self.history[\"demandLCC\"][-1])\n",
    "            full_cost_v = np.sum(np.power(self.history[\"demandLCC\"][-1], self.elasticity))\n",
    "            ms = [np.power(self.history[\"demandLCC\"][-1][nt], self.elasticity)/full_cost_v for nt in range(self.numTechs)]\n",
    "            self.history[\"demandMS\"].append(ms)    \n",
    "            \n",
    "            assert np.isclose(np.sum(ms), 1.0, atol=1e-8)\n",
    "            \n",
    "            quant = [ms[j]*self.fullQuantity for j in range(self.numTechs)]\n",
    "            self.history[\"demandQ\"].append(quant)\n",
    "            \n",
    "            if verbose and stepnum % 10 == 0:\n",
    "                print('Fuel Quantity Demanded Calculated:\\n')\n",
    "                for k in range(self.numTechs):\n",
    "                    print('\\t- {}: {:.3f} {}'.format(self.techNames[k], quant[k], self.fuelUnits))\n",
    "    \n",
    "                print('\\nTech Operation Price Calculated:\\n')\n",
    "                for kk in range(self.numTechs):\n",
    "                    print('\\t- {}: {}{:.2f}'.format(self.techNames[kk], self.priceUnits, self.history[\"demandLCC\"][-1][kk]))\n",
    "                    \n",
    "                    \n",
    "            # SUPPLY SIDE         \n",
    "            fuelSupLCC = []\n",
    "            \n",
    "            for fuel in range(self.numFuels):\n",
    "                capCost = self.supplyCapCost[-1][fuel]\n",
    "                fuelSupLCC.append(sPrice[fuel] + capCost) # remember to arrange indices when fuel and tech aren't 1-to-1\n",
    "            \n",
    "            self.supplyPrice.append(sPrice)\n",
    "            self.history[\"supplyLCC\"].append(fuelSupLCC)    \n",
    "\n",
    "            full_cost = np.sum(self.history[\"supplyLCC\"][-1])\n",
    "            full_cost_v = np.sum(np.power(self.history[\"supplyLCC\"][-1], self.elasticity))\n",
    "            ms = [np.power(self.history[\"supplyLCC\"][-1][i], self.elasticity)/full_cost_v for i in range(self.numFuels)]\n",
    "            self.history[\"supplyMS\"].append(ms)    \n",
    "            \n",
    "            assert np.isclose(np.sum(ms), 1.0, atol=1e-8)\n",
    "            \n",
    "            quant = [ms[j]*self.fullQuantity for j in range(self.numTechs)]\n",
    "            self.history[\"supplyQ\"].append(quant)\n",
    "            \n",
    "            if verbose and stepnum % 10 == 0:\n",
    "                print('\\t*****\\nFuel Quantity Supplied Calculated:\\n')\n",
    "                for k in range(self.numFuels):\n",
    "                    print('\\t- {}: {:.3f} {}'.format(self.fuelNames[k], quant[k], self.fuelUnits))\n",
    "    \n",
    "                print('\\nFuel Generation Cost Calculated:\\n')\n",
    "                for kk in range(self.numFuels):\n",
    "                    print('\\t- {}: {}{:.2f}'.format(self.fuelNames[kk], self.priceUnits, self.history[\"supplyLCC\"][stepnum][kk]))    \n",
    "                    \n",
    "            stepnum += 1    \n",
    "            \n",
    "        if verbose:\n",
    "            print('Final Fuel Quantity Demanded Calculated:\\n')\n",
    "            for k in range(self.numTechs):\n",
    "                print('\\t- {}: {:.3f} {}'.format(self.techNames[k], self.history[\"demandQ\"][-1][k], self.fuelUnits))\n",
    "    \n",
    "            print('\\nFinal Tech Operation Price Calculated:\\n')\n",
    "            for kk in range(self.numTechs):\n",
    "                print('\\t- {}: {}{:.2f}'.format(self.techNames[kk], self.priceUnits, self.history[\"demandLCC\"][-1][kk]))\n",
    "                            \n",
    "            print('\\t*****\\nFinal Fuel Quantity Supplied Calculated:\\n')\n",
    "            for k in range(self.numFuels):\n",
    "                print('\\t- {}: {:.3f} {}'.format(self.fuelNames[k], self.history[\"supplyQ\"][-1][kk], self.fuelUnits))\n",
    "    \n",
    "            print('\\nFinal Fuel Generation Cost Calculated:\\n')\n",
    "            for kk in range(self.numFuels):\n",
    "                print('\\t- {}: {}{:.2f}'.format(self.fuelNames[kk], self.priceUnits, self.history[\"supplyLCC\"][stepnum][kk]))              \n",
    "            \n",
    "                \n"
   ]
  },
  {
   "cell_type": "code",
   "execution_count": null,
   "metadata": {},
   "outputs": [],
   "source": [
    "mod = SupplyDemand(data)"
   ]
  },
  {
   "cell_type": "code",
   "execution_count": null,
   "metadata": {},
   "outputs": [],
   "source": [
    "mod.initialize(verbose=False)\n",
    "\n",
    "mod.equilibrium(verbose=True)"
   ]
  },
  {
   "cell_type": "code",
   "execution_count": null,
   "metadata": {},
   "outputs": [],
   "source": [
    "qSupElec = [mod.history['supplyQ'][num][0] for num in range(len(mod.history['supplyQ']))]\n",
    "pSupElec = [mod.history['supplyLCC'][num][0] for num in range(len(mod.history['supplyLCC']))]\n",
    "\n",
    "qDemElec = [mod.history['demandQ'][num][0] for num in range(len(mod.history['demandQ']))]\n",
    "pDemElec = [mod.history['demandLCC'][num][0] for num in range(len(mod.history['demandLCC']))]"
   ]
  },
  {
   "cell_type": "code",
   "execution_count": null,
   "metadata": {},
   "outputs": [],
   "source": [
    "plt.plot(qSupElec, pSupElec)\n",
    "plt.plot(qDemElec, pDemElec)\n",
    "plt.show()"
   ]
  },
  {
   "cell_type": "code",
   "execution_count": null,
   "metadata": {},
   "outputs": [],
   "source": [
    "mod.history['demandPrice']"
   ]
  },
  {
   "cell_type": "code",
   "execution_count": null,
   "metadata": {},
   "outputs": [],
   "source": []
  },
  {
   "cell_type": "code",
   "execution_count": null,
   "metadata": {},
   "outputs": [],
   "source": []
  },
  {
   "cell_type": "code",
   "execution_count": null,
   "metadata": {},
   "outputs": [],
   "source": []
  },
  {
   "cell_type": "code",
   "execution_count": null,
   "metadata": {},
   "outputs": [],
   "source": []
  },
  {
   "cell_type": "code",
   "execution_count": null,
   "metadata": {},
   "outputs": [],
   "source": []
  },
  {
   "cell_type": "code",
   "execution_count": null,
   "metadata": {},
   "outputs": [],
   "source": [
    "dPriceElec = np.linspace(40,(40+15)/2, 100)\n",
    "sPriceElec = np.linspace(15,(40+15)/2, 100)\n",
    "ElecQuant = np.linspace(61.538,  )\n",
    "\n",
    "dPriceGas = np.linspace(40,(40+15)/2, 100)\n",
    "sPriceGas = np.linspace(15,(40+15)/2, 100)"
   ]
  },
  {
   "cell_type": "code",
   "execution_count": null,
   "metadata": {},
   "outputs": [],
   "source": [
    "priceGas"
   ]
  },
  {
   "cell_type": "code",
   "execution_count": null,
   "metadata": {},
   "outputs": [],
   "source": [
    "mod.equilibrium()"
   ]
  },
  {
   "cell_type": "code",
   "execution_count": null,
   "metadata": {},
   "outputs": [],
   "source": [
    "np.linspace()"
   ]
  },
  {
   "cell_type": "code",
   "execution_count": null,
   "metadata": {},
   "outputs": [],
   "source": [
    "colour = ['moccasin', 'lightblue']\n",
    "plt.pie([elecHeatMarketShare_t0, gasHeatMarketShare_t0],\n",
    "        labels=['electric heater', 'gas heater'],\n",
    "        colors=colour,\n",
    "        autopct='%.2f');\n",
    "plt.suptitle('Heater Market Share')\n",
    "plt.axis('equal')\n",
    "plt.show()"
   ]
  },
  {
   "cell_type": "markdown",
   "metadata": {},
   "source": [
    "## Supply "
   ]
  },
  {
   "cell_type": "code",
   "execution_count": null,
   "metadata": {},
   "outputs": [],
   "source": [
    "# electricity supply\n",
    "elecPrice_t1 = elecPrice_t0\n",
    "elecLCC_t1 = elecPrice_t1 + elecCapCost\n",
    "\n",
    "# gas supply\n",
    "gasPrice_t1 = gasPrice_t0\n",
    "gasLCC_t1 = gasPrice_t1 + gasCapCost\n",
    "\n",
    "supply_cost_t1 = elecLCC_t1 + gasLCC_t1 \n",
    "\n",
    "elecMarketShare_t1 = (elecLCC_t1/supply_cost_t1)**elasticity\n",
    "gasMarketShare_t1 = (gasLCC_t1/supply_cost_t1)**elasticity\n",
    "\n",
    "assert np.isclose(gasMarketShare_t1 + elecMarketShare_t1, 1.0, atol=1e-8)\n",
    "\n",
    "elecQuant_t1 = elecMarketShare_t1*fullQuantity\n",
    "gasQuant_t1 = gasMarketShare_t1*fullQuantity\n",
    "\n",
    "print('Fuel Quantity Supplied Calculated:\\n')\n",
    "print('\\t- Electricity: {:.3f} MJ\\n\\t- Gas: {:.3f} MJ\\n'.format(elecQuant_t1, gasQuant_t1))\n",
    "\n",
    "print('Fuel Production Cost Calculated:\\n')\n",
    "print('\\t- Electricity: ${:.2f}\\n\\t- Gas: ${:.2f}\\n'.format(elecLCC_t1, gasLCC_t1))"
   ]
  },
  {
   "cell_type": "code",
   "execution_count": null,
   "metadata": {},
   "outputs": [],
   "source": [
    "colour = ['lightgreen', 'thistle']\n",
    "plt.pie([elecMarketShare_t1, gasMarketShare_t1],\n",
    "        labels=['electricity', 'gas'],\n",
    "        colors=colour,\n",
    "        autopct='%.2f');\n",
    "plt.suptitle('Fuel Production Market Share')\n",
    "plt.axis('equal')\n",
    "plt.show()"
   ]
  },
  {
   "cell_type": "markdown",
   "metadata": {},
   "source": [
    "### Iterate"
   ]
  },
  {
   "cell_type": "code",
   "execution_count": null,
   "metadata": {},
   "outputs": [],
   "source": [
    "elecHeatLCC_t1 = (elecLCC_t1 + elecHeatLCC_t0)/2\n",
    "gasHeatLCC_t1 = (gasLCC_t1 + gasHeatLCC_t0)/2"
   ]
  },
  {
   "cell_type": "code",
   "execution_count": null,
   "metadata": {},
   "outputs": [],
   "source": [
    "full_cost_t1 = elecHeatLCC_t1 + gasHeatLCC_t1 \n",
    "\n",
    "elecHeatMarketShare_t1 = (elecHeatLCC_t1/full_cost_t1)**elasticity\n",
    "gasHeatMarketShare_t1 = (gasHeatLCC_t1/full_cost_t1)**elasticity\n",
    "\n",
    "assert np.isclose(gasHeatMarketShare_t1 + elecHeatMarketShare_t1, 1.0, atol=1e-8)\n",
    "\n",
    "elecQuant_t1 = elecHeatMarketShare_t1*fullQuantity\n",
    "gasQuant_t1 = gasHeatMarketShare_t1*fullQuantity\n",
    "\n",
    "print('Fuel Quantity Demanded Calculated:\\n')\n",
    "print('\\t- Electricity: {:.3f} MJ\\n\\t- Gas: {:.3f} MJ\\n'.format(elecQuant_t1, gasQuant_t1))\n",
    "\n",
    "print('Tech Operation Price Calculated:\\n')\n",
    "print('\\t- Electric Heater: ${:.2f}\\n\\t- Gas Heater: ${:.2f}\\n'.format(elecHeatLCC_t1, gasHeatLCC_t1))"
   ]
  },
  {
   "cell_type": "code",
   "execution_count": null,
   "metadata": {},
   "outputs": [],
   "source": []
  }
 ],
 "metadata": {
  "kernelspec": {
   "display_name": "Python 3",
   "language": "python",
   "name": "python3"
  },
  "language_info": {
   "codemirror_mode": {
    "name": "ipython",
    "version": 3
   },
   "file_extension": ".py",
   "mimetype": "text/x-python",
   "name": "python",
   "nbconvert_exporter": "python",
   "pygments_lexer": "ipython3",
   "version": "3.7.2"
  }
 },
 "nbformat": 4,
 "nbformat_minor": 2
}
