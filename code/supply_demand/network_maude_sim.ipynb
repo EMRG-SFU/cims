{
 "cells": [
  {
   "cell_type": "markdown",
   "metadata": {},
   "source": [
    "`Meeting Notes`\n",
    "\n",
    "- simplying data: confirm core fields\n",
    "- heterogeneity as graph name?\n",
    "- price of electricity is 0\n",
    "- 'Canada.Alberta.Residential.Buildingss(Apartment)'\n",
    "- make sure LCC components are correct"
   ]
  },
  {
   "cell_type": "code",
   "execution_count": 1,
   "metadata": {},
   "outputs": [],
   "source": [
    "# !jupyter nbconvert --to script network_maude_sim.ipynb"
   ]
  },
  {
   "cell_type": "code",
   "execution_count": 2,
   "metadata": {},
   "outputs": [],
   "source": [
    "%matplotlib inline\n",
    "\n",
    "import pandas as pd\n",
    "import re\n",
    "from IPython.display import Image, display, Markdown, HTML\n",
    "import copy\n",
    "from pprint import pprint\n",
    "import helpers\n",
    "import networkx as nx\n",
    "\n",
    "import numpy as np\n",
    "from copy import deepcopy\n",
    "import matplotlib.pyplot as plt\n",
    "\n",
    "from helper.utils import * # for functions `process_subtypes`, `filter_fun`, `init_logger`"
   ]
  },
  {
   "cell_type": "code",
   "execution_count": 3,
   "metadata": {},
   "outputs": [
    {
     "name": "stdout",
     "output_type": "stream",
     "text": [
      "Directory does not exist, creating a new directory named /log/2019-11-29/...\n",
      "\n"
     ]
    }
   ],
   "source": [
    "# Start a log file (from utils module)\n",
    "init_logger(filename=\"supply_demand\")"
   ]
  },
  {
   "cell_type": "code",
   "execution_count": 4,
   "metadata": {},
   "outputs": [],
   "source": [
    "# ************************\n",
    "# User Defined Parameters\n",
    "# ************************\n",
    "infile = \"../../pyCIMS_model_description.xlsm\"\n",
    "NODE_COL = \"Node\"\n",
    "TYPE_COL = \"Demand?\"\n",
    "MODEL_SHEET = \"Model\"\n",
    "EXTRA_COL = 'Demand?'\n",
    "\n",
    "\n",
    "# ************************\n",
    "# Read in the data\n",
    "# ************************\n",
    "\n",
    "# Read model_description from excel\n",
    "mxl = pd.read_excel(infile, sheet_name=None, header=1)\n",
    "\n",
    "# Read the model sheet into a dataframe\n",
    "model_df = mxl[MODEL_SHEET].replace({pd.np.nan: None})\n",
    "\n",
    "# Adjust index to correspond to Excel line numbers\n",
    "model_df.index += 3  #(+1: 0 vs 1 origin, +1: header skip, +1: column headers)\n",
    "\n",
    "# Convert all column names to strings (years were ints)\n",
    "model_df.columns = [str(c) for c in model_df.columns]\n",
    "\n",
    "# Find the columns, separated by whether they are year columns or not\n",
    "node_cols, year_cols = helpers.get_node_cols(model_df, extra_col=EXTRA_COL)\n",
    "all_cols = np.concatenate((node_cols, year_cols))\n",
    "\n",
    "# Create the model dataframe\n",
    "mdf = model_df.loc[1:,all_cols] # drop irrelevant columns and skip first, empty row"
   ]
  },
  {
   "cell_type": "code",
   "execution_count": 5,
   "metadata": {},
   "outputs": [],
   "source": [
    "# ************************\n",
    "# Extract Node Dataframes\n",
    "# ************************\n",
    "# determine, row ranges for each node def, based on non-empty Node field\n",
    "node_rows = mdf.Node[~mdf.Node.isnull()] # does not work if node names have been filled in\n",
    "node_rows.index.name = \"Row Number\"\n",
    "last_row = mdf.index[-1]\n",
    "node_start_ends = zip(node_rows.index,\n",
    "                      node_rows.index[1:].tolist() + [last_row])\n",
    "\n",
    "# extract Node DataFrames, at this point still including Technologies\n",
    "node_dfs = {}\n",
    "non_node_cols = mdf.columns != NODE_COL\n",
    "for s, e in node_start_ends:\n",
    "#     node_name = mdf.Node[s]\n",
    "    node_df = mdf.loc[s+1:e-1]\n",
    "    node_df = node_df.loc[helpers.non_empty_rows(node_df), non_node_cols]\n",
    "    \n",
    "    try:\n",
    "        node_name = list(node_df[node_df['Parameter']=='Service provided']['Branch'])[0]\n",
    "    except IndexError:\n",
    "        continue   \n",
    "\n",
    "    node_dfs[node_name] = node_df"
   ]
  },
  {
   "cell_type": "code",
   "execution_count": 6,
   "metadata": {},
   "outputs": [
    {
     "data": {
      "text/html": [
       "<div>\n",
       "<style scoped>\n",
       "    .dataframe tbody tr th:only-of-type {\n",
       "        vertical-align: middle;\n",
       "    }\n",
       "\n",
       "    .dataframe tbody tr th {\n",
       "        vertical-align: top;\n",
       "    }\n",
       "\n",
       "    .dataframe thead th {\n",
       "        text-align: right;\n",
       "    }\n",
       "</style>\n",
       "<table border=\"1\" class=\"dataframe\">\n",
       "  <thead>\n",
       "    <tr style=\"text-align: right;\">\n",
       "      <th></th>\n",
       "      <th>Parameter</th>\n",
       "      <th>Source</th>\n",
       "      <th>Branch</th>\n",
       "      <th>Unit</th>\n",
       "      <th>Value</th>\n",
       "      <th>Demand?</th>\n",
       "      <th>2000</th>\n",
       "      <th>2005</th>\n",
       "      <th>2010</th>\n",
       "      <th>2015</th>\n",
       "      <th>2020</th>\n",
       "      <th>2025</th>\n",
       "      <th>2030</th>\n",
       "      <th>2035</th>\n",
       "      <th>2040</th>\n",
       "      <th>2045</th>\n",
       "      <th>2050</th>\n",
       "    </tr>\n",
       "  </thead>\n",
       "  <tbody>\n",
       "    <tr>\n",
       "      <th>1130</th>\n",
       "      <td>Service provided</td>\n",
       "      <td>None</td>\n",
       "      <td>Canada.Alberta.Water</td>\n",
       "      <td>GJ</td>\n",
       "      <td>Water</td>\n",
       "      <td>Supply</td>\n",
       "      <td>None</td>\n",
       "      <td>None</td>\n",
       "      <td>None</td>\n",
       "      <td>None</td>\n",
       "      <td>None</td>\n",
       "      <td>None</td>\n",
       "      <td>None</td>\n",
       "      <td>None</td>\n",
       "      <td>None</td>\n",
       "      <td>None</td>\n",
       "      <td>None</td>\n",
       "    </tr>\n",
       "    <tr>\n",
       "      <th>1131</th>\n",
       "      <td>None</td>\n",
       "      <td>None</td>\n",
       "      <td>None</td>\n",
       "      <td>None</td>\n",
       "      <td>None</td>\n",
       "      <td>Supply</td>\n",
       "      <td>None</td>\n",
       "      <td>None</td>\n",
       "      <td>None</td>\n",
       "      <td>None</td>\n",
       "      <td>None</td>\n",
       "      <td>None</td>\n",
       "      <td>None</td>\n",
       "      <td>None</td>\n",
       "      <td>None</td>\n",
       "      <td>None</td>\n",
       "      <td>None</td>\n",
       "    </tr>\n",
       "    <tr>\n",
       "      <th>1132</th>\n",
       "      <td>None</td>\n",
       "      <td>None</td>\n",
       "      <td>None</td>\n",
       "      <td>None</td>\n",
       "      <td>None</td>\n",
       "      <td>Supply</td>\n",
       "      <td>None</td>\n",
       "      <td>None</td>\n",
       "      <td>None</td>\n",
       "      <td>None</td>\n",
       "      <td>None</td>\n",
       "      <td>None</td>\n",
       "      <td>None</td>\n",
       "      <td>None</td>\n",
       "      <td>None</td>\n",
       "      <td>None</td>\n",
       "      <td>None</td>\n",
       "    </tr>\n",
       "    <tr>\n",
       "      <th>1133</th>\n",
       "      <td>None</td>\n",
       "      <td>None</td>\n",
       "      <td>None</td>\n",
       "      <td>None</td>\n",
       "      <td>None</td>\n",
       "      <td>Supply</td>\n",
       "      <td>None</td>\n",
       "      <td>None</td>\n",
       "      <td>None</td>\n",
       "      <td>None</td>\n",
       "      <td>None</td>\n",
       "      <td>None</td>\n",
       "      <td>None</td>\n",
       "      <td>None</td>\n",
       "      <td>None</td>\n",
       "      <td>None</td>\n",
       "      <td>None</td>\n",
       "    </tr>\n",
       "    <tr>\n",
       "      <th>1134</th>\n",
       "      <td>None</td>\n",
       "      <td>None</td>\n",
       "      <td>None</td>\n",
       "      <td>None</td>\n",
       "      <td>None</td>\n",
       "      <td>Supply</td>\n",
       "      <td>None</td>\n",
       "      <td>None</td>\n",
       "      <td>None</td>\n",
       "      <td>None</td>\n",
       "      <td>None</td>\n",
       "      <td>None</td>\n",
       "      <td>None</td>\n",
       "      <td>None</td>\n",
       "      <td>None</td>\n",
       "      <td>None</td>\n",
       "      <td>None</td>\n",
       "    </tr>\n",
       "  </tbody>\n",
       "</table>\n",
       "</div>"
      ],
      "text/plain": [
       "             Parameter Source                Branch  Unit  Value Demand?  \\\n",
       "1130  Service provided   None  Canada.Alberta.Water    GJ  Water  Supply   \n",
       "1131              None   None                  None  None   None  Supply   \n",
       "1132              None   None                  None  None   None  Supply   \n",
       "1133              None   None                  None  None   None  Supply   \n",
       "1134              None   None                  None  None   None  Supply   \n",
       "\n",
       "      2000  2005  2010  2015  2020  2025  2030  2035  2040  2045  2050  \n",
       "1130  None  None  None  None  None  None  None  None  None  None  None  \n",
       "1131  None  None  None  None  None  None  None  None  None  None  None  \n",
       "1132  None  None  None  None  None  None  None  None  None  None  None  \n",
       "1133  None  None  None  None  None  None  None  None  None  None  None  \n",
       "1134  None  None  None  None  None  None  None  None  None  None  None  "
      ]
     },
     "execution_count": 6,
     "metadata": {},
     "output_type": "execute_result"
    }
   ],
   "source": [
    "# ************************\n",
    "# Extract Tech Dataframes\n",
    "# ************************\n",
    "# Extract tech dfs from node df's and rewrite node df without techs\n",
    "tech_dfs = {}\n",
    "for nn, ndf in node_dfs.items():\n",
    "    if any(ndf.Parameter.isin([\"Technology\", \"Service\"])):  # Technologies can also be called Services\n",
    "        tdfs = {}\n",
    "        first_row, last_row = ndf.index[0], ndf.index[-1]\n",
    "        tech_rows = ndf.loc[ndf.Parameter.isin([\"Technology\", \"Service\"])].index\n",
    "        for trs, tre in zip(tech_rows, tech_rows[1:].tolist()+[last_row]):\n",
    "            tech_df = ndf.loc[trs:tre-1]\n",
    "            tech_name = tech_df.iloc[0].Value\n",
    "            tdfs[tech_name] = tech_df\n",
    "        tech_dfs[nn] = tdfs\n",
    "        node_dfs[nn] = ndf.loc[:tech_rows[0]-1]\n",
    "        \n",
    "# see last node\n",
    "node_df.head()        "
   ]
  },
  {
   "cell_type": "code",
   "execution_count": 7,
   "metadata": {},
   "outputs": [],
   "source": [
    "# ************************\n",
    "# Functions\n",
    "# ************************\n",
    "def add_node_data(g, current_node,):\n",
    "    \"\"\"\n",
    "    @param g: NetworkX DiGraph. \n",
    "    @param current_node: The \n",
    "    @return: None. Modified the graph g instead. \n",
    "    Given a graph g and node current_node add current_node to g, along with all of its associated data.\"\"\"\n",
    "\n",
    "    # Copy the current node dataframe\n",
    "    current_node_df = copy.deepcopy(node_dfs[current_node])\n",
    "\n",
    "    # 1. we are going to create a node in the graph\n",
    "    g.add_node(current_node)\n",
    "\n",
    "    # 2. We will store the Supply/Demand Type of node. This is a special case. \n",
    "    typ = list(current_node_df[TYPE_COL])[0]\n",
    "    g.node[current_node]['type'] = typ.lower() if typ else 'standard'\n",
    "    # Drop Demand column\n",
    "    current_node_df = current_node_df.drop(TYPE_COL, axis=1)\n",
    "\n",
    "    # 3. We will store the Competition Type of the node at the node level. This is another special case. \n",
    "    comp_list = list(current_node_df[current_node_df['Parameter']=='Competition type']['Value'])\n",
    "    if len(set(comp_list)) == 1: \n",
    "        comp_type = comp_list[0]\n",
    "        g.node[current_node]['competition_type'] = comp_type.lower()\n",
    "    elif len(set(comp_list)) > 1:\n",
    "        print(\"TOO MANY COMPETITION TYPES\")\n",
    "    # Get rid of competition type row\n",
    "    current_node_df = current_node_df[current_node_df['Parameter']!='Competition type']\n",
    "\n",
    "    # 4. For the remaining rows, group data by year. \n",
    "    # Get Year Columns\n",
    "    years = [c for c in current_node_df.columns if helpers.is_year(c)]\n",
    "\n",
    "    # Get Non-Year Columns\n",
    "    non_years = [c for c in current_node_df.columns if not helpers.is_year(c)]\n",
    "\n",
    "    # For each year: \n",
    "    for y in years:\n",
    "        year_df = current_node_df[non_years + [y]]\n",
    "        year_dict = {}\n",
    "\n",
    "        for parameter, source, branch, unit, value, year_value in zip(*[year_df[c] for c in year_df.columns]):\n",
    "            if parameter in year_dict.keys():\n",
    "                pass\n",
    "            else:\n",
    "                year_dict[parameter] = {}\n",
    "\n",
    "            dct = {'source': source,\n",
    "                   'branch': branch, \n",
    "                   'unit': unit, \n",
    "                   'year_value': year_value}\n",
    "#             # Clean Dict\n",
    "#             clean_dict = {k: v for k, v in dct.items() if v is not None}\n",
    "            \n",
    "            year_dict[parameter][value] = dct\n",
    "            \n",
    "        # Add data to node\n",
    "        g.node[current_node][y] = year_dict\n",
    "    \n",
    "    \n",
    "def add_tech_data(node, tech, tech_df):\n",
    "    # TODO: I think we need to differentiate between Technologies and Services. \n",
    "\n",
    "    t_df = copy.deepcopy(tech_df)\n",
    "    \n",
    "    # 1. Find whether technology is a service or a technology. \n",
    "    #    Then remove the row that indicates this is a service or technology. \n",
    "    service_technology = 'service' if (t_df['Parameter']=='Service').any() else 'technology'\n",
    "    t_df = t_df[~t_df['Parameter'].isin(['Service', 'Technology'])]\n",
    "\n",
    "    # 2. Remove the Demand? column\n",
    "    t_df = t_df.drop('Demand?', axis=1)\n",
    "\n",
    "    # VERY SIMILAR to what we do for nodes. But not quite. Because we don't use the value column anymore\n",
    "    # 4. For the remaining rows, group data by year. \n",
    "    # Get Year Columns\n",
    "    years = [c for c in t_df.columns if helpers.is_year(c)]\n",
    "\n",
    "    # Get Non-Year Columns\n",
    "    non_years = [c for c in t_df.columns if not helpers.is_year(c)]\n",
    "\n",
    "    # For each year: \n",
    "    for y in years:\n",
    "        year_df = t_df[non_years + [y]]\n",
    "        year_dict = {}\n",
    "\n",
    "        for parameter, source, branch, unit, value, year_value in zip(*[year_df[c] for c in year_df.columns]):\n",
    "            dct = {'source': source,\n",
    "                       'branch': branch, \n",
    "                       'unit': unit, \n",
    "                       'year_value': year_value}\n",
    "            \n",
    "            if parameter in year_dict.keys():\n",
    "                if type(year_dict[parameter]) is list:\n",
    "                    year_dict[parameter] = year_dict[parameter].append(dct)\n",
    "                else: \n",
    "                    year_dict[parameter] = [year_dict[parameter], dct] \n",
    "            else:\n",
    "                year_dict[parameter] = dct\n",
    "\n",
    "        # Add technologies key if needed\n",
    "        if not 'technologies' in g.node[node][y].keys():\n",
    "            g.node[node][y]['technologies'] = {}\n",
    "            \n",
    "        # Add the technology specific data for that year\n",
    "        g.node[node][y]['technologies'][tech]= year_dict\n",
    "        \n",
    "def search_nodes(g, search_term):\n",
    "    \"\"\"Search nodes to see if there is one that contains the search term in the final component of its name\"\"\"\n",
    "    def search(name):\n",
    "        components = name.split('.')\n",
    "        last_comp = components[-1]\n",
    "        \n",
    "        return search_term.lower() in last_comp.lower()\n",
    "    \n",
    "    return [n for n in g.nodes if search(n)]\n"
   ]
  },
  {
   "cell_type": "code",
   "execution_count": 8,
   "metadata": {},
   "outputs": [],
   "source": [
    "# ************************\n",
    "# Add Node Data\n",
    "# ************************\n",
    "\n",
    "# Create Graph\n",
    "g = nx.DiGraph()\n",
    "\n",
    "# Add each node and its associated data to the Graph\n",
    "for n in node_dfs.keys():\n",
    "    add_node_data(g, n)\n",
    "#     print(\"************* {} *************\".format(n))\n",
    "#     pprint(g.node[n])"
   ]
  },
  {
   "cell_type": "code",
   "execution_count": 9,
   "metadata": {},
   "outputs": [],
   "source": [
    "for node in tech_dfs:\n",
    "    # Add technologies key to node data\n",
    "    node_techs_dict = {}\n",
    "    for tech in tech_dfs[node]: \n",
    "        add_tech_data(node, tech, tech_dfs[node][tech])"
   ]
  },
  {
   "cell_type": "code",
   "execution_count": 10,
   "metadata": {},
   "outputs": [],
   "source": [
    "space_heating = search_nodes(g, 'space heating')[0]"
   ]
  },
  {
   "cell_type": "code",
   "execution_count": 11,
   "metadata": {},
   "outputs": [],
   "source": [
    "def add_edges(node, df, g):\n",
    "    # Find edges based on Requester/Provider relationships\n",
    "    # ----------------------------------------------------\n",
    "    # Find all nodes node is requesting services from\n",
    "    providers = df[df['Parameter']=='Service requested']['Branch'].unique()\n",
    "    rp_edges = [(node, p) for p in providers]\n",
    "    g.add_edges_from(rp_edges)\n",
    "    \n",
    "    # Add them to the graph\n",
    "    for e in rp_edges:\n",
    "        try:\n",
    "            types = g.edges[e]['type']\n",
    "            if not 'request_provide' in types:\n",
    "                g.edges[e]['type'] += ['request_provide']\n",
    "        except KeyError:\n",
    "            g.edges[e]['type'] = ['request_provide']\n",
    "            \n",
    "\n",
    "    # Find edges based on branch\n",
    "    # --------------------------\n",
    "    # Find the node's parent\n",
    "    parent = '.'.join(node.split('.')[:-1])\n",
    "    s_edges = []\n",
    "    if parent: \n",
    "        s_edges += [(parent, node)]    \n",
    "    g.add_edges_from(s_edges)\n",
    "        \n",
    "    # Add them to the graph\n",
    "    for e in s_edges:\n",
    "        try:\n",
    "            types = g.edges[e]['type']\n",
    "            if not 'structure' in types:\n",
    "                g.edges[e]['type'] += ['structure']\n",
    "        except KeyError:\n",
    "            g.edges[e]['type'] = ['structure']  "
   ]
  },
  {
   "cell_type": "code",
   "execution_count": 12,
   "metadata": {},
   "outputs": [],
   "source": [
    "for node in node_dfs:\n",
    "    add_edges(node, node_dfs[node], g)\n",
    "    \n",
    "for node in tech_dfs:\n",
    "    for tech in tech_dfs[node]:\n",
    "        add_edges(node, tech_dfs[node][tech], g)"
   ]
  },
  {
   "cell_type": "code",
   "execution_count": 13,
   "metadata": {},
   "outputs": [],
   "source": [
    "# Find the demand sub-graph\n",
    "\n",
    "d_nodes = []\n",
    "for n, a in g.nodes(data=True):\n",
    "    try:\n",
    "        a['type']\n",
    "        if a['type'] in ['demand', 'standard']:\n",
    "            d_nodes.append(n)\n",
    "    except KeyError:\n",
    "        pass\n",
    "\n",
    "g_d = g.subgraph(d_nodes).copy()"
   ]
  },
  {
   "cell_type": "code",
   "execution_count": 14,
   "metadata": {},
   "outputs": [],
   "source": [
    "# Find the supply sub-graph\n",
    "\n",
    "s_nodes = []\n",
    "for n, a in g.nodes(data=True):\n",
    "    try:\n",
    "        a['type']\n",
    "        if a['type'] in ['supply', 'standard']:\n",
    "            s_nodes.append(n)\n",
    "    except KeyError:\n",
    "        pass\n",
    "\n",
    "g_supply = g.subgraph(s_nodes).copy()"
   ]
  },
  {
   "cell_type": "code",
   "execution_count": 15,
   "metadata": {},
   "outputs": [],
   "source": [
    "\n",
    "def life_cycle_cost(data):\n",
    "    \"\"\"Note: operating cost is always empty\"\"\"\n",
    "    if data[\"Capital cost\"][\"year_value\"] is not None:\n",
    "        capcost = data[\"Capital cost\"][\"year_value\"]\n",
    "    else:\n",
    "        capcost = 0.0\n",
    "    if data[\"Operating cost\"][\"year_value\"] is not None:\n",
    "        opcost = data[\"Operating cost\"][\"year_value\"]\n",
    "    else:\n",
    "        opcost = 0.0\n",
    "        \n",
    "    lcc = capcost + opcost \n",
    "    return lcc\n",
    "    \n",
    "def market_share(alltechs, v=10):\n",
    "    numtechs = len(alltechs)\n",
    "    all_lccs  = {}\n",
    "    marketshares = {}\n",
    "    \n",
    "    # alltechs is a dict of all (directly) competing tech subgraphs\n",
    "    for tech, subgraph in alltechs.items():\n",
    "        all_lccs[tech] = life_cycle_cost(subgraph)\n",
    "    sum_v = sum(lcc**(-1.0*v) for lcc in all_lccs.values() if lcc > 0.0)\n",
    "    \n",
    "    for tech, val in all_lccs.items():\n",
    "        if val > 0.0:\n",
    "            marketshares[tech] = (val**(-1.0*v))/sum_v\n",
    "        else:\n",
    "            marketshares[tech] = 0.0\n",
    "        \n",
    "    return marketshares    "
   ]
  },
  {
   "cell_type": "code",
   "execution_count": 16,
   "metadata": {},
   "outputs": [
    {
     "data": {
      "text/plain": [
       "dict_keys(['Service provided', 'Attribute', 'Price', 'Service requested'])"
      ]
     },
     "execution_count": 16,
     "metadata": {},
     "output_type": "execute_result"
    }
   ],
   "source": [
    "alberta = search_nodes( g_d, \"Alberta\")[0]\n",
    "g_d.node[alberta]['2000'].keys()"
   ]
  },
  {
   "cell_type": "code",
   "execution_count": 17,
   "metadata": {},
   "outputs": [],
   "source": [
    "# get start values\n",
    "\n",
    "population = g_d.node[alberta]['2000'][\"Attribute\"][\"Population\"][\"year_value\"]\n",
    "gdp = g_d.node[alberta]['2000'][\"Attribute\"][\"GDP\"][\"year_value\"]\n",
    "ngas_price = g_d.node[alberta]['2000'][\"Price\"][\"Natural Gas\"][\"year_value\"]\n",
    "electricity_price = g_d.node[alberta]['2000'][\"Price\"][\"Electricity\"][\"year_value\"]\n",
    "\n",
    "household_per_person = g_d.node[alberta]['2000'][\"Service requested\"][\"Residential\"][\"year_value\"]\n",
    "num_households = household_per_person * population"
   ]
  },
  {
   "cell_type": "code",
   "execution_count": 18,
   "metadata": {},
   "outputs": [
    {
     "data": {
      "text/plain": [
       "dict_keys(['Service provided', 'Price Multiplier', 'Price', 'Service requested', None])"
      ]
     },
     "execution_count": 18,
     "metadata": {},
     "output_type": "execute_result"
    }
   ],
   "source": [
    "residential = search_nodes( g_d, \"Residential\")[0]\n",
    "g_d.node[residential]['2000'].keys()"
   ]
  },
  {
   "cell_type": "code",
   "execution_count": 19,
   "metadata": {},
   "outputs": [],
   "source": [
    "ngas_multiplier = g_d.node[residential]['2000'][\"Price Multiplier\"][\"Natural Gas\"][\"year_value\"]\n",
    "electricity_multiplier = g_d.node[residential]['2000'][\"Price Multiplier\"][\"Electricity\"][\"year_value\"]\n",
    "\n",
    "electricity_price *= electricity_multiplier\n",
    "ngas_price *= ngas_multiplier"
   ]
  },
  {
   "cell_type": "code",
   "execution_count": 20,
   "metadata": {},
   "outputs": [
    {
     "data": {
      "text/plain": [
       "dict_keys(['Single Family Detached', 'Single Family Attached', 'Apartment', 'Mobile'])"
      ]
     },
     "execution_count": 20,
     "metadata": {},
     "output_type": "execute_result"
    }
   ],
   "source": [
    "# Start Buildings (parent of 1st tech compete)\n",
    "\n",
    "buildings = search_nodes( g_d, \"Buildings\")[0]\n",
    "g_d.node[buildings]['2000']['Market share'].keys()"
   ]
  },
  {
   "cell_type": "code",
   "execution_count": 21,
   "metadata": {},
   "outputs": [],
   "source": [
    "marketshare_famdet = g_d.node[buildings]['2000']['Market share']['Single Family Detached'][\"year_value\"]\n",
    "marketshare_famatt = g_d.node[buildings]['2000']['Market share']['Single Family Attached'][\"year_value\"]\n",
    "marketshare_apartment = g_d.node[buildings]['2000']['Market share']['Apartment'][\"year_value\"]\n",
    "marketshare_mobile = g_d.node[buildings]['2000']['Market share']['Mobile'][\"year_value\"]"
   ]
  },
  {
   "cell_type": "code",
   "execution_count": 22,
   "metadata": {},
   "outputs": [
    {
     "data": {
      "text/plain": [
       "dict_keys(['Single Family Detached', 'Single Family Attached', 'Apartment', 'Mobile'])"
      ]
     },
     "execution_count": 22,
     "metadata": {},
     "output_type": "execute_result"
    }
   ],
   "source": [
    "g_d.node[buildings]['2000']['Service requested'].keys()"
   ]
  },
  {
   "cell_type": "code",
   "execution_count": 23,
   "metadata": {},
   "outputs": [],
   "source": [
    "# PROBLEM: Dict gets rewritten everytime the key is the same, so we can't get any values before clothes washing (eg for shell)\n",
    "\n",
    "# g_d.node[buildings]['2000']['Service requested']"
   ]
  },
  {
   "cell_type": "code",
   "execution_count": 24,
   "metadata": {},
   "outputs": [],
   "source": [
    "# place values by hand due to problem above\n",
    "\n",
    "space_per_famdet = 138.52 # g_d.node[buildings]['2000']['Service requested']['Single Family Detached']\n",
    "space_per_famatt = 107.37\n",
    "space_per_apartment = 84.76\n",
    "space_per_mobile = 91.72\n",
    "\n",
    "all_famdet = space_per_famdet*(marketshare_famdet * num_households)\n",
    "all_famatt = space_per_famatt*(marketshare_famatt * num_households)\n",
    "all_apartment = space_per_apartment*(marketshare_apartment * num_households)\n",
    "all_mobile = space_per_mobile*(marketshare_mobile * num_households)\n",
    "\n",
    "all_space = all_famdet + all_famatt + all_apartment + all_mobile"
   ]
  },
  {
   "cell_type": "code",
   "execution_count": 25,
   "metadata": {},
   "outputs": [
    {
     "data": {
      "text/plain": [
       "dict_keys(['Pre-1960', 'Post-1960', 'Standard', 'R2000', 'LEED'])"
      ]
     },
     "execution_count": 25,
     "metadata": {},
     "output_type": "execute_result"
    }
   ],
   "source": [
    "# shell\n",
    "\n",
    "shell = search_nodes( g_d, \"Shell\")[0]\n",
    "g_d.node[shell]['2000']['technologies'].keys()"
   ]
  },
  {
   "cell_type": "code",
   "execution_count": 26,
   "metadata": {},
   "outputs": [],
   "source": [
    "pre1960_sg = g_d.node[shell]['2000']['technologies']['Pre-1960']\n",
    "post1960_sg = g_d.node[shell]['2000']['technologies']['Post-1960']\n",
    "standard_sg = g_d.node[shell]['2000']['technologies']['Standard']\n",
    "R2000_sg = g_d.node[shell]['2000']['technologies']['R2000']\n",
    "LEED_sg = g_d.node[shell]['2000']['technologies']['LEED']\n",
    "\n",
    "\n",
    "# fetch v here\n",
    "v_shell = g_d.node[shell]['2000']['Heterogeneity']['v']['year_value']\n",
    "\n",
    "compete_shell = {\"Pre-1960\": pre1960_sg, \n",
    "                 \"Post-1960\": post1960_sg,\n",
    "                 \"Stadard\": standard_sg,\n",
    "                 \"R2000\": R2000_sg,\n",
    "                 \"LEED\": LEED_sg}"
   ]
  },
  {
   "cell_type": "code",
   "execution_count": 27,
   "metadata": {},
   "outputs": [],
   "source": [
    "marketshare_pre1960 = pre1960_sg[\"Market share\"][\"year_value\"]\n",
    "marketshare_post1960 = post1960_sg[\"Market share\"][\"year_value\"]\n",
    "marketshare_standard = standard_sg[\"Market share\"][\"year_value\"]\n",
    "marketshare_R2000 = R2000_sg[\"Market share\"][\"year_value\"]\n",
    "marketshare_LEED = LEED_sg[\"Market share\"][\"year_value\"]\n"
   ]
  },
  {
   "cell_type": "code",
   "execution_count": 28,
   "metadata": {},
   "outputs": [
    {
     "data": {
      "text/plain": [
       "dict_keys(['Pre-1960', 'Post-1960', 'Standard', 'R2000', 'LEED'])"
      ]
     },
     "execution_count": 28,
     "metadata": {},
     "output_type": "execute_result"
    }
   ],
   "source": [
    "g_d.node[shell]['2000']['technologies'].keys()"
   ]
  },
  {
   "cell_type": "code",
   "execution_count": 29,
   "metadata": {},
   "outputs": [],
   "source": [
    "# plug into 'output':is this correct\n",
    "\n",
    "g_d.node[shell]['2000']['technologies']['Pre-1960'][\"Output\"][\"year_value\"] = marketshare_pre1960*all_space\n",
    "g_d.node[shell]['2000']['technologies']['Post-1960'][\"Output\"][\"year_value\"] = marketshare_post1960*all_space\n",
    "g_d.node[shell]['2000']['technologies']['Standard'][\"Output\"][\"year_value\"] = marketshare_standard*all_space\n",
    "g_d.node[shell]['2000']['technologies']['R2000'][\"Output\"][\"year_value\"] = marketshare_R2000*all_space\n",
    "g_d.node[shell]['2000']['technologies']['LEED'][\"Output\"][\"year_value\"] = marketshare_LEED*all_space\n",
    "\n",
    "# # here same as output: just multiplied by 1\n",
    "pre1960 = g_d.node[shell]['2000']['technologies']['Pre-1960']['Service requested'][\"year_value\"]*marketshare_pre1960*all_space\n",
    "post1960 = g_d.node[shell]['2000']['technologies']['Post-1960']['Service requested'][\"year_value\"]*marketshare_post1960*all_space\n",
    "standard = g_d.node[shell]['2000']['technologies']['Standard']['Service requested'][\"year_value\"]*marketshare_standard*all_space\n",
    "R2000 = g_d.node[shell]['2000']['technologies']['R2000']['Service requested'][\"year_value\"]*marketshare_R2000*all_space\n",
    "LEED = g_d.node[shell]['2000']['technologies']['LEED']['Service requested'][\"year_value\"]*marketshare_LEED*all_space\n",
    "\n",
    "shellGJ = pre1960 + post1960 + standard + R2000 + LEED\n",
    "# note: in 2000, only pre- and post-1960 are available"
   ]
  },
  {
   "cell_type": "code",
   "execution_count": 30,
   "metadata": {},
   "outputs": [
    {
     "data": {
      "text/plain": [
       "dict_keys(['Electric baseboard', 'Furnace'])"
      ]
     },
     "execution_count": 30,
     "metadata": {},
     "output_type": "execute_result"
    }
   ],
   "source": [
    "#Space Heating\n",
    "\n",
    "space_heating = search_nodes(g_d, 'space heating')[0]\n",
    "g_d.node[space_heating]['2000']['technologies'].keys()"
   ]
  },
  {
   "cell_type": "code",
   "execution_count": 31,
   "metadata": {},
   "outputs": [],
   "source": [
    "electric_baseboard_sg = g_d.node[space_heating]['2000']['technologies']['Electric baseboard']\n",
    "furnace_sg = g_d.node[space_heating]['2000']['technologies']['Furnace']\n",
    "# fetch v here\n",
    "v_space_heating = g_d.node[space_heating]['2000']['Heterogeneity']['v']['year_value']\n",
    "\n",
    "compete_space_heating = {\"Electric baseboard\": electric_baseboard_sg, \n",
    "                         \"Furnace\": furnace_sg}"
   ]
  },
  {
   "cell_type": "code",
   "execution_count": 32,
   "metadata": {},
   "outputs": [],
   "source": [
    "marketshare_electric_baseboard = electric_baseboard_sg[\"Market share\"][\"year_value\"]\n",
    "marketshare_furnace = furnace_sg[\"Market share\"][\"year_value\"]"
   ]
  },
  {
   "cell_type": "code",
   "execution_count": 33,
   "metadata": {},
   "outputs": [
    {
     "data": {
      "text/plain": [
       "dict_keys(['Available', 'Unavailable', 'Lifetime', 'Retirement', 'Discount rate_Financial', 'Discount rate_Retrofit', 'Discount rate_Revealed', 'Market share', 'Market share total_Max', 'Market share total_Min', 'Market share new_Max', 'Market share new_Min', 'Output', 'Capital cost', 'Declining capital cost_Limit', 'Declining capital cost_Existing stock', 'Declining capital cost_Progress Ratio', 'Declining capital cost_AEEI', 'Upfront fixed intangible cost', 'Upfront declining intangible cost_Initial', 'Upfront declining intangible cost_Rate', 'Upfront declining intangible cost_Shape', 'Annual fixed intangible cost', 'Annual declining intangible cost_Initial', 'Annual declining intangible cost_Rate', 'Annual declining intangible cost_Shape', 'Operating cost', 'Allocated cost', 'Service requested'])"
      ]
     },
     "execution_count": 33,
     "metadata": {},
     "output_type": "execute_result"
    }
   ],
   "source": [
    "electric_baseboard_sg.keys()"
   ]
  },
  {
   "cell_type": "code",
   "execution_count": 34,
   "metadata": {},
   "outputs": [],
   "source": [
    "g_d.node[space_heating]['2000']['technologies']['Electric baseboard'][\"Output\"][\"year_value\"] = marketshare_electric_baseboard*shellGJ\n",
    "g_d.node[space_heating]['2000']['technologies']['Furnace'][\"Output\"][\"year_value\"] = marketshare_furnace*shellGJ"
   ]
  },
  {
   "cell_type": "code",
   "execution_count": 35,
   "metadata": {},
   "outputs": [],
   "source": [
    "electric_baseboard_requested = g_d.node[space_heating]['2000']['technologies']['Electric baseboard'][\"Service requested\"][\"year_value\"]*marketshare_electric_baseboard*shellGJ   \n",
    "furnace_requested = g_d.node[space_heating]['2000']['technologies']['Furnace'][\"Service requested\"][\"year_value\"]*marketshare_furnace*shellGJ   "
   ]
  },
  {
   "cell_type": "code",
   "execution_count": 36,
   "metadata": {},
   "outputs": [
    {
     "data": {
      "text/plain": [
       "dict_keys(['Natural Gas_existing', 'Heat pump_air source', 'Heat pump_ground source', 'Natural Gas_high efficiency'])"
      ]
     },
     "execution_count": 36,
     "metadata": {},
     "output_type": "execute_result"
    }
   ],
   "source": [
    "# Furnace (sum with baseboard after)\n",
    "\n",
    "furnace = search_nodes( g_d, \"Furnace\")[0]\n",
    "g_d.node[furnace]['2000']['technologies'].keys()"
   ]
  },
  {
   "cell_type": "code",
   "execution_count": 37,
   "metadata": {},
   "outputs": [],
   "source": [
    "natural_gas_sg = g_d.node[furnace]['2000']['technologies']['Natural Gas_existing']\n",
    "pump_air_sg = g_d.node[furnace]['2000']['technologies']['Heat pump_air source']\n",
    "pump_ground_sg = g_d.node[furnace]['2000']['technologies']['Heat pump_ground source']\n",
    "natural_gas_higheff_sg = g_d.node[furnace]['2000']['technologies']['Natural Gas_high efficiency']\n",
    "# fetch v here\n",
    "v_furnace = g_d.node[furnace]['2000']['Heterogeneity']['v']['year_value']\n",
    "\n",
    "compete_furnace = {\"Natual Gas\": natural_gas_sg, \n",
    "                   \"Pump Air\": pump_air_sg,\n",
    "                   \"Pump Ground\": pump_ground_sg,\n",
    "                   \"Natural Gas High Efficiency\": natural_gas_higheff_sg}"
   ]
  },
  {
   "cell_type": "code",
   "execution_count": 38,
   "metadata": {},
   "outputs": [],
   "source": [
    "marketshare_natural_gas = natural_gas_sg[\"Market share\"][\"year_value\"]\n",
    "marketshare_pump_air = pump_air_sg[\"Market share\"][\"year_value\"]\n",
    "marketshare_pump_ground = pump_ground_sg[\"Market share\"][\"year_value\"]\n",
    "marketshare_natural_gas_higheff = natural_gas_higheff_sg[\"Market share\"][\"year_value\"]\n"
   ]
  },
  {
   "cell_type": "code",
   "execution_count": 39,
   "metadata": {},
   "outputs": [],
   "source": [
    "g_d.node[furnace]['2000']['technologies']['Natural Gas_existing'][\"Output\"][\"year_value\"] = marketshare_natural_gas*furnace_requested\n",
    "g_d.node[furnace]['2000']['technologies']['Heat pump_air source'][\"Output\"][\"year_value\"] = marketshare_pump_air*furnace_requested \n",
    "g_d.node[furnace]['2000']['technologies']['Heat pump_ground source'][\"Output\"][\"year_value\"] = marketshare_pump_ground*furnace_requested \n",
    "g_d.node[furnace]['2000']['technologies']['Natural Gas_high efficiency'][\"Output\"][\"year_value\"] = marketshare_natural_gas_higheff*furnace_requested "
   ]
  },
  {
   "cell_type": "code",
   "execution_count": 40,
   "metadata": {},
   "outputs": [],
   "source": [
    "natural_gas_requested = g_d.node[furnace]['2000']['technologies']['Natural Gas_existing'][\"Service requested\"][\"year_value\"]*marketshare_natural_gas*furnace_requested   \n",
    "natural_gas_requested += g_d.node[furnace]['2000']['technologies']['Natural Gas_high efficiency'][\"Service requested\"][\"year_value\"]*marketshare_natural_gas_higheff*furnace_requested   "
   ]
  },
  {
   "cell_type": "code",
   "execution_count": 41,
   "metadata": {},
   "outputs": [],
   "source": [
    "electricity_requested = g_d.node[furnace]['2000']['technologies']['Heat pump_air source'][\"Service requested\"][\"year_value\"]*marketshare_pump_air*furnace_requested   \n",
    "electricity_requested += g_d.node[furnace]['2000']['technologies']['Heat pump_ground source'][\"Service requested\"][\"year_value\"]*marketshare_pump_ground*furnace_requested   "
   ]
  },
  {
   "cell_type": "code",
   "execution_count": 42,
   "metadata": {},
   "outputs": [],
   "source": [
    "electricity_requested += electric_baseboard_requested "
   ]
  },
  {
   "cell_type": "code",
   "execution_count": 61,
   "metadata": {},
   "outputs": [
    {
     "data": {
      "text/plain": [
       "dict_keys(['type', '2000', '2005', '2010', '2015', '2020', '2025', '2030', '2035', '2040', '2045', '2050'])"
      ]
     },
     "execution_count": 61,
     "metadata": {},
     "output_type": "execute_result"
    }
   ],
   "source": [
    "#Supply: electricity\n",
    "\n",
    "electricity = search_nodes( g, \"Electricity\")[0]\n",
    "g.node[electricity]['2000'].keys()"
   ]
  },
  {
   "cell_type": "code",
   "execution_count": 60,
   "metadata": {},
   "outputs": [
    {
     "data": {
      "text/plain": [
       "AtlasView({'Canada.Alberta.Electricity.Generation': {'type': ['request_provide', 'structure']}, 'Canada.Alberta.Electricity.Transmission Losses': {'type': ['structure']}})"
      ]
     },
     "execution_count": 60,
     "metadata": {},
     "output_type": "execute_result"
    }
   ],
   "source": [
    "g[electricity]"
   ]
  },
  {
   "cell_type": "code",
   "execution_count": 44,
   "metadata": {},
   "outputs": [
    {
     "data": {
      "text/plain": [
       "157772664.61883995"
      ]
     },
     "execution_count": 44,
     "metadata": {},
     "output_type": "execute_result"
    }
   ],
   "source": []
  },
  {
   "cell_type": "code",
   "execution_count": null,
   "metadata": {},
   "outputs": [],
   "source": []
  },
  {
   "cell_type": "code",
   "execution_count": null,
   "metadata": {},
   "outputs": [],
   "source": []
  },
  {
   "cell_type": "code",
   "execution_count": null,
   "metadata": {},
   "outputs": [],
   "source": []
  },
  {
   "cell_type": "code",
   "execution_count": null,
   "metadata": {},
   "outputs": [],
   "source": []
  },
  {
   "cell_type": "code",
   "execution_count": null,
   "metadata": {},
   "outputs": [],
   "source": []
  },
  {
   "cell_type": "code",
   "execution_count": null,
   "metadata": {},
   "outputs": [],
   "source": []
  },
  {
   "cell_type": "code",
   "execution_count": null,
   "metadata": {},
   "outputs": [],
   "source": []
  },
  {
   "cell_type": "code",
   "execution_count": null,
   "metadata": {},
   "outputs": [],
   "source": []
  },
  {
   "cell_type": "code",
   "execution_count": null,
   "metadata": {},
   "outputs": [],
   "source": []
  },
  {
   "cell_type": "code",
   "execution_count": null,
   "metadata": {},
   "outputs": [],
   "source": []
  },
  {
   "cell_type": "code",
   "execution_count": null,
   "metadata": {},
   "outputs": [],
   "source": []
  },
  {
   "cell_type": "code",
   "execution_count": null,
   "metadata": {},
   "outputs": [],
   "source": []
  },
  {
   "cell_type": "code",
   "execution_count": null,
   "metadata": {},
   "outputs": [],
   "source": []
  },
  {
   "cell_type": "code",
   "execution_count": 15,
   "metadata": {},
   "outputs": [],
   "source": [
    "space_heating = search_nodes(g, 'space heating')[0]\n",
    "furnace = search_nodes(g, 'Furnace')[0]"
   ]
  },
  {
   "cell_type": "code",
   "execution_count": 16,
   "metadata": {},
   "outputs": [
    {
     "data": {
      "text/plain": [
       "dict_keys(['Electric baseboard', 'Furnace'])"
      ]
     },
     "execution_count": 16,
     "metadata": {},
     "output_type": "execute_result"
    }
   ],
   "source": [
    "g.node[space_heating]['2000']['technologies'].keys()"
   ]
  },
  {
   "cell_type": "code",
   "execution_count": 17,
   "metadata": {},
   "outputs": [],
   "source": [
    "electric_baseboard_sg = g.node[space_heating]['2000']['technologies']['Electric baseboard']\n",
    "furnace_sg = g.node[space_heating]['2000']['technologies']['Furnace']\n",
    "# fetch v here\n",
    "v_space_heating = g.node[space_heating]['2000']['Heterogeneity']['v']['year_value']\n",
    "\n",
    "compete_space_heating = {\"Electric baseboard\": electric_baseboard_sg, \n",
    "                         \"Furnace\": furnace_sg}"
   ]
  },
  {
   "cell_type": "code",
   "execution_count": 18,
   "metadata": {},
   "outputs": [
    {
     "data": {
      "text/plain": [
       "dict_keys(['Natural Gas_existing', 'Heat pump_air source', 'Heat pump_ground source', 'Natural Gas_high efficiency'])"
      ]
     },
     "execution_count": 18,
     "metadata": {},
     "output_type": "execute_result"
    }
   ],
   "source": [
    "g.node[furnace]['2000']['technologies'].keys()"
   ]
  },
  {
   "cell_type": "code",
   "execution_count": 19,
   "metadata": {},
   "outputs": [],
   "source": [
    "# heat \n",
    "\n",
    "natural_gas_existing_sg = g.node[furnace]['2000']['technologies']['Natural Gas_existing']\n",
    "heat_pump_air_source_sg = g.node[furnace]['2000']['technologies']['Heat pump_air source'] \n",
    "# heat_pump_ground_source_sg = g.node[furnace]['2000']['technologies']['Heat pump_ground source'] # unavail\n",
    "natural_gas_high_efficiency_sg = g.node[furnace]['2000']['technologies']['Natural Gas_high efficiency']\n",
    "v_furnace = g.node[furnace]['2000']['Heterogeneity']['v']['year_value']\n",
    "compete_furnace = {\"Natural Gas_existing\": natural_gas_existing_sg,\n",
    "                   \"Heat pump_air source\": heat_pump_air_source_sg,\n",
    "                   \"Natural Gas_high efficiency\": natural_gas_high_efficiency_sg}"
   ]
  },
  {
   "cell_type": "code",
   "execution_count": 20,
   "metadata": {},
   "outputs": [],
   "source": [
    "electricity = search_nodes(g_supply, 'electricity')[0]\n",
    "natural_gas = search_nodes(g_supply, 'Natural Gas')[0]"
   ]
  },
  {
   "cell_type": "code",
   "execution_count": 21,
   "metadata": {},
   "outputs": [],
   "source": [
    "electricity_sg = g_supply.node[electricity]['2000']\n",
    "natural_gas_sg = g_supply.node[natural_gas]['2000']"
   ]
  },
  {
   "cell_type": "code",
   "execution_count": 73,
   "metadata": {},
   "outputs": [],
   "source": [
    "# initialize service cost (2000 weighted LLC * MS)"
   ]
  },
  {
   "cell_type": "code",
   "execution_count": 24,
   "metadata": {},
   "outputs": [
    {
     "data": {
      "text/plain": [
       "{'Available': {'source': None,\n",
       "  'branch': None,\n",
       "  'unit': 'Date',\n",
       "  'year_value': 2000.0},\n",
       " 'Unavailable': {'source': None,\n",
       "  'branch': None,\n",
       "  'unit': 'Date',\n",
       "  'year_value': 2000.0},\n",
       " 'Lifetime': {'source': None,\n",
       "  'branch': None,\n",
       "  'unit': 'Years',\n",
       "  'year_value': 18.0},\n",
       " 'Retirement': {'source': None,\n",
       "  'branch': None,\n",
       "  'unit': 'Years',\n",
       "  'year_value': None},\n",
       " 'Discount rate_Financial': {'source': None,\n",
       "  'branch': None,\n",
       "  'unit': '%',\n",
       "  'year_value': 0.25},\n",
       " 'Discount rate_Retrofit': {'source': None,\n",
       "  'branch': None,\n",
       "  'unit': '%',\n",
       "  'year_value': None},\n",
       " 'Discount rate_Revealed': {'source': None,\n",
       "  'branch': None,\n",
       "  'unit': '%',\n",
       "  'year_value': None},\n",
       " 'Market share': {'source': None,\n",
       "  'branch': None,\n",
       "  'unit': '%',\n",
       "  'year_value': 0.94},\n",
       " 'Market share total_Max': {'source': None,\n",
       "  'branch': None,\n",
       "  'unit': '%',\n",
       "  'year_value': None},\n",
       " 'Market share total_Min': {'source': None,\n",
       "  'branch': None,\n",
       "  'unit': '%',\n",
       "  'year_value': None},\n",
       " 'Market share new_Max': {'source': None,\n",
       "  'branch': None,\n",
       "  'unit': '%',\n",
       "  'year_value': None},\n",
       " 'Market share new_Min': {'source': None,\n",
       "  'branch': None,\n",
       "  'unit': '%',\n",
       "  'year_value': None},\n",
       " 'Output': {'source': None, 'branch': None, 'unit': 'GJ', 'year_value': None},\n",
       " 'Capital cost': {'source': None,\n",
       "  'branch': None,\n",
       "  'unit': '$',\n",
       "  'year_value': 1782.5},\n",
       " 'Declining capital cost_Limit': {'source': None,\n",
       "  'branch': None,\n",
       "  'unit': '%',\n",
       "  'year_value': None},\n",
       " 'Declining capital cost_Existing stock': {'source': None,\n",
       "  'branch': None,\n",
       "  'unit': 'GJ',\n",
       "  'year_value': None},\n",
       " 'Declining capital cost_Progress Ratio': {'source': None,\n",
       "  'branch': None,\n",
       "  'unit': None,\n",
       "  'year_value': None},\n",
       " 'Declining capital cost_AEEI': {'source': None,\n",
       "  'branch': None,\n",
       "  'unit': '%',\n",
       "  'year_value': None},\n",
       " 'Upfront fixed intangible cost': {'source': None,\n",
       "  'branch': None,\n",
       "  'unit': '$',\n",
       "  'year_value': None},\n",
       " 'Upfront declining intangible cost_Initial': {'source': None,\n",
       "  'branch': None,\n",
       "  'unit': '$',\n",
       "  'year_value': None},\n",
       " 'Upfront declining intangible cost_Rate': {'source': None,\n",
       "  'branch': None,\n",
       "  'unit': None,\n",
       "  'year_value': None},\n",
       " 'Upfront declining intangible cost_Shape': {'source': None,\n",
       "  'branch': None,\n",
       "  'unit': None,\n",
       "  'year_value': None},\n",
       " 'Annual fixed intangible cost': {'source': None,\n",
       "  'branch': None,\n",
       "  'unit': '$/GJ',\n",
       "  'year_value': None},\n",
       " 'Annual declining intangible cost_Initial': {'source': None,\n",
       "  'branch': None,\n",
       "  'unit': '$/GJ',\n",
       "  'year_value': None},\n",
       " 'Annual declining intangible cost_Rate': {'source': None,\n",
       "  'branch': None,\n",
       "  'unit': None,\n",
       "  'year_value': None},\n",
       " 'Annual declining intangible cost_Shape': {'source': None,\n",
       "  'branch': None,\n",
       "  'unit': None,\n",
       "  'year_value': None},\n",
       " 'Operating cost': {'source': None,\n",
       "  'branch': None,\n",
       "  'unit': '$/GJ',\n",
       "  'year_value': None},\n",
       " 'Allocated cost': {'source': None,\n",
       "  'branch': None,\n",
       "  'unit': '$',\n",
       "  'year_value': None},\n",
       " 'Service requested': {'source': None,\n",
       "  'branch': 'Canada.Alberta.Natural Gas',\n",
       "  'unit': 'GJ requested / GJ provided',\n",
       "  'year_value': 1.6129032258064517}}"
      ]
     },
     "execution_count": 24,
     "metadata": {},
     "output_type": "execute_result"
    }
   ],
   "source": [
    "# get initial values\n",
    "natural_gas_existing_sg\n",
    "# natural_gas_high_efficiency_sg\n",
    "\n",
    "\n"
   ]
  },
  {
   "cell_type": "code",
   "execution_count": 95,
   "metadata": {},
   "outputs": [],
   "source": [
    "a = market_share(compete_furnace)"
   ]
  },
  {
   "cell_type": "code",
   "execution_count": 96,
   "metadata": {},
   "outputs": [
    {
     "data": {
      "text/plain": [
       "{'Natural Gas_existing': 0.9990243902439024,\n",
       " 'Natural Gas_high efficiency': 0.000975609756097561}"
      ]
     },
     "execution_count": 96,
     "metadata": {},
     "output_type": "execute_result"
    }
   ],
   "source": [
    "a"
   ]
  },
  {
   "cell_type": "code",
   "execution_count": null,
   "metadata": {},
   "outputs": [],
   "source": []
  },
  {
   "cell_type": "code",
   "execution_count": null,
   "metadata": {},
   "outputs": [],
   "source": [
    "class Demand:\n",
    "    '''\n",
    "    \n",
    "    - **kwargs: dict of named arguments in \"argname\": value pairs to specify used economic indicators (GDP, population, etc)\n",
    "    '''\n",
    "\n",
    "    def __init__(self, data, v=10, keyfuel=\"kind\", return_all_info=False, **kwargs):\n",
    "        self.keyfuel = keyfuel\n",
    "        \n",
    "        self.dtechs = data[\"demand_step\"]\n",
    "        self.dfuels = data[\"supply_step\"]\n",
    "        \n",
    "        lccs = self.lcc_over_tech()\n",
    "        \n",
    "        if return_all_info:\n",
    "            tech_demand, tech_mshares = self.quantity_demanded(lccs, v=v, return_all_info=True)\n",
    "            fuel_demand = self.demand_by_fuel(tech_demand)\n",
    "            self.fuel_demand, self.tech_demand, self.tech_mshares = fuel_demand, tech_demand, tech_mshares\n",
    "        else:\n",
    "            tech_demand = self.quantity_demanded(lccs, v=v, return_all_info=False)\n",
    "            fuel_demand = self.demand_by_fuel(tech_demand)\n",
    "            self.fuel_demand = fuel_demand\n",
    "        \n",
    "        \n",
    "\n",
    "        \n",
    "    def get_quantity(self, ms, fuel_quantity):\n",
    "        demand = ms * fuel_quantity\n",
    "        return demand\n",
    "    \n",
    "    def lcc_over_tech(self, keytech = \"kind\", keysubtech = \"subtypes\",\n",
    "                            keyprice = \"price\", keycapcost = \"cap_cost\"):\n",
    "        # TODO: use some kwargs in lcc method in case there are arbitrary numbers of params\n",
    "        lccs = {}\n",
    "        # techdict is the entire subtree for the kth competing tech (demand side)\n",
    "        for techdict in self.dtechs:\n",
    "            # get the tech name (key) to use as a label for lcc\n",
    "            tech_k = techdict[keytech]\n",
    "            lccs[tech_k] = {}\n",
    "            # fetch all attributes/values for the (sub)tech that demands a fuel\n",
    "            # by `subtech` I mean e.g.: tech: furnace, subtech: type of furnace\n",
    "            subtechs = techdict[keysubtech]            \n",
    "            # loop over `subtechs`, get subtech name (key) and vals (all attributes associated w/ subtech)\n",
    "            for subtech, vals in subtechs.items():\n",
    "                # unpack components needed for lcc\n",
    "                price = vals[keyprice]\n",
    "                cc = vals[keycapcost]\n",
    "                lccs[tech_k][subtech] = self.life_cycle_cost(last_price=price, cap_cost=cc) # kwargs here\n",
    "        return lccs        \n",
    "                \n",
    "                \n",
    "    def quantity_demanded(self, lccs, v=10, return_all_info=True, keytech=\"kind\", \n",
    "                                keysubtech=\"subtypes\", keyquant=\"total_demand\"):\n",
    "        mshares, quants = {}, {}\n",
    "\n",
    "        # techdict is the entire subtree for the kth competing tech (demand side)            \n",
    "        for techdict in self.dtechs:\n",
    "            # fetch all attributes/values for the (sub)tech that demands a fuel\n",
    "            # by `subtech` I mean e.g.: tech: furnace, subtech: type of furnace\n",
    "            subtechs = techdict[keysubtech]\n",
    "            # loop over `subtechs`, get subtech name (key) and vals (all attributes associated w/ subtech)                \n",
    "                \n",
    "            for tech, vals in subtechs.items():\n",
    "                mshares[tech] = self.market_share(lccs[techdict[keytech]], tech, v=v)\n",
    "                quants[tech] = self.get_quantity(mshares[tech], techdict[keyquant])     \n",
    "                    \n",
    "        if return_all_info:\n",
    "            return quants, mshares\n",
    "        else:\n",
    "            return quants\n",
    "        \n",
    "    def demand_by_fuel(self, quants, keytechfuel=\"fuel\", keysubtech=\"subtypes\"):\n",
    "        by_fuel, sum_quants = {}, {}\n",
    "\n",
    "        # get only numbers for a given fuel, in both techs\n",
    "        for fkind in self.dfuels:\n",
    "            cur_fuel = fkind[self.keyfuel]\n",
    "            by_fuel[cur_fuel] = filter_obs(data, fuel_type=cur_fuel, val=\"fuel\", verbose=False)\n",
    "            sum_quants[cur_fuel] = sum(quants[subtype] for subtype in by_fuel[cur_fuel].keys())\n",
    "        return sum_quants    \n",
    "                    \n",
    "\n"
   ]
  },
  {
   "cell_type": "code",
   "execution_count": null,
   "metadata": {},
   "outputs": [],
   "source": []
  },
  {
   "cell_type": "code",
   "execution_count": null,
   "metadata": {},
   "outputs": [],
   "source": []
  },
  {
   "cell_type": "code",
   "execution_count": null,
   "metadata": {},
   "outputs": [],
   "source": []
  },
  {
   "cell_type": "markdown",
   "metadata": {},
   "source": [
    "#### Define classes for Supply and Demand:"
   ]
  },
  {
   "cell_type": "code",
   "execution_count": 6,
   "metadata": {},
   "outputs": [],
   "source": [
    "class Demand:\n",
    "    '''\n",
    "    \n",
    "    - **kwargs: dict of named arguments in \"argname\": value pairs to specify used economic indicators (GDP, population, etc)\n",
    "    '''\n",
    "\n",
    "    def __init__(self, data, v=10, keyfuel=\"kind\", return_all_info=False, **kwargs):\n",
    "        self.keyfuel = keyfuel\n",
    "        \n",
    "        self.dtechs = data[\"demand_step\"]\n",
    "        self.dfuels = data[\"supply_step\"]\n",
    "        \n",
    "        lccs = self.lcc_over_tech()\n",
    "        \n",
    "        if return_all_info:\n",
    "            tech_demand, tech_mshares = self.quantity_demanded(lccs, v=v, return_all_info=True)\n",
    "            fuel_demand = self.demand_by_fuel(tech_demand)\n",
    "            self.fuel_demand, self.tech_demand, self.tech_mshares = fuel_demand, tech_demand, tech_mshares\n",
    "        else:\n",
    "            tech_demand = self.quantity_demanded(lccs, v=v, return_all_info=False)\n",
    "            fuel_demand = self.demand_by_fuel(tech_demand)\n",
    "            self.fuel_demand = fuel_demand\n",
    "        \n",
    "        \n",
    "    ## Methods for demand side calculations \n",
    "    def life_cycle_cost(self, last_price, cap_cost=0):\n",
    "        lcc = (last_price + cap_cost)\n",
    "        return lcc\n",
    "    \n",
    "    def market_share(self, lcc, techname, v=10):\n",
    "        # lcc is a dict\n",
    "        sum_v = sum(lcc[item]**(-1.0*v) for item in lcc)\n",
    "        ms = (lcc[techname]**(-1.0*v))/sum_v\n",
    "        return ms\n",
    "        \n",
    "    def get_quantity(self, ms, fuel_quantity):\n",
    "        demand = ms * fuel_quantity\n",
    "        return demand\n",
    "    \n",
    "    def lcc_over_tech(self, keytech = \"kind\", keysubtech = \"subtypes\",\n",
    "                            keyprice = \"price\", keycapcost = \"cap_cost\"):\n",
    "        # TODO: use some kwargs in lcc method in case there are arbitrary numbers of params\n",
    "        lccs = {}\n",
    "        # techdict is the entire subtree for the kth competing tech (demand side)\n",
    "        for techdict in self.dtechs:\n",
    "            # get the tech name (key) to use as a label for lcc\n",
    "            tech_k = techdict[keytech]\n",
    "            lccs[tech_k] = {}\n",
    "            # fetch all attributes/values for the (sub)tech that demands a fuel\n",
    "            # by `subtech` I mean e.g.: tech: furnace, subtech: type of furnace\n",
    "            subtechs = techdict[keysubtech]            \n",
    "            # loop over `subtechs`, get subtech name (key) and vals (all attributes associated w/ subtech)\n",
    "            for subtech, vals in subtechs.items():\n",
    "                # unpack components needed for lcc\n",
    "                price = vals[keyprice]\n",
    "                cc = vals[keycapcost]\n",
    "                lccs[tech_k][subtech] = self.life_cycle_cost(last_price=price, cap_cost=cc) # kwargs here\n",
    "        return lccs        \n",
    "                \n",
    "                \n",
    "    def quantity_demanded(self, lccs, v=10, return_all_info=True, keytech=\"kind\", \n",
    "                                keysubtech=\"subtypes\", keyquant=\"total_demand\"):\n",
    "        mshares, quants = {}, {}\n",
    "\n",
    "        # techdict is the entire subtree for the kth competing tech (demand side)            \n",
    "        for techdict in self.dtechs:\n",
    "            # fetch all attributes/values for the (sub)tech that demands a fuel\n",
    "            # by `subtech` I mean e.g.: tech: furnace, subtech: type of furnace\n",
    "            subtechs = techdict[keysubtech]\n",
    "            # loop over `subtechs`, get subtech name (key) and vals (all attributes associated w/ subtech)                \n",
    "                \n",
    "            for tech, vals in subtechs.items():\n",
    "                mshares[tech] = self.market_share(lccs[techdict[keytech]], tech, v=v)\n",
    "                quants[tech] = self.get_quantity(mshares[tech], techdict[keyquant])     \n",
    "                    \n",
    "        if return_all_info:\n",
    "            return quants, mshares\n",
    "        else:\n",
    "            return quants\n",
    "        \n",
    "    def demand_by_fuel(self, quants, keytechfuel=\"fuel\", keysubtech=\"subtypes\"):\n",
    "        by_fuel, sum_quants = {}, {}\n",
    "\n",
    "        # get only numbers for a given fuel, in both techs\n",
    "        for fkind in self.dfuels:\n",
    "            cur_fuel = fkind[self.keyfuel]\n",
    "            by_fuel[cur_fuel] = filter_obs(data, fuel_type=cur_fuel, val=\"fuel\", verbose=False)\n",
    "            sum_quants[cur_fuel] = sum(quants[subtype] for subtype in by_fuel[cur_fuel].keys())\n",
    "        return sum_quants    \n",
    "                    \n",
    "\n"
   ]
  },
  {
   "cell_type": "code",
   "execution_count": 7,
   "metadata": {},
   "outputs": [],
   "source": [
    "class Supply:\n",
    "    def __init__(self, data, v=10, keyfuel=\"kind\", return_all_info=True, **kwargs):\n",
    "        self.keyfuel = keyfuel\n",
    "        \n",
    "        self.sfuels = data[\"supply_step\"]\n",
    "        lccs = self.lcc_over_production()\n",
    "        \n",
    "        if return_all_info:\n",
    "            self.tot_price, self.price, self.sup_mshares = self.get_fuelprice(lccs, v)\n",
    "        else:\n",
    "            self.tot_price = self.get_fuelprice(lccs, v)            \n",
    "            \n",
    "            \n",
    "    ## Methods for calculating demand side \n",
    "    def life_cycle_cost(self, last_price, cap_cost=0):\n",
    "        lcc = (last_price + cap_cost)\n",
    "        return lcc\n",
    "        \n",
    "    def market_share(self, lcc, prodname, v=10):\n",
    "        # lcc is a dict\n",
    "        sum_v = sum(lcc[item]**(-1.0*v) for item in lcc)\n",
    "        ms = (lcc[prodname]**(-1.0*v))/sum_v\n",
    "        return ms\n",
    "        \n",
    "    def get_price(self, ms, lcc):\n",
    "        price = ms*lcc       \n",
    "        return price\n",
    "                \n",
    "        \n",
    "        \n",
    "    def lcc_over_production(self, keyprod = \"subtypes\", keyprice = \"price\", keycapcost = \"cap_cost\"):  \n",
    "        lccs = {}        \n",
    "        for fueldict in self.sfuels:\n",
    "            # loop through each fuel, fueldict is entire subtree below each type of fuel\n",
    "            fueltype = fueldict[self.keyfuel]\n",
    "            lccs[fueltype] = {}\n",
    "            \n",
    "            for prod, vals in fueldict[keyprod].items():\n",
    "                # loop through each production type (say 'hydro' if fuel is 'electricity')\n",
    "                lccs[fueltype][prod] = self.life_cycle_cost(last_price=vals[keyprice], cap_cost=vals[keycapcost])\n",
    "        return lccs    \n",
    "    \n",
    "    def get_fuelprice(self, lccs, v = 10, keyprod = \"subtypes\", keyprice = \"price\", \n",
    "                            keycapcost = \"cap_cost\", return_all_info = True): \n",
    "        # distinguish the 2 types of lccs (one for added, one for price)\n",
    "        lcc_model, mshares, price, tot_price = {}, {}, {}, {}\n",
    "        \n",
    "        for fueldict in self.sfuels:\n",
    "            # loop through each fuel, fueldict is entire subtree below each type of fuel\n",
    "            fueltype = fueldict[self.keyfuel]                          \n",
    "            lcc_model[fueltype], mshares[fueltype], price[fueltype] = {}, {}, {}\n",
    "            for prod, vals in fueldict[keyprod].items():               \n",
    "                lcc_model[fueltype][prod] = self.life_cycle_cost(last_price=vals[keyprice], cap_cost=vals[keycapcost])\n",
    "                mshares[fueltype][prod] = self.market_share(lccs[fueltype], prod, v=v)                \n",
    "                price[fueltype][prod] = self.get_price(mshares[fueltype][prod], lcc_model[fueltype][prod])    # (total_quants[\"electricity\"])   \n",
    "            tot_price[fueltype] = sum(price[fueltype][p]/len(fueldict[keyprod].keys()) for p in fueldict[keyprod].keys())\n",
    "            # TODO!! check averaging method\n",
    "            \n",
    "        if return_all_info:\n",
    "            return tot_price, price, mshares \n",
    "        else:\n",
    "            return tot_price\n",
    "            \n",
    "            "
   ]
  },
  {
   "cell_type": "code",
   "execution_count": 8,
   "metadata": {},
   "outputs": [],
   "source": [
    "class SupplyDemand:\n",
    "    '''\n",
    "    SUPPLY-DEMAND MODEL:\n",
    "        - Demand: estimate Quantity\n",
    "        - Supply: estimate Price\n",
    "        - Repeat using updated prices    \n",
    "    '''    \n",
    "    def __init__(self, data, verbose=True,\n",
    "                             demandkey=\"demand_step\",\n",
    "                             supplykey=\"supply_step\",\n",
    "                             reskeys=(\"dem_price_by_fuel\", \"quant_by_fuel\", \"sup_price_by_fuel\"),\n",
    "                             infokeys=(\"fuels\", \"price_diff\"),\n",
    "                             keyfuel=\"kind\"):\n",
    "        self.data = data   \n",
    "        self.techs = data[demandkey]\n",
    "        self.fuels = data[supplykey]\n",
    "        self.tempdata = deepcopy(data) # check in case data is unsafe to change\n",
    "        self.keyfuel = keyfuel\n",
    "        self.demandkey = demandkey\n",
    "        self.supplykey = supplykey\n",
    "        \n",
    "        # may want to make keys editable from args instead\n",
    "        self.reskeys = reskeys\n",
    "        self.results = DictAppend()\n",
    "        self.infokeys = infokeys\n",
    "        self.info = DictAppend()\n",
    "        \n",
    "        self.setup()\n",
    "        \n",
    "    def setup(self):\n",
    "        \n",
    "        self.demand = Demand(self.data)\n",
    "        quant_hat = self.demand.fuel_demand       \n",
    "\n",
    "        init_price = {ft[self.keyfuel]: find_price_for_fuel( fuel_type = ft[self.keyfuel], data = self.techs ) for ft in self.fuels}\n",
    "        self.supply = Supply(self.data)\n",
    "        price_hat = self.supply.tot_price\n",
    "        new_res = [init_price, quant_hat, price_hat]\n",
    "\n",
    "        for num, res in enumerate(new_res):\n",
    "            for resname, resval in res.items():\n",
    "                self.results[self.reskeys[num]][resname].append(resval)\n",
    "                \n",
    "                \n",
    "                \n",
    "    def iterate(self, relative_tol=0.05, max_iter=10, n_iter=0):\n",
    "        price_diff, price_thres, ge_thres = {}, {}, {}\n",
    "        \n",
    "        print(self.fuels)\n",
    "        \n",
    "        for ft in self.fuels: \n",
    "            # storing fuels used in current competition cluster\n",
    "            f = ft[self.keyfuel]\n",
    "            self.info[self.infokeys[0]].append(ft[self.keyfuel]) \n",
    "\n",
    "            # last demand price recoreded for fuel f (here just initial demand price)\n",
    "            last_price = self.results[self.reskeys[0]][f][-1] \n",
    "            # last supply price recoreded for fuel f\n",
    "            cur_price = self.results[self.reskeys[2]][f][-1]\n",
    "            price_diff[f] = np.abs(last_price - cur_price)\n",
    "            price_thres[f] = cur_price * relative_tol\n",
    "            ge_thres[f] = price_diff[f] > price_thres[f]\n",
    "            # store price difference\n",
    "            self.info[self.infokeys[1]].append( price_diff )\n",
    "        \n",
    "        while any(ge_thres) and n_iter <= max_iter:\n",
    "            # iterate until price diff >= relative_thres and until max number of iters reached\n",
    "            for fuel, is_ge in ge_thres.items():\n",
    "                new_price = self.results[self.reskeys[2]][fuel][-1]\n",
    "                # change price for fuel belonging to all techs in initial `dataset`\n",
    "                change_price_for_fuel( self.data[self.demandkey], fuel, new_price )\n",
    "\n",
    "            \n",
    "            self.demand = Demand(self.data)\n",
    "            quant_hat = self.demand.fuel_demand\n",
    "            new_price = {ft[self.keyfuel]: find_price_for_fuel( fuel_type = ft[self.keyfuel], data = self.techs ) for ft in self.fuels}\n",
    "            self.supply = Supply(self.data)\n",
    "            \n",
    "            price_hat = self.supply.tot_price\n",
    "            \n",
    "            for ft, val in new_price.items():\n",
    "                self.results[self.reskeys[0]][ft].append(val)\n",
    "            for ft, val in quant_hat.items():    \n",
    "                self.results[self.reskeys[1]][ft].append(val)\n",
    "            for ft, val in price_hat.items():\n",
    "                self.results[self.reskeys[2]][ft].append(val)          \n",
    "                \n",
    "            #TODO (done here oct 13 pm, check price diff vals, check label fuck up)\n",
    "            for f in self.info[\"fuels\"]:\n",
    "                last_price = self.results[\"dem_price_by_fuel\"][f][-1]    \n",
    "                cur_price = self.results[\"sup_price_by_fuel\"][f][-1]\n",
    "                price_diff[f] = np.abs(last_price - cur_price)\n",
    "                price_thres[f] = cur_price * relative_tol\n",
    "                ge_thres[f] = price_diff[f] > price_thres[f]\n",
    "                \n",
    "            self.info[\"price_diff\"].append( price_diff )\n",
    "            n_iter += 1\n",
    "\n",
    "                \n"
   ]
  },
  {
   "cell_type": "code",
   "execution_count": 9,
   "metadata": {},
   "outputs": [
    {
     "name": "stdout",
     "output_type": "stream",
     "text": [
      "[{'kind': 'electricity', 'leaf': True, 'supply': 5000, 'subtypes': {'wind': {'price': 110, 'cap_cost': 2}, 'hydro': {'price': 100, 'cap_cost': 5}, 'rocks': {'price': 80, 'cap_cost': 10}}}, {'kind': 'gas', 'leaf': True, 'supply': 3000, 'subtypes': {'gas1': {'price': 150, 'cap_cost': 10}, 'gas2': {'price': 120, 'cap_cost': 0}}}]\n"
     ]
    }
   ],
   "source": [
    "sd = SupplyDemand(data)\n",
    "sd.iterate()"
   ]
  },
  {
   "cell_type": "code",
   "execution_count": 10,
   "metadata": {},
   "outputs": [
    {
     "data": {
      "text/plain": [
       "{'dem_price_by_fuel': {'electricity': [200,\n",
       "   31.42768280241502,\n",
       "   31.42768280241502,\n",
       "   31.42768280241502,\n",
       "   31.42768280241502,\n",
       "   31.42768280241502,\n",
       "   31.42768280241502,\n",
       "   31.42768280241502,\n",
       "   31.42768280241502,\n",
       "   31.42768280241502,\n",
       "   31.42768280241502,\n",
       "   31.42768280241502],\n",
       "  'gas': [150,\n",
       "   61.06622728811647,\n",
       "   61.06622728811647,\n",
       "   61.06622728811647,\n",
       "   61.06622728811647,\n",
       "   61.06622728811647,\n",
       "   61.06622728811647,\n",
       "   61.06622728811647,\n",
       "   61.06622728811647,\n",
       "   61.06622728811647,\n",
       "   61.06622728811647,\n",
       "   61.06622728811647]},\n",
       " 'quant_by_fuel': {'electricity': [11212.77741142919,\n",
       "   18995.03215918419,\n",
       "   18995.03215918419,\n",
       "   18995.03215918419,\n",
       "   18995.03215918419,\n",
       "   18995.03215918419,\n",
       "   18995.03215918419,\n",
       "   18995.03215918419,\n",
       "   18995.03215918419,\n",
       "   18995.03215918419,\n",
       "   18995.03215918419,\n",
       "   18995.03215918419],\n",
       "  'gas': [7787.222588570809,\n",
       "   4.967840815811117,\n",
       "   4.967840815811117,\n",
       "   4.967840815811117,\n",
       "   4.967840815811117,\n",
       "   4.967840815811117,\n",
       "   4.967840815811117,\n",
       "   4.967840815811117,\n",
       "   4.967840815811117,\n",
       "   4.967840815811117,\n",
       "   4.967840815811117,\n",
       "   4.967840815811117]},\n",
       " 'sup_price_by_fuel': {'electricity': [31.42768280241502,\n",
       "   31.42768280241502,\n",
       "   31.42768280241502,\n",
       "   31.42768280241502,\n",
       "   31.42768280241502,\n",
       "   31.42768280241502,\n",
       "   31.42768280241502,\n",
       "   31.42768280241502,\n",
       "   31.42768280241502,\n",
       "   31.42768280241502,\n",
       "   31.42768280241502,\n",
       "   31.42768280241502],\n",
       "  'gas': [61.06622728811647,\n",
       "   61.06622728811647,\n",
       "   61.06622728811647,\n",
       "   61.06622728811647,\n",
       "   61.06622728811647,\n",
       "   61.06622728811647,\n",
       "   61.06622728811647,\n",
       "   61.06622728811647,\n",
       "   61.06622728811647,\n",
       "   61.06622728811647,\n",
       "   61.06622728811647,\n",
       "   61.06622728811647]}}"
      ]
     },
     "execution_count": 10,
     "metadata": {},
     "output_type": "execute_result"
    }
   ],
   "source": [
    "sd.results"
   ]
  },
  {
   "cell_type": "code",
   "execution_count": 11,
   "metadata": {},
   "outputs": [],
   "source": [
    "demPrice = sd.results[\"dem_price_by_fuel\"][\"electricity\"]\n",
    "supPrice = sd.results['sup_price_by_fuel'][\"electricity\"]\n",
    "quants = sd.results[\"quant_by_fuel\"][\"electricity\"]"
   ]
  },
  {
   "cell_type": "code",
   "execution_count": 12,
   "metadata": {},
   "outputs": [
    {
     "data": {
      "text/plain": [
       "{'fuels': ['electricity', 'gas'],\n",
       " 'price_diff': [{'electricity': 0.0, 'gas': 0.0},\n",
       "  {'electricity': 0.0, 'gas': 0.0},\n",
       "  {'electricity': 0.0, 'gas': 0.0},\n",
       "  {'electricity': 0.0, 'gas': 0.0},\n",
       "  {'electricity': 0.0, 'gas': 0.0},\n",
       "  {'electricity': 0.0, 'gas': 0.0},\n",
       "  {'electricity': 0.0, 'gas': 0.0},\n",
       "  {'electricity': 0.0, 'gas': 0.0},\n",
       "  {'electricity': 0.0, 'gas': 0.0},\n",
       "  {'electricity': 0.0, 'gas': 0.0},\n",
       "  {'electricity': 0.0, 'gas': 0.0},\n",
       "  {'electricity': 0.0, 'gas': 0.0},\n",
       "  {'electricity': 0.0, 'gas': 0.0}]}"
      ]
     },
     "execution_count": 12,
     "metadata": {},
     "output_type": "execute_result"
    }
   ],
   "source": [
    "sd.info"
   ]
  },
  {
   "cell_type": "code",
   "execution_count": null,
   "metadata": {},
   "outputs": [],
   "source": []
  }
 ],
 "metadata": {
  "kernelspec": {
   "display_name": "Python 3",
   "language": "python",
   "name": "python3"
  },
  "language_info": {
   "codemirror_mode": {
    "name": "ipython",
    "version": 3
   },
   "file_extension": ".py",
   "mimetype": "text/x-python",
   "name": "python",
   "nbconvert_exporter": "python",
   "pygments_lexer": "ipython3",
   "version": "3.7.2"
  }
 },
 "nbformat": 4,
 "nbformat_minor": 2
}
