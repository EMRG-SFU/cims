{
 "cells": [
  {
   "cell_type": "markdown",
   "metadata": {},
   "source": [
    "# Quickstart\n",
    "\n",
    "This notebook serves as an introduction on getting started with pyCIMS. Before we dive in, make sure you have downloaded or cloned the pyCIMS git repo from https://gitlab.rcg.sfu.ca/mlachain/pycims_prototype/-/tree/master and have ensured that it is up-to-date\n",
    "\n",
    "Now, we can get started with an example. "
   ]
  },
  {
   "cell_type": "markdown",
   "metadata": {},
   "source": [
    "## Import pyCIMS  & other packages\n",
    "We need to make sure we can access the `pyCIMS` module. Since we are still developing the module, we can't install it from PyPI. Instead, we will make sure the module is in our PATH. The code below assumes you started the jupyter notebook from inside the `pycims_prototype/code/tutorial_examples` directory. "
   ]
  },
  {
   "cell_type": "code",
   "execution_count": null,
   "metadata": {},
   "outputs": [],
   "source": [
    "import os\n",
    "import sys\n",
    "import pprint as pp\n",
    "\n",
    "sys.path.insert(0, os.path.abspath('../../')) # Assumes ipynb ran from pycims_prototype/code/model_validation\n",
    "sys.path.insert(0, os.path.abspath('../../pyCIMS')) # Assumes ipynb ran from pycims_prototype/code/model_validation\n",
    "\n",
    "import pyCIMS"
   ]
  },
  {
   "cell_type": "markdown",
   "metadata": {},
   "source": [
    "We will also need to install the `pyxlsb` package. This is an optional dependency of `pyCIMS` that is required when our model descriptions are saved as `.xlsb` files.   "
   ]
  },
  {
   "cell_type": "code",
   "execution_count": null,
   "metadata": {},
   "outputs": [],
   "source": [
    "!pip install pyxlsb"
   ]
  },
  {
   "cell_type": "markdown",
   "metadata": {},
   "source": [
    "## Model Validator\n",
    "\n",
    "Now that we have loaded the `pyCIMS` module we can start to use it. First, we will validate our model description using the `ModelValidator` class."
   ]
  },
  {
   "cell_type": "code",
   "execution_count": null,
   "metadata": {},
   "outputs": [],
   "source": [
    "model_description_file = '../../pyCIMS_model_description_Alberta_Validated.xlsb' # Assumes ipynb ran from pycims_prototype/code/tutorial_examples\n",
    "model_validator = pyCIMS.ModelValidator(model_description_file)\n",
    "model_validator.validate(verbose=True, raise_warnings=False)"
   ]
  },
  {
   "cell_type": "markdown",
   "metadata": {},
   "source": [
    "For more information on using the `ModelValidator` class, checkout the [model validation tutorial](model_validation_instructions.ipynb). "
   ]
  },
  {
   "cell_type": "markdown",
   "metadata": {},
   "source": [
    "## Build the Model\n",
    "There are two steps to building the model. First, we need to create a `ModelReader` object. This object reads in the model description Excel file and does some processessing to prepare the description to become a model. Then, this `ModelReader` object becomes the input to the all important `Model` object."
   ]
  },
  {
   "cell_type": "code",
   "execution_count": null,
   "metadata": {},
   "outputs": [],
   "source": [
    "# Model Reader\n",
    "model_reader = pyCIMS.ModelReader(infile=model_description_file,\n",
    "                                  sheet_map={'model': 'Model'},\n",
    "                                  node_col='Node')"
   ]
  },
  {
   "cell_type": "code",
   "execution_count": null,
   "metadata": {},
   "outputs": [],
   "source": [
    "# Model\n",
    "model = pyCIMS.Model(model_reader)"
   ]
  },
  {
   "cell_type": "markdown",
   "metadata": {},
   "source": [
    "## Run the pyCIMS Model"
   ]
  },
  {
   "cell_type": "code",
   "execution_count": null,
   "metadata": {},
   "outputs": [],
   "source": [
    "model.run(max_iterations=5, show_warnings=False)"
   ]
  },
  {
   "cell_type": "markdown",
   "metadata": {},
   "source": [
    "## Examine the Results"
   ]
  },
  {
   "cell_type": "code",
   "execution_count": null,
   "metadata": {},
   "outputs": [],
   "source": [
    "# How has a fuel's price changed between years? \n",
    "import pprint as pp\n",
    "\n",
    "price_of_interest = 'pyCIMS.Canada.Alberta.Electricity'\n",
    "for year in model.years:\n",
    "    pp.pprint(model.graph.nodes[price_of_interest][year]['Life Cycle Cost'])\n"
   ]
  },
  {
   "cell_type": "code",
   "execution_count": null,
   "metadata": {},
   "outputs": [],
   "source": [
    "# How has marketshare changed between years ?\n",
    "node_of_interest = 'pyCIMS.Canada.Alberta.Residential.Buildings.Floorspace.Lighting'\n",
    "for year in model.years:\n",
    "    print('***** {} *****'.format(year))\n",
    "    for t, d in model.graph.nodes[node_of_interest][year]['technologies'].items():\n",
    "        print(\"{}: {}%\".format(t, round(d['total_market_share']*100)))\n"
   ]
  }
 ],
 "metadata": {
  "kernelspec": {
   "display_name": "Python 3",
   "language": "python",
   "name": "python3"
  },
  "language_info": {
   "codemirror_mode": {
    "name": "ipython",
    "version": 3
   },
   "file_extension": ".py",
   "mimetype": "text/x-python",
   "name": "python",
   "nbconvert_exporter": "python",
   "pygments_lexer": "ipython3",
   "version": "3.7.7"
  }
 },
 "nbformat": 4,
 "nbformat_minor": 4
}
