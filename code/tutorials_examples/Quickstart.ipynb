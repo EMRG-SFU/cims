{
 "cells": [
  {
   "cell_type": "markdown",
   "metadata": {},
   "source": [
    "# Quickstart\n",
    "\n",
    "This notebook serves as an introduction on getting started with pyCIMS. Before we dive in, make sure you have downloaded or cloned the pyCIMS git repo from https://gitlab.rcg.sfu.ca/mlachain/pycims_prototype/-/tree/master and have ensured that it is up-to-date\n",
    "\n",
    "Now, we can get started with an example. "
   ]
  },
  {
   "cell_type": "markdown",
   "metadata": {},
   "source": [
    "## Import pyCIMS  & other packages\n",
    "We need to make sure we can access the `pyCIMS` module. Since we are still developing the module, we can't install it from PyPI. Instead, we will make sure the module is in our PATH. The code below assumes you started the jupyter notebook from inside the `pycims_prototype/code/tutorial_examples` directory. "
   ]
  },
  {
   "cell_type": "code",
   "execution_count": 1,
   "metadata": {},
   "outputs": [],
   "source": [
    "import os\n",
    "import sys\n",
    "import pprint as pp\n",
    "\n",
    "sys.path.insert(0, os.path.abspath('../../')) # Assumes ipynb ran from pycims_prototype/code/model_validation\n",
    "sys.path.insert(0, os.path.abspath('../../pyCIMS')) # Assumes ipynb ran from pycims_prototype/code/model_validation\n",
    "\n",
    "import pyCIMS"
   ]
  },
  {
   "cell_type": "markdown",
   "metadata": {},
   "source": [
    "We will also need to install the `pyxlsb` package. This is an optional dependency of `pyCIMS` that is required when our model descriptions are saved as `.xlsb` files.   "
   ]
  },
  {
   "cell_type": "code",
   "execution_count": 2,
   "metadata": {},
   "outputs": [
    {
     "name": "stdout",
     "output_type": "stream",
     "text": [
      "Requirement already satisfied: pyxlsb in /home/sbergner/.local/lib/python3.8/site-packages (1.0.6)\n"
     ]
    }
   ],
   "source": [
    "!pip install pyxlsb"
   ]
  },
  {
   "cell_type": "markdown",
   "metadata": {},
   "source": [
    "## Model Validator\n",
    "\n",
    "Now that we have loaded the `pyCIMS` module we can start to use it. First, we will validate our model description using the `ModelValidator` class."
   ]
  },
  {
   "cell_type": "code",
   "execution_count": 3,
   "metadata": {},
   "outputs": [],
   "source": [
    "model_description_file = '../../pyCIMS_model_description_Alberta_Validated.xlsb' # Assumes ipynb ran from pycims_prototype/code/tutorial_examples"
   ]
  },
  {
   "cell_type": "code",
   "execution_count": 3,
   "metadata": {},
   "outputs": [
    {
     "name": "stdout",
     "output_type": "stream",
     "text": [
      "0 node name/branch mismatches. \n",
      "0 references to unspecified nodes. \n",
      "0 non-root nodes are never referenced. \n",
      "0 nodes were specified but don't provide a service. \n",
      "0 nodes had invalid competition types. \n",
      "2 nodes requested services of themselves. See ModelValidator.warnings['nodes_requesting_self'] for more info\n",
      "139 nodes or technologies don't request other services. See ModelValidator.warnings['nodes_no_requested_service'] for more info\n"
     ]
    }
   ],
   "source": [
    "model_validator = pyCIMS.ModelValidator(model_description_file)\n",
    "model_validator.validate(verbose=True, raise_warnings=False)"
   ]
  },
  {
   "cell_type": "markdown",
   "metadata": {},
   "source": [
    "For more information on using the `ModelValidator` class, checkout the [model validation tutorial](model_validation_instructions.ipynb). "
   ]
  },
  {
   "cell_type": "markdown",
   "metadata": {},
   "source": [
    "## Build the Model\n",
    "There are two steps to building the model. First, we need to create a `ModelReader` object. This object reads in the model description Excel file and does some processessing to prepare the description to become a model. Then, this `ModelReader` object becomes the input to the all important `Model` object."
   ]
  },
  {
   "cell_type": "code",
   "execution_count": 4,
   "metadata": {},
   "outputs": [],
   "source": [
    "# Model Reader\n",
    "model_reader = pyCIMS.ModelReader(infile=model_description_file,\n",
    "                                  sheet_map={'model': 'Model'},\n",
    "                                  node_col='Node')"
   ]
  },
  {
   "cell_type": "code",
   "execution_count": 5,
   "metadata": {},
   "outputs": [],
   "source": [
    "# Model\n",
    "model = pyCIMS.Model(model_reader)"
   ]
  },
  {
   "cell_type": "markdown",
   "metadata": {},
   "source": [
    "## Run the pyCIMS Model"
   ]
  },
  {
   "cell_type": "code",
   "execution_count": 6,
   "metadata": {},
   "outputs": [
    {
     "name": "stdout",
     "output_type": "stream",
     "text": [
      "***** ***** year: 2000 ***** *****\n",
      "iter 0\n"
     ]
    },
    {
     "name": "stderr",
     "output_type": "stream",
     "text": [
      "/mnt/c/Users/Steven/Research/CIMS/pycims_prototype/pyCIMS/graph_utils.py:222: UserWarning: Found a Loop -- \n",
      "  warnings.warn(\"Found a Loop -- \")\n"
     ]
    },
    {
     "ename": "KeyError",
     "evalue": "'pyCIMS.Canada.Alberta.Residential.Buildings.Floorspace.Lighting'",
     "output_type": "error",
     "traceback": [
      "\u001b[0;31m---------------------------------------------------------------------------\u001b[0m",
      "\u001b[0;31mKeyError\u001b[0m                                  Traceback (most recent call last)",
      "\u001b[0;32m<ipython-input-6-92fe25216b45>\u001b[0m in \u001b[0;36m<module>\u001b[0;34m\u001b[0m\n\u001b[0;32m----> 1\u001b[0;31m \u001b[0mmodel\u001b[0m\u001b[0;34m.\u001b[0m\u001b[0mrun\u001b[0m\u001b[0;34m(\u001b[0m\u001b[0mmax_iterations\u001b[0m\u001b[0;34m=\u001b[0m\u001b[0;36m0\u001b[0m\u001b[0;34m,\u001b[0m \u001b[0mshow_warnings\u001b[0m\u001b[0;34m=\u001b[0m\u001b[0;32mFalse\u001b[0m\u001b[0;34m)\u001b[0m\u001b[0;34m\u001b[0m\u001b[0;34m\u001b[0m\u001b[0m\n\u001b[0m",
      "\u001b[0;32m/mnt/c/Users/Steven/Research/CIMS/pycims_prototype/pyCIMS/model.py\u001b[0m in \u001b[0;36mrun\u001b[0;34m(self, equilibrium_threshold, max_iterations, show_warnings)\u001b[0m\n\u001b[1;32m    172\u001b[0m                 \u001b[0;31m# ******************\u001b[0m\u001b[0;34m\u001b[0m\u001b[0;34m\u001b[0m\u001b[0;34m\u001b[0m\u001b[0m\n\u001b[1;32m    173\u001b[0m                 \u001b[0;31m# Calculate LCC values on demand side\u001b[0m\u001b[0;34m\u001b[0m\u001b[0;34m\u001b[0m\u001b[0;34m\u001b[0m\u001b[0m\n\u001b[0;32m--> 174\u001b[0;31m                 graph_utils.bottom_up_traversal(g_demand,\n\u001b[0m\u001b[1;32m    175\u001b[0m                                                 \u001b[0mlcc_calculation\u001b[0m\u001b[0;34m.\u001b[0m\u001b[0mlcc_calculation\u001b[0m\u001b[0;34m,\u001b[0m\u001b[0;34m\u001b[0m\u001b[0;34m\u001b[0m\u001b[0m\n\u001b[1;32m    176\u001b[0m                                                 \u001b[0myear\u001b[0m\u001b[0;34m,\u001b[0m\u001b[0;34m\u001b[0m\u001b[0;34m\u001b[0m\u001b[0m\n",
      "\u001b[0;32m/mnt/c/Users/Steven/Research/CIMS/pycims_prototype/pyCIMS/graph_utils.py\u001b[0m in \u001b[0;36mbottom_up_traversal\u001b[0;34m(sub_graph, node_process_func, *args, **kwargs)\u001b[0m\n\u001b[1;32m    286\u001b[0m             \u001b[0mn_cur\u001b[0m \u001b[0;34m=\u001b[0m \u001b[0mactive_front\u001b[0m\u001b[0;34m[\u001b[0m\u001b[0;36m0\u001b[0m\u001b[0;34m]\u001b[0m\u001b[0;34m\u001b[0m\u001b[0;34m\u001b[0m\u001b[0m\n\u001b[1;32m    287\u001b[0m             \u001b[0;31m# Process that node in the sub-graph\u001b[0m\u001b[0;34m\u001b[0m\u001b[0;34m\u001b[0m\u001b[0;34m\u001b[0m\u001b[0m\n\u001b[0;32m--> 288\u001b[0;31m             \u001b[0mnode_process_func\u001b[0m\u001b[0;34m(\u001b[0m\u001b[0msub_graph\u001b[0m\u001b[0;34m,\u001b[0m \u001b[0mn_cur\u001b[0m\u001b[0;34m,\u001b[0m \u001b[0;34m*\u001b[0m\u001b[0margs\u001b[0m\u001b[0;34m,\u001b[0m \u001b[0;34m**\u001b[0m\u001b[0mkwargs\u001b[0m\u001b[0;34m)\u001b[0m\u001b[0;34m\u001b[0m\u001b[0;34m\u001b[0m\u001b[0m\n\u001b[0m\u001b[1;32m    289\u001b[0m \u001b[0;34m\u001b[0m\u001b[0m\n\u001b[1;32m    290\u001b[0m         \u001b[0;32melse\u001b[0m\u001b[0;34m:\u001b[0m\u001b[0;34m\u001b[0m\u001b[0;34m\u001b[0m\u001b[0m\n",
      "\u001b[0;32m/mnt/c/Users/Steven/Research/CIMS/pycims_prototype/pyCIMS/lcc_calculation.py\u001b[0m in \u001b[0;36mlcc_calculation\u001b[0;34m(sub_graph, node, year, year_step, full_graph, fuels, show_warnings)\u001b[0m\n\u001b[1;32m     79\u001b[0m         \u001b[0;32mfor\u001b[0m \u001b[0mtech\u001b[0m \u001b[0;32min\u001b[0m \u001b[0mnode_techs\u001b[0m\u001b[0;34m:\u001b[0m\u001b[0;34m\u001b[0m\u001b[0;34m\u001b[0m\u001b[0m\n\u001b[1;32m     80\u001b[0m             \u001b[0;31m# calculate_tech_econ_values(sub_graph, node, tech, year)\u001b[0m\u001b[0;34m\u001b[0m\u001b[0;34m\u001b[0m\u001b[0;34m\u001b[0m\u001b[0m\n\u001b[0;32m---> 81\u001b[0;31m             \u001b[0mcalculate_tech_econ_values\u001b[0m\u001b[0;34m(\u001b[0m\u001b[0mfull_graph\u001b[0m\u001b[0;34m,\u001b[0m \u001b[0mnode\u001b[0m\u001b[0;34m,\u001b[0m \u001b[0mtech\u001b[0m\u001b[0;34m,\u001b[0m \u001b[0myear\u001b[0m\u001b[0;34m)\u001b[0m\u001b[0;34m\u001b[0m\u001b[0;34m\u001b[0m\u001b[0m\n\u001b[0m\u001b[1;32m     82\u001b[0m \u001b[0;34m\u001b[0m\u001b[0m\n\u001b[1;32m     83\u001b[0m             \u001b[0;31m# If the technology is available in this year, go through it\u001b[0m\u001b[0;34m\u001b[0m\u001b[0;34m\u001b[0m\u001b[0;34m\u001b[0m\u001b[0m\n",
      "\u001b[0;32m/mnt/c/Users/Steven/Research/CIMS/pycims_prototype/pyCIMS/lcc_calculation.py\u001b[0m in \u001b[0;36mcalculate_tech_econ_values\u001b[0;34m(graph, node, tech, year)\u001b[0m\n\u001b[1;32m     10\u001b[0m     \u001b[0mtech_param_values\u001b[0m \u001b[0;34m=\u001b[0m \u001b[0;34m[\u001b[0m\u001b[0;36m0.0\u001b[0m\u001b[0;34m,\u001b[0m \u001b[0;36m0.0\u001b[0m\u001b[0;34m,\u001b[0m \u001b[0;36m0.0\u001b[0m\u001b[0;34m,\u001b[0m \u001b[0;36m0.0\u001b[0m\u001b[0;34m]\u001b[0m\u001b[0;34m\u001b[0m\u001b[0;34m\u001b[0m\u001b[0m\n\u001b[1;32m     11\u001b[0m     \u001b[0;32mfor\u001b[0m \u001b[0mparam_name\u001b[0m\u001b[0;34m,\u001b[0m \u001b[0mparam_val\u001b[0m \u001b[0;32min\u001b[0m \u001b[0mzip\u001b[0m\u001b[0;34m(\u001b[0m\u001b[0mtech_param_names\u001b[0m\u001b[0;34m,\u001b[0m \u001b[0mtech_param_values\u001b[0m\u001b[0;34m)\u001b[0m\u001b[0;34m:\u001b[0m\u001b[0;34m\u001b[0m\u001b[0;34m\u001b[0m\u001b[0m\n\u001b[0;32m---> 12\u001b[0;31m         \u001b[0mpresent_tech_params\u001b[0m \u001b[0;34m=\u001b[0m \u001b[0mgraph\u001b[0m\u001b[0;34m.\u001b[0m\u001b[0mnodes\u001b[0m\u001b[0;34m[\u001b[0m\u001b[0mnode\u001b[0m\u001b[0;34m]\u001b[0m\u001b[0;34m[\u001b[0m\u001b[0myear\u001b[0m\u001b[0;34m]\u001b[0m\u001b[0;34m[\u001b[0m\u001b[0;34m'technologies'\u001b[0m\u001b[0;34m]\u001b[0m\u001b[0;34m[\u001b[0m\u001b[0mtech\u001b[0m\u001b[0;34m]\u001b[0m\u001b[0;34m.\u001b[0m\u001b[0mkeys\u001b[0m\u001b[0;34m(\u001b[0m\u001b[0;34m)\u001b[0m\u001b[0;34m\u001b[0m\u001b[0;34m\u001b[0m\u001b[0m\n\u001b[0m\u001b[1;32m     13\u001b[0m         \u001b[0;32mif\u001b[0m \u001b[0mparam_name\u001b[0m \u001b[0;32mnot\u001b[0m \u001b[0;32min\u001b[0m \u001b[0mpresent_tech_params\u001b[0m\u001b[0;34m:\u001b[0m\u001b[0;34m\u001b[0m\u001b[0;34m\u001b[0m\u001b[0m\n\u001b[1;32m     14\u001b[0m             \u001b[0madd_tech_param\u001b[0m\u001b[0;34m(\u001b[0m\u001b[0mgraph\u001b[0m\u001b[0;34m,\u001b[0m \u001b[0mnode\u001b[0m\u001b[0;34m,\u001b[0m \u001b[0myear\u001b[0m\u001b[0;34m,\u001b[0m \u001b[0mtech\u001b[0m\u001b[0;34m,\u001b[0m \u001b[0mparam_name\u001b[0m\u001b[0;34m,\u001b[0m \u001b[0mparam_val\u001b[0m\u001b[0;34m)\u001b[0m\u001b[0;34m\u001b[0m\u001b[0;34m\u001b[0m\u001b[0m\n",
      "\u001b[0;32m~/.local/lib/python3.8/site-packages/networkx/classes/reportviews.py\u001b[0m in \u001b[0;36m__getitem__\u001b[0;34m(self, n)\u001b[0m\n\u001b[1;32m    185\u001b[0m \u001b[0;34m\u001b[0m\u001b[0m\n\u001b[1;32m    186\u001b[0m     \u001b[0;32mdef\u001b[0m \u001b[0m__getitem__\u001b[0m\u001b[0;34m(\u001b[0m\u001b[0mself\u001b[0m\u001b[0;34m,\u001b[0m \u001b[0mn\u001b[0m\u001b[0;34m)\u001b[0m\u001b[0;34m:\u001b[0m\u001b[0;34m\u001b[0m\u001b[0;34m\u001b[0m\u001b[0m\n\u001b[0;32m--> 187\u001b[0;31m         \u001b[0;32mreturn\u001b[0m \u001b[0mself\u001b[0m\u001b[0;34m.\u001b[0m\u001b[0m_nodes\u001b[0m\u001b[0;34m[\u001b[0m\u001b[0mn\u001b[0m\u001b[0;34m]\u001b[0m\u001b[0;34m\u001b[0m\u001b[0;34m\u001b[0m\u001b[0m\n\u001b[0m\u001b[1;32m    188\u001b[0m \u001b[0;34m\u001b[0m\u001b[0m\n\u001b[1;32m    189\u001b[0m     \u001b[0;31m# Set methods\u001b[0m\u001b[0;34m\u001b[0m\u001b[0;34m\u001b[0m\u001b[0;34m\u001b[0m\u001b[0m\n",
      "\u001b[0;31mKeyError\u001b[0m: 'pyCIMS.Canada.Alberta.Residential.Buildings.Floorspace.Lighting'"
     ]
    }
   ],
   "source": [
    "model.run(max_iterations=0, show_warnings=False)"
   ]
  },
  {
   "cell_type": "markdown",
   "metadata": {},
   "source": [
    "## Examine the Results"
   ]
  },
  {
   "cell_type": "code",
   "execution_count": 7,
   "metadata": {},
   "outputs": [
    {
     "name": "stdout",
     "output_type": "stream",
     "text": [
      "{'Electricity': {'to_estimate': False, 'year_value': 22}}\n",
      "{'Electricity': {'to_estimate': True, 'year_value': 64.82756490857975}}\n",
      "{'Electricity': {'to_estimate': True, 'year_value': 62.85170137762043}}\n",
      "{'Electricity': {'to_estimate': True, 'year_value': 64.62965590274918}}\n",
      "{'Electricity': {'to_estimate': True, 'year_value': 43.327621701426615}}\n",
      "{'Electricity': {'to_estimate': True, 'year_value': 48.84997272938841}}\n",
      "{'Electricity': {'to_estimate': True, 'year_value': 48.278416237267656}}\n",
      "{'Electricity': {'to_estimate': True, 'year_value': 46.20418892709652}}\n",
      "{'Electricity': {'to_estimate': True, 'year_value': 43.71927009687332}}\n",
      "{'Electricity': {'to_estimate': True, 'year_value': 41.755293085468644}}\n",
      "{'Electricity': {'to_estimate': True, 'year_value': 36.98938603328726}}\n"
     ]
    }
   ],
   "source": [
    "# How has a fuel's price changed between years? \n",
    "import pprint as pp\n",
    "\n",
    "price_of_interest = 'pyCIMS.Canada.Alberta.Electricity'\n",
    "for year in model.years:\n",
    "    pp.pprint(model.graph.nodes[price_of_interest][year]['Life Cycle Cost'])\n"
   ]
  },
  {
   "cell_type": "code",
   "execution_count": 8,
   "metadata": {},
   "outputs": [
    {
     "name": "stdout",
     "output_type": "stream",
     "text": [
      "***** 2000 *****\n",
      "Incandescent: 92%\n",
      "CFL: 8%\n",
      "LED: 0%\n",
      "***** 2005 *****\n",
      "Incandescent: 0%\n",
      "CFL: 100%\n",
      "LED: 0%\n",
      "***** 2010 *****\n",
      "Incandescent: 0%\n",
      "CFL: 100%\n",
      "LED: 0%\n",
      "***** 2015 *****\n",
      "Incandescent: 0%\n",
      "CFL: 96%\n",
      "LED: 0%\n",
      "***** 2020 *****\n",
      "Incandescent: 0%\n",
      "CFL: 99%\n",
      "LED: 1%\n",
      "***** 2025 *****\n",
      "Incandescent: 0%\n",
      "CFL: 97%\n",
      "LED: 3%\n",
      "***** 2030 *****\n",
      "Incandescent: 0%\n",
      "CFL: 96%\n",
      "LED: 4%\n",
      "***** 2035 *****\n",
      "Incandescent: 0%\n",
      "CFL: 95%\n",
      "LED: 4%\n",
      "***** 2040 *****\n",
      "Incandescent: 0%\n",
      "CFL: 96%\n",
      "LED: 4%\n",
      "***** 2045 *****\n",
      "Incandescent: 1%\n",
      "CFL: 96%\n",
      "LED: 4%\n",
      "***** 2050 *****\n",
      "Incandescent: 1%\n",
      "CFL: 96%\n",
      "LED: 3%\n"
     ]
    }
   ],
   "source": [
    "# How has marketshare changed between years ?\n",
    "node_of_interest = 'pyCIMS.Canada.Alberta.Residential.Buildings.Floorspace.Lighting'\n",
    "for year in model.years:\n",
    "    print('***** {} *****'.format(year))\n",
    "    for t, d in model.graph.nodes[node_of_interest][year]['technologies'].items():\n",
    "        print(\"{}: {}%\".format(t, round(d['total_market_share']*100)))\n"
   ]
  },
  {
   "cell_type": "code",
   "execution_count": 9,
   "metadata": {},
   "outputs": [],
   "source": [
    "import pickle"
   ]
  },
  {
   "cell_type": "code",
   "execution_count": 11,
   "metadata": {},
   "outputs": [],
   "source": [
    "with open(\"model.pkl\",\"wb\") as fh:\n",
    "    pickle.dump(model, fh)"
   ]
  },
  {
   "cell_type": "code",
   "execution_count": 13,
   "metadata": {},
   "outputs": [
    {
     "name": "stdout",
     "output_type": "stream",
     "text": [
      "Patching args: ['/bin/bash', '-c', 'ls -lh model.pkl']\n",
      "Process is not python, returning.\n",
      "-rwxrwxrwx 1 sbergner sbergner 26M Sep 15 15:56 model.pkl\n"
     ]
    }
   ],
   "source": [
    "!ls -lh model.pkl"
   ]
  },
  {
   "cell_type": "code",
   "execution_count": null,
   "metadata": {},
   "outputs": [],
   "source": []
  }
 ],
 "metadata": {
  "kernelspec": {
   "display_name": "Python 3",
   "language": "python",
   "name": "python3"
  },
  "language_info": {
   "codemirror_mode": {
    "name": "ipython",
    "version": 3
   },
   "file_extension": ".py",
   "mimetype": "text/x-python",
   "name": "python",
   "nbconvert_exporter": "python",
   "pygments_lexer": "ipython3",
   "version": "3.8.5"
  }
 },
 "nbformat": 4,
 "nbformat_minor": 4
}
