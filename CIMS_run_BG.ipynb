{
 "cells": [
  {
   "cell_type": "markdown",
   "metadata": {
    "collapsed": false,
    "jupyter": {
     "outputs_hidden": false
    }
   },
   "source": [
    "# Quickstart\n",
    "\n",
    "This notebook serves as a brief overview for getting started with CIMS. For this notebook to run properly, ensure:\n",
    "* CIMS is downloaded and installed on your local machine according to the [installation instructions](../../docs/Installation.md)\n",
    "* The `CIMS_env` conda environment has been activated according the [conda environment instructions](../../docs/WorkingWithCondaEnvironment.md)\n",
    "\n",
    "\n",
    "Run each cell below to:\n",
    "1. Specify the model path\n",
    "2. Validate the model to check for errors\n",
    "3. Review any reported errors\n",
    "4. Run the model\n"
   ]
  },
  {
   "cell_type": "code",
   "execution_count": null,
   "metadata": {
    "ExecuteTime": {
     "end_time": "2023-09-27T23:20:52.777853900Z",
     "start_time": "2023-09-27T23:20:44.247557600Z"
    },
    "collapsed": false,
    "jupyter": {
     "outputs_hidden": false
    },
    "scrolled": true
   },
   "outputs": [],
   "source": [
    "### Validate model ###\n",
    "\n",
    "import CIMS\n",
    "import pickle\n",
    "from datetime import datetime\n",
    "\n",
    "# Validator\n",
    "time_start = datetime.now()\n",
    "base_file = '~/Downloads/pyCIMS_working_NG_09.27.23.xlsb'\n",
    "model_validator = CIMS.ModelValidator(infile=base_file,\n",
    "                    sheet_map = {'model': 'Lists',\n",
    "                                'default_param': 'Default values'},\n",
    "                    node_col='Node')\n",
    "model_validator.validate(verbose=True, raise_warnings=False)\n",
    "\n",
    "time_end = datetime.now()\n",
    "print(\"Validator: \", time_end - time_start)\n",
    "print(\"\\n\")"
   ]
  },
  {
   "cell_type": "code",
   "execution_count": 2,
   "metadata": {
    "ExecuteTime": {
     "end_time": "2023-09-27T22:47:35.317016700Z",
     "start_time": "2023-09-27T22:47:35.300271200Z"
    },
    "collapsed": false,
    "jupyter": {
     "outputs_hidden": false
    }
   },
   "outputs": [
    {
     "data": {
      "text/plain": [
       "[(177,\n",
       "  'CIMS.Canada.Natural Gas Market.Production.Exploration and Extraction',\n",
       "  'BC'),\n",
       " (190, 'CIMS.Canada.Natural Gas Market.Production.Processing', 'BC'),\n",
       " (203, 'CIMS.Canada.Natural Gas Market.Production.Transmission', 'BC'),\n",
       " (4538, 'CIMS.Canada.British Columbia.Ethanol.Production', 'Corn'),\n",
       " (4538, 'CIMS.Canada.British Columbia.Ethanol.Production', 'Cellulosic'),\n",
       " (20744,\n",
       "  'CIMS.Canada.British Columbia.Transportation Freight.Freight.Land.Heavy',\n",
       "  'Rail'),\n",
       " (20744,\n",
       "  'CIMS.Canada.British Columbia.Transportation Freight.Freight.Land.Heavy',\n",
       "  'Trucks')]"
      ]
     },
     "execution_count": 2,
     "metadata": {},
     "output_type": "execute_result"
    }
   ],
   "source": [
    "model_validator.warnings['nodes_without_capital_cost']  #%%"
   ]
  },
  {
   "cell_type": "code",
   "execution_count": 8,
   "metadata": {
    "ExecuteTime": {
     "end_time": "2023-10-23T18:40:25.735405100Z",
     "start_time": "2023-10-23T18:39:24.025155Z"
    },
    "collapsed": false,
    "jupyter": {
     "outputs_hidden": false
    }
   },
   "outputs": [
    {
     "name": "stderr",
     "output_type": "stream",
     "text": [
      "/Users/jilliana/Documents/Consulting/pyCIMS/cims/CIMS/graph_utils.py:258: UserWarning: Found a Loop -- \n",
      "  warnings.warn(\"Found a Loop -- \")\n"
     ]
    },
    {
     "name": "stdout",
     "output_type": "stream",
     "text": [
      "Base model:  0:00:07.939412\n",
      "\n",
      "\n"
     ]
    },
    {
     "name": "stderr",
     "output_type": "stream",
     "text": [
      "/Users/jilliana/Documents/Consulting/pyCIMS/cims/CIMS/graph_utils.py:258: UserWarning: Found a Loop -- \n",
      "  warnings.warn(\"Found a Loop -- \")\n"
     ]
    },
    {
     "name": "stdout",
     "output_type": "stream",
     "text": [
      "Reference scenario:  0:00:02.581591\n",
      "\n",
      "\n",
      "***** ***** year: 2000 ***** *****\n",
      "iter 1\n"
     ]
    },
    {
     "name": "stderr",
     "output_type": "stream",
     "text": [
      "/Users/jilliana/Documents/Consulting/pyCIMS/cims/CIMS/graph_utils.py:314: UserWarning: Found a Loop\n",
      "  warnings.warn(\"Found a Loop\")\n"
     ]
    },
    {
     "ename": "ValueError",
     "evalue": "max() arg is an empty sequence",
     "output_type": "error",
     "traceback": [
      "\u001b[0;31m---------------------------------------------------------------------------\u001b[0m",
      "\u001b[0;31mValueError\u001b[0m                                Traceback (most recent call last)",
      "Cell \u001b[0;32mIn[8], line 67\u001b[0m\n\u001b[1;32m     62\u001b[0m \u001b[38;5;66;03m#################### Reference model ###########################\u001b[39;00m\n\u001b[1;32m     63\u001b[0m \n\u001b[1;32m     64\u001b[0m \n\u001b[1;32m     65\u001b[0m \u001b[38;5;66;03m# Run model\u001b[39;00m\n\u001b[1;32m     66\u001b[0m time_start \u001b[38;5;241m=\u001b[39m datetime\u001b[38;5;241m.\u001b[39mnow()\n\u001b[0;32m---> 67\u001b[0m \u001b[43mmodel\u001b[49m\u001b[38;5;241;43m.\u001b[39;49m\u001b[43mrun\u001b[49m\u001b[43m(\u001b[49m\u001b[43mequilibrium_threshold\u001b[49m\u001b[38;5;241;43m=\u001b[39;49m\u001b[38;5;241;43m0.05\u001b[39;49m\u001b[43m,\u001b[49m\u001b[43m \u001b[49m\u001b[43mmax_iterations\u001b[49m\u001b[38;5;241;43m=\u001b[39;49m\u001b[38;5;241;43m10\u001b[39;49m\u001b[43m,\u001b[49m\u001b[43m \u001b[49m\u001b[43mshow_warnings\u001b[49m\u001b[38;5;241;43m=\u001b[39;49m\u001b[38;5;28;43;01mFalse\u001b[39;49;00m\u001b[43m,\u001b[49m\u001b[43m \u001b[49m\u001b[43mprint_eq\u001b[49m\u001b[38;5;241;43m=\u001b[39;49m\u001b[38;5;28;43;01mFalse\u001b[39;49;00m\u001b[43m)\u001b[49m\n\u001b[1;32m     68\u001b[0m time_end \u001b[38;5;241m=\u001b[39m datetime\u001b[38;5;241m.\u001b[39mnow()\n\u001b[1;32m     69\u001b[0m \u001b[38;5;28mprint\u001b[39m(\u001b[38;5;124m\"\u001b[39m\u001b[38;5;124mSimulation time: \u001b[39m\u001b[38;5;124m\"\u001b[39m, time_end \u001b[38;5;241m-\u001b[39m time_start)\n",
      "File \u001b[0;32m~/Documents/Consulting/pyCIMS/cims/CIMS/model.py:368\u001b[0m, in \u001b[0;36mModel.run\u001b[0;34m(self, equilibrium_threshold, num_equilibrium_iterations, min_iterations, max_iterations, show_warnings, print_eq)\u001b[0m\n\u001b[1;32m    365\u001b[0m     iteration \u001b[38;5;241m+\u001b[39m\u001b[38;5;241m=\u001b[39m \u001b[38;5;241m1\u001b[39m\n\u001b[1;32m    367\u001b[0m \u001b[38;5;66;03m# Once we've reached an equilibrium, calculate the quantities requested by each node.\u001b[39;00m\n\u001b[0;32m--> 368\u001b[0m \u001b[43mgraph_utils\u001b[49m\u001b[38;5;241;43m.\u001b[39;49m\u001b[43mbottom_up_traversal\u001b[49m\u001b[43m(\u001b[49m\u001b[38;5;28;43mself\u001b[39;49m\u001b[38;5;241;43m.\u001b[39;49m\u001b[43mgraph\u001b[49m\u001b[43m,\u001b[49m\n\u001b[1;32m    369\u001b[0m \u001b[43m                                \u001b[49m\u001b[38;5;28;43mself\u001b[39;49m\u001b[38;5;241;43m.\u001b[39;49m\u001b[43mcalc_requested_quantities\u001b[49m\u001b[43m,\u001b[49m\n\u001b[1;32m    370\u001b[0m \u001b[43m                                \u001b[49m\u001b[43myear\u001b[49m\u001b[43m,\u001b[49m\n\u001b[1;32m    371\u001b[0m \u001b[43m                                \u001b[49m\u001b[43mloop_resolution_func\u001b[49m\u001b[38;5;241;43m=\u001b[39;49m\u001b[43mloop_resolution\u001b[49m\u001b[38;5;241;43m.\u001b[39;49m\u001b[43maggregation_resolution\u001b[49m\u001b[43m,\u001b[49m\n\u001b[1;32m    372\u001b[0m \u001b[43m                                \u001b[49m\u001b[43mfuels\u001b[49m\u001b[38;5;241;43m=\u001b[39;49m\u001b[38;5;28;43mself\u001b[39;49m\u001b[38;5;241;43m.\u001b[39;49m\u001b[43mfuels\u001b[49m\u001b[43m)\u001b[49m\n\u001b[1;32m    374\u001b[0m graph_utils\u001b[38;5;241m.\u001b[39mbottom_up_traversal(\u001b[38;5;28mself\u001b[39m\u001b[38;5;241m.\u001b[39mgraph,\n\u001b[1;32m    375\u001b[0m                                 \u001b[38;5;28mself\u001b[39m\u001b[38;5;241m.\u001b[39m_aggregate_direct_emissions,\n\u001b[1;32m    376\u001b[0m                                 year,\n\u001b[1;32m    377\u001b[0m                                 loop_resolution_func\u001b[38;5;241m=\u001b[39mloop_resolution\u001b[38;5;241m.\u001b[39maggregation_resolution,\n\u001b[1;32m    378\u001b[0m                                 fuels\u001b[38;5;241m=\u001b[39m\u001b[38;5;28mself\u001b[39m\u001b[38;5;241m.\u001b[39mfuels)\n\u001b[1;32m    380\u001b[0m graph_utils\u001b[38;5;241m.\u001b[39mbottom_up_traversal(\u001b[38;5;28mself\u001b[39m\u001b[38;5;241m.\u001b[39mgraph,\n\u001b[1;32m    381\u001b[0m                                 \u001b[38;5;28mself\u001b[39m\u001b[38;5;241m.\u001b[39m_aggregate_direct_emissions_cost,\n\u001b[1;32m    382\u001b[0m                                 year,\n\u001b[1;32m    383\u001b[0m                                 loop_resolution_func\u001b[38;5;241m=\u001b[39mloop_resolution\u001b[38;5;241m.\u001b[39maggregation_resolution,\n\u001b[1;32m    384\u001b[0m                                 fuels\u001b[38;5;241m=\u001b[39m\u001b[38;5;28mself\u001b[39m\u001b[38;5;241m.\u001b[39mfuels)\n",
      "File \u001b[0;32m~/Documents/Consulting/pyCIMS/cims/CIMS/graph_utils.py:317\u001b[0m, in \u001b[0;36mbottom_up_traversal\u001b[0;34m(graph, node_process_func, root, loop_resolution_func, *args, **kwargs)\u001b[0m\n\u001b[1;32m    315\u001b[0m \u001b[38;5;66;03m# Resolve a loop\u001b[39;00m\n\u001b[1;32m    316\u001b[0m cycles \u001b[38;5;241m=\u001b[39m nx\u001b[38;5;241m.\u001b[39msimple_cycles(sg_cur)\n\u001b[0;32m--> 317\u001b[0m n_cur \u001b[38;5;241m=\u001b[39m \u001b[43mloop_resolution_func\u001b[49m\u001b[43m(\u001b[49m\u001b[43mcycles\u001b[49m\u001b[43m,\u001b[49m\u001b[43m \u001b[49m\u001b[43mdist_from_root\u001b[49m\u001b[43m,\u001b[49m\u001b[43m \u001b[49m\u001b[38;5;241;43m*\u001b[39;49m\u001b[38;5;241;43m*\u001b[39;49m\u001b[43mkwargs\u001b[49m\u001b[43m)\u001b[49m\n\u001b[1;32m    319\u001b[0m \u001b[38;5;66;03m# Process chosen node in the sub-graph, using estimated values from their parents\u001b[39;00m\n\u001b[1;32m    320\u001b[0m node_process_func(sub_graph, n_cur, \u001b[38;5;241m*\u001b[39margs, \u001b[38;5;241m*\u001b[39m\u001b[38;5;241m*\u001b[39mkwargs)\n",
      "File \u001b[0;32m~/Documents/Consulting/pyCIMS/cims/CIMS/loop_resolution.py:31\u001b[0m, in \u001b[0;36maggregation_resolution\u001b[0;34m(list_of_cycles, distances_from_root, **kwargs)\u001b[0m\n\u001b[1;32m     28\u001b[0m leaf_nodes \u001b[38;5;241m=\u001b[39m [n \u001b[38;5;28;01mfor\u001b[39;00m n, d \u001b[38;5;129;01min\u001b[39;00m g\u001b[38;5;241m.\u001b[39mout_degree \u001b[38;5;28;01mif\u001b[39;00m d \u001b[38;5;241m==\u001b[39m \u001b[38;5;241m0\u001b[39m]\n\u001b[1;32m     30\u001b[0m candidates \u001b[38;5;241m=\u001b[39m {node: distances_from_root[node] \u001b[38;5;28;01mfor\u001b[39;00m node \u001b[38;5;129;01min\u001b[39;00m leaf_nodes}\n\u001b[0;32m---> 31\u001b[0m next_node \u001b[38;5;241m=\u001b[39m \u001b[38;5;28;43mmax\u001b[39;49m\u001b[43m(\u001b[49m\u001b[43mcandidates\u001b[49m\u001b[43m,\u001b[49m\u001b[43m \u001b[49m\u001b[43mkey\u001b[49m\u001b[38;5;241;43m=\u001b[39;49m\u001b[38;5;28;43;01mlambda\u001b[39;49;00m\u001b[43m \u001b[49m\u001b[43mx\u001b[49m\u001b[43m:\u001b[49m\u001b[43m \u001b[49m\u001b[43mcandidates\u001b[49m\u001b[43m[\u001b[49m\u001b[43mx\u001b[49m\u001b[43m]\u001b[49m\u001b[43m)\u001b[49m\n\u001b[1;32m     32\u001b[0m \u001b[38;5;28;01mreturn\u001b[39;00m next_node\n",
      "\u001b[0;31mValueError\u001b[0m: max() arg is an empty sequence"
     ]
    }
   ],
   "source": [
    "### Run model ###\n",
    "\n",
    "import CIMS\n",
    "import pickle\n",
    "from datetime import datetime\n",
    "\n",
    "time0_start = datetime.now()\n",
    "\n",
    "#################### Base model ###########################\n",
    "\n",
    "time_start = datetime.now()\n",
    "\n",
    "# Base model\n",
    "# model_reader = CIMS.ModelReader(infile='../Model/CIMS_base model.xlsb',\n",
    "model_reader = CIMS.ModelReader(infile='~/Downloads/CIMS_base model_update bug.xlsb',\n",
    "                sheet_map = {'model': 'RunSheets',\n",
    "                            'default_param': 'Default values'},\n",
    "                node_col='Node')\n",
    "model = CIMS.Model(model_reader)\n",
    "\n",
    "# # Declining capital costs\n",
    "# model_reader = CIMS.ModelReader(infile='../Model/CIMS_dcc.xlsb',\n",
    "#                   sheet_map={'model': 'RunSheets'},\n",
    "#                   node_col='Node')\n",
    "# model = model.update(model_reader)\n",
    "\n",
    "# # Calibration\n",
    "# model_reader = CIMS.ModelReader(infile='../Model/CIMS_calibration.xlsb',\n",
    "#                   sheet_map={'model': 'RunSheets'},\n",
    "#                   node_col='Node')\n",
    "# model = model.update(model_reader)\n",
    "\n",
    "time_end = datetime.now()\n",
    "print(\"Base model: \", datetime.now() - time_start)\n",
    "print(\"\\n\")\n",
    "\n",
    "#################### Base model ###########################\n",
    "\n",
    "\n",
    "#################### Reference scenario ###########################\n",
    "\n",
    "time_start = datetime.now()\n",
    "\n",
    "ref_policies = [\n",
    "    'Ref_CAN_carbon tax_update bug.xlsb',\n",
    "    # 'Ref_CAN_carbon tax_OBPS.xlsb',\n",
    "    # 'Ref_ON_coal phase out.xlsb',\n",
    "    # 'Ref_CAN_ZEV.xlsb',\n",
    "    # 'Ref_ON_renewable content transport fuels.xlsb',\n",
    "    # 'Ref_ON_subsidies.xlsb',\n",
    "    # 'Ref_ON_waste methane large sites.xlsb',\n",
    "    ]\n",
    "for pol in ref_policies:\n",
    "    pol_path = f\"~/Downloads/{pol}\"\n",
    "    model_reader = CIMS.ModelReader(infile=pol_path, sheet_map={'model': 'RunSheets'}, node_col='Node')\n",
    "    model = model.update(model_reader)\n",
    "\n",
    "time_end = datetime.now()\n",
    "print(\"Reference scenario: \", datetime.now() - time_start)\n",
    "print(\"\\n\")\n",
    "\n",
    "#################### Reference model ###########################\n",
    "\n",
    "\n",
    "# Run model\n",
    "time_start = datetime.now()\n",
    "model.run(equilibrium_threshold=0.05, max_iterations=10, show_warnings=False, print_eq=False)\n",
    "time_end = datetime.now()\n",
    "print(\"Simulation time: \", time_end - time_start)\n",
    "print(\"\\n\")\n",
    "\n",
    "# Results\n",
    "CIMS.log_model(model=model,\n",
    "                output_file = 'results/results_general.csv',\n",
    "                path = 'results/results_general.txt')\n",
    "\n",
    "# CIMS.log_model(model=model,\n",
    "#                   output_file='results/results_DCC_stock.csv',\n",
    "#                   path='results/results_DCC_stock.txt')\n",
    "#\n",
    "# CIMS.log_model(model=model,\n",
    "#                   output_file='results/results_DCC.csv',\n",
    "#                   path='results/results_DCC.txt')\n",
    "\n",
    "\n",
    "time0_end = datetime.now()\n",
    "print(\"Total run time: \", time0_end - time0_start)\n",
    "print(\"\\n\")"
   ]
  },
  {
   "cell_type": "code",
   "execution_count": null,
   "metadata": {},
   "outputs": [],
   "source": []
  }
 ],
 "metadata": {
  "kernelspec": {
   "display_name": "Python 3 (ipykernel)",
   "language": "python",
   "name": "python3"
  },
  "language_info": {
   "codemirror_mode": {
    "name": "ipython",
    "version": 3
   },
   "file_extension": ".py",
   "mimetype": "text/x-python",
   "name": "python",
   "nbconvert_exporter": "python",
   "pygments_lexer": "ipython3",
   "version": "3.11.5"
  }
 },
 "nbformat": 4,
 "nbformat_minor": 4
}
