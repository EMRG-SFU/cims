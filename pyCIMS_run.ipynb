{
 "cells": [
  {
   "cell_type": "markdown",
   "source": [
    "# Quickstart\n",
    "\n",
    "This notebook serves as a brief overview for getting started with pyCIMS. For this notebook to run properly, ensure:\n",
    "* pyCIMS is downloaded and installed on your local machine according to the [installation instructions](../../docs/Installation.md)\n",
    "* The `pyCIMS_env` conda environment has been activated according the [conda environment instructions](../../docs/WorkingWithCondaEnvironment.md)\n",
    "\n",
    "\n",
    "Run each cell below to:\n",
    "1. Specify the model path\n",
    "2. Validate the model to check for errors\n",
    "3. Review any reported errors\n",
    "4. Run the model\n"
   ],
   "metadata": {
    "collapsed": false
   }
  },
  {
   "cell_type": "code",
   "execution_count": null,
   "outputs": [],
   "source": [
    "model_file = '/models/pyCIMS_model.xlsb'\n"
   ],
   "metadata": {
    "collapsed": false,
    "pycharm": {
     "name": "#%%\n"
    }
   }
  },
  {
   "cell_type": "code",
   "execution_count": null,
   "outputs": [],
   "source": [
    "### Validate model ###\n",
    "\n",
    "import pyCIMS\n",
    "import pickle\n",
    "from datetime import datetime\n",
    "\n",
    "\n",
    "# Validator\n",
    "time_start = datetime.now()\n",
    "model_validator = pyCIMS.ModelValidator(infile=model_file,\n",
    "                                  sheet_map={'model': 'Lists',\n",
    "                                             'incompatible': 'Incompatible',\n",
    "                                             'default_param': 'Default values'},\n",
    "                                  node_col='Node')\n",
    "model_validator.validate(verbose=True, raise_warnings=False)\n",
    "\n",
    "time_end = datetime.now()\n",
    "print(\"Validator: \", time_end - time_start)\n",
    "print(\"\\n\")"
   ],
   "metadata": {
    "collapsed": false,
    "pycharm": {
     "name": "#%%\n"
    }
   }
  },
  {
   "cell_type": "code",
   "execution_count": null,
   "outputs": [],
   "source": [
    "model_validator.warnings['unspecified_nodes']#%%\n"
   ],
   "metadata": {
    "collapsed": false,
    "pycharm": {
     "name": "#%%\n"
    }
   }
  },
  {
   "cell_type": "code",
   "execution_count": null,
   "outputs": [],
   "source": [
    "### Run model ###\n",
    "\n",
    "import pyCIMS\n",
    "import pickle\n",
    "from datetime import datetime\n",
    "\n",
    "\n",
    "time0_start = datetime.now()\n",
    "\n",
    "\n",
    "# Model Reader\n",
    "time_start = datetime.now()\n",
    "model_reader = pyCIMS.ModelReader(infile=model_file,\n",
    "                                  sheet_map={'model': 'Lists',\n",
    "                                             'incompatible': 'Incompatible',\n",
    "                                             'default_param': 'Default values'},\n",
    "                                  node_col='Node')\n",
    "pickle.dump(model_reader, open(\"model_reader.pkl\", \"wb\"))\n",
    "time_end = datetime.now()\n",
    "print(\"Reader: \", time_end - time_start)\n",
    "print(\"\\n\")\n",
    "\n",
    "\n",
    "# Model\n",
    "time_start = datetime.now()\n",
    "model_reader = pickle.load(open(\"model_reader.pkl\", \"rb\"))\n",
    "model = pyCIMS.Model(model_reader)\n",
    "time_end = datetime.now()\n",
    "print(\"Model load: \", time_end - time_start)\n",
    "print(\"\\n\")\n",
    "\n",
    "\n",
    "# Run model\n",
    "time_start = datetime.now()\n",
    "model.run(equilibrium_threshold=0.05, max_iterations=10, show_warnings=False, print_eq=True)\n",
    "time_end = datetime.now()\n",
    "print(\"Simulation time: \", time_end - time_start)\n",
    "print(\"\\n\")\n",
    "\n",
    "\n",
    "# Results\n",
    "pyCIMS.log_model(model=model,\n",
    "                 output_file='/results/Results_general.csv',\n",
    "                 path='/results/Results_general.txt')\n",
    "\n",
    "pyCIMS.log_model(model=model,\n",
    "                 output_file='/results/Results_DCC_stock.csv',\n",
    "                 path='/results/Results_DCC_stock.txt')\n",
    "\n",
    "pyCIMS.log_model(model=model,\n",
    "                 output_file='/results/Results_DCC.csv',\n",
    "                 path='/results/Results_DCC.txt')\n",
    "\n",
    "\n",
    "time0_end = datetime.now()\n",
    "print(\"Total run time: \", time0_end - time0_start)\n",
    "print(\"\\n\")\n",
    "\n"
   ],
   "metadata": {
    "collapsed": false,
    "pycharm": {
     "name": "#%%\n"
    }
   }
  }
 ],
 "metadata": {
  "kernelspec": {
   "name": "pycims_env",
   "language": "python",
   "display_name": "Python pyCIMS_env"
  },
  "language_info": {
   "codemirror_mode": {
    "name": "ipython",
    "version": 3
   },
   "file_extension": ".py",
   "mimetype": "text/x-python",
   "name": "python",
   "nbconvert_exporter": "python",
   "pygments_lexer": "ipython3",
   "version": "3.8.8"
  }
 },
 "nbformat": 4,
 "nbformat_minor": 4
}